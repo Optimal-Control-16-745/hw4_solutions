{
 "cells": [
  {
   "cell_type": "code",
   "execution_count": 1,
   "metadata": {},
   "outputs": [
    {
     "name": "stderr",
     "output_type": "stream",
     "text": [
      "\u001b[32m\u001b[1m  Activating\u001b[22m\u001b[39m environment at `~/Classes/16745_OptimalControl/hw4_solutions/Project.toml`\n"
     ]
    },
    {
     "data": {
      "application/vnd.webio.node+json": {
       "children": [],
       "instanceArgs": {
        "namespace": "html",
        "tag": "div"
       },
       "nodeType": "DOM",
       "props": {},
       "type": "node"
      },
      "text/html": [
       "<div style=\"padding: 1em; background-color: #f8d6da; border: 1px solid #f5c6cb; font-weight: bold;\">\n",
       "<p>The WebIO Jupyter extension was not detected. See the\n",
       "<a href=\"https://juliagizmos.github.io/WebIO.jl/latest/providers/ijulia/\" target=\"_blank\">\n",
       "    WebIO Jupyter integration documentation\n",
       "</a>\n",
       "for more information.\n",
       "</div>\n"
      ],
      "text/plain": [
       "WebIO._IJuliaInit()"
      ]
     },
     "metadata": {
      "application/vnd.webio.node+json": {
       "kernelId": "d74fc1e7-2322-4d16-8f9d-8102e43f81fa"
      }
     },
     "output_type": "display_data"
    }
   ],
   "source": [
    "import Pkg; Pkg.activate(joinpath(@__DIR__,\"..\")); Pkg.instantiate()\n",
    "using TrajectoryOptimization\n",
    "import TrajectoryOptimization: get_times\n",
    "using RobotDynamics\n",
    "import RobotZoo.Acrobot\n",
    "using StaticArrays\n",
    "using SparseArrays\n",
    "using LinearAlgebra\n",
    "using ForwardDiff\n",
    "using OSQP\n",
    "using Plots\n",
    "using TrajOptPlots\n",
    "using Colors\n",
    "using Printf\n",
    "using Test\n",
    "using JLD2\n",
    "include(\"acrobot.jl\")\n",
    "include(\"utils.jl\")\n",
    "const resfile = joinpath(@__DIR__,\"q3.jld2\")\n",
    "const isautograder = @isdefined autograder;"
   ]
  },
  {
   "cell_type": "markdown",
   "metadata": {},
   "source": [
    "# Question 3: Iterative Learning Control (25 pts)\n",
    "In this problem we'll be exploring the use of iterative learning control (ILC) to update our trajectories to work on a \"real\" system with some un-modeled system dynamics. We'll first find an optimalized trajectory using our approximate model, and then refine those trajectories using ILC to achieve the desired behavior. \n",
    "\n",
    "## Dynamics\n",
    "We'll keep things simple by applying this to the \"acrobot\" system, which is just a double pendulum with actuation only at the elbow joint. We'll use the model out of RobotZoo.\n",
    "\n",
    "## Setting up the Optimization problem\n",
    "We'll use TrajectoryOptimization.jl to define our problem. We specify an initial and terminal constraint, a quadratic cost function that penalizes distance from the goal, and bounds on the torques. "
   ]
  },
  {
   "cell_type": "code",
   "execution_count": 2,
   "metadata": {},
   "outputs": [],
   "source": [
    "# Dynamics Model\n",
    "l0 = @SVector [1.0, 1.0]\n",
    "m0 = @SVector [1.0, 1.0]\n",
    "J0 = @SVector [(1.0/12)*m0[1]*l0[1]*l0[1], (1.0/12)*m0[2]*l0[2]*l0[2]]\n",
    "model = Acrobot(l0, m0, J0)\n",
    "n,m = size(model);\n",
    "\n",
    "# Discretization\n",
    "N = 101\n",
    "Tf = 5.\n",
    "h = Tf/(N-1)\n",
    "\n",
    "# Initial and Final Conditions\n",
    "x0 = @SVector [-pi/2, 0, 0, 0]\n",
    "xf = @SVector [pi/2, 0, 0, 0];  # i.e. swing up\n",
    "\n",
    "# Objective\n",
    "Q = 100.0*Diagonal(@SVector ones(n))\n",
    "Qf = 1000.0*Diagonal(@SVector ones(n))\n",
    "R = 1.0*Diagonal(@SVector ones(m))\n",
    "obj = LQRObjective(Q,R,Qf,xf,N);\n",
    "\n",
    "# Constraints\n",
    "conSet = ConstraintList(n,m,N)\n",
    "\n",
    "# Control bounds\n",
    "u_bnd = 20.0\n",
    "bnd = BoundConstraint(n,m, u_min=-u_bnd, u_max=u_bnd)\n",
    "add_constraint!(conSet, bnd, 1:N-1)\n",
    "\n",
    "# Goal constraint\n",
    "goal = GoalConstraint(xf)\n",
    "add_constraint!(conSet, goal, N)\n",
    "\n",
    "# Define the problem\n",
    "prob = Problem(model, obj, xf, Tf, x0=x0, constraints=conSet, integration=RK4);\n",
    "\n",
    "# Initial controls\n",
    "U0 = [randn() for k = 1:N-1]\n",
    "initial_controls!(prob, U0)\n",
    "rollout!(prob);"
   ]
  },
  {
   "cell_type": "markdown",
   "metadata": {},
   "source": [
    "## Solving the Problem\n",
    "We'll make it easy for you and and solve the problem using ALTRO. Run the code below to solve for the optimized trajectory and visualize the result."
   ]
  },
  {
   "cell_type": "code",
   "execution_count": 3,
   "metadata": {},
   "outputs": [
    {
     "name": "stdout",
     "output_type": "stream",
     "text": [
      "\u001b[32;1m\n",
      "SOLVE COMPLETED\n",
      "\u001b[0m solved using the \u001b[0m\u001b[36;1mALTRO\u001b[0m Solver,\n",
      " part of the Altro.jl package developed by the REx Lab at Stanford and Carnegie Mellon Universities\n",
      "\u001b[34;1m\n",
      "  Solve Statistics\n",
      "\u001b[0m    Total Iterations: 877\n",
      "\u001b[0m    Solve Time: 1287.334425 (ms)\n",
      "\u001b[34;1m\n",
      "  Covergence\n",
      "\u001b[0m    Terminal Cost: 5607.5892866843205\n",
      "\u001b[0m    Terminal dJ: \u001b[32m1.4423168067878578e-5\n",
      "\u001b[0m    Terminal gradient: \u001b[32m0.009015517830683833\n",
      "\u001b[0m    Terminal constraint violation: \u001b[32m3.501533653182953e-5\n",
      "\u001b[0m    Solve Status: \u001b[1m\u001b[32mSOLVE_SUCCEEDED\n",
      "\u001b[0m"
     ]
    }
   ],
   "source": [
    "using Altro\n",
    "using Random\n",
    "opts = SolverOptions(\n",
    "    iterations=1000,\n",
    "    constraint_tolerance=1e-4,\n",
    "    projected_newton=0,\n",
    "    verbose=0\n",
    ")\n",
    "\n",
    "Random.seed!(1)\n",
    "U0 = [randn() for k = 1:N-1]\n",
    "initial_controls!(prob, U0)\n",
    "\n",
    "altro = ALTROSolver(prob, opts)\n",
    "set_options!(altro, show_summary=true)\n",
    "solve!(altro);"
   ]
  },
  {
   "cell_type": "code",
   "execution_count": 4,
   "metadata": {},
   "outputs": [
    {
     "name": "stderr",
     "output_type": "stream",
     "text": [
      "┌ Info: MeshCat server started. You can open the visualizer by visiting the following URL in your browser:\n",
      "│ http://127.0.0.1:8702\n",
      "└ @ MeshCat /home/brian/.julia/packages/MeshCat/GlCMx/src/visualizer.jl:73\n"
     ]
    },
    {
     "data": {
      "text/html": [
       "    <div style=\"height: 500px; width: 100%; overflow-x: auto; overflow-y: hidden; resize: both\">\n",
       "    <iframe src=\"http://127.0.0.1:8702\" style=\"width: 100%; height: 100%; border: none\"></iframe>\n",
       "    </div>\n"
      ],
      "text/plain": [
       "MeshCat.DisplayedVisualizer(MeshCat.CoreVisualizer(MeshCat.SceneTrees.SceneNode(nothing, nothing, Dict{String, Vector{UInt8}}(), nothing, Dict{String, MeshCat.SceneTrees.SceneNode}(\"meshcat\" => MeshCat.SceneTrees.SceneNode(nothing, nothing, Dict{String, Vector{UInt8}}(), nothing, Dict{String, MeshCat.SceneTrees.SceneNode}(\"robot\" => MeshCat.SceneTrees.SceneNode(nothing, nothing, Dict{String, Vector{UInt8}}(), nothing, Dict{String, MeshCat.SceneTrees.SceneNode}(\"base\" => MeshCat.SceneTrees.SceneNode(UInt8[0x83, 0xa6, 0x6f, 0x62, 0x6a, 0x65, 0x63, 0x74, 0x84, 0xaa  …  0x72, 0x6f, 0x62, 0x6f, 0x74, 0x2f, 0x62, 0x61, 0x73, 0x65], nothing, Dict{String, Vector{UInt8}}(), nothing, Dict{String, MeshCat.SceneTrees.SceneNode}()), \"link1\" => MeshCat.SceneTrees.SceneNode(UInt8[0x83, 0xa6, 0x6f, 0x62, 0x6a, 0x65, 0x63, 0x74, 0x84, 0xaa  …  0x6f, 0x62, 0x6f, 0x74, 0x2f, 0x6c, 0x69, 0x6e, 0x6b, 0x31], nothing, Dict{String, Vector{UInt8}}(), nothing, Dict{String, MeshCat.SceneTrees.SceneNode}(\"joint\" => MeshCat.SceneTrees.SceneNode(UInt8[0x83, 0xa6, 0x6f, 0x62, 0x6a, 0x65, 0x63, 0x74, 0x84, 0xaa  …  0x69, 0x6e, 0x6b, 0x31, 0x2f, 0x6a, 0x6f, 0x69, 0x6e, 0x74], UInt8[0x83, 0xa6, 0x6d, 0x61, 0x74, 0x72, 0x69, 0x78, 0xc7, 0x40  …  0x69, 0x6e, 0x6b, 0x31, 0x2f, 0x6a, 0x6f, 0x69, 0x6e, 0x74], Dict{String, Vector{UInt8}}(), nothing, Dict{String, MeshCat.SceneTrees.SceneNode}()), \"link2\" => MeshCat.SceneTrees.SceneNode(UInt8[0x83, 0xa6, 0x6f, 0x62, 0x6a, 0x65, 0x63, 0x74, 0x84, 0xaa  …  0x69, 0x6e, 0x6b, 0x31, 0x2f, 0x6c, 0x69, 0x6e, 0x6b, 0x32], UInt8[0x83, 0xa6, 0x6d, 0x61, 0x74, 0x72, 0x69, 0x78, 0xc7, 0x40  …  0x69, 0x6e, 0x6b, 0x31, 0x2f, 0x6c, 0x69, 0x6e, 0x6b, 0x32], Dict{String, Vector{UInt8}}(), nothing, Dict{String, MeshCat.SceneTrees.SceneNode}()))))))))), Set{Any}(), ip\"127.0.0.1\", 8702))"
      ]
     },
     "execution_count": 4,
     "metadata": {},
     "output_type": "execute_result"
    }
   ],
   "source": [
    "if !isautograder\n",
    "    vis = Visualizer()\n",
    "    TrajOptPlots.set_mesh!(vis, model)\n",
    "    render(vis)\n",
    "end"
   ]
  },
  {
   "cell_type": "code",
   "execution_count": 5,
   "metadata": {},
   "outputs": [],
   "source": [
    "isautograder || visualize!(vis, model, Tf, states(altro))"
   ]
  },
  {
   "cell_type": "markdown",
   "metadata": {},
   "source": [
    "## Part (a): Simulate on \"Real\" System (6 pts)\n",
    "Using out optimized trajectory, design a TVLQR control policy to tracking the new system. You'll also implement a basic simulator to test out your controller on the \"real\" system, which is slightly different than our nominal model. "
   ]
  },
  {
   "cell_type": "code",
   "execution_count": 7,
   "metadata": {},
   "outputs": [
    {
     "data": {
      "text/plain": [
       "100-element Vector{Matrix{Float64}}:\n",
       " [0.0 0.0 0.0 0.0]\n",
       " [0.0 0.0 0.0 0.0]\n",
       " [0.0 0.0 0.0 0.0]\n",
       " [0.0 0.0 0.0 0.0]\n",
       " [0.0 0.0 0.0 0.0]\n",
       " [0.0 0.0 0.0 0.0]\n",
       " [0.0 0.0 0.0 0.0]\n",
       " [0.0 0.0 0.0 0.0]\n",
       " [0.0 0.0 0.0 0.0]\n",
       " [0.0 0.0 0.0 0.0]\n",
       " [0.0 0.0 0.0 0.0]\n",
       " [0.0 0.0 0.0 0.0]\n",
       " [0.0 0.0 0.0 0.0]\n",
       " ⋮\n",
       " [0.0 0.0 0.0 0.0]\n",
       " [0.0 0.0 0.0 0.0]\n",
       " [0.0 0.0 0.0 0.0]\n",
       " [0.0 0.0 0.0 0.0]\n",
       " [0.0 0.0 0.0 0.0]\n",
       " [0.0 0.0 0.0 0.0]\n",
       " [0.0 0.0 0.0 0.0]\n",
       " [0.0 0.0 0.0 0.0]\n",
       " [0.0 0.0 0.0 0.0]\n",
       " [0.0 0.0 0.0 0.0]\n",
       " [0.0 0.0 0.0 0.0]\n",
       " [0.0 0.0 0.0 0.0]"
      ]
     },
     "execution_count": 7,
     "metadata": {},
     "output_type": "execute_result"
    }
   ],
   "source": [
    "# TASK: Calculate the TVLQR gains (3 pts)\n",
    "\n",
    "# Extract reference trajectory\n",
    "Xref = states(altro)\n",
    "Uref = controls(altro)\n",
    "times = get_times(altro)\n",
    "\n",
    "# TODO: Calculate the TVLQR gains and the linearized dynamics about the reference trajectory\n",
    "n,m,N = size(altro)\n",
    "A = [zeros(n,n) for k = 1:N-1]\n",
    "B = [zeros(n,m) for k = 1:N-1]\n",
    "K = [zeros(m,n) for k = 1:N-1]\n"
   ]
  },
  {
   "cell_type": "code",
   "execution_count": 8,
   "metadata": {},
   "outputs": [
    {
     "name": "stdout",
     "output_type": "stream",
     "text": [
      "Q3a: TVLQR: \u001b[91m\u001b[1mTest Failed\u001b[22m\u001b[39m at \u001b[39m\u001b[1mIn[8]:2\u001b[22m\n",
      "  Expression: ≈(A, load(resfile, \"A\"), rtol = 0.001)\n",
      "   Evaluated: [[0.0 0.0 0.0 0.0; 0.0 0.0 0.0 0.0; 0.0 0.0 0.0 0.0; 0.0 0.0 0.0 0.0], [0.0 0.0 0.0 0.0; 0.0 0.0 0.0 0.0; 0.0 0.0 0.0 0.0; 0.0 0.0 0.0 0.0], [0.0 0.0 0.0 0.0; 0.0 0.0 0.0 0.0; 0.0 0.0 0.0 0.0; 0.0 0.0 0.0 0.0], [0.0 0.0 0.0 0.0; 0.0 0.0 0.0 0.0; 0.0 0.0 0.0 0.0; 0.0 0.0 0.0 0.0], [0.0 0.0 0.0 0.0; 0.0 0.0 0.0 0.0; 0.0 0.0 0.0 0.0; 0.0 0.0 0.0 0.0], [0.0 0.0 0.0 0.0; 0.0 0.0 0.0 0.0; 0.0 0.0 0.0 0.0; 0.0 0.0 0.0 0.0], [0.0 0.0 0.0 0.0; 0.0 0.0 0.0 0.0; 0.0 0.0 0.0 0.0; 0.0 0.0 0.0 0.0], [0.0 0.0 0.0 0.0; 0.0 0.0 0.0 0.0; 0.0 0.0 0.0 0.0; 0.0 0.0 0.0 0.0], [0.0 0.0 0.0 0.0; 0.0 0.0 0.0 0.0; 0.0 0.0 0.0 0.0; 0.0 0.0 0.0 0.0], [0.0 0.0 0.0 0.0; 0.0 0.0 0.0 0.0; 0.0 0.0 0.0 0.0; 0.0 0.0 0.0 0.0]  …  [0.0 0.0 0.0 0.0; 0.0 0.0 0.0 0.0; 0.0 0.0 0.0 0.0; 0.0 0.0 0.0 0.0], [0.0 0.0 0.0 0.0; 0.0 0.0 0.0 0.0; 0.0 0.0 0.0 0.0; 0.0 0.0 0.0 0.0], [0.0 0.0 0.0 0.0; 0.0 0.0 0.0 0.0; 0.0 0.0 0.0 0.0; 0.0 0.0 0.0 0.0], [0.0 0.0 0.0 0.0; 0.0 0.0 0.0 0.0; 0.0 0.0 0.0 0.0; 0.0 0.0 0.0 0.0], [0.0 0.0 0.0 0.0; 0.0 0.0 0.0 0.0; 0.0 0.0 0.0 0.0; 0.0 0.0 0.0 0.0], [0.0 0.0 0.0 0.0; 0.0 0.0 0.0 0.0; 0.0 0.0 0.0 0.0; 0.0 0.0 0.0 0.0], [0.0 0.0 0.0 0.0; 0.0 0.0 0.0 0.0; 0.0 0.0 0.0 0.0; 0.0 0.0 0.0 0.0], [0.0 0.0 0.0 0.0; 0.0 0.0 0.0 0.0; 0.0 0.0 0.0 0.0; 0.0 0.0 0.0 0.0], [0.0 0.0 0.0 0.0; 0.0 0.0 0.0 0.0; 0.0 0.0 0.0 0.0; 0.0 0.0 0.0 0.0], [0.0 0.0 0.0 0.0; 0.0 0.0 0.0 0.0; 0.0 0.0 0.0 0.0; 0.0 0.0 0.0 0.0]] ≈ [[0.9890991318970219 0.010709018155675286 0.04882732334599119 0.002120992192664241; 0.00948501871960292 0.9678083217398227 0.002053385503246677 0.04464847653376711; -0.4255570917281313 0.46293266268481315 0.9521138496429321 0.08848616703803343; 0.3556537042330674 -1.3650934260530942 0.08097016366952633 0.7761604463826549], [0.9892120096990781 0.01515875034229304 0.049079757814352136 0.0026422937142339454; 0.00914063516664421 0.957852649714166 0.0019677090979347365 0.04367924889939139; -0.4198505036908802 0.5694362160012613 0.9640626736238108 0.10926545632100353; 0.3373616559075531 -1.596833431979836 0.07624724599100739 0.7391679347179072], [0.9894718195087888 0.01395887054546225 0.04952070541673978 0.003182085468907457; 0.008344867888460105 0.9610280924771137 0.0017357187688550513 0.04282356058130957; -0.40969452790744315 0.49322075568364737 0.9822389743402073 0.12720550847891612; 0.30409319132621715 -1.4045715082367742 0.06616756452995577 0.7138920581362636], [0.9897929191017566 0.011653329444668856 0.050023071954662456 0.003519727338512093; 0.0073004251799985735 0.966861921532509 0.0013951027381853647 0.04248844896179674; -0.3988150327649414 0.3999108476259367 1.0024426419437904 0.13808852057637935; 0.2648551012045903 -1.1692990036168454 0.0526178534741867 0.7069877410597731], [0.9900712904097072 0.009251572706896576 0.0505558088124488 0.0036970651823323426; 0.006249538233221138 0.9730818970827417 0.0010109112495486254 0.04258244422529934; -0.39061447321002846 0.31232574815120673 1.0237183938256782 0.1440005743320282; 0.22748421749479864 -0.9407059205755276 0.037856093664324596 0.7140469772374788], [0.9902420004436447 0.0070299962578706495 0.051104524232722666 0.003788925535642628; 0.005340696628242786 0.9790979940937813 0.0006279681020662552 0.04294803876466513; -0.38698837421906646 0.2352735176662664 1.0456408178486807 0.14755638286439607; 0.19622196100603803 -0.7273769626921095 0.02327864152169638 0.7297264739556324], [0.9902777282068354 0.005114246490824145 0.05165929390351528 0.0038547630419334803; 0.004635350099872804 0.9846806527966809 0.0002670822975565144 0.04346337888141898; -0.38865575091483695 0.1707980222505253 1.0678607333715016 0.15072244811682822; 0.17267959191391724 -0.5310822313115359 0.009486245988219238 0.7501713851792683], [0.9901748789496636 0.0035553951699420897 0.052207218518590955 0.003932575900489909; 0.0041468901230892535 0.9897757063262732 -6.633451505708724e-5 0.04405400841924586; -0.39559688031935153 0.11972151164097872 1.0898067091309849 0.15473189902341306; 0.1571724372723855 -0.35076712773933366 -0.0033883496015002443 0.7730948815955418], [0.9899447074127768 0.0023663917568443084 0.05272458821858212 0.004042094216529656; 0.003872026204850611 0.9943831982968541 -0.00037330747672349995 0.04468015609759838; -0.407236309852364 0.08212348822373035 1.1103797031841298 0.16018491224527717; 0.14964959165810637 -0.18534428076962003 -0.015379592106543124 0.7972810138182497], [0.9896125754930746 0.0015048842746891533 0.0531697161786479 0.004186157830907805; 0.0038085779297929536 0.9985171660751739 -0.0006545451617435309 0.04532239472350864; -0.42234110398080354 0.05596095096632938 1.1276660340523925 0.16700301222540817; 0.15020082203983046 -0.034227187169002575 -0.02645015414111261 0.8221307569670792]  …  [1.0105758030987393 -0.008741599168077136 0.049486747894402654 0.001970536479148882; -0.008526741579494916 1.0277849013147946 0.0013121587323065471 0.04541346075154865; 0.416786175231366 -0.33001187204820454 0.9837864313892271 0.07253423903721602; -0.3257296787841405 1.0647510656154795 0.04744140361793766 0.8335641265788227], [1.0105241926335895 -0.00902615261768147 0.04947103105144574 0.0018639403244463896; -0.008373408209818816 1.0283704017386481 0.0012826169950230367 0.045633171706213775; 0.4152063235235414 -0.3420028338850533 0.9828785631957917 0.06823255199952447; -0.3209607548115388 1.0895259793045076 0.0466287179308549 0.8422571680001386], [1.010498832630493 -0.009336316866043172 0.04942612253050386 0.0017299271720264324; -0.008296450589136379 1.0290226322986067 0.0012803158811828252 0.04589415766026569; 0.4146295551198351 -0.3555059908130913 0.9808482321740243 0.06291770096841502; -0.31922692859452334 1.1181044252383086 0.04684239149868214 0.8524390680652691], [1.010503294817768 -0.009668029351671608 0.04935577334866518 0.001579978562411548; -0.008308038997727368 1.0297416221396372 0.0013052535223667557 0.04617395556009454; 0.41517954914319616 -0.3700800685728249 0.97786527115946 0.057035630526787194; -0.3209413315136979 1.149857153882427 0.04807313254965845 0.8632648542510579], [1.0105406975119218 -0.009986515179140246 0.04926642694479718 0.001428228325936436; -0.008417387396106764 1.0304566894531135 0.0013569982625334656 0.046447158776461515; 0.4169652721049309 -0.38391467159573694 0.974213977205684 0.0511743945844948; -0.3263890000755029 1.1810030977904564 0.05029174441169554 0.8736931563004089], [1.0106131428608702 -0.010199301832618123 0.04916844752852883 0.0012951293955132347; -0.008628419566076422 1.030961843935328 0.001434019455575082 0.046677828306690344; 0.42003503647519896 -0.3925835406263898 0.9703487532371669 0.04623087022909006; -0.33557217110150295 1.2016338413680463 0.05341115384198913 0.8821364438570692], [1.0107186875232084 -0.010095852461706302 0.049078455561205665 0.0012138965100883462; -0.008931153669664703 1.0307718723541144 0.0015316071571014767 0.04680581882570208; 0.42421191228390204 -0.3865154389982268 0.9669994931528072 0.0436982903532079; -0.3477539104262033 1.1896899432860417 0.057184713801806904 0.8858468610148265], [1.0108432147967135 -0.009219353777294 0.04902388490838025 0.001240773403125883; -0.009280202770203597 1.0288152713180352 0.0016370225665076233 0.04672511671875774; 0.42871118355588306 -0.3471358549036588 0.9653662763236079 0.0460544970341942; -0.3604496784510505 1.1016381570133247 0.06099089554075108 0.8801022632814312], [1.010946796361465 -0.00694404301603959 0.04904687829939991 0.0014504483740625598; -0.009559957209399937 1.023584662582776 0.0017218155607107808 0.04629452410115791; 0.43174379868030704 -0.2613345912908958 0.9671310327846792 0.055850925011472353; -0.3684427548668509 0.904866185603275 0.0636132718217969 0.8602045608043261], [1.0109838019241615 -0.006139947998488726 0.04914505962901781 0.0017246720675271764; -0.009647757650369999 1.0216317511948259 0.0017542347071231909 0.04577161099217424; 0.43252963624928326 -0.27632019942903857 0.9709678661776153 0.06450545982165952; -0.3698443398450671 0.9359689534259362 0.0643959603363456 0.8443342388540125]] (rtol=0.001)\n",
      "Stacktrace:\n",
      " [1] \u001b[0m\u001b[1mmacro expansion\u001b[22m\n",
      "\u001b[90m   @ \u001b[39m\u001b[90;4mIn[8]:2\u001b[0m\u001b[90m [inlined]\u001b[39m\n",
      " [2] \u001b[0m\u001b[1mmacro expansion\u001b[22m\n",
      "\u001b[90m   @ \u001b[39m\u001b[90m/buildworker/worker/package_linux64/build/usr/share/julia/stdlib/v1.6/Test/src/\u001b[39m\u001b[90;4mTest.jl:1151\u001b[0m\u001b[90m [inlined]\u001b[39m\n",
      " [3] top-level scope\n",
      "\u001b[90m   @ \u001b[39m\u001b[90;4mIn[8]:2\u001b[0m\n",
      "Q3a: TVLQR: \u001b[91m\u001b[1mTest Failed\u001b[22m\u001b[39m at \u001b[39m\u001b[1mIn[8]:3\u001b[22m\n",
      "  Expression: ≈(B, load(resfile, \"B\"), rtol = 0.001)\n",
      "   Evaluated: [[0.0; 0.0; 0.0; 0.0], [0.0; 0.0; 0.0; 0.0], [0.0; 0.0; 0.0; 0.0], [0.0; 0.0; 0.0; 0.0], [0.0; 0.0; 0.0; 0.0], [0.0; 0.0; 0.0; 0.0], [0.0; 0.0; 0.0; 0.0], [0.0; 0.0; 0.0; 0.0], [0.0; 0.0; 0.0; 0.0], [0.0; 0.0; 0.0; 0.0]  …  [0.0; 0.0; 0.0; 0.0], [0.0; 0.0; 0.0; 0.0], [0.0; 0.0; 0.0; 0.0], [0.0; 0.0; 0.0; 0.0], [0.0; 0.0; 0.0; 0.0], [0.0; 0.0; 0.0; 0.0], [0.0; 0.0; 0.0; 0.0], [0.0; 0.0; 0.0; 0.0], [0.0; 0.0; 0.0; 0.0], [0.0; 0.0; 0.0; 0.0]] ≈ [[-0.001890787143973069; 0.004706963643357866; -0.07153188493281663; 0.17856417338081843], [-0.0018189051884815188; 0.004541469264691073; -0.06764026881534563; 0.16965176920281264], [-0.0016558753672443304; 0.004162061555735277; -0.0606541666043632; 0.15350735368169463], [-0.001439981931297789; 0.0036592267787499103; -0.05230048488093431; 0.13420992294189016], [-0.0012162332900412449; 0.003140951377028562; -0.04404165609894808; 0.11527873709044788], [-0.001011694433931143; 0.002672931118087638; -0.03663441329869659; 0.0985748643670058], [-0.0008363801173028584; 0.0022805970731547913; -0.030305037893072723; 0.0847126555665579], [-0.0006902720012504487; 0.001965858118868879; -0.024993055667026944; 0.07363957970219011], [-0.0005689604098687199; 0.001720559455516972; -0.020518912546100124; 0.06503353797341536], [-0.0004668120651093813; 0.0015338778235816789; -0.016676904781872937; 0.05851131257783831]  …  [-0.0017381336958873976; 0.0043506807954390376; -0.06673132698825841; 0.16746322557051083], [-0.001703353706656823; 0.004268034615939165; -0.06561185339875135; 0.16478618126309458], [-0.0016823562896807148; 0.004217612946344477; -0.06506257226723697; 0.16343579570292113], [-0.0016785146950303996; 0.004207419935797887; -0.06519830549487882; 0.1636867479167556], [-0.0016943239402616849; 0.004243437307689039; -0.06609697880137798; 0.1657296732192268], [-0.0017309570761064208; 0.004328618759405384; -0.06776877272856922; 0.16960038146609305], [-0.0017865694385796967; 0.004458924954229246; -0.07006426221109935; 0.17496509893453546], [-0.0018520377003260855; 0.004613282343246428; -0.0724717662365468; 0.1806432739538402], [-0.0019041428144291035; 0.004737366804025822; -0.07393029302348408; 0.18415501550929567], [-0.0019192269575681192; 0.004774512685052634; -0.07412803613143926; 0.18468956410296952]] (rtol=0.001)\n",
      "Stacktrace:\n",
      " [1] \u001b[0m\u001b[1mmacro expansion\u001b[22m\n",
      "\u001b[90m   @ \u001b[39m\u001b[90;4mIn[8]:3\u001b[0m\u001b[90m [inlined]\u001b[39m\n",
      " [2] \u001b[0m\u001b[1mmacro expansion\u001b[22m\n",
      "\u001b[90m   @ \u001b[39m\u001b[90m/buildworker/worker/package_linux64/build/usr/share/julia/stdlib/v1.6/Test/src/\u001b[39m\u001b[90;4mTest.jl:1151\u001b[0m\u001b[90m [inlined]\u001b[39m\n",
      " [3] top-level scope\n",
      "\u001b[90m   @ \u001b[39m\u001b[90;4mIn[8]:2\u001b[0m\n",
      "Q3a: TVLQR: \u001b[91m\u001b[1mTest Failed\u001b[22m\u001b[39m at \u001b[39m\u001b[1mIn[8]:4\u001b[22m\n",
      "  Expression: ≈(K, load(resfile, \"K\"), rtol = 0.001)\n",
      "   Evaluated: [[0.0 0.0 0.0 0.0], [0.0 0.0 0.0 0.0], [0.0 0.0 0.0 0.0], [0.0 0.0 0.0 0.0], [0.0 0.0 0.0 0.0], [0.0 0.0 0.0 0.0], [0.0 0.0 0.0 0.0], [0.0 0.0 0.0 0.0], [0.0 0.0 0.0 0.0], [0.0 0.0 0.0 0.0]  …  [0.0 0.0 0.0 0.0], [0.0 0.0 0.0 0.0], [0.0 0.0 0.0 0.0], [0.0 0.0 0.0 0.0], [0.0 0.0 0.0 0.0], [0.0 0.0 0.0 0.0], [0.0 0.0 0.0 0.0], [0.0 0.0 0.0 0.0], [0.0 0.0 0.0 0.0], [0.0 0.0 0.0 0.0]] ≈ [[-11.010238484232016 -5.183825704132273 0.8083679910903692 3.882877058619981], [-12.101161466872146 -6.458994883685106 1.5125598142763896 4.133481312525256], [-13.6749784702788 -5.822078891485415 2.3950818605742086 4.626226256250898], [-15.538597179344977 -4.772326505685868 3.4853181953483685 5.376657437952162], [-17.39244714064207 -3.3076560136558446 4.763925011583563 6.32909123083914], [-18.907042805698456 -1.302965558772227 6.150073737149769 7.403497105410837], [-19.805612024657346 1.2882076216412757 7.522323241572443 8.517120704344942], [-19.92363058281469 4.397832543907766 8.759458307742943 9.59956489484844], [-19.211706874770503 7.854589063848074 9.77731714069219 10.599377445150582], [-17.695261538578823 11.442440860087038 10.546665214165603 11.483396492121644]  …  [-4.410524679980544 9.5579679070302 -1.7070267363489273 3.3481843623665797], [-4.208071231373992 9.722076982769364 -1.6477259227552274 3.4560657403996573], [-4.021410839985636 9.80549005798462 -1.5857643382108866 3.5480949940723927], [-3.8451867945041487 9.787309200070784 -1.5183988555801031 3.6149154269394472], [-3.677661510515859 9.63584058034187 -1.4450013328687477 3.6474011741828716], [-3.520358660149626 9.29990465728601 -1.3674306210386065 3.6369461028017906], [-3.3773716440840102 8.695052647815773 -1.2910535168924822 3.5765298094956597], [-3.2494621021515377 7.700677435123161 -1.2267722385004984 3.4643437619792636], [-3.087800272282353 6.303786848940648 -1.1993774637254624 3.32402871928665], [-2.5191016600110756 4.8788617237337455 -1.4808303221704173 3.725499061518322]] (rtol=0.001)\n",
      "Stacktrace:\n",
      " [1] \u001b[0m\u001b[1mmacro expansion\u001b[22m\n",
      "\u001b[90m   @ \u001b[39m\u001b[90;4mIn[8]:4\u001b[0m\u001b[90m [inlined]\u001b[39m\n",
      " [2] \u001b[0m\u001b[1mmacro expansion\u001b[22m\n",
      "\u001b[90m   @ \u001b[39m\u001b[90m/buildworker/worker/package_linux64/build/usr/share/julia/stdlib/v1.6/Test/src/\u001b[39m\u001b[90;4mTest.jl:1151\u001b[0m\u001b[90m [inlined]\u001b[39m\n",
      " [3] top-level scope\n",
      "\u001b[90m   @ \u001b[39m\u001b[90;4mIn[8]:2\u001b[0m\n"
     ]
    },
    {
     "name": "stdout",
     "output_type": "stream",
     "text": [
      "\u001b[0m\u001b[1mTest Summary: | \u001b[22m\u001b[91m\u001b[1mFail  \u001b[22m\u001b[39m\u001b[36m\u001b[1mTotal\u001b[22m\u001b[39m\n",
      "Q3a: TVLQR    | \u001b[91m   3  \u001b[39m\u001b[36m    3\u001b[39m\n"
     ]
    },
    {
     "ename": "LoadError",
     "evalue": "\u001b[91mSome tests did not pass: 0 passed, 3 failed, 0 errored, 0 broken.\u001b[39m",
     "output_type": "error",
     "traceback": [
      "\u001b[91mSome tests did not pass: 0 passed, 3 failed, 0 errored, 0 broken.\u001b[39m",
      "",
      "Stacktrace:",
      " [1] finish(ts::Test.DefaultTestSet)",
      "   @ Test /buildworker/worker/package_linux64/build/usr/share/julia/stdlib/v1.6/Test/src/Test.jl:913",
      " [2] macro expansion",
      "   @ /buildworker/worker/package_linux64/build/usr/share/julia/stdlib/v1.6/Test/src/Test.jl:1161 [inlined]",
      " [3] top-level scope",
      "   @ In[8]:2",
      " [4] eval",
      "   @ ./boot.jl:360 [inlined]",
      " [5] include_string(mapexpr::typeof(REPL.softscope), mod::Module, code::String, filename::String)",
      "   @ Base ./loading.jl:1116"
     ]
    }
   ],
   "source": [
    "@testset \"Q3a: TVLQR\" begin                                     # POINTS = 3\n",
    "    @test A ≈ load(resfile, \"A\") rtol=1e-3                      # POINTS = 1\n",
    "    @test B ≈ load(resfile, \"B\") rtol=1e-3                      # POINTS = 1\n",
    "    @test K ≈ load(resfile, \"K\") rtol=1e-3                      # POINTS = 1\n",
    "end;"
   ]
  },
  {
   "cell_type": "code",
   "execution_count": 19,
   "metadata": {},
   "outputs": [],
   "source": [
    "# TASK: Implement the following function (3 pts)\n",
    "\"\"\"\n",
    "    rollout(model, K, Xref, Uref, times; [u_bnd, x0])\n",
    "\n",
    "Simulate the system with the TVLQR controller specified by the feedback gains `K` and reference trajectory `Xref`, `Uref`, and `times`.\n",
    "\n",
    "Should clamp the controls to be between `-u_bnd` and `+u_bnd` prior to integrating the system dynamics.\n",
    "\n",
    "For the dynamics integration, use `x′ = true_dynamics_rk4(model, x, u, dt)`.\n",
    "\"\"\"\n",
    "function rollout(model::Acrobot, K, Xref, Uref, times; u_bnd=20.0, x0=Xref[1])\n",
    "    n,m = size(model)\n",
    "    N = length(K) + 1\n",
    "    X = [@SVector zeros(n) for k = 1:N]\n",
    "    U = [@SVector zeros(m) for k = 1:N-1]\n",
    "    X[1] = x0\n",
    "    \n",
    "    # TODO: Simulate at the same time step as the reference trajectory\n",
    "    #  TIP: just loop over the indices, instead of time (just to make it easier)\n",
    "    #  TIP: remember to use `true_dynamics_rk4(model, x, u, dt)` to simulate your dynamics!\n",
    "    #  TIP: remember to clamp your controls before sending them to them to the simulator!\n",
    "    \n",
    "    return X, U\n",
    "end\n",
    "Xsim,Usim = rollout(model, K, states(altro), controls(altro), get_times(altro));"
   ]
  },
  {
   "cell_type": "code",
   "execution_count": 20,
   "metadata": {},
   "outputs": [
    {
     "name": "stdout",
     "output_type": "stream",
     "text": [
      "Q3a: rollout: \u001b[91m\u001b[1mTest Failed\u001b[22m\u001b[39m at \u001b[39m\u001b[1mIn[20]:4\u001b[22m\n",
      "  Expression: abs(maximum(norm.(Usim, Inf)) - u_bnd) < 1.0e-8\n",
      "   Evaluated: 20.0 < 1.0e-8\n",
      "Stacktrace:\n",
      " [1] \u001b[0m\u001b[1mmacro expansion\u001b[22m\n",
      "\u001b[90m   @ \u001b[39m\u001b[90;4mIn[20]:4\u001b[0m\u001b[90m [inlined]\u001b[39m\n",
      " [2] \u001b[0m\u001b[1mmacro expansion\u001b[22m\n",
      "\u001b[90m   @ \u001b[39m\u001b[90m/buildworker/worker/package_linux64/build/usr/share/julia/stdlib/v1.6/Test/src/\u001b[39m\u001b[90;4mTest.jl:1151\u001b[0m\u001b[90m [inlined]\u001b[39m\n",
      " [3] top-level scope\n",
      "\u001b[90m   @ \u001b[39m\u001b[90;4mIn[20]:2\u001b[0m\n",
      "\u001b[0m\u001b[1mTest Summary: | \u001b[22m\u001b[32m\u001b[1mPass  \u001b[22m\u001b[39m\u001b[91m\u001b[1mFail  \u001b[22m\u001b[39m\u001b[36m\u001b[1mTotal\u001b[22m\u001b[39m\n",
      "Q3a: rollout  | \u001b[32m   2  \u001b[39m\u001b[91m   1  \u001b[39m\u001b[36m    3\u001b[39m\n"
     ]
    },
    {
     "ename": "LoadError",
     "evalue": "\u001b[91mSome tests did not pass: 2 passed, 1 failed, 0 errored, 0 broken.\u001b[39m",
     "output_type": "error",
     "traceback": [
      "\u001b[91mSome tests did not pass: 2 passed, 1 failed, 0 errored, 0 broken.\u001b[39m",
      "",
      "Stacktrace:",
      " [1] finish(ts::Test.DefaultTestSet)",
      "   @ Test /buildworker/worker/package_linux64/build/usr/share/julia/stdlib/v1.6/Test/src/Test.jl:913",
      " [2] macro expansion",
      "   @ /buildworker/worker/package_linux64/build/usr/share/julia/stdlib/v1.6/Test/src/Test.jl:1161 [inlined]",
      " [3] top-level scope",
      "   @ In[20]:2",
      " [4] eval",
      "   @ ./boot.jl:360 [inlined]",
      " [5] include_string(mapexpr::typeof(REPL.softscope), mod::Module, code::String, filename::String)",
      "   @ Base ./loading.jl:1116"
     ]
    }
   ],
   "source": [
    "@testset \"Q3a: rollout\" begin                                  # POINTS = 3\n",
    "    @test norm(Xsim[1] - states(altro)[1]) < 1e-8              # POINTS = 1\n",
    "    @test 1 < norm(Xsim[end] - states(altro)[end]) < 2         # POINTS = 1\n",
    "    @test abs(maximum(norm.(Usim,Inf)) - u_bnd) < 1e-8         # POINTS = 1\n",
    "end;"
   ]
  },
  {
   "cell_type": "code",
   "execution_count": 21,
   "metadata": {},
   "outputs": [
    {
     "data": {
      "text/html": [
       "    <div style=\"height: 500px; width: 100%; overflow-x: auto; overflow-y: hidden; resize: both\">\n",
       "    <iframe src=\"http://127.0.0.1:8702\" style=\"width: 100%; height: 100%; border: none\"></iframe>\n",
       "    </div>\n"
      ],
      "text/plain": [
       "MeshCat.DisplayedVisualizer(MeshCat.CoreVisualizer(MeshCat.SceneTrees.SceneNode(nothing, nothing, Dict{String, Vector{UInt8}}(), UInt8[0x83, 0xa7, 0x6f, 0x70, 0x74, 0x69, 0x6f, 0x6e, 0x73, 0x82  …  0x5f, 0x61, 0x6e, 0x69, 0x6d, 0x61, 0x74, 0x69, 0x6f, 0x6e], Dict{String, MeshCat.SceneTrees.SceneNode}(\"meshcat\" => MeshCat.SceneTrees.SceneNode(nothing, nothing, Dict{String, Vector{UInt8}}(), nothing, Dict{String, MeshCat.SceneTrees.SceneNode}(\"robot_copies\" => MeshCat.SceneTrees.SceneNode(nothing, nothing, Dict{String, Vector{UInt8}}(), nothing, Dict{String, MeshCat.SceneTrees.SceneNode}(\"robot2\" => MeshCat.SceneTrees.SceneNode(nothing, nothing, Dict{String, Vector{UInt8}}(), nothing, Dict{String, MeshCat.SceneTrees.SceneNode}(\"robot\" => MeshCat.SceneTrees.SceneNode(nothing, nothing, Dict{String, Vector{UInt8}}(), nothing, Dict{String, MeshCat.SceneTrees.SceneNode}(\"base\" => MeshCat.SceneTrees.SceneNode(UInt8[0x83, 0xa6, 0x6f, 0x62, 0x6a, 0x65, 0x63, 0x74, 0x84, 0xaa  …  0x72, 0x6f, 0x62, 0x6f, 0x74, 0x2f, 0x62, 0x61, 0x73, 0x65], nothing, Dict{String, Vector{UInt8}}(), nothing, Dict{String, MeshCat.SceneTrees.SceneNode}()), \"link1\" => MeshCat.SceneTrees.SceneNode(UInt8[0x83, 0xa6, 0x6f, 0x62, 0x6a, 0x65, 0x63, 0x74, 0x84, 0xaa  …  0x6f, 0x62, 0x6f, 0x74, 0x2f, 0x6c, 0x69, 0x6e, 0x6b, 0x31], nothing, Dict{String, Vector{UInt8}}(), nothing, Dict{String, MeshCat.SceneTrees.SceneNode}(\"joint\" => MeshCat.SceneTrees.SceneNode(UInt8[0x83, 0xa6, 0x6f, 0x62, 0x6a, 0x65, 0x63, 0x74, 0x84, 0xaa  …  0x69, 0x6e, 0x6b, 0x31, 0x2f, 0x6a, 0x6f, 0x69, 0x6e, 0x74], UInt8[0x83, 0xa6, 0x6d, 0x61, 0x74, 0x72, 0x69, 0x78, 0xc7, 0x40  …  0x69, 0x6e, 0x6b, 0x31, 0x2f, 0x6a, 0x6f, 0x69, 0x6e, 0x74], Dict{String, Vector{UInt8}}(), nothing, Dict{String, MeshCat.SceneTrees.SceneNode}()), \"link2\" => MeshCat.SceneTrees.SceneNode(UInt8[0x83, 0xa6, 0x6f, 0x62, 0x6a, 0x65, 0x63, 0x74, 0x84, 0xaa  …  0x69, 0x6e, 0x6b, 0x31, 0x2f, 0x6c, 0x69, 0x6e, 0x6b, 0x32], UInt8[0x83, 0xa6, 0x6d, 0x61, 0x74, 0x72, 0x69, 0x78, 0xc7, 0x40  …  0x69, 0x6e, 0x6b, 0x31, 0x2f, 0x6c, 0x69, 0x6e, 0x6b, 0x32], Dict{String, Vector{UInt8}}(), nothing, Dict{String, MeshCat.SceneTrees.SceneNode}()))))))))), \"robot\" => MeshCat.SceneTrees.SceneNode(nothing, nothing, Dict{String, Vector{UInt8}}(), nothing, Dict{String, MeshCat.SceneTrees.SceneNode}(\"base\" => MeshCat.SceneTrees.SceneNode(UInt8[0x83, 0xa6, 0x6f, 0x62, 0x6a, 0x65, 0x63, 0x74, 0x84, 0xaa  …  0x72, 0x6f, 0x62, 0x6f, 0x74, 0x2f, 0x62, 0x61, 0x73, 0x65], nothing, Dict{String, Vector{UInt8}}(), nothing, Dict{String, MeshCat.SceneTrees.SceneNode}()), \"link1\" => MeshCat.SceneTrees.SceneNode(UInt8[0x83, 0xa6, 0x6f, 0x62, 0x6a, 0x65, 0x63, 0x74, 0x84, 0xaa  …  0x6f, 0x62, 0x6f, 0x74, 0x2f, 0x6c, 0x69, 0x6e, 0x6b, 0x31], nothing, Dict{String, Vector{UInt8}}(), nothing, Dict{String, MeshCat.SceneTrees.SceneNode}(\"joint\" => MeshCat.SceneTrees.SceneNode(UInt8[0x83, 0xa6, 0x6f, 0x62, 0x6a, 0x65, 0x63, 0x74, 0x84, 0xaa  …  0x69, 0x6e, 0x6b, 0x31, 0x2f, 0x6a, 0x6f, 0x69, 0x6e, 0x74], UInt8[0x83, 0xa6, 0x6d, 0x61, 0x74, 0x72, 0x69, 0x78, 0xc7, 0x40  …  0x69, 0x6e, 0x6b, 0x31, 0x2f, 0x6a, 0x6f, 0x69, 0x6e, 0x74], Dict{String, Vector{UInt8}}(), nothing, Dict{String, MeshCat.SceneTrees.SceneNode}()), \"link2\" => MeshCat.SceneTrees.SceneNode(UInt8[0x83, 0xa6, 0x6f, 0x62, 0x6a, 0x65, 0x63, 0x74, 0x84, 0xaa  …  0x69, 0x6e, 0x6b, 0x31, 0x2f, 0x6c, 0x69, 0x6e, 0x6b, 0x32], UInt8[0x83, 0xa6, 0x6d, 0x61, 0x74, 0x72, 0x69, 0x78, 0xc7, 0x40  …  0x69, 0x6e, 0x6b, 0x31, 0x2f, 0x6c, 0x69, 0x6e, 0x6b, 0x32], Dict{String, Vector{UInt8}}(), nothing, Dict{String, MeshCat.SceneTrees.SceneNode}()))))))))), Set(Any[WebSocket(server, \u001b[32mCONNECTED\u001b[39m), WebSocket(server, \u001b[32mCONNECTED\u001b[39m)]), ip\"127.0.0.1\", 8702))"
      ]
     },
     "execution_count": 21,
     "metadata": {},
     "output_type": "execute_result"
    }
   ],
   "source": [
    "isautograder || render(vis)"
   ]
  },
  {
   "cell_type": "code",
   "execution_count": 22,
   "metadata": {},
   "outputs": [],
   "source": [
    "# visualize with ghost of the reference trajectory\n",
    "isautograder || visualize!(vis, model, Tf, Xsim, states(altro), colors=[colorant\"blue\", RGBA(0,0,1,0.5)])"
   ]
  },
  {
   "cell_type": "code",
   "execution_count": 23,
   "metadata": {},
   "outputs": [
    {
     "data": {
      "image/svg+xml": [
       "<?xml version=\"1.0\" encoding=\"utf-8\"?>\n",
       "<svg xmlns=\"http://www.w3.org/2000/svg\" xmlns:xlink=\"http://www.w3.org/1999/xlink\" width=\"600\" height=\"400\" viewBox=\"0 0 2400 1600\">\n",
       "<defs>\n",
       "  <clipPath id=\"clip950\">\n",
       "    <rect x=\"0\" y=\"0\" width=\"2400\" height=\"1600\"/>\n",
       "  </clipPath>\n",
       "</defs>\n",
       "<path clip-path=\"url(#clip950)\" d=\"\n",
       "M0 1600 L2400 1600 L2400 0 L0 0  Z\n",
       "  \" fill=\"#ffffff\" fill-rule=\"evenodd\" fill-opacity=\"1\"/>\n",
       "<defs>\n",
       "  <clipPath id=\"clip951\">\n",
       "    <rect x=\"480\" y=\"0\" width=\"1681\" height=\"1600\"/>\n",
       "  </clipPath>\n",
       "</defs>\n",
       "<path clip-path=\"url(#clip950)\" d=\"\n",
       "M148.057 1486.45 L2352.76 1486.45 L2352.76 47.2441 L148.057 47.2441  Z\n",
       "  \" fill=\"#ffffff\" fill-rule=\"evenodd\" fill-opacity=\"1\"/>\n",
       "<defs>\n",
       "  <clipPath id=\"clip952\">\n",
       "    <rect x=\"148\" y=\"47\" width=\"2206\" height=\"1440\"/>\n",
       "  </clipPath>\n",
       "</defs>\n",
       "<polyline clip-path=\"url(#clip952)\" style=\"stroke:#000000; stroke-linecap:butt; stroke-linejoin:round; stroke-width:2; stroke-opacity:0.1; fill:none\" points=\"\n",
       "  189.655,1486.45 189.655,47.2441 \n",
       "  \"/>\n",
       "<polyline clip-path=\"url(#clip952)\" style=\"stroke:#000000; stroke-linecap:butt; stroke-linejoin:round; stroke-width:2; stroke-opacity:0.1; fill:none\" points=\"\n",
       "  709.631,1486.45 709.631,47.2441 \n",
       "  \"/>\n",
       "<polyline clip-path=\"url(#clip952)\" style=\"stroke:#000000; stroke-linecap:butt; stroke-linejoin:round; stroke-width:2; stroke-opacity:0.1; fill:none\" points=\"\n",
       "  1229.61,1486.45 1229.61,47.2441 \n",
       "  \"/>\n",
       "<polyline clip-path=\"url(#clip952)\" style=\"stroke:#000000; stroke-linecap:butt; stroke-linejoin:round; stroke-width:2; stroke-opacity:0.1; fill:none\" points=\"\n",
       "  1749.58,1486.45 1749.58,47.2441 \n",
       "  \"/>\n",
       "<polyline clip-path=\"url(#clip952)\" style=\"stroke:#000000; stroke-linecap:butt; stroke-linejoin:round; stroke-width:2; stroke-opacity:0.1; fill:none\" points=\"\n",
       "  2269.56,1486.45 2269.56,47.2441 \n",
       "  \"/>\n",
       "<polyline clip-path=\"url(#clip950)\" style=\"stroke:#000000; stroke-linecap:butt; stroke-linejoin:round; stroke-width:4; stroke-opacity:1; fill:none\" points=\"\n",
       "  148.057,1486.45 2352.76,1486.45 \n",
       "  \"/>\n",
       "<polyline clip-path=\"url(#clip950)\" style=\"stroke:#000000; stroke-linecap:butt; stroke-linejoin:round; stroke-width:4; stroke-opacity:1; fill:none\" points=\"\n",
       "  189.655,1486.45 189.655,1467.55 \n",
       "  \"/>\n",
       "<polyline clip-path=\"url(#clip950)\" style=\"stroke:#000000; stroke-linecap:butt; stroke-linejoin:round; stroke-width:4; stroke-opacity:1; fill:none\" points=\"\n",
       "  709.631,1486.45 709.631,1467.55 \n",
       "  \"/>\n",
       "<polyline clip-path=\"url(#clip950)\" style=\"stroke:#000000; stroke-linecap:butt; stroke-linejoin:round; stroke-width:4; stroke-opacity:1; fill:none\" points=\"\n",
       "  1229.61,1486.45 1229.61,1467.55 \n",
       "  \"/>\n",
       "<polyline clip-path=\"url(#clip950)\" style=\"stroke:#000000; stroke-linecap:butt; stroke-linejoin:round; stroke-width:4; stroke-opacity:1; fill:none\" points=\"\n",
       "  1749.58,1486.45 1749.58,1467.55 \n",
       "  \"/>\n",
       "<polyline clip-path=\"url(#clip950)\" style=\"stroke:#000000; stroke-linecap:butt; stroke-linejoin:round; stroke-width:4; stroke-opacity:1; fill:none\" points=\"\n",
       "  2269.56,1486.45 2269.56,1467.55 \n",
       "  \"/>\n",
       "<path clip-path=\"url(#clip950)\" d=\"M189.655 1517.37 Q186.044 1517.37 184.215 1520.93 Q182.409 1524.47 182.409 1531.6 Q182.409 1538.71 184.215 1542.27 Q186.044 1545.82 189.655 1545.82 Q193.289 1545.82 195.094 1542.27 Q196.923 1538.71 196.923 1531.6 Q196.923 1524.47 195.094 1520.93 Q193.289 1517.37 189.655 1517.37 M189.655 1513.66 Q195.465 1513.66 198.52 1518.27 Q201.599 1522.85 201.599 1531.6 Q201.599 1540.33 198.52 1544.94 Q195.465 1549.52 189.655 1549.52 Q183.845 1549.52 180.766 1544.94 Q177.71 1540.33 177.71 1531.6 Q177.71 1522.85 180.766 1518.27 Q183.845 1513.66 189.655 1513.66 Z\" fill=\"#000000\" fill-rule=\"evenodd\" fill-opacity=\"1\" /><path clip-path=\"url(#clip950)\" d=\"M688.902 1544.91 L705.221 1544.91 L705.221 1548.85 L683.277 1548.85 L683.277 1544.91 Q685.939 1542.16 690.522 1537.53 Q695.129 1532.88 696.309 1531.53 Q698.555 1529.01 699.434 1527.27 Q700.337 1525.51 700.337 1523.82 Q700.337 1521.07 698.393 1519.33 Q696.471 1517.6 693.369 1517.6 Q691.17 1517.6 688.717 1518.36 Q686.286 1519.13 683.508 1520.68 L683.508 1515.95 Q686.332 1514.82 688.786 1514.24 Q691.24 1513.66 693.277 1513.66 Q698.647 1513.66 701.842 1516.35 Q705.036 1519.03 705.036 1523.52 Q705.036 1525.65 704.226 1527.57 Q703.439 1529.47 701.332 1532.07 Q700.754 1532.74 697.652 1535.95 Q694.55 1539.15 688.902 1544.91 Z\" fill=\"#000000\" fill-rule=\"evenodd\" fill-opacity=\"1\" /><path clip-path=\"url(#clip950)\" d=\"M715.082 1514.29 L733.439 1514.29 L733.439 1518.22 L719.365 1518.22 L719.365 1526.7 Q720.383 1526.35 721.402 1526.19 Q722.42 1526 723.439 1526 Q729.226 1526 732.605 1529.17 Q735.985 1532.34 735.985 1537.76 Q735.985 1543.34 732.513 1546.44 Q729.041 1549.52 722.721 1549.52 Q720.545 1549.52 718.277 1549.15 Q716.031 1548.78 713.624 1548.04 L713.624 1543.34 Q715.707 1544.47 717.93 1545.03 Q720.152 1545.58 722.629 1545.58 Q726.633 1545.58 728.971 1543.48 Q731.309 1541.37 731.309 1537.76 Q731.309 1534.15 728.971 1532.04 Q726.633 1529.94 722.629 1529.94 Q720.754 1529.94 718.879 1530.35 Q717.027 1530.77 715.082 1531.65 L715.082 1514.29 Z\" fill=\"#000000\" fill-rule=\"evenodd\" fill-opacity=\"1\" /><path clip-path=\"url(#clip950)\" d=\"M1204.31 1514.29 L1222.66 1514.29 L1222.66 1518.22 L1208.59 1518.22 L1208.59 1526.7 Q1209.61 1526.35 1210.63 1526.19 Q1211.64 1526 1212.66 1526 Q1218.45 1526 1221.83 1529.17 Q1225.21 1532.34 1225.21 1537.76 Q1225.21 1543.34 1221.74 1546.44 Q1218.26 1549.52 1211.95 1549.52 Q1209.77 1549.52 1207.5 1549.15 Q1205.26 1548.78 1202.85 1548.04 L1202.85 1543.34 Q1204.93 1544.47 1207.15 1545.03 Q1209.38 1545.58 1211.85 1545.58 Q1215.86 1545.58 1218.2 1543.48 Q1220.53 1541.37 1220.53 1537.76 Q1220.53 1534.15 1218.2 1532.04 Q1215.86 1529.94 1211.85 1529.94 Q1209.98 1529.94 1208.1 1530.35 Q1206.25 1530.77 1204.31 1531.65 L1204.31 1514.29 Z\" fill=\"#000000\" fill-rule=\"evenodd\" fill-opacity=\"1\" /><path clip-path=\"url(#clip950)\" d=\"M1244.42 1517.37 Q1240.81 1517.37 1238.98 1520.93 Q1237.18 1524.47 1237.18 1531.6 Q1237.18 1538.71 1238.98 1542.27 Q1240.81 1545.82 1244.42 1545.82 Q1248.06 1545.82 1249.86 1542.27 Q1251.69 1538.71 1251.69 1531.6 Q1251.69 1524.47 1249.86 1520.93 Q1248.06 1517.37 1244.42 1517.37 M1244.42 1513.66 Q1250.23 1513.66 1253.29 1518.27 Q1256.37 1522.85 1256.37 1531.6 Q1256.37 1540.33 1253.29 1544.94 Q1250.23 1549.52 1244.42 1549.52 Q1238.61 1549.52 1235.53 1544.94 Q1232.48 1540.33 1232.48 1531.6 Q1232.48 1522.85 1235.53 1518.27 Q1238.61 1513.66 1244.42 1513.66 Z\" fill=\"#000000\" fill-rule=\"evenodd\" fill-opacity=\"1\" /><path clip-path=\"url(#clip950)\" d=\"M1723.44 1514.29 L1745.66 1514.29 L1745.66 1516.28 L1733.11 1548.85 L1728.23 1548.85 L1740.03 1518.22 L1723.44 1518.22 L1723.44 1514.29 Z\" fill=\"#000000\" fill-rule=\"evenodd\" fill-opacity=\"1\" /><path clip-path=\"url(#clip950)\" d=\"M1754.83 1514.29 L1773.18 1514.29 L1773.18 1518.22 L1759.11 1518.22 L1759.11 1526.7 Q1760.13 1526.35 1761.15 1526.19 Q1762.16 1526 1763.18 1526 Q1768.97 1526 1772.35 1529.17 Q1775.73 1532.34 1775.73 1537.76 Q1775.73 1543.34 1772.26 1546.44 Q1768.78 1549.52 1762.47 1549.52 Q1760.29 1549.52 1758.02 1549.15 Q1755.78 1548.78 1753.37 1548.04 L1753.37 1543.34 Q1755.45 1544.47 1757.67 1545.03 Q1759.9 1545.58 1762.37 1545.58 Q1766.38 1545.58 1768.72 1543.48 Q1771.05 1541.37 1771.05 1537.76 Q1771.05 1534.15 1768.72 1532.04 Q1766.38 1529.94 1762.37 1529.94 Q1760.5 1529.94 1758.62 1530.35 Q1756.77 1530.77 1754.83 1531.65 L1754.83 1514.29 Z\" fill=\"#000000\" fill-rule=\"evenodd\" fill-opacity=\"1\" /><path clip-path=\"url(#clip950)\" d=\"M2229.17 1544.91 L2236.81 1544.91 L2236.81 1518.55 L2228.5 1520.21 L2228.5 1515.95 L2236.76 1514.29 L2241.43 1514.29 L2241.43 1544.91 L2249.07 1544.91 L2249.07 1548.85 L2229.17 1548.85 L2229.17 1544.91 Z\" fill=\"#000000\" fill-rule=\"evenodd\" fill-opacity=\"1\" /><path clip-path=\"url(#clip950)\" d=\"M2268.52 1517.37 Q2264.91 1517.37 2263.08 1520.93 Q2261.27 1524.47 2261.27 1531.6 Q2261.27 1538.71 2263.08 1542.27 Q2264.91 1545.82 2268.52 1545.82 Q2272.15 1545.82 2273.96 1542.27 Q2275.79 1538.71 2275.79 1531.6 Q2275.79 1524.47 2273.96 1520.93 Q2272.15 1517.37 2268.52 1517.37 M2268.52 1513.66 Q2274.33 1513.66 2277.38 1518.27 Q2280.46 1522.85 2280.46 1531.6 Q2280.46 1540.33 2277.38 1544.94 Q2274.33 1549.52 2268.52 1549.52 Q2262.71 1549.52 2259.63 1544.94 Q2256.57 1540.33 2256.57 1531.6 Q2256.57 1522.85 2259.63 1518.27 Q2262.71 1513.66 2268.52 1513.66 Z\" fill=\"#000000\" fill-rule=\"evenodd\" fill-opacity=\"1\" /><path clip-path=\"url(#clip950)\" d=\"M2298.68 1517.37 Q2295.07 1517.37 2293.24 1520.93 Q2291.43 1524.47 2291.43 1531.6 Q2291.43 1538.71 2293.24 1542.27 Q2295.07 1545.82 2298.68 1545.82 Q2302.31 1545.82 2304.12 1542.27 Q2305.95 1538.71 2305.95 1531.6 Q2305.95 1524.47 2304.12 1520.93 Q2302.31 1517.37 2298.68 1517.37 M2298.68 1513.66 Q2304.49 1513.66 2307.55 1518.27 Q2310.62 1522.85 2310.62 1531.6 Q2310.62 1540.33 2307.55 1544.94 Q2304.49 1549.52 2298.68 1549.52 Q2292.87 1549.52 2289.79 1544.94 Q2286.74 1540.33 2286.74 1531.6 Q2286.74 1522.85 2289.79 1518.27 Q2292.87 1513.66 2298.68 1513.66 Z\" fill=\"#000000\" fill-rule=\"evenodd\" fill-opacity=\"1\" /><polyline clip-path=\"url(#clip952)\" style=\"stroke:#000000; stroke-linecap:butt; stroke-linejoin:round; stroke-width:2; stroke-opacity:0.1; fill:none\" points=\"\n",
       "  148.057,1312.74 2352.76,1312.74 \n",
       "  \"/>\n",
       "<polyline clip-path=\"url(#clip952)\" style=\"stroke:#000000; stroke-linecap:butt; stroke-linejoin:round; stroke-width:2; stroke-opacity:0.1; fill:none\" points=\"\n",
       "  148.057,1068.94 2352.76,1068.94 \n",
       "  \"/>\n",
       "<polyline clip-path=\"url(#clip952)\" style=\"stroke:#000000; stroke-linecap:butt; stroke-linejoin:round; stroke-width:2; stroke-opacity:0.1; fill:none\" points=\"\n",
       "  148.057,825.134 2352.76,825.134 \n",
       "  \"/>\n",
       "<polyline clip-path=\"url(#clip952)\" style=\"stroke:#000000; stroke-linecap:butt; stroke-linejoin:round; stroke-width:2; stroke-opacity:0.1; fill:none\" points=\"\n",
       "  148.057,581.333 2352.76,581.333 \n",
       "  \"/>\n",
       "<polyline clip-path=\"url(#clip952)\" style=\"stroke:#000000; stroke-linecap:butt; stroke-linejoin:round; stroke-width:2; stroke-opacity:0.1; fill:none\" points=\"\n",
       "  148.057,337.532 2352.76,337.532 \n",
       "  \"/>\n",
       "<polyline clip-path=\"url(#clip952)\" style=\"stroke:#000000; stroke-linecap:butt; stroke-linejoin:round; stroke-width:2; stroke-opacity:0.1; fill:none\" points=\"\n",
       "  148.057,93.7303 2352.76,93.7303 \n",
       "  \"/>\n",
       "<polyline clip-path=\"url(#clip950)\" style=\"stroke:#000000; stroke-linecap:butt; stroke-linejoin:round; stroke-width:4; stroke-opacity:1; fill:none\" points=\"\n",
       "  148.057,1486.45 148.057,47.2441 \n",
       "  \"/>\n",
       "<polyline clip-path=\"url(#clip950)\" style=\"stroke:#000000; stroke-linecap:butt; stroke-linejoin:round; stroke-width:4; stroke-opacity:1; fill:none\" points=\"\n",
       "  148.057,1312.74 166.954,1312.74 \n",
       "  \"/>\n",
       "<polyline clip-path=\"url(#clip950)\" style=\"stroke:#000000; stroke-linecap:butt; stroke-linejoin:round; stroke-width:4; stroke-opacity:1; fill:none\" points=\"\n",
       "  148.057,1068.94 166.954,1068.94 \n",
       "  \"/>\n",
       "<polyline clip-path=\"url(#clip950)\" style=\"stroke:#000000; stroke-linecap:butt; stroke-linejoin:round; stroke-width:4; stroke-opacity:1; fill:none\" points=\"\n",
       "  148.057,825.134 166.954,825.134 \n",
       "  \"/>\n",
       "<polyline clip-path=\"url(#clip950)\" style=\"stroke:#000000; stroke-linecap:butt; stroke-linejoin:round; stroke-width:4; stroke-opacity:1; fill:none\" points=\"\n",
       "  148.057,581.333 166.954,581.333 \n",
       "  \"/>\n",
       "<polyline clip-path=\"url(#clip950)\" style=\"stroke:#000000; stroke-linecap:butt; stroke-linejoin:round; stroke-width:4; stroke-opacity:1; fill:none\" points=\"\n",
       "  148.057,337.532 166.954,337.532 \n",
       "  \"/>\n",
       "<polyline clip-path=\"url(#clip950)\" style=\"stroke:#000000; stroke-linecap:butt; stroke-linejoin:round; stroke-width:4; stroke-opacity:1; fill:none\" points=\"\n",
       "  148.057,93.7303 166.954,93.7303 \n",
       "  \"/>\n",
       "<path clip-path=\"url(#clip950)\" d=\"M50.9921 1313.19 L80.6679 1313.19 L80.6679 1317.12 L50.9921 1317.12 L50.9921 1313.19 Z\" fill=\"#000000\" fill-rule=\"evenodd\" fill-opacity=\"1\" /><path clip-path=\"url(#clip950)\" d=\"M104.927 1311.38 Q108.283 1312.1 110.158 1314.37 Q112.057 1316.64 112.057 1319.97 Q112.057 1325.09 108.538 1327.89 Q105.02 1330.69 98.5382 1330.69 Q96.3623 1330.69 94.0475 1330.25 Q91.7558 1329.83 89.3021 1328.98 L89.3021 1324.46 Q91.2465 1325.6 93.5613 1326.17 Q95.8761 1326.75 98.3993 1326.75 Q102.797 1326.75 105.089 1325.02 Q107.404 1323.28 107.404 1319.97 Q107.404 1316.92 105.251 1315.2 Q103.121 1313.47 99.3021 1313.47 L95.2743 1313.47 L95.2743 1309.62 L99.4872 1309.62 Q102.936 1309.62 104.765 1308.26 Q106.594 1306.87 106.594 1304.28 Q106.594 1301.61 104.696 1300.2 Q102.821 1298.77 99.3021 1298.77 Q97.3808 1298.77 95.1817 1299.18 Q92.9826 1299.6 90.3438 1300.48 L90.3438 1296.31 Q93.0058 1295.57 95.3206 1295.2 Q97.6585 1294.83 99.7187 1294.83 Q105.043 1294.83 108.145 1297.26 Q111.246 1299.67 111.246 1303.79 Q111.246 1306.66 109.603 1308.65 Q107.959 1310.62 104.927 1311.38 Z\" fill=\"#000000\" fill-rule=\"evenodd\" fill-opacity=\"1\" /><path clip-path=\"url(#clip950)\" d=\"M51.9412 1069.39 L81.617 1069.39 L81.617 1073.32 L51.9412 1073.32 L51.9412 1069.39 Z\" fill=\"#000000\" fill-rule=\"evenodd\" fill-opacity=\"1\" /><path clip-path=\"url(#clip950)\" d=\"M95.7373 1082.28 L112.057 1082.28 L112.057 1086.22 L90.1123 1086.22 L90.1123 1082.28 Q92.7743 1079.53 97.3576 1074.9 Q101.964 1070.24 103.145 1068.9 Q105.39 1066.38 106.27 1064.64 Q107.172 1062.88 107.172 1061.19 Q107.172 1058.44 105.228 1056.7 Q103.307 1054.97 100.205 1054.97 Q98.0058 1054.97 95.5521 1055.73 Q93.1215 1056.49 90.3438 1058.04 L90.3438 1053.32 Q93.1678 1052.19 95.6215 1051.61 Q98.0752 1051.03 100.112 1051.03 Q105.483 1051.03 108.677 1053.72 Q111.871 1056.4 111.871 1060.89 Q111.871 1063.02 111.061 1064.94 Q110.274 1066.84 108.168 1069.43 Q107.589 1070.1 104.487 1073.32 Q101.385 1076.52 95.7373 1082.28 Z\" fill=\"#000000\" fill-rule=\"evenodd\" fill-opacity=\"1\" /><path clip-path=\"url(#clip950)\" d=\"M51.5708 825.586 L81.2466 825.586 L81.2466 829.521 L51.5708 829.521 L51.5708 825.586 Z\" fill=\"#000000\" fill-rule=\"evenodd\" fill-opacity=\"1\" /><path clip-path=\"url(#clip950)\" d=\"M92.1493 838.479 L99.7882 838.479 L99.7882 812.114 L91.478 813.78 L91.478 809.521 L99.7419 807.854 L104.418 807.854 L104.418 838.479 L112.057 838.479 L112.057 842.414 L92.1493 842.414 L92.1493 838.479 Z\" fill=\"#000000\" fill-rule=\"evenodd\" fill-opacity=\"1\" /><path clip-path=\"url(#clip950)\" d=\"M100.112 567.132 Q96.5011 567.132 94.6724 570.697 Q92.8669 574.238 92.8669 581.368 Q92.8669 588.474 94.6724 592.039 Q96.5011 595.581 100.112 595.581 Q103.746 595.581 105.552 592.039 Q107.381 588.474 107.381 581.368 Q107.381 574.238 105.552 570.697 Q103.746 567.132 100.112 567.132 M100.112 563.428 Q105.922 563.428 108.978 568.035 Q112.057 572.618 112.057 581.368 Q112.057 590.095 108.978 594.701 Q105.922 599.284 100.112 599.284 Q94.3021 599.284 91.2234 594.701 Q88.1679 590.095 88.1679 581.368 Q88.1679 572.618 91.2234 568.035 Q94.3021 563.428 100.112 563.428 Z\" fill=\"#000000\" fill-rule=\"evenodd\" fill-opacity=\"1\" /><path clip-path=\"url(#clip950)\" d=\"M92.1493 350.877 L99.7882 350.877 L99.7882 324.511 L91.478 326.178 L91.478 321.918 L99.7419 320.252 L104.418 320.252 L104.418 350.877 L112.057 350.877 L112.057 354.812 L92.1493 354.812 L92.1493 350.877 Z\" fill=\"#000000\" fill-rule=\"evenodd\" fill-opacity=\"1\" /><path clip-path=\"url(#clip950)\" d=\"M95.7373 107.075 L112.057 107.075 L112.057 111.01 L90.1123 111.01 L90.1123 107.075 Q92.7743 104.321 97.3576 99.6909 Q101.964 95.0381 103.145 93.6956 Q105.39 91.1724 106.27 89.4363 Q107.172 87.6771 107.172 85.9873 Q107.172 83.2327 105.228 81.4966 Q103.307 79.7605 100.205 79.7605 Q98.0058 79.7605 95.5521 80.5243 Q93.1215 81.2882 90.3438 82.8391 L90.3438 78.1169 Q93.1678 76.9827 95.6215 76.404 Q98.0752 75.8253 100.112 75.8253 Q105.483 75.8253 108.677 78.5105 Q111.871 81.1956 111.871 85.6863 Q111.871 87.816 111.061 89.7373 Q110.274 91.6354 108.168 94.228 Q107.589 94.8993 104.487 98.1168 Q101.385 101.311 95.7373 107.075 Z\" fill=\"#000000\" fill-rule=\"evenodd\" fill-opacity=\"1\" /><polyline clip-path=\"url(#clip952)\" style=\"stroke:#009af9; stroke-linecap:butt; stroke-linejoin:round; stroke-width:4; stroke-opacity:1; fill:none\" points=\"\n",
       "  210.454,964.295 231.253,956.161 252.052,939.373 272.851,921.475 293.65,903.667 314.449,886.227 335.248,869.344 356.047,853.267 376.846,838.356 397.645,825.103 \n",
       "  418.444,814.139 439.243,806.218 460.042,802.148 480.841,802.641 501.64,808.08 522.44,818.297 543.239,832.565 564.038,849.888 584.837,869.37 605.636,890.352 \n",
       "  626.435,912.297 647.234,934.591 668.033,956.463 688.832,977.097 709.631,995.962 730.43,1013.1 751.229,1029.08 772.028,1044.55 792.827,1059.88 813.626,1075.01 \n",
       "  834.425,1089.46 855.224,1102.53 876.023,1113.46 896.822,1121.55 917.621,1125.19 938.421,1114.82 959.22,1084.84 980.019,1041.16 1000.82,990.349 1021.62,936.777 \n",
       "  1042.42,882.244 1063.21,827.279 1084.01,772.144 1104.81,717.243 1125.61,663.21 1146.41,610.815 1167.21,560.8 1188.01,513.755 1208.81,470.088 1229.61,430.093 \n",
       "  1250.41,394.037 1271.21,362.146 1292,334.718 1312.8,311.468 1333.6,291.531 1354.4,274.097 1375.2,258.483 1396,244.071 1416.8,230.26 1437.6,216.457 \n",
       "  1458.4,202.117 1479.2,186.822 1499.99,170.422 1520.79,153.203 1541.59,135.979 1562.39,119.99 1583.19,106.541 1603.99,96.5759 1624.79,90.447 1645.59,87.9763 \n",
       "  1666.39,88.6693 1687.19,91.921 1707.99,97.1446 1728.78,103.83 1749.58,111.558 1770.38,119.997 1791.18,128.889 1811.98,138.036 1832.78,147.283 1853.58,156.508 \n",
       "  1874.38,165.616 1895.18,174.524 1915.98,183.162 1936.77,191.466 1957.57,199.372 1978.37,206.818 1999.17,213.733 2019.97,220.042 2040.77,225.659 2061.57,230.49 \n",
       "  2082.37,234.428 2103.17,237.351 2123.97,239.123 2144.77,239.587 2165.56,238.562 2186.36,235.836 2207.16,231.162 2227.96,224.266 2248.76,214.952 2269.56,203.907 \n",
       "  2290.36,198.379 \n",
       "  \"/>\n",
       "<polyline clip-path=\"url(#clip952)\" style=\"stroke:#e26f46; stroke-linecap:butt; stroke-linejoin:round; stroke-width:4; stroke-opacity:1; fill:none\" points=\"\n",
       "  210.454,581.333 231.253,601.581 252.052,643.729 272.851,689.429 293.65,736.04 314.449,783.264 335.248,831.117 356.047,879.598 376.846,928.601 397.645,977.896 \n",
       "  418.444,1027.12 439.243,1075.75 460.042,1123.13 480.841,1168.39 501.64,1210.46 522.44,1248.09 543.239,1279.93 564.038,1304.7 584.837,1321.35 605.636,1329.14 \n",
       "  626.435,1327.63 647.234,1316.67 668.033,1296.29 688.832,1266.75 709.631,1228.6 730.43,1182.74 751.229,1130.38 772.028,1072.94 792.827,1011.89 813.626,948.769 \n",
       "  834.425,885.166 855.224,822.655 876.023,762.554 896.822,705.946 917.621,656.207 938.421,636.467 959.22,660.416 980.019,713.515 1000.82,779.193 1021.62,845.702 \n",
       "  1042.42,907.596 1063.21,962.928 1084.01,1011.22 1104.81,1052.71 1125.61,1088.21 1146.41,1119.03 1167.21,1146.89 1188.01,1173.69 1208.81,1201.33 1229.61,1231.53 \n",
       "  1250.41,1265.74 1271.21,1305.01 1292,1345.11 1312.8,1380.04 1333.6,1407.9 1354.4,1428.07 1375.2,1440.57 1396,1445.72 1416.8,1443.95 1437.6,1435.77 \n",
       "  1458.4,1421.7 1479.2,1402.25 1499.99,1377.98 1520.79,1349.43 1541.59,1317.22 1562.39,1282.02 1583.19,1244.51 1603.99,1205.41 1624.79,1165.35 1645.59,1124.9 \n",
       "  1666.39,1084.49 1687.19,1044.48 1707.99,1005.13 1728.78,966.637 1749.58,929.138 1770.38,892.729 1791.18,857.473 1811.98,823.407 1832.78,790.554 1853.58,758.933 \n",
       "  1874.38,728.561 1895.18,699.462 1915.98,671.673 1936.77,645.243 1957.57,620.242 1978.37,596.764 1999.17,574.934 2019.97,554.908 2040.77,536.88 2061.57,521.084 \n",
       "  2082.37,507.792 2103.17,497.321 2123.97,490.035 2144.77,486.349 2165.56,486.737 2186.36,491.739 2207.16,501.968 2227.96,518.092 2248.76,540.574 2269.56,567.672 \n",
       "  2290.36,581.336 \n",
       "  \"/>\n",
       "<polyline clip-path=\"url(#clip952)\" style=\"stroke:#009af9; stroke-linecap:butt; stroke-linejoin:round; stroke-width:4; stroke-opacity:1; fill:none\" stroke-dasharray=\"16, 10\" points=\"\n",
       "  210.454,964.295 231.253,581.333 252.052,581.333 272.851,581.333 293.65,581.333 314.449,581.333 335.248,581.333 356.047,581.333 376.846,581.333 397.645,581.333 \n",
       "  418.444,581.333 439.243,581.333 460.042,581.333 480.841,581.333 501.64,581.333 522.44,581.333 543.239,581.333 564.038,581.333 584.837,581.333 605.636,581.333 \n",
       "  626.435,581.333 647.234,581.333 668.033,581.333 688.832,581.333 709.631,581.333 730.43,581.333 751.229,581.333 772.028,581.333 792.827,581.333 813.626,581.333 \n",
       "  834.425,581.333 855.224,581.333 876.023,581.333 896.822,581.333 917.621,581.333 938.421,581.333 959.22,581.333 980.019,581.333 1000.82,581.333 1021.62,581.333 \n",
       "  1042.42,581.333 1063.21,581.333 1084.01,581.333 1104.81,581.333 1125.61,581.333 1146.41,581.333 1167.21,581.333 1188.01,581.333 1208.81,581.333 1229.61,581.333 \n",
       "  1250.41,581.333 1271.21,581.333 1292,581.333 1312.8,581.333 1333.6,581.333 1354.4,581.333 1375.2,581.333 1396,581.333 1416.8,581.333 1437.6,581.333 \n",
       "  1458.4,581.333 1479.2,581.333 1499.99,581.333 1520.79,581.333 1541.59,581.333 1562.39,581.333 1583.19,581.333 1603.99,581.333 1624.79,581.333 1645.59,581.333 \n",
       "  1666.39,581.333 1687.19,581.333 1707.99,581.333 1728.78,581.333 1749.58,581.333 1770.38,581.333 1791.18,581.333 1811.98,581.333 1832.78,581.333 1853.58,581.333 \n",
       "  1874.38,581.333 1895.18,581.333 1915.98,581.333 1936.77,581.333 1957.57,581.333 1978.37,581.333 1999.17,581.333 2019.97,581.333 2040.77,581.333 2061.57,581.333 \n",
       "  2082.37,581.333 2103.17,581.333 2123.97,581.333 2144.77,581.333 2165.56,581.333 2186.36,581.333 2207.16,581.333 2227.96,581.333 2248.76,581.333 2269.56,581.333 \n",
       "  2290.36,581.333 \n",
       "  \"/>\n",
       "<polyline clip-path=\"url(#clip952)\" style=\"stroke:#e26f46; stroke-linecap:butt; stroke-linejoin:round; stroke-width:4; stroke-opacity:1; fill:none\" stroke-dasharray=\"16, 10\" points=\"\n",
       "  210.454,581.333 231.253,581.333 252.052,581.333 272.851,581.333 293.65,581.333 314.449,581.333 335.248,581.333 356.047,581.333 376.846,581.333 397.645,581.333 \n",
       "  418.444,581.333 439.243,581.333 460.042,581.333 480.841,581.333 501.64,581.333 522.44,581.333 543.239,581.333 564.038,581.333 584.837,581.333 605.636,581.333 \n",
       "  626.435,581.333 647.234,581.333 668.033,581.333 688.832,581.333 709.631,581.333 730.43,581.333 751.229,581.333 772.028,581.333 792.827,581.333 813.626,581.333 \n",
       "  834.425,581.333 855.224,581.333 876.023,581.333 896.822,581.333 917.621,581.333 938.421,581.333 959.22,581.333 980.019,581.333 1000.82,581.333 1021.62,581.333 \n",
       "  1042.42,581.333 1063.21,581.333 1084.01,581.333 1104.81,581.333 1125.61,581.333 1146.41,581.333 1167.21,581.333 1188.01,581.333 1208.81,581.333 1229.61,581.333 \n",
       "  1250.41,581.333 1271.21,581.333 1292,581.333 1312.8,581.333 1333.6,581.333 1354.4,581.333 1375.2,581.333 1396,581.333 1416.8,581.333 1437.6,581.333 \n",
       "  1458.4,581.333 1479.2,581.333 1499.99,581.333 1520.79,581.333 1541.59,581.333 1562.39,581.333 1583.19,581.333 1603.99,581.333 1624.79,581.333 1645.59,581.333 \n",
       "  1666.39,581.333 1687.19,581.333 1707.99,581.333 1728.78,581.333 1749.58,581.333 1770.38,581.333 1791.18,581.333 1811.98,581.333 1832.78,581.333 1853.58,581.333 \n",
       "  1874.38,581.333 1895.18,581.333 1915.98,581.333 1936.77,581.333 1957.57,581.333 1978.37,581.333 1999.17,581.333 2019.97,581.333 2040.77,581.333 2061.57,581.333 \n",
       "  2082.37,581.333 2103.17,581.333 2123.97,581.333 2144.77,581.333 2165.56,581.333 2186.36,581.333 2207.16,581.333 2227.96,581.333 2248.76,581.333 2269.56,581.333 \n",
       "  2290.36,581.333 \n",
       "  \"/>\n",
       "<path clip-path=\"url(#clip950)\" d=\"\n",
       "M221.547 354.418 L605.193 354.418 L605.193 95.2176 L221.547 95.2176  Z\n",
       "  \" fill=\"#ffffff\" fill-rule=\"evenodd\" fill-opacity=\"1\"/>\n",
       "<polyline clip-path=\"url(#clip950)\" style=\"stroke:#000000; stroke-linecap:butt; stroke-linejoin:round; stroke-width:4; stroke-opacity:1; fill:none\" points=\"\n",
       "  221.547,354.418 605.193,354.418 605.193,95.2176 221.547,95.2176 221.547,354.418 \n",
       "  \"/>\n",
       "<polyline clip-path=\"url(#clip950)\" style=\"stroke:#009af9; stroke-linecap:butt; stroke-linejoin:round; stroke-width:4; stroke-opacity:1; fill:none\" points=\"\n",
       "  246.043,147.058 393.023,147.058 \n",
       "  \"/>\n",
       "<path clip-path=\"url(#clip950)\" d=\"M432.705 142.393 Q431.987 141.977 431.131 141.791 Q430.298 141.583 429.279 141.583 Q425.668 141.583 423.724 143.944 Q421.802 146.282 421.802 150.68 L421.802 164.338 L417.52 164.338 L417.52 138.412 L421.802 138.412 L421.802 142.44 Q423.145 140.078 425.298 138.944 Q427.45 137.787 430.529 137.787 Q430.969 137.787 431.501 137.856 Q432.034 137.903 432.682 138.018 L432.705 142.393 Z\" fill=\"#000000\" fill-rule=\"evenodd\" fill-opacity=\"1\" /><path clip-path=\"url(#clip950)\" d=\"M458.307 150.31 L458.307 152.393 L438.723 152.393 Q439.001 156.791 441.362 159.106 Q443.747 161.398 447.983 161.398 Q450.436 161.398 452.728 160.796 Q455.043 160.194 457.311 158.99 L457.311 163.018 Q455.02 163.99 452.612 164.5 Q450.205 165.009 447.728 165.009 Q441.524 165.009 437.89 161.398 Q434.279 157.787 434.279 151.629 Q434.279 145.264 437.705 141.537 Q441.154 137.787 446.987 137.787 Q452.219 137.787 455.251 141.166 Q458.307 144.523 458.307 150.31 M454.047 149.06 Q454.001 145.565 452.08 143.481 Q450.182 141.398 447.034 141.398 Q443.469 141.398 441.316 143.412 Q439.186 145.426 438.862 149.083 L454.047 149.06 Z\" fill=\"#000000\" fill-rule=\"evenodd\" fill-opacity=\"1\" /><path clip-path=\"url(#clip950)\" d=\"M478.422 128.319 L478.422 131.861 L474.348 131.861 Q472.057 131.861 471.154 132.787 Q470.274 133.713 470.274 136.12 L470.274 138.412 L477.288 138.412 L477.288 141.722 L470.274 141.722 L470.274 164.338 L465.992 164.338 L465.992 141.722 L461.918 141.722 L461.918 138.412 L465.992 138.412 L465.992 136.606 Q465.992 132.278 468.006 130.31 Q470.02 128.319 474.395 128.319 L478.422 128.319 Z\" fill=\"#000000\" fill-rule=\"evenodd\" fill-opacity=\"1\" /><polyline clip-path=\"url(#clip950)\" style=\"stroke:#e26f46; stroke-linecap:butt; stroke-linejoin:round; stroke-width:4; stroke-opacity:1; fill:none\" points=\"\n",
       "  246.043,198.898 393.023,198.898 \n",
       "  \"/>\n",
       "<path clip-path=\"url(#clip950)\" d=\"M432.705 194.233 Q431.987 193.817 431.131 193.631 Q430.298 193.423 429.279 193.423 Q425.668 193.423 423.724 195.784 Q421.802 198.122 421.802 202.52 L421.802 216.178 L417.52 216.178 L417.52 190.252 L421.802 190.252 L421.802 194.28 Q423.145 191.918 425.298 190.784 Q427.45 189.627 430.529 189.627 Q430.969 189.627 431.501 189.696 Q432.034 189.743 432.682 189.858 L432.705 194.233 Z\" fill=\"#000000\" fill-rule=\"evenodd\" fill-opacity=\"1\" /><path clip-path=\"url(#clip950)\" d=\"M458.307 202.15 L458.307 204.233 L438.723 204.233 Q439.001 208.631 441.362 210.946 Q443.747 213.238 447.983 213.238 Q450.436 213.238 452.728 212.636 Q455.043 212.034 457.311 210.83 L457.311 214.858 Q455.02 215.83 452.612 216.34 Q450.205 216.849 447.728 216.849 Q441.524 216.849 437.89 213.238 Q434.279 209.627 434.279 203.469 Q434.279 197.104 437.705 193.377 Q441.154 189.627 446.987 189.627 Q452.219 189.627 455.251 193.006 Q458.307 196.363 458.307 202.15 M454.047 200.9 Q454.001 197.405 452.08 195.321 Q450.182 193.238 447.034 193.238 Q443.469 193.238 441.316 195.252 Q439.186 197.266 438.862 200.923 L454.047 200.9 Z\" fill=\"#000000\" fill-rule=\"evenodd\" fill-opacity=\"1\" /><path clip-path=\"url(#clip950)\" d=\"M478.422 180.159 L478.422 183.701 L474.348 183.701 Q472.057 183.701 471.154 184.627 Q470.274 185.553 470.274 187.96 L470.274 190.252 L477.288 190.252 L477.288 193.562 L470.274 193.562 L470.274 216.178 L465.992 216.178 L465.992 193.562 L461.918 193.562 L461.918 190.252 L465.992 190.252 L465.992 188.446 Q465.992 184.118 468.006 182.15 Q470.02 180.159 474.395 180.159 L478.422 180.159 Z\" fill=\"#000000\" fill-rule=\"evenodd\" fill-opacity=\"1\" /><polyline clip-path=\"url(#clip950)\" style=\"stroke:#009af9; stroke-linecap:butt; stroke-linejoin:round; stroke-width:4; stroke-opacity:1; fill:none\" stroke-dasharray=\"16, 10\" points=\"\n",
       "  246.043,250.738 393.023,250.738 \n",
       "  \"/>\n",
       "<path clip-path=\"url(#clip950)\" d=\"M430.923 254.985 Q425.761 254.985 423.77 256.166 Q421.779 257.346 421.779 260.194 Q421.779 262.462 423.261 263.805 Q424.765 265.124 427.335 265.124 Q430.876 265.124 433.006 262.624 Q435.159 260.101 435.159 255.934 L435.159 254.985 L430.923 254.985 M439.418 253.226 L439.418 268.018 L435.159 268.018 L435.159 264.082 Q433.7 266.443 431.524 267.578 Q429.349 268.689 426.2 268.689 Q422.219 268.689 419.858 266.467 Q417.52 264.221 417.52 260.471 Q417.52 256.096 420.437 253.874 Q423.376 251.652 429.186 251.652 L435.159 251.652 L435.159 251.235 Q435.159 248.295 433.214 246.698 Q431.293 245.078 427.798 245.078 Q425.575 245.078 423.469 245.61 Q421.362 246.143 419.418 247.207 L419.418 243.272 Q421.756 242.37 423.955 241.93 Q426.154 241.467 428.237 241.467 Q433.862 241.467 436.64 244.383 Q439.418 247.3 439.418 253.226 Z\" fill=\"#000000\" fill-rule=\"evenodd\" fill-opacity=\"1\" /><path clip-path=\"url(#clip950)\" d=\"M466.848 243.087 L466.848 247.069 Q465.043 246.073 463.214 245.587 Q461.409 245.078 459.557 245.078 Q455.413 245.078 453.122 247.717 Q450.83 250.332 450.83 255.078 Q450.83 259.823 453.122 262.462 Q455.413 265.078 459.557 265.078 Q461.409 265.078 463.214 264.592 Q465.043 264.082 466.848 263.087 L466.848 267.022 Q465.066 267.856 463.145 268.272 Q461.246 268.689 459.094 268.689 Q453.237 268.689 449.788 265.008 Q446.339 261.328 446.339 255.078 Q446.339 248.735 449.811 245.101 Q453.307 241.467 459.371 241.467 Q461.339 241.467 463.214 241.883 Q465.089 242.277 466.848 243.087 Z\" fill=\"#000000\" fill-rule=\"evenodd\" fill-opacity=\"1\" /><path clip-path=\"url(#clip950)\" d=\"M478.469 234.731 L478.469 242.092 L487.242 242.092 L487.242 245.402 L478.469 245.402 L478.469 259.476 Q478.469 262.647 479.325 263.55 Q480.205 264.453 482.867 264.453 L487.242 264.453 L487.242 268.018 L482.867 268.018 Q477.936 268.018 476.061 266.189 Q474.186 264.337 474.186 259.476 L474.186 245.402 L471.061 245.402 L471.061 242.092 L474.186 242.092 L474.186 234.731 L478.469 234.731 Z\" fill=\"#000000\" fill-rule=\"evenodd\" fill-opacity=\"1\" /><path clip-path=\"url(#clip950)\" d=\"M492.404 257.786 L492.404 242.092 L496.663 242.092 L496.663 257.624 Q496.663 261.305 498.098 263.156 Q499.533 264.985 502.404 264.985 Q505.853 264.985 507.843 262.786 Q509.857 260.587 509.857 256.791 L509.857 242.092 L514.117 242.092 L514.117 268.018 L509.857 268.018 L509.857 264.036 Q508.306 266.397 506.246 267.555 Q504.209 268.689 501.501 268.689 Q497.033 268.689 494.719 265.911 Q492.404 263.133 492.404 257.786 M503.121 241.467 L503.121 241.467 Z\" fill=\"#000000\" fill-rule=\"evenodd\" fill-opacity=\"1\" /><path clip-path=\"url(#clip950)\" d=\"M534.672 254.985 Q529.51 254.985 527.519 256.166 Q525.529 257.346 525.529 260.194 Q525.529 262.462 527.01 263.805 Q528.515 265.124 531.084 265.124 Q534.626 265.124 536.755 262.624 Q538.908 260.101 538.908 255.934 L538.908 254.985 L534.672 254.985 M543.167 253.226 L543.167 268.018 L538.908 268.018 L538.908 264.082 Q537.45 266.443 535.274 267.578 Q533.098 268.689 529.95 268.689 Q525.968 268.689 523.607 266.467 Q521.269 264.221 521.269 260.471 Q521.269 256.096 524.186 253.874 Q527.126 251.652 532.936 251.652 L538.908 251.652 L538.908 251.235 Q538.908 248.295 536.964 246.698 Q535.042 245.078 531.547 245.078 Q529.325 245.078 527.218 245.61 Q525.112 246.143 523.167 247.207 L523.167 243.272 Q525.505 242.37 527.704 241.93 Q529.904 241.467 531.987 241.467 Q537.612 241.467 540.39 244.383 Q543.167 247.3 543.167 253.226 Z\" fill=\"#000000\" fill-rule=\"evenodd\" fill-opacity=\"1\" /><path clip-path=\"url(#clip950)\" d=\"M551.94 231.999 L556.2 231.999 L556.2 268.018 L551.94 268.018 L551.94 231.999 Z\" fill=\"#000000\" fill-rule=\"evenodd\" fill-opacity=\"1\" /><polyline clip-path=\"url(#clip950)\" style=\"stroke:#e26f46; stroke-linecap:butt; stroke-linejoin:round; stroke-width:4; stroke-opacity:1; fill:none\" stroke-dasharray=\"16, 10\" points=\"\n",
       "  246.043,302.578 393.023,302.578 \n",
       "  \"/>\n",
       "<path clip-path=\"url(#clip950)\" d=\"M430.923 306.825 Q425.761 306.825 423.77 308.006 Q421.779 309.186 421.779 312.034 Q421.779 314.302 423.261 315.645 Q424.765 316.964 427.335 316.964 Q430.876 316.964 433.006 314.464 Q435.159 311.941 435.159 307.774 L435.159 306.825 L430.923 306.825 M439.418 305.066 L439.418 319.858 L435.159 319.858 L435.159 315.922 Q433.7 318.283 431.524 319.418 Q429.349 320.529 426.2 320.529 Q422.219 320.529 419.858 318.307 Q417.52 316.061 417.52 312.311 Q417.52 307.936 420.437 305.714 Q423.376 303.492 429.186 303.492 L435.159 303.492 L435.159 303.075 Q435.159 300.135 433.214 298.538 Q431.293 296.918 427.798 296.918 Q425.575 296.918 423.469 297.45 Q421.362 297.983 419.418 299.047 L419.418 295.112 Q421.756 294.21 423.955 293.77 Q426.154 293.307 428.237 293.307 Q433.862 293.307 436.64 296.223 Q439.418 299.14 439.418 305.066 Z\" fill=\"#000000\" fill-rule=\"evenodd\" fill-opacity=\"1\" /><path clip-path=\"url(#clip950)\" d=\"M466.848 294.927 L466.848 298.909 Q465.043 297.913 463.214 297.427 Q461.409 296.918 459.557 296.918 Q455.413 296.918 453.122 299.557 Q450.83 302.172 450.83 306.918 Q450.83 311.663 453.122 314.302 Q455.413 316.918 459.557 316.918 Q461.409 316.918 463.214 316.432 Q465.043 315.922 466.848 314.927 L466.848 318.862 Q465.066 319.696 463.145 320.112 Q461.246 320.529 459.094 320.529 Q453.237 320.529 449.788 316.848 Q446.339 313.168 446.339 306.918 Q446.339 300.575 449.811 296.941 Q453.307 293.307 459.371 293.307 Q461.339 293.307 463.214 293.723 Q465.089 294.117 466.848 294.927 Z\" fill=\"#000000\" fill-rule=\"evenodd\" fill-opacity=\"1\" /><path clip-path=\"url(#clip950)\" d=\"M478.469 286.571 L478.469 293.932 L487.242 293.932 L487.242 297.242 L478.469 297.242 L478.469 311.316 Q478.469 314.487 479.325 315.39 Q480.205 316.293 482.867 316.293 L487.242 316.293 L487.242 319.858 L482.867 319.858 Q477.936 319.858 476.061 318.029 Q474.186 316.177 474.186 311.316 L474.186 297.242 L471.061 297.242 L471.061 293.932 L474.186 293.932 L474.186 286.571 L478.469 286.571 Z\" fill=\"#000000\" fill-rule=\"evenodd\" fill-opacity=\"1\" /><path clip-path=\"url(#clip950)\" d=\"M492.404 309.626 L492.404 293.932 L496.663 293.932 L496.663 309.464 Q496.663 313.145 498.098 314.996 Q499.533 316.825 502.404 316.825 Q505.853 316.825 507.843 314.626 Q509.857 312.427 509.857 308.631 L509.857 293.932 L514.117 293.932 L514.117 319.858 L509.857 319.858 L509.857 315.876 Q508.306 318.237 506.246 319.395 Q504.209 320.529 501.501 320.529 Q497.033 320.529 494.719 317.751 Q492.404 314.973 492.404 309.626 M503.121 293.307 L503.121 293.307 Z\" fill=\"#000000\" fill-rule=\"evenodd\" fill-opacity=\"1\" /><path clip-path=\"url(#clip950)\" d=\"M534.672 306.825 Q529.51 306.825 527.519 308.006 Q525.529 309.186 525.529 312.034 Q525.529 314.302 527.01 315.645 Q528.515 316.964 531.084 316.964 Q534.626 316.964 536.755 314.464 Q538.908 311.941 538.908 307.774 L538.908 306.825 L534.672 306.825 M543.167 305.066 L543.167 319.858 L538.908 319.858 L538.908 315.922 Q537.45 318.283 535.274 319.418 Q533.098 320.529 529.95 320.529 Q525.968 320.529 523.607 318.307 Q521.269 316.061 521.269 312.311 Q521.269 307.936 524.186 305.714 Q527.126 303.492 532.936 303.492 L538.908 303.492 L538.908 303.075 Q538.908 300.135 536.964 298.538 Q535.042 296.918 531.547 296.918 Q529.325 296.918 527.218 297.45 Q525.112 297.983 523.167 299.047 L523.167 295.112 Q525.505 294.21 527.704 293.77 Q529.904 293.307 531.987 293.307 Q537.612 293.307 540.39 296.223 Q543.167 299.14 543.167 305.066 Z\" fill=\"#000000\" fill-rule=\"evenodd\" fill-opacity=\"1\" /><path clip-path=\"url(#clip950)\" d=\"M551.94 283.839 L556.2 283.839 L556.2 319.858 L551.94 319.858 L551.94 283.839 Z\" fill=\"#000000\" fill-rule=\"evenodd\" fill-opacity=\"1\" /></svg>\n"
      ]
     },
     "execution_count": 23,
     "metadata": {},
     "output_type": "execute_result"
    }
   ],
   "source": [
    "# compare the joint angles\n",
    "isautograder || plot(states(altro), inds=1:2, label=\"ref\")\n",
    "isautograder || plot!(Xsim, inds=1:2, color=[1 2], ls=:dash, legend=:topleft, label=\"actual\")"
   ]
  },
  {
   "cell_type": "code",
   "execution_count": 24,
   "metadata": {},
   "outputs": [
    {
     "data": {
      "image/svg+xml": [
       "<?xml version=\"1.0\" encoding=\"utf-8\"?>\n",
       "<svg xmlns=\"http://www.w3.org/2000/svg\" xmlns:xlink=\"http://www.w3.org/1999/xlink\" width=\"600\" height=\"400\" viewBox=\"0 0 2400 1600\">\n",
       "<defs>\n",
       "  <clipPath id=\"clip990\">\n",
       "    <rect x=\"0\" y=\"0\" width=\"2400\" height=\"1600\"/>\n",
       "  </clipPath>\n",
       "</defs>\n",
       "<path clip-path=\"url(#clip990)\" d=\"\n",
       "M0 1600 L2400 1600 L2400 0 L0 0  Z\n",
       "  \" fill=\"#ffffff\" fill-rule=\"evenodd\" fill-opacity=\"1\"/>\n",
       "<defs>\n",
       "  <clipPath id=\"clip991\">\n",
       "    <rect x=\"480\" y=\"0\" width=\"1681\" height=\"1600\"/>\n",
       "  </clipPath>\n",
       "</defs>\n",
       "<path clip-path=\"url(#clip990)\" d=\"\n",
       "M178.867 1486.45 L2352.76 1486.45 L2352.76 47.2441 L178.867 47.2441  Z\n",
       "  \" fill=\"#ffffff\" fill-rule=\"evenodd\" fill-opacity=\"1\"/>\n",
       "<defs>\n",
       "  <clipPath id=\"clip992\">\n",
       "    <rect x=\"178\" y=\"47\" width=\"2175\" height=\"1440\"/>\n",
       "  </clipPath>\n",
       "</defs>\n",
       "<polyline clip-path=\"url(#clip992)\" style=\"stroke:#000000; stroke-linecap:butt; stroke-linejoin:round; stroke-width:2; stroke-opacity:0.1; fill:none\" points=\"\n",
       "  219.676,1486.45 219.676,47.2441 \n",
       "  \"/>\n",
       "<polyline clip-path=\"url(#clip992)\" style=\"stroke:#000000; stroke-linecap:butt; stroke-linejoin:round; stroke-width:2; stroke-opacity:0.1; fill:none\" points=\"\n",
       "  737.565,1486.45 737.565,47.2441 \n",
       "  \"/>\n",
       "<polyline clip-path=\"url(#clip992)\" style=\"stroke:#000000; stroke-linecap:butt; stroke-linejoin:round; stroke-width:2; stroke-opacity:0.1; fill:none\" points=\"\n",
       "  1255.45,1486.45 1255.45,47.2441 \n",
       "  \"/>\n",
       "<polyline clip-path=\"url(#clip992)\" style=\"stroke:#000000; stroke-linecap:butt; stroke-linejoin:round; stroke-width:2; stroke-opacity:0.1; fill:none\" points=\"\n",
       "  1773.34,1486.45 1773.34,47.2441 \n",
       "  \"/>\n",
       "<polyline clip-path=\"url(#clip992)\" style=\"stroke:#000000; stroke-linecap:butt; stroke-linejoin:round; stroke-width:2; stroke-opacity:0.1; fill:none\" points=\"\n",
       "  2291.23,1486.45 2291.23,47.2441 \n",
       "  \"/>\n",
       "<polyline clip-path=\"url(#clip990)\" style=\"stroke:#000000; stroke-linecap:butt; stroke-linejoin:round; stroke-width:4; stroke-opacity:1; fill:none\" points=\"\n",
       "  178.867,1486.45 2352.76,1486.45 \n",
       "  \"/>\n",
       "<polyline clip-path=\"url(#clip990)\" style=\"stroke:#000000; stroke-linecap:butt; stroke-linejoin:round; stroke-width:4; stroke-opacity:1; fill:none\" points=\"\n",
       "  219.676,1486.45 219.676,1467.55 \n",
       "  \"/>\n",
       "<polyline clip-path=\"url(#clip990)\" style=\"stroke:#000000; stroke-linecap:butt; stroke-linejoin:round; stroke-width:4; stroke-opacity:1; fill:none\" points=\"\n",
       "  737.565,1486.45 737.565,1467.55 \n",
       "  \"/>\n",
       "<polyline clip-path=\"url(#clip990)\" style=\"stroke:#000000; stroke-linecap:butt; stroke-linejoin:round; stroke-width:4; stroke-opacity:1; fill:none\" points=\"\n",
       "  1255.45,1486.45 1255.45,1467.55 \n",
       "  \"/>\n",
       "<polyline clip-path=\"url(#clip990)\" style=\"stroke:#000000; stroke-linecap:butt; stroke-linejoin:round; stroke-width:4; stroke-opacity:1; fill:none\" points=\"\n",
       "  1773.34,1486.45 1773.34,1467.55 \n",
       "  \"/>\n",
       "<polyline clip-path=\"url(#clip990)\" style=\"stroke:#000000; stroke-linecap:butt; stroke-linejoin:round; stroke-width:4; stroke-opacity:1; fill:none\" points=\"\n",
       "  2291.23,1486.45 2291.23,1467.55 \n",
       "  \"/>\n",
       "<path clip-path=\"url(#clip990)\" d=\"M219.676 1517.37 Q216.065 1517.37 214.236 1520.93 Q212.431 1524.47 212.431 1531.6 Q212.431 1538.71 214.236 1542.27 Q216.065 1545.82 219.676 1545.82 Q223.31 1545.82 225.116 1542.27 Q226.945 1538.71 226.945 1531.6 Q226.945 1524.47 225.116 1520.93 Q223.31 1517.37 219.676 1517.37 M219.676 1513.66 Q225.486 1513.66 228.542 1518.27 Q231.621 1522.85 231.621 1531.6 Q231.621 1540.33 228.542 1544.94 Q225.486 1549.52 219.676 1549.52 Q213.866 1549.52 210.787 1544.94 Q207.732 1540.33 207.732 1531.6 Q207.732 1522.85 210.787 1518.27 Q213.866 1513.66 219.676 1513.66 Z\" fill=\"#000000\" fill-rule=\"evenodd\" fill-opacity=\"1\" /><path clip-path=\"url(#clip990)\" d=\"M716.836 1544.91 L733.155 1544.91 L733.155 1548.85 L711.211 1548.85 L711.211 1544.91 Q713.873 1542.16 718.456 1537.53 Q723.063 1532.88 724.243 1531.53 Q726.489 1529.01 727.368 1527.27 Q728.271 1525.51 728.271 1523.82 Q728.271 1521.07 726.327 1519.33 Q724.405 1517.6 721.303 1517.6 Q719.104 1517.6 716.651 1518.36 Q714.22 1519.13 711.442 1520.68 L711.442 1515.95 Q714.266 1514.82 716.72 1514.24 Q719.174 1513.66 721.211 1513.66 Q726.581 1513.66 729.776 1516.35 Q732.97 1519.03 732.97 1523.52 Q732.97 1525.65 732.16 1527.57 Q731.373 1529.47 729.266 1532.07 Q728.688 1532.74 725.586 1535.95 Q722.484 1539.15 716.836 1544.91 Z\" fill=\"#000000\" fill-rule=\"evenodd\" fill-opacity=\"1\" /><path clip-path=\"url(#clip990)\" d=\"M743.016 1514.29 L761.373 1514.29 L761.373 1518.22 L747.299 1518.22 L747.299 1526.7 Q748.317 1526.35 749.336 1526.19 Q750.354 1526 751.373 1526 Q757.16 1526 760.539 1529.17 Q763.919 1532.34 763.919 1537.76 Q763.919 1543.34 760.447 1546.44 Q756.974 1549.52 750.655 1549.52 Q748.479 1549.52 746.211 1549.15 Q743.965 1548.78 741.558 1548.04 L741.558 1543.34 Q743.641 1544.47 745.863 1545.03 Q748.086 1545.58 750.562 1545.58 Q754.567 1545.58 756.905 1543.48 Q759.243 1541.37 759.243 1537.76 Q759.243 1534.15 756.905 1532.04 Q754.567 1529.94 750.562 1529.94 Q748.688 1529.94 746.813 1530.35 Q744.961 1530.77 743.016 1531.65 L743.016 1514.29 Z\" fill=\"#000000\" fill-rule=\"evenodd\" fill-opacity=\"1\" /><path clip-path=\"url(#clip990)\" d=\"M1230.15 1514.29 L1248.51 1514.29 L1248.51 1518.22 L1234.44 1518.22 L1234.44 1526.7 Q1235.45 1526.35 1236.47 1526.19 Q1237.49 1526 1238.51 1526 Q1244.3 1526 1247.68 1529.17 Q1251.06 1532.34 1251.06 1537.76 Q1251.06 1543.34 1247.58 1546.44 Q1244.11 1549.52 1237.79 1549.52 Q1235.62 1549.52 1233.35 1549.15 Q1231.1 1548.78 1228.69 1548.04 L1228.69 1543.34 Q1230.78 1544.47 1233 1545.03 Q1235.22 1545.58 1237.7 1545.58 Q1241.7 1545.58 1244.04 1543.48 Q1246.38 1541.37 1246.38 1537.76 Q1246.38 1534.15 1244.04 1532.04 Q1241.7 1529.94 1237.7 1529.94 Q1235.82 1529.94 1233.95 1530.35 Q1232.1 1530.77 1230.15 1531.65 L1230.15 1514.29 Z\" fill=\"#000000\" fill-rule=\"evenodd\" fill-opacity=\"1\" /><path clip-path=\"url(#clip990)\" d=\"M1270.27 1517.37 Q1266.66 1517.37 1264.83 1520.93 Q1263.02 1524.47 1263.02 1531.6 Q1263.02 1538.71 1264.83 1542.27 Q1266.66 1545.82 1270.27 1545.82 Q1273.9 1545.82 1275.71 1542.27 Q1277.54 1538.71 1277.54 1531.6 Q1277.54 1524.47 1275.71 1520.93 Q1273.9 1517.37 1270.27 1517.37 M1270.27 1513.66 Q1276.08 1513.66 1279.13 1518.27 Q1282.21 1522.85 1282.21 1531.6 Q1282.21 1540.33 1279.13 1544.94 Q1276.08 1549.52 1270.27 1549.52 Q1264.46 1549.52 1261.38 1544.94 Q1258.32 1540.33 1258.32 1531.6 Q1258.32 1522.85 1261.38 1518.27 Q1264.46 1513.66 1270.27 1513.66 Z\" fill=\"#000000\" fill-rule=\"evenodd\" fill-opacity=\"1\" /><path clip-path=\"url(#clip990)\" d=\"M1747.2 1514.29 L1769.42 1514.29 L1769.42 1516.28 L1756.87 1548.85 L1751.99 1548.85 L1763.79 1518.22 L1747.2 1518.22 L1747.2 1514.29 Z\" fill=\"#000000\" fill-rule=\"evenodd\" fill-opacity=\"1\" /><path clip-path=\"url(#clip990)\" d=\"M1778.59 1514.29 L1796.94 1514.29 L1796.94 1518.22 L1782.87 1518.22 L1782.87 1526.7 Q1783.89 1526.35 1784.9 1526.19 Q1785.92 1526 1786.94 1526 Q1792.73 1526 1796.11 1529.17 Q1799.49 1532.34 1799.49 1537.76 Q1799.49 1543.34 1796.02 1546.44 Q1792.54 1549.52 1786.22 1549.52 Q1784.05 1549.52 1781.78 1549.15 Q1779.53 1548.78 1777.13 1548.04 L1777.13 1543.34 Q1779.21 1544.47 1781.43 1545.03 Q1783.65 1545.58 1786.13 1545.58 Q1790.14 1545.58 1792.47 1543.48 Q1794.81 1541.37 1794.81 1537.76 Q1794.81 1534.15 1792.47 1532.04 Q1790.14 1529.94 1786.13 1529.94 Q1784.26 1529.94 1782.38 1530.35 Q1780.53 1530.77 1778.59 1531.65 L1778.59 1514.29 Z\" fill=\"#000000\" fill-rule=\"evenodd\" fill-opacity=\"1\" /><path clip-path=\"url(#clip990)\" d=\"M2250.84 1544.91 L2258.48 1544.91 L2258.48 1518.55 L2250.17 1520.21 L2250.17 1515.95 L2258.43 1514.29 L2263.11 1514.29 L2263.11 1544.91 L2270.74 1544.91 L2270.74 1548.85 L2250.84 1548.85 L2250.84 1544.91 Z\" fill=\"#000000\" fill-rule=\"evenodd\" fill-opacity=\"1\" /><path clip-path=\"url(#clip990)\" d=\"M2290.19 1517.37 Q2286.58 1517.37 2284.75 1520.93 Q2282.94 1524.47 2282.94 1531.6 Q2282.94 1538.71 2284.75 1542.27 Q2286.58 1545.82 2290.19 1545.82 Q2293.82 1545.82 2295.63 1542.27 Q2297.46 1538.71 2297.46 1531.6 Q2297.46 1524.47 2295.63 1520.93 Q2293.82 1517.37 2290.19 1517.37 M2290.19 1513.66 Q2296 1513.66 2299.05 1518.27 Q2302.13 1522.85 2302.13 1531.6 Q2302.13 1540.33 2299.05 1544.94 Q2296 1549.52 2290.19 1549.52 Q2284.38 1549.52 2281.3 1544.94 Q2278.24 1540.33 2278.24 1531.6 Q2278.24 1522.85 2281.3 1518.27 Q2284.38 1513.66 2290.19 1513.66 Z\" fill=\"#000000\" fill-rule=\"evenodd\" fill-opacity=\"1\" /><path clip-path=\"url(#clip990)\" d=\"M2320.35 1517.37 Q2316.74 1517.37 2314.91 1520.93 Q2313.11 1524.47 2313.11 1531.6 Q2313.11 1538.71 2314.91 1542.27 Q2316.74 1545.82 2320.35 1545.82 Q2323.99 1545.82 2325.79 1542.27 Q2327.62 1538.71 2327.62 1531.6 Q2327.62 1524.47 2325.79 1520.93 Q2323.99 1517.37 2320.35 1517.37 M2320.35 1513.66 Q2326.16 1513.66 2329.22 1518.27 Q2332.3 1522.85 2332.3 1531.6 Q2332.3 1540.33 2329.22 1544.94 Q2326.16 1549.52 2320.35 1549.52 Q2314.54 1549.52 2311.46 1544.94 Q2308.41 1540.33 2308.41 1531.6 Q2308.41 1522.85 2311.46 1518.27 Q2314.54 1513.66 2320.35 1513.66 Z\" fill=\"#000000\" fill-rule=\"evenodd\" fill-opacity=\"1\" /><polyline clip-path=\"url(#clip992)\" style=\"stroke:#000000; stroke-linecap:butt; stroke-linejoin:round; stroke-width:2; stroke-opacity:0.1; fill:none\" points=\"\n",
       "  178.867,1445.72 2352.76,1445.72 \n",
       "  \"/>\n",
       "<polyline clip-path=\"url(#clip992)\" style=\"stroke:#000000; stroke-linecap:butt; stroke-linejoin:round; stroke-width:2; stroke-opacity:0.1; fill:none\" points=\"\n",
       "  178.867,1064.17 2352.76,1064.17 \n",
       "  \"/>\n",
       "<polyline clip-path=\"url(#clip992)\" style=\"stroke:#000000; stroke-linecap:butt; stroke-linejoin:round; stroke-width:2; stroke-opacity:0.1; fill:none\" points=\"\n",
       "  178.867,682.627 2352.76,682.627 \n",
       "  \"/>\n",
       "<polyline clip-path=\"url(#clip992)\" style=\"stroke:#000000; stroke-linecap:butt; stroke-linejoin:round; stroke-width:2; stroke-opacity:0.1; fill:none\" points=\"\n",
       "  178.867,301.082 2352.76,301.082 \n",
       "  \"/>\n",
       "<polyline clip-path=\"url(#clip990)\" style=\"stroke:#000000; stroke-linecap:butt; stroke-linejoin:round; stroke-width:4; stroke-opacity:1; fill:none\" points=\"\n",
       "  178.867,1486.45 178.867,47.2441 \n",
       "  \"/>\n",
       "<polyline clip-path=\"url(#clip990)\" style=\"stroke:#000000; stroke-linecap:butt; stroke-linejoin:round; stroke-width:4; stroke-opacity:1; fill:none\" points=\"\n",
       "  178.867,1445.72 197.764,1445.72 \n",
       "  \"/>\n",
       "<polyline clip-path=\"url(#clip990)\" style=\"stroke:#000000; stroke-linecap:butt; stroke-linejoin:round; stroke-width:4; stroke-opacity:1; fill:none\" points=\"\n",
       "  178.867,1064.17 197.764,1064.17 \n",
       "  \"/>\n",
       "<polyline clip-path=\"url(#clip990)\" style=\"stroke:#000000; stroke-linecap:butt; stroke-linejoin:round; stroke-width:4; stroke-opacity:1; fill:none\" points=\"\n",
       "  178.867,682.627 197.764,682.627 \n",
       "  \"/>\n",
       "<polyline clip-path=\"url(#clip990)\" style=\"stroke:#000000; stroke-linecap:butt; stroke-linejoin:round; stroke-width:4; stroke-opacity:1; fill:none\" points=\"\n",
       "  178.867,301.082 197.764,301.082 \n",
       "  \"/>\n",
       "<path clip-path=\"url(#clip990)\" d=\"M50.9921 1446.17 L80.6679 1446.17 L80.6679 1450.1 L50.9921 1450.1 L50.9921 1446.17 Z\" fill=\"#000000\" fill-rule=\"evenodd\" fill-opacity=\"1\" /><path clip-path=\"url(#clip990)\" d=\"M94.7882 1459.06 L111.108 1459.06 L111.108 1463 L89.1632 1463 L89.1632 1459.06 Q91.8252 1456.31 96.4085 1451.68 Q101.015 1447.02 102.196 1445.68 Q104.441 1443.16 105.321 1441.42 Q106.223 1439.66 106.223 1437.97 Q106.223 1435.22 104.279 1433.48 Q102.358 1431.75 99.2558 1431.75 Q97.0567 1431.75 94.603 1432.51 Q92.1725 1433.27 89.3947 1434.82 L89.3947 1430.1 Q92.2188 1428.97 94.6724 1428.39 Q97.1261 1427.81 99.1632 1427.81 Q104.534 1427.81 107.728 1430.5 Q110.922 1433.18 110.922 1437.67 Q110.922 1439.8 110.112 1441.72 Q109.325 1443.62 107.219 1446.21 Q106.64 1446.88 103.538 1450.1 Q100.436 1453.3 94.7882 1459.06 Z\" fill=\"#000000\" fill-rule=\"evenodd\" fill-opacity=\"1\" /><path clip-path=\"url(#clip990)\" d=\"M130.922 1431.51 Q127.311 1431.51 125.482 1435.08 Q123.677 1438.62 123.677 1445.75 Q123.677 1452.86 125.482 1456.42 Q127.311 1459.96 130.922 1459.96 Q134.556 1459.96 136.362 1456.42 Q138.191 1452.86 138.191 1445.75 Q138.191 1438.62 136.362 1435.08 Q134.556 1431.51 130.922 1431.51 M130.922 1427.81 Q136.732 1427.81 139.788 1432.42 Q142.867 1437 142.867 1445.75 Q142.867 1454.48 139.788 1459.08 Q136.732 1463.67 130.922 1463.67 Q125.112 1463.67 122.033 1459.08 Q118.978 1454.48 118.978 1445.75 Q118.978 1437 122.033 1432.42 Q125.112 1427.81 130.922 1427.81 Z\" fill=\"#000000\" fill-rule=\"evenodd\" fill-opacity=\"1\" /><path clip-path=\"url(#clip990)\" d=\"M50.9921 1064.62 L80.6679 1064.62 L80.6679 1068.56 L50.9921 1068.56 L50.9921 1064.62 Z\" fill=\"#000000\" fill-rule=\"evenodd\" fill-opacity=\"1\" /><path clip-path=\"url(#clip990)\" d=\"M91.5706 1077.52 L99.2095 1077.52 L99.2095 1051.15 L90.8993 1052.82 L90.8993 1048.56 L99.1632 1046.89 L103.839 1046.89 L103.839 1077.52 L111.478 1077.52 L111.478 1081.45 L91.5706 1081.45 L91.5706 1077.52 Z\" fill=\"#000000\" fill-rule=\"evenodd\" fill-opacity=\"1\" /><path clip-path=\"url(#clip990)\" d=\"M130.922 1049.97 Q127.311 1049.97 125.482 1053.53 Q123.677 1057.08 123.677 1064.21 Q123.677 1071.31 125.482 1074.88 Q127.311 1078.42 130.922 1078.42 Q134.556 1078.42 136.362 1074.88 Q138.191 1071.31 138.191 1064.21 Q138.191 1057.08 136.362 1053.53 Q134.556 1049.97 130.922 1049.97 M130.922 1046.27 Q136.732 1046.27 139.788 1050.87 Q142.867 1055.46 142.867 1064.21 Q142.867 1072.93 139.788 1077.54 Q136.732 1082.12 130.922 1082.12 Q125.112 1082.12 122.033 1077.54 Q118.978 1072.93 118.978 1064.21 Q118.978 1055.46 122.033 1050.87 Q125.112 1046.27 130.922 1046.27 Z\" fill=\"#000000\" fill-rule=\"evenodd\" fill-opacity=\"1\" /><path clip-path=\"url(#clip990)\" d=\"M130.922 668.425 Q127.311 668.425 125.482 671.99 Q123.677 675.532 123.677 682.661 Q123.677 689.768 125.482 693.333 Q127.311 696.874 130.922 696.874 Q134.556 696.874 136.362 693.333 Q138.191 689.768 138.191 682.661 Q138.191 675.532 136.362 671.99 Q134.556 668.425 130.922 668.425 M130.922 664.722 Q136.732 664.722 139.788 669.328 Q142.867 673.911 142.867 682.661 Q142.867 691.388 139.788 695.995 Q136.732 700.578 130.922 700.578 Q125.112 700.578 122.033 695.995 Q118.978 691.388 118.978 682.661 Q118.978 673.911 122.033 669.328 Q125.112 664.722 130.922 664.722 Z\" fill=\"#000000\" fill-rule=\"evenodd\" fill-opacity=\"1\" /><path clip-path=\"url(#clip990)\" d=\"M91.5706 314.427 L99.2095 314.427 L99.2095 288.061 L90.8993 289.728 L90.8993 285.469 L99.1632 283.802 L103.839 283.802 L103.839 314.427 L111.478 314.427 L111.478 318.362 L91.5706 318.362 L91.5706 314.427 Z\" fill=\"#000000\" fill-rule=\"evenodd\" fill-opacity=\"1\" /><path clip-path=\"url(#clip990)\" d=\"M130.922 286.881 Q127.311 286.881 125.482 290.446 Q123.677 293.987 123.677 301.117 Q123.677 308.223 125.482 311.788 Q127.311 315.33 130.922 315.33 Q134.556 315.33 136.362 311.788 Q138.191 308.223 138.191 301.117 Q138.191 293.987 136.362 290.446 Q134.556 286.881 130.922 286.881 M130.922 283.177 Q136.732 283.177 139.788 287.784 Q142.867 292.367 142.867 301.117 Q142.867 309.844 139.788 314.45 Q136.732 319.033 130.922 319.033 Q125.112 319.033 122.033 314.45 Q118.978 309.844 118.978 301.117 Q118.978 292.367 122.033 287.784 Q125.112 283.177 130.922 283.177 Z\" fill=\"#000000\" fill-rule=\"evenodd\" fill-opacity=\"1\" /><polyline clip-path=\"url(#clip992)\" style=\"stroke:#009af9; stroke-linecap:butt; stroke-linejoin:round; stroke-width:4; stroke-opacity:1; fill:none\" points=\"\n",
       "  240.392,1354.19 261.107,991.603 281.823,1001.72 302.538,1066.44 323.254,1138.04 343.97,1207.11 364.685,1268.09 385.401,1314.82 406.116,1340.98 426.832,1340.86 \n",
       "  447.547,1309.87 468.263,1244.91 488.978,1145.1 509.694,1013.1 530.409,856.564 551.125,688.225 571.841,523.72 592.556,377.494 613.272,259.048 633.987,171.864 \n",
       "  654.703,115.254 675.418,87.9763 696.134,92.0579 716.849,133.853 737.565,219.204 758.28,344.838 778.996,494.317 799.712,642.814 820.427,764.889 841.143,839.909 \n",
       "  861.858,856.931 882.574,821.711 903.289,766.077 924.005,794.058 944.72,1445.72 965.436,1445.72 986.151,1445.72 1006.87,1445.72 1027.58,1445.72 1048.3,1445.72 \n",
       "  1069.01,1445.72 1089.73,1445.72 1110.44,1445.72 1131.16,1445.72 1151.88,1445.72 1172.59,1445.72 1193.31,1445.72 1214.02,1445.72 1234.74,1445.72 1255.45,1445.72 \n",
       "  1276.17,1445.72 1296.88,781.233 1317.6,562.239 1338.32,470.195 1359.03,435.998 1379.75,424.265 1400.46,417.852 1421.18,408.761 1441.89,393.708 1462.61,372.088 \n",
       "  1483.32,345.027 1504.04,314.921 1524.76,285.158 1545.47,259.795 1566.19,242.858 1586.9,237.04 1607.62,242.464 1628.33,256.726 1649.05,276.263 1669.76,297.834 \n",
       "  1690.48,319.238 1711.2,339.366 1731.91,357.953 1752.63,375.278 1773.34,391.905 1794.06,408.483 1814.77,425.597 1835.49,443.681 1856.2,462.989 1876.92,483.615 \n",
       "  1897.64,505.543 1918.35,528.703 1939.07,553.013 1959.78,578.398 1980.5,604.797 2001.21,632.147 2021.93,660.367 2042.64,689.332 2063.36,718.852 2084.08,748.644 \n",
       "  2104.79,778.312 2125.51,807.325 2146.22,835.013 2166.94,860.59 2187.65,883.206 2208.37,901.995 2229.08,915.576 2249.8,916.665 2270.52,849.003 2291.23,300.36 \n",
       "  \n",
       "  \"/>\n",
       "<polyline clip-path=\"url(#clip992)\" style=\"stroke:#e26f46; stroke-linecap:butt; stroke-linejoin:round; stroke-width:4; stroke-opacity:1; fill:none\" points=\"\n",
       "  240.392,682.627 261.107,682.627 281.823,682.627 302.538,682.627 323.254,682.627 343.97,682.627 364.685,682.627 385.401,682.627 406.116,682.627 426.832,682.627 \n",
       "  447.547,682.627 468.263,682.627 488.978,682.627 509.694,682.627 530.409,682.627 551.125,682.627 571.841,682.627 592.556,682.627 613.272,682.627 633.987,682.627 \n",
       "  654.703,682.627 675.418,682.627 696.134,682.627 716.849,682.627 737.565,682.627 758.28,682.627 778.996,682.627 799.712,682.627 820.427,682.627 841.143,682.627 \n",
       "  861.858,682.627 882.574,682.627 903.289,682.627 924.005,682.627 944.72,682.627 965.436,682.627 986.151,682.627 1006.87,682.627 1027.58,682.627 1048.3,682.627 \n",
       "  1069.01,682.627 1089.73,682.627 1110.44,682.627 1131.16,682.627 1151.88,682.627 1172.59,682.627 1193.31,682.627 1214.02,682.627 1234.74,682.627 1255.45,682.627 \n",
       "  1276.17,682.627 1296.88,682.627 1317.6,682.627 1338.32,682.627 1359.03,682.627 1379.75,682.627 1400.46,682.627 1421.18,682.627 1441.89,682.627 1462.61,682.627 \n",
       "  1483.32,682.627 1504.04,682.627 1524.76,682.627 1545.47,682.627 1566.19,682.627 1586.9,682.627 1607.62,682.627 1628.33,682.627 1649.05,682.627 1669.76,682.627 \n",
       "  1690.48,682.627 1711.2,682.627 1731.91,682.627 1752.63,682.627 1773.34,682.627 1794.06,682.627 1814.77,682.627 1835.49,682.627 1856.2,682.627 1876.92,682.627 \n",
       "  1897.64,682.627 1918.35,682.627 1939.07,682.627 1959.78,682.627 1980.5,682.627 2001.21,682.627 2021.93,682.627 2042.64,682.627 2063.36,682.627 2084.08,682.627 \n",
       "  2104.79,682.627 2125.51,682.627 2146.22,682.627 2166.94,682.627 2187.65,682.627 2208.37,682.627 2229.08,682.627 2249.8,682.627 2270.52,682.627 2291.23,682.627 \n",
       "  \n",
       "  \"/>\n",
       "<path clip-path=\"url(#clip990)\" d=\"\n",
       "M1900.07 250.738 L2280.29 250.738 L2280.29 95.2176 L1900.07 95.2176  Z\n",
       "  \" fill=\"#ffffff\" fill-rule=\"evenodd\" fill-opacity=\"1\"/>\n",
       "<polyline clip-path=\"url(#clip990)\" style=\"stroke:#000000; stroke-linecap:butt; stroke-linejoin:round; stroke-width:4; stroke-opacity:1; fill:none\" points=\"\n",
       "  1900.07,250.738 2280.29,250.738 2280.29,95.2176 1900.07,95.2176 1900.07,250.738 \n",
       "  \"/>\n",
       "<polyline clip-path=\"url(#clip990)\" style=\"stroke:#009af9; stroke-linecap:butt; stroke-linejoin:round; stroke-width:4; stroke-opacity:1; fill:none\" points=\"\n",
       "  1924.22,147.058 2069.15,147.058 \n",
       "  \"/>\n",
       "<path clip-path=\"url(#clip990)\" d=\"M2108.49 142.393 Q2107.77 141.977 2106.92 141.791 Q2106.08 141.583 2105.06 141.583 Q2101.45 141.583 2099.51 143.944 Q2097.59 146.282 2097.59 150.68 L2097.59 164.338 L2093.3 164.338 L2093.3 138.412 L2097.59 138.412 L2097.59 142.44 Q2098.93 140.078 2101.08 138.944 Q2103.23 137.787 2106.31 137.787 Q2106.75 137.787 2107.29 137.856 Q2107.82 137.903 2108.47 138.018 L2108.49 142.393 Z\" fill=\"#000000\" fill-rule=\"evenodd\" fill-opacity=\"1\" /><path clip-path=\"url(#clip990)\" d=\"M2134.09 150.31 L2134.09 152.393 L2114.51 152.393 Q2114.79 156.791 2117.15 159.106 Q2119.53 161.398 2123.77 161.398 Q2126.22 161.398 2128.51 160.796 Q2130.83 160.194 2133.1 158.99 L2133.1 163.018 Q2130.8 163.99 2128.4 164.5 Q2125.99 165.009 2123.51 165.009 Q2117.31 165.009 2113.67 161.398 Q2110.06 157.787 2110.06 151.629 Q2110.06 145.264 2113.49 141.537 Q2116.94 137.787 2122.77 137.787 Q2128 137.787 2131.04 141.166 Q2134.09 144.523 2134.09 150.31 M2129.83 149.06 Q2129.79 145.565 2127.86 143.481 Q2125.97 141.398 2122.82 141.398 Q2119.25 141.398 2117.1 143.412 Q2114.97 145.426 2114.65 149.083 L2129.83 149.06 Z\" fill=\"#000000\" fill-rule=\"evenodd\" fill-opacity=\"1\" /><path clip-path=\"url(#clip990)\" d=\"M2154.21 128.319 L2154.21 131.861 L2150.13 131.861 Q2147.84 131.861 2146.94 132.787 Q2146.06 133.713 2146.06 136.12 L2146.06 138.412 L2153.07 138.412 L2153.07 141.722 L2146.06 141.722 L2146.06 164.338 L2141.78 164.338 L2141.78 141.722 L2137.7 141.722 L2137.7 138.412 L2141.78 138.412 L2141.78 136.606 Q2141.78 132.278 2143.79 130.31 Q2145.8 128.319 2150.18 128.319 L2154.21 128.319 Z\" fill=\"#000000\" fill-rule=\"evenodd\" fill-opacity=\"1\" /><polyline clip-path=\"url(#clip990)\" style=\"stroke:#e26f46; stroke-linecap:butt; stroke-linejoin:round; stroke-width:4; stroke-opacity:1; fill:none\" points=\"\n",
       "  1924.22,198.898 2069.15,198.898 \n",
       "  \"/>\n",
       "<path clip-path=\"url(#clip990)\" d=\"M2106.71 203.145 Q2101.55 203.145 2099.55 204.326 Q2097.56 205.506 2097.56 208.354 Q2097.56 210.622 2099.05 211.965 Q2100.55 213.284 2103.12 213.284 Q2106.66 213.284 2108.79 210.784 Q2110.94 208.261 2110.94 204.094 L2110.94 203.145 L2106.71 203.145 M2115.2 201.386 L2115.2 216.178 L2110.94 216.178 L2110.94 212.242 Q2109.48 214.603 2107.31 215.738 Q2105.13 216.849 2101.98 216.849 Q2098 216.849 2095.64 214.627 Q2093.3 212.381 2093.3 208.631 Q2093.3 204.256 2096.22 202.034 Q2099.16 199.812 2104.97 199.812 L2110.94 199.812 L2110.94 199.395 Q2110.94 196.455 2109 194.858 Q2107.08 193.238 2103.58 193.238 Q2101.36 193.238 2099.25 193.77 Q2097.15 194.303 2095.2 195.367 L2095.2 191.432 Q2097.54 190.53 2099.74 190.09 Q2101.94 189.627 2104.02 189.627 Q2109.65 189.627 2112.42 192.543 Q2115.2 195.46 2115.2 201.386 Z\" fill=\"#000000\" fill-rule=\"evenodd\" fill-opacity=\"1\" /><path clip-path=\"url(#clip990)\" d=\"M2142.63 191.247 L2142.63 195.229 Q2140.83 194.233 2139 193.747 Q2137.19 193.238 2135.34 193.238 Q2131.2 193.238 2128.91 195.877 Q2126.61 198.492 2126.61 203.238 Q2126.61 207.983 2128.91 210.622 Q2131.2 213.238 2135.34 213.238 Q2137.19 213.238 2139 212.752 Q2140.83 212.242 2142.63 211.247 L2142.63 215.182 Q2140.85 216.016 2138.93 216.432 Q2137.03 216.849 2134.88 216.849 Q2129.02 216.849 2125.57 213.168 Q2122.12 209.488 2122.12 203.238 Q2122.12 196.895 2125.6 193.261 Q2129.09 189.627 2135.16 189.627 Q2137.12 189.627 2139 190.043 Q2140.87 190.437 2142.63 191.247 Z\" fill=\"#000000\" fill-rule=\"evenodd\" fill-opacity=\"1\" /><path clip-path=\"url(#clip990)\" d=\"M2154.25 182.891 L2154.25 190.252 L2163.03 190.252 L2163.03 193.562 L2154.25 193.562 L2154.25 207.636 Q2154.25 210.807 2155.11 211.71 Q2155.99 212.613 2158.65 212.613 L2163.03 212.613 L2163.03 216.178 L2158.65 216.178 Q2153.72 216.178 2151.85 214.349 Q2149.97 212.497 2149.97 207.636 L2149.97 193.562 L2146.85 193.562 L2146.85 190.252 L2149.97 190.252 L2149.97 182.891 L2154.25 182.891 Z\" fill=\"#000000\" fill-rule=\"evenodd\" fill-opacity=\"1\" /><path clip-path=\"url(#clip990)\" d=\"M2168.19 205.946 L2168.19 190.252 L2172.45 190.252 L2172.45 205.784 Q2172.45 209.465 2173.88 211.316 Q2175.32 213.145 2178.19 213.145 Q2181.64 213.145 2183.63 210.946 Q2185.64 208.747 2185.64 204.951 L2185.64 190.252 L2189.9 190.252 L2189.9 216.178 L2185.64 216.178 L2185.64 212.196 Q2184.09 214.557 2182.03 215.715 Q2179.99 216.849 2177.29 216.849 Q2172.82 216.849 2170.5 214.071 Q2168.19 211.293 2168.19 205.946 M2178.91 189.627 L2178.91 189.627 Z\" fill=\"#000000\" fill-rule=\"evenodd\" fill-opacity=\"1\" /><path clip-path=\"url(#clip990)\" d=\"M2210.46 203.145 Q2205.29 203.145 2203.3 204.326 Q2201.31 205.506 2201.31 208.354 Q2201.31 210.622 2202.79 211.965 Q2204.3 213.284 2206.87 213.284 Q2210.41 213.284 2212.54 210.784 Q2214.69 208.261 2214.69 204.094 L2214.69 203.145 L2210.46 203.145 M2218.95 201.386 L2218.95 216.178 L2214.69 216.178 L2214.69 212.242 Q2213.23 214.603 2211.06 215.738 Q2208.88 216.849 2205.73 216.849 Q2201.75 216.849 2199.39 214.627 Q2197.05 212.381 2197.05 208.631 Q2197.05 204.256 2199.97 202.034 Q2202.91 199.812 2208.72 199.812 L2214.69 199.812 L2214.69 199.395 Q2214.69 196.455 2212.75 194.858 Q2210.83 193.238 2207.33 193.238 Q2205.11 193.238 2203 193.77 Q2200.9 194.303 2198.95 195.367 L2198.95 191.432 Q2201.29 190.53 2203.49 190.09 Q2205.69 189.627 2207.77 189.627 Q2213.4 189.627 2216.17 192.543 Q2218.95 195.46 2218.95 201.386 Z\" fill=\"#000000\" fill-rule=\"evenodd\" fill-opacity=\"1\" /><path clip-path=\"url(#clip990)\" d=\"M2227.73 180.159 L2231.98 180.159 L2231.98 216.178 L2227.73 216.178 L2227.73 180.159 Z\" fill=\"#000000\" fill-rule=\"evenodd\" fill-opacity=\"1\" /></svg>\n"
      ]
     },
     "execution_count": 24,
     "metadata": {},
     "output_type": "execute_result"
    }
   ],
   "source": [
    "# compare the controls\n",
    "isautograder || plot(controls(altro), label=\"ref\")\n",
    "isautograder || plot!(Usim, label=\"actual\")"
   ]
  },
  {
   "cell_type": "markdown",
   "metadata": {},
   "source": [
    "## Part (b): Setting up the ILC QP (9 pts)\n",
    "With a reference trajectory and closed-loop controller, let's use ILC to modify the feedforward (reference) control inputs to get our \"real\" system to match our expected trajectory. At each iteration of ILC you should solve a QP of the following form:\n",
    "\n",
    "$$\n",
    "\\begin{align}\n",
    "\\text{minimize} &&& \\frac{1}{2} (\\Delta x_N - \\Delta \\bar{x}_N)^T Q_N (\\Delta x_N - \\Delta \\bar{x}_N) \n",
    "+ \\frac{1}{2} \\sum_{k=1}^{N-1} (\\Delta x_k - \\Delta \\bar{x}_k)^T Q_k (\\Delta x_k - \\Delta \\bar{x}_k)\n",
    "                             + (\\Delta u_k - \\Delta \\bar{u}_k)^T R_k (\\Delta u_k - \\Delta \\bar{u}_k) \\\\\n",
    "\\text{subject to} &&& \\Delta x_{k+1} = A_k \\Delta x_k + B_k \\Delta x_k \\\\\n",
    "                  &&& -\\Delta u_\\text{bnd} \\leq \\Delta u_k \\leq \\Delta u_\\text{bnd}\n",
    "\\end{align}\n",
    "$$\n",
    "where $\\Delta x = x - x_\\text{ref}$, $\\bar{x}_k$ is the trajectory from the real system, and $x_\\text{ref}$, $u_\\text{ref}$ is the reference trajectory. After every iteration, the reference controls $u_\\text{ref}$ are updated using $\\Delta u$. The linearized dynamics are the dynamics of the **closed-loop** system."
   ]
  },
  {
   "cell_type": "code",
   "execution_count": 26,
   "metadata": {},
   "outputs": [
    {
     "data": {
      "text/plain": [
       "update_qp!"
      ]
     },
     "execution_count": 26,
     "metadata": {},
     "output_type": "execute_result"
    }
   ],
   "source": [
    "# TASK: Complete the following function\n",
    "#       1. build_qp    (5 pts)\n",
    "#       2. update_qp!  (4 pts)\n",
    "\n",
    "\"\"\"\n",
    "    ILCData\n",
    "\n",
    "Store basic information about the iterative learning control (ILC)\n",
    "problem, including the quadratic cost function matrices, the reference\n",
    "trajectory, and the control bounds.\n",
    "\"\"\"\n",
    "struct ILCData{n,m,T}\n",
    "    Q::Diagonal{T,SVector{n,T}}\n",
    "    R::Diagonal{T,SVector{m,T}}\n",
    "    Qf::Diagonal{T,SVector{n,T}}\n",
    "    Xref::Vector{SVector{n,T}}\n",
    "    Uref::Vector{SVector{m,T}}\n",
    "    times::Vector{T}\n",
    "    u_bnd::T\n",
    "    iters::Ref{Int}\n",
    "end\n",
    "\n",
    "\"\"\"\n",
    "    build_qp(data, Xsim, Usim, A,B,K)\n",
    "\n",
    "Build the QP for the ILC problem, using the data for the ILC problem in `data`,\n",
    "the trajectories from the real system `Xsim`, `Usim`, the linearization about\n",
    "the reference trajectory `A`, `B`, and the feedback matrices `K`.\n",
    "\n",
    "TIP: The dynamics constraints should be on the closed-loop system.\n",
    "\"\"\"\n",
    "function build_qp(data::ILCData, Xsim, Usim, A,B,K)\n",
    "    Nh = length(data.Xref)\n",
    "    n,m = size(B[1])\n",
    "    Xref,Uref = data.Xref, data.Uref\n",
    "    \n",
    "    # TODO: Build the QP for ILC\n",
    "    Np = (Nh-1)*(n+m)         # number of primals\n",
    "    Nd = (Nh-1)*n + (Nh-1)*m  #  number of duals\n",
    "    H = spzeros(Np,Np)\n",
    "    q = zeros(Np)\n",
    "    C = spzeros(Nd,Np)\n",
    "    lb = fill(-Inf,Nd)\n",
    "    ub = fill(+Inf,Nd)\n",
    "    \n",
    "    # Build QP\n",
    "    qp = OSQP.Model()\n",
    "    OSQP.setup!(\n",
    "        qp, P=H, q=q, A=C, l=lb, u=ub,\n",
    "        # QP Parameters: feel free to change these, but these values should work fine\n",
    "        eps_abs=1e-6, eps_rel=1e-6, eps_prim_inf = 1.0e-6, eps_dual_inf = 1.0e-6, polish=1, verbose=0\n",
    "    )\n",
    "    return qp\n",
    "end\n",
    "\n",
    "\"\"\"\n",
    "    update_qp!(qp, data, X, U)\n",
    "\n",
    "Update the ILC QP with the current trajectories `X` and `U` from the real system.\n",
    "\"\"\"\n",
    "function update_qp!(qp::OSQP.Model, data, X, U)\n",
    "    Nh = length(data.Xref)\n",
    "    n,m = length(X[1]), length(U[1])\n",
    "    Qilc, Rilc, Qf = data.Q, data.R, data.Qf\n",
    "    \n",
    "    # TODO: Update the QP with the new data\n",
    "    Np = (Nh-1)*(n+m)\n",
    "    q = zeros(Np)\n",
    "\n",
    "    \n",
    "    OSQP.update_q!(qp, q)\n",
    "    data.iters[] += 1     # Don't change this line!\n",
    "    return q\n",
    "end"
   ]
  },
  {
   "cell_type": "code",
   "execution_count": 27,
   "metadata": {},
   "outputs": [
    {
     "name": "stdout",
     "output_type": "stream",
     "text": [
      "Q3b: \u001b[91m\u001b[1mTest Failed\u001b[22m\u001b[39m at \u001b[39m\u001b[1mIn[27]:22\u001b[22m\n",
      "  Expression: ≈(res.x, load(resfile, \"resx\"), rtol = 0.001)\n",
      "   Evaluated: [0.0, 0.0, 0.0, 0.0, 0.0, 0.0, 0.0, 0.0, 0.0, 0.0  …  0.0, 0.0, 0.0, 0.0, 0.0, 0.0, 0.0, 0.0, 0.0, 0.0] ≈ [-0.025997636225798933, 4.91559963494521e-5, -0.00012236992852806378, 0.0018596599230290612, -0.004642246422515007, -0.0033915023617496, 0.00010251468763387127, -0.00025779390668609104, 0.0003302371852671357, -0.0009079843702899462  …  -0.9515294874517239, -0.39747083138728173, -0.22675448179200489, -0.8757435275858273, -0.5413593993904705, 1.463834846789036, -0.44880931850316735, -0.2432117622877087, -1.1641703806388173, -0.15598401355965555] (rtol=0.001)\n",
      "Stacktrace:\n",
      " [1] \u001b[0m\u001b[1mmacro expansion\u001b[22m\n",
      "\u001b[90m   @ \u001b[39m\u001b[90m./\u001b[39m\u001b[90;4mIn[27]:22\u001b[0m\u001b[90m [inlined]\u001b[39m\n",
      " [2] \u001b[0m\u001b[1mmacro expansion\u001b[22m\n",
      "\u001b[90m   @ \u001b[39m\u001b[90m/buildworker/worker/package_linux64/build/usr/share/julia/stdlib/v1.6/Test/src/\u001b[39m\u001b[90;4mTest.jl:1151\u001b[0m\u001b[90m [inlined]\u001b[39m\n",
      " [3] top-level scope\n",
      "\u001b[90m   @ \u001b[39m\u001b[90m./\u001b[39m\u001b[90;4mIn[27]:2\u001b[0m\n",
      "Q3b: \u001b[91m\u001b[1mTest Failed\u001b[22m\u001b[39m at \u001b[39m\u001b[1mIn[27]:33\u001b[22m\n",
      "  Expression: norm(res2.x - res.x) > 5\n",
      "   Evaluated: 0.0 > 5\n",
      "Stacktrace:\n",
      " [1] \u001b[0m\u001b[1mmacro expansion\u001b[22m\n",
      "\u001b[90m   @ \u001b[39m\u001b[90m./\u001b[39m\u001b[90;4mIn[27]:33\u001b[0m\u001b[90m [inlined]\u001b[39m\n",
      " [2] \u001b[0m\u001b[1mmacro expansion\u001b[22m\n",
      "\u001b[90m   @ \u001b[39m\u001b[90m/buildworker/worker/package_linux64/build/usr/share/julia/stdlib/v1.6/Test/src/\u001b[39m\u001b[90;4mTest.jl:1151\u001b[0m\u001b[90m [inlined]\u001b[39m\n",
      " [3] top-level scope\n",
      "\u001b[90m   @ \u001b[39m\u001b[90m./\u001b[39m\u001b[90;4mIn[27]:2\u001b[0m\n",
      "Q3b: \u001b[91m\u001b[1mTest Failed\u001b[22m\u001b[39m at \u001b[39m\u001b[1mIn[27]:34\u001b[22m\n",
      "  Expression: ≈(res2.x, load(resfile, \"res2x\"), rtol = 0.001)\n",
      "   Evaluated: [0.0, 0.0, 0.0, 0.0, 0.0, 0.0, 0.0, 0.0, 0.0, 0.0  …  0.0, 0.0, 0.0, 0.0, 0.0, 0.0, 0.0, 0.0, 0.0, 0.0] ≈ [-0.06618778405580487, 0.00012514701118079112, -0.00031154349318508875, 0.004734536953037937, -0.011818766947832907, -0.045733934980466115, 0.0003284741226195665, -0.0008248075354047751, 0.0033501731787718616, -0.0086056399096761  …  -0.7879751968470097, -0.32410457396740894, -0.21498237314373556, -0.736671800893497, -0.4412268734824449, 0.9844217984430593, -0.3667057836586192, -0.2295442353194974, -0.9557146278965966, -0.17447715424990318] (rtol=0.001)\n",
      "Stacktrace:\n",
      " [1] \u001b[0m\u001b[1mmacro expansion\u001b[22m\n",
      "\u001b[90m   @ \u001b[39m\u001b[90m./\u001b[39m\u001b[90;4mIn[27]:34\u001b[0m\u001b[90m [inlined]\u001b[39m\n",
      " [2] \u001b[0m\u001b[1mmacro expansion\u001b[22m\n",
      "\u001b[90m   @ \u001b[39m\u001b[90m/buildworker/worker/package_linux64/build/usr/share/julia/stdlib/v1.6/Test/src/\u001b[39m\u001b[90;4mTest.jl:1151\u001b[0m\u001b[90m [inlined]\u001b[39m\n",
      " [3] top-level scope\n",
      "\u001b[90m   @ \u001b[39m\u001b[90m./\u001b[39m\u001b[90;4mIn[27]:2\u001b[0m\n",
      "\u001b[0m\u001b[1mTest Summary: | \u001b[22m\u001b[32m\u001b[1mPass  \u001b[22m\u001b[39m\u001b[91m\u001b[1mFail  \u001b[22m\u001b[39m\u001b[36m\u001b[1mTotal\u001b[22m\u001b[39m\n",
      "Q3b           | \u001b[32m   2  \u001b[39m\u001b[91m   3  \u001b[39m\u001b[36m    5\u001b[39m\n"
     ]
    },
    {
     "ename": "LoadError",
     "evalue": "\u001b[91mSome tests did not pass: 2 passed, 3 failed, 0 errored, 0 broken.\u001b[39m",
     "output_type": "error",
     "traceback": [
      "\u001b[91mSome tests did not pass: 2 passed, 3 failed, 0 errored, 0 broken.\u001b[39m",
      "",
      "Stacktrace:",
      " [1] finish(ts::Test.DefaultTestSet)",
      "   @ Test /buildworker/worker/package_linux64/build/usr/share/julia/stdlib/v1.6/Test/src/Test.jl:913",
      " [2] macro expansion",
      "   @ /buildworker/worker/package_linux64/build/usr/share/julia/stdlib/v1.6/Test/src/Test.jl:1161 [inlined]",
      " [3] top-level scope",
      "   @ ./In[27]:2",
      " [4] eval",
      "   @ ./boot.jl:360 [inlined]",
      " [5] include_string(mapexpr::typeof(REPL.softscope), mod::Module, code::String, filename::String)",
      "   @ Base ./loading.jl:1116"
     ]
    }
   ],
   "source": [
    "@testset \"Q3b\" begin                                                                        # POINTS = 9\n",
    "    n,m,N = size(altro)\n",
    "    Xref = states(altro)\n",
    "    Uref = controls(altro);\n",
    "    \n",
    "    # Get simulated trajectory\n",
    "    Xsim,Usim = rollout(model, K, Xref, Uref, get_times(altro));\n",
    "    \n",
    "    # Save data into ILCData\n",
    "    Qilc = Diagonal(SA[1.0; 1.0; 1.0; 1.0])\n",
    "    Rilc = Diagonal(SA[0.1])\n",
    "    Qf = get_objective(altro).obj[end].Q\n",
    "    u_bnd = get_constraints(altro).convals[1].con.z_max[end]\n",
    "    data = ILCData(Qilc,Rilc,Qf, Xref, Uref, get_times(altro), u_bnd, Ref(0));\n",
    "    \n",
    "    # Build the QP\n",
    "    qp0 = build_qp(data, Xsim, Usim, A,B,K);\n",
    "    \n",
    "    # Solve the QP\n",
    "    res = OSQP.solve!(qp0)\n",
    "    @test res.info.status == :Solved                                                      # POINTS = 1\n",
    "    @test res.x ≈ load(resfile, \"resx\") rtol=1e-3                                         # POITNS = 4\n",
    "    \n",
    "    # Update the QP\n",
    "    for k in eachindex(Uref)\n",
    "        Uref[k] += fill(0.1, m)  # this should come from the controller in your implementation!\n",
    "    end\n",
    "    data.Uref .= Uref\n",
    "    Xsim2,Usim2 = rollout(model, K, Xref, Uref, get_times(altro));  # new simulated trajectories\n",
    "    update_qp!(qp0, data, Xsim2, Usim2)\n",
    "    res2 = OSQP.solve!(qp0)\n",
    "    @test res2.info.status == :Solved                                                     # POINTS = 1\n",
    "    @test norm(res2.x - res.x) > 5                                                        # POINTS = 1\n",
    "    @test res2.x ≈ load(resfile, \"res2x\") rtol=1e-3                                       # POINTS = 1\n",
    "end;"
   ]
  },
  {
   "cell_type": "markdown",
   "metadata": {},
   "source": [
    "## Part (c): Implement ILC (10 points)\n",
    "Using everything we've implemented so far, implement the complete ILC algorithm and validate that the updated \n",
    "reference trajectory stabilizes the \"true\" dynamics."
   ]
  },
  {
   "cell_type": "code",
   "execution_count": 28,
   "metadata": {},
   "outputs": [
    {
     "data": {
      "text/plain": [
       "run_ilc"
      ]
     },
     "execution_count": 28,
     "metadata": {},
     "output_type": "execute_result"
    }
   ],
   "source": [
    "# TASK: Implement ILC  (10 pts)\n",
    "\"\"\"\n",
    "    run_ilc(altro; [verbose])\n",
    "\n",
    "Run ILC on the output on the problem and optimized trajectory stored in `altro`. \n",
    "Should iterate until improvements in the SSE between the state trajectory of the real \n",
    "system and the nominal trajectory is small (less than `tol`).\n",
    "\"\"\"\n",
    "function run_ilc(altro;\n",
    "        verbose=true,\n",
    "        tol=1e-2\n",
    "    )\n",
    "    \n",
    "    # Get nominal trajectory\n",
    "    Xref = states(altro)\n",
    "    Uref = controls(altro);\n",
    "    n,m,Nh = size(altro)\n",
    "    \n",
    "    # Get costs out of solver\n",
    "    Q = get_objective(altro).obj[1].Q\n",
    "    R = get_objective(altro).obj[1].R\n",
    "    Qf = get_objective(altro).obj[end].Q\n",
    "    \n",
    "    # Get bound out of solver\n",
    "    u_bnd = get_constraints(altro).convals[1].con.z_max[end]\n",
    "    \n",
    "    # ILC Cost functions    \n",
    "    Qilc = Diagonal(SA[1.0; 1.0; 1.0; 1.0])\n",
    "    Rilc = Diagonal(SA[0.1])\n",
    "    \n",
    "    # Generate ILC Data\n",
    "    data = ILCData(Qilc,Rilc,Qf, Xref, Uref, get_times(altro), u_bnd, Ref(0));\n",
    "    \n",
    "    # TODO: Use ILC to improve the tracking performance\n",
    "    #  TIP: you'll need to generate A,B,K and using the code from part (a)\n",
    "    #  TIP: compute the first SSE value outside the loop, and compare between subsequent iterations\n",
    "    #  TIP: you should only need to call build_qp once\n",
    "    Xsim = deepcopy(Xref)\n",
    "    Usim = deepcopy(Uref)\n",
    "    \n",
    "    # SOLUTION\n",
    "    # Generate Tracking Controller\n",
    "    A,B = linearize(get_model(altro), states(altro), controls(altro), get_times(altro))\n",
    "    K,P = tvlqr(A,B, Q,R,Qf);\n",
    "    U = kron(I(Nh-1), [I zeros(m,n)]) #Matrix that picks out all u\n",
    "    \n",
    "    # Generate first problem\n",
    "    Xsim,Usim = rollout(model, K, Xref, Uref, get_times(altro));\n",
    "    sse_prev = norm(Xsim - Xref)\n",
    "    qp0 = build_qp(data, Xsim, Usim, A,B,K);\n",
    "    verbose && @printf(\"Iter 0: sse = %0.3f\\n\", sse_prev)\n",
    "    \n",
    "    for iter = 1:10\n",
    "        # Solve QP and modify feedforward controls\n",
    "        res0 = OSQP.solve!(qp0)\n",
    "        Δu = reshape(U*res0.x, m, N-1)\n",
    "        for k = 1:N-1\n",
    "            Uref[k] += Δu[:,k]\n",
    "        end\n",
    "        \n",
    "        # Simulate the system with the new feedforward controls\n",
    "        Xsim,Usim = rollout(model, K, Xref, Uref, get_times(altro));\n",
    "        sse = norm(Xsim - Xref)\n",
    "        verbose && @printf(\"Iter %d: sse = %0.3f (%0.2e)\\n\", iter, sse, sse_prev-sse)\n",
    "        if sse_prev - sse < tol\n",
    "            break\n",
    "        end\n",
    "        sse_prev = sse\n",
    "        \n",
    "        # Update the QP\n",
    "        data.Uref .= Uref\n",
    "        q0 = update_qp!(qp0, data, Xsim, Usim)\n",
    "        \n",
    "    end\n",
    "    # END SOLUTION\n",
    "    return Xsim,Usim,data\n",
    "end"
   ]
  },
  {
   "cell_type": "code",
   "execution_count": 29,
   "metadata": {},
   "outputs": [
    {
     "name": "stdout",
     "output_type": "stream",
     "text": [
      "Iter 0: sse = 5.845\n",
      "Iter 1: sse = 3.949 (1.90e+00)\n",
      "Iter 2: sse = 3.084 (8.65e-01)\n",
      "Iter 3: sse = 2.533 (5.51e-01)\n",
      "Iter 4: sse = 2.226 (3.07e-01)\n",
      "Iter 5: sse = 2.128 (9.82e-02)\n",
      "Iter 6: sse = 2.100 (2.81e-02)\n",
      "Iter 7: sse = 2.089 (1.12e-02)\n",
      "Iter 8: sse = 2.088 (7.73e-04)\n"
     ]
    }
   ],
   "source": [
    "Xilc,Uilc,data = run_ilc(altro);"
   ]
  },
  {
   "cell_type": "code",
   "execution_count": 30,
   "metadata": {},
   "outputs": [
    {
     "name": "stdout",
     "output_type": "stream",
     "text": [
      "\u001b[0m\u001b[1mTest Summary: | \u001b[22m\u001b[32m\u001b[1mPass  \u001b[22m\u001b[39m\u001b[36m\u001b[1mTotal\u001b[22m\u001b[39m\n",
      "Part c        | \u001b[32m   6  \u001b[39m\u001b[36m    6\u001b[39m\n"
     ]
    }
   ],
   "source": [
    "@testset \"Part c\" begin                        # POINTS = 10\n",
    "    @test norm(Xilc - Xref) < 2.1              # POINTS = 2\n",
    "    @test 10 < norm(Uilc - Uref) < 20          # POINTS = 0.5\n",
    "    @test norm(Xilc[end] - Xref[end]) < 0.05   # POINTS = 4\n",
    "    @test data.iters[] < 20                    # POINTS = 2\n",
    "    @test norm(data.Uref - Uref) > 10          # POINTS = 1\n",
    "    @test norm(data.Xref - Xref) < 1e-10       # POINTS = 0.5\n",
    "end;"
   ]
  },
  {
   "cell_type": "code",
   "execution_count": 26,
   "metadata": {},
   "outputs": [
    {
     "data": {
      "text/html": [
       "    <div style=\"height: 500px; width: 100%; overflow-x: auto; overflow-y: hidden; resize: both\">\n",
       "    <iframe src=\"http://127.0.0.1:8705\" style=\"width: 100%; height: 100%; border: none\"></iframe>\n",
       "    </div>\n"
      ],
      "text/plain": [
       "MeshCat.DisplayedVisualizer(MeshCat.CoreVisualizer(MeshCat.SceneTrees.SceneNode(nothing, nothing, Dict{String, Vector{UInt8}}(), UInt8[0x83, 0xa7, 0x6f, 0x70, 0x74, 0x69, 0x6f, 0x6e, 0x73, 0x82  …  0x5f, 0x61, 0x6e, 0x69, 0x6d, 0x61, 0x74, 0x69, 0x6f, 0x6e], Dict{String, MeshCat.SceneTrees.SceneNode}(\"meshcat\" => MeshCat.SceneTrees.SceneNode(nothing, nothing, Dict{String, Vector{UInt8}}(), nothing, Dict{String, MeshCat.SceneTrees.SceneNode}(\"robot_copies\" => MeshCat.SceneTrees.SceneNode(nothing, nothing, Dict{String, Vector{UInt8}}(), nothing, Dict{String, MeshCat.SceneTrees.SceneNode}(\"robot2\" => MeshCat.SceneTrees.SceneNode(nothing, nothing, Dict{String, Vector{UInt8}}(), nothing, Dict{String, MeshCat.SceneTrees.SceneNode}(\"robot\" => MeshCat.SceneTrees.SceneNode(nothing, nothing, Dict{String, Vector{UInt8}}(), nothing, Dict{String, MeshCat.SceneTrees.SceneNode}(\"base\" => MeshCat.SceneTrees.SceneNode(UInt8[0x83, 0xa6, 0x6f, 0x62, 0x6a, 0x65, 0x63, 0x74, 0x84, 0xaa  …  0x72, 0x6f, 0x62, 0x6f, 0x74, 0x2f, 0x62, 0x61, 0x73, 0x65], nothing, Dict{String, Vector{UInt8}}(), nothing, Dict{String, MeshCat.SceneTrees.SceneNode}()), \"link1\" => MeshCat.SceneTrees.SceneNode(UInt8[0x83, 0xa6, 0x6f, 0x62, 0x6a, 0x65, 0x63, 0x74, 0x84, 0xaa  …  0x6f, 0x62, 0x6f, 0x74, 0x2f, 0x6c, 0x69, 0x6e, 0x6b, 0x31], nothing, Dict{String, Vector{UInt8}}(), nothing, Dict{String, MeshCat.SceneTrees.SceneNode}(\"joint\" => MeshCat.SceneTrees.SceneNode(UInt8[0x83, 0xa6, 0x6f, 0x62, 0x6a, 0x65, 0x63, 0x74, 0x84, 0xaa  …  0x69, 0x6e, 0x6b, 0x31, 0x2f, 0x6a, 0x6f, 0x69, 0x6e, 0x74], UInt8[0x83, 0xa6, 0x6d, 0x61, 0x74, 0x72, 0x69, 0x78, 0xc7, 0x40  …  0x69, 0x6e, 0x6b, 0x31, 0x2f, 0x6a, 0x6f, 0x69, 0x6e, 0x74], Dict{String, Vector{UInt8}}(), nothing, Dict{String, MeshCat.SceneTrees.SceneNode}()), \"link2\" => MeshCat.SceneTrees.SceneNode(UInt8[0x83, 0xa6, 0x6f, 0x62, 0x6a, 0x65, 0x63, 0x74, 0x84, 0xaa  …  0x69, 0x6e, 0x6b, 0x31, 0x2f, 0x6c, 0x69, 0x6e, 0x6b, 0x32], UInt8[0x83, 0xa6, 0x6d, 0x61, 0x74, 0x72, 0x69, 0x78, 0xc7, 0x40  …  0x69, 0x6e, 0x6b, 0x31, 0x2f, 0x6c, 0x69, 0x6e, 0x6b, 0x32], Dict{String, Vector{UInt8}}(), nothing, Dict{String, MeshCat.SceneTrees.SceneNode}()))))))))), \"robot\" => MeshCat.SceneTrees.SceneNode(nothing, nothing, Dict{String, Vector{UInt8}}(), nothing, Dict{String, MeshCat.SceneTrees.SceneNode}(\"base\" => MeshCat.SceneTrees.SceneNode(UInt8[0x83, 0xa6, 0x6f, 0x62, 0x6a, 0x65, 0x63, 0x74, 0x84, 0xaa  …  0x72, 0x6f, 0x62, 0x6f, 0x74, 0x2f, 0x62, 0x61, 0x73, 0x65], nothing, Dict{String, Vector{UInt8}}(), nothing, Dict{String, MeshCat.SceneTrees.SceneNode}()), \"link1\" => MeshCat.SceneTrees.SceneNode(UInt8[0x83, 0xa6, 0x6f, 0x62, 0x6a, 0x65, 0x63, 0x74, 0x84, 0xaa  …  0x6f, 0x62, 0x6f, 0x74, 0x2f, 0x6c, 0x69, 0x6e, 0x6b, 0x31], nothing, Dict{String, Vector{UInt8}}(), nothing, Dict{String, MeshCat.SceneTrees.SceneNode}(\"joint\" => MeshCat.SceneTrees.SceneNode(UInt8[0x83, 0xa6, 0x6f, 0x62, 0x6a, 0x65, 0x63, 0x74, 0x84, 0xaa  …  0x69, 0x6e, 0x6b, 0x31, 0x2f, 0x6a, 0x6f, 0x69, 0x6e, 0x74], UInt8[0x83, 0xa6, 0x6d, 0x61, 0x74, 0x72, 0x69, 0x78, 0xc7, 0x40  …  0x69, 0x6e, 0x6b, 0x31, 0x2f, 0x6a, 0x6f, 0x69, 0x6e, 0x74], Dict{String, Vector{UInt8}}(), nothing, Dict{String, MeshCat.SceneTrees.SceneNode}()), \"link2\" => MeshCat.SceneTrees.SceneNode(UInt8[0x83, 0xa6, 0x6f, 0x62, 0x6a, 0x65, 0x63, 0x74, 0x84, 0xaa  …  0x69, 0x6e, 0x6b, 0x31, 0x2f, 0x6c, 0x69, 0x6e, 0x6b, 0x32], UInt8[0x83, 0xa6, 0x6d, 0x61, 0x74, 0x72, 0x69, 0x78, 0xc7, 0x40  …  0x69, 0x6e, 0x6b, 0x31, 0x2f, 0x6c, 0x69, 0x6e, 0x6b, 0x32], Dict{String, Vector{UInt8}}(), nothing, Dict{String, MeshCat.SceneTrees.SceneNode}()))))))))), Set(Any[WebSocket(server, \u001b[32mCONNECTED\u001b[39m), WebSocket(server, \u001b[32mCONNECTED\u001b[39m)]), ip\"127.0.0.1\", 8705))"
      ]
     },
     "execution_count": 26,
     "metadata": {},
     "output_type": "execute_result"
    }
   ],
   "source": [
    "isautograder || render(vis)"
   ]
  },
  {
   "cell_type": "code",
   "execution_count": 27,
   "metadata": {},
   "outputs": [],
   "source": [
    "# visualize the result (reference shown as a ghost)\n",
    "# TIP: solutions will differ slightly, but should both reach the goal position\n",
    "isautograder || visualize!(vis, model, Tf, Xilc, states(altro), colors=[colorant\"blue\", RGBA(0,0,1,0.5)])"
   ]
  }
 ],
 "metadata": {
  "@webio": {
   "lastCommId": "2d3e2c60b47a4a4d9d2707e886b25ffc",
   "lastKernelId": "d74fc1e7-2322-4d16-8f9d-8102e43f81fa"
  },
  "kernelspec": {
   "display_name": "Julia 1.6.5",
   "language": "julia",
   "name": "julia-1.6"
  },
  "language_info": {
   "file_extension": ".jl",
   "mimetype": "application/julia",
   "name": "julia",
   "version": "1.6.5"
  }
 },
 "nbformat": 4,
 "nbformat_minor": 4
}
