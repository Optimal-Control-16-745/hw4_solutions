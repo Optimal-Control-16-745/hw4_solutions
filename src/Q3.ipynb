{
 "cells": [
  {
   "cell_type": "code",
   "execution_count": 43,
   "metadata": {},
   "outputs": [
    {
     "name": "stderr",
     "output_type": "stream",
     "text": [
      "\u001b[32m\u001b[1m Activating\u001b[22m\u001b[39m environment at `~/Classes/OptimalControl/hw4_solutions/Project.toml`\n"
     ]
    },
    {
     "data": {
      "text/plain": [
       "slerp (generic function with 1 method)"
      ]
     },
     "execution_count": 43,
     "metadata": {},
     "output_type": "execute_result"
    }
   ],
   "source": [
    "import Pkg; Pkg.activate(joinpath(@__DIR__,\"..\")); Pkg.instantiate()\n",
    "using TrajectoryOptimization\n",
    "import TrajectoryOptimization: get_times\n",
    "using RobotDynamics\n",
    "import RobotZoo.Acrobot\n",
    "using StaticArrays\n",
    "using SparseArrays\n",
    "using LinearAlgebra\n",
    "using ForwardDiff\n",
    "using OSQP\n",
    "using Plots\n",
    "using TrajOptPlots\n",
    "using Colors\n",
    "using Printf\n",
    "using Test\n",
    "include(\"acrobot.jl\")\n",
    "include(\"utils.jl\")"
   ]
  },
  {
   "cell_type": "markdown",
   "metadata": {},
   "source": [
    "# Question 3: Iterative Learning Control (25 pts)\n",
    "In this problem we'll be exploring the use of iterative learning control (ILC) to update our trajectories to work on a \"real\" system with some un-modeled system dynamics. We'll first find an optimalized trajectory using our approximate model, and then refine those trajectories using ILC to achieve the desired behavior. \n",
    "\n",
    "## Dynamics\n",
    "We'll keep things simple by applying this to the \"acrobot\" system, which is just a double pendulum with actuation only at the elbow joint. We'll use the model out of RobotZoo.\n",
    "\n",
    "## Setting up the Optimization problem\n",
    "We'll use TrajectoryOptimization.jl to define our problem. We specify an initial and terminal constraint, a quadratic cost function that penalizes distance from the goal, and bounds on the torques. "
   ]
  },
  {
   "cell_type": "code",
   "execution_count": 2,
   "metadata": {},
   "outputs": [],
   "source": [
    "# Dynamics Model\n",
    "l0 = @SVector [1.0, 1.0]\n",
    "m0 = @SVector [1.0, 1.0]\n",
    "J0 = @SVector [(1.0/12)*m0[1]*l0[1]*l0[1], (1.0/12)*m0[2]*l0[2]*l0[2]]\n",
    "model = Acrobot(l0, m0, J0)\n",
    "n,m = size(model);\n",
    "\n",
    "# Discretization\n",
    "N = 101\n",
    "Tf = 5.\n",
    "h = Tf/(N-1)\n",
    "\n",
    "# Initial and Final Conditions\n",
    "x0 = @SVector [-pi/2, 0, 0, 0]\n",
    "xf = @SVector [pi/2, 0, 0, 0];  # i.e. swing up\n",
    "\n",
    "# Objective\n",
    "Q = 100.0*Diagonal(@SVector ones(n))\n",
    "Qf = 1000.0*Diagonal(@SVector ones(n))\n",
    "R = 1.0*Diagonal(@SVector ones(m))\n",
    "obj = LQRObjective(Q,R,Qf,xf,N);\n",
    "\n",
    "# Constraints\n",
    "conSet = ConstraintList(n,m,N)\n",
    "\n",
    "#   Control bounds\n",
    "u_bnd = 20.0\n",
    "bnd = BoundConstraint(n,m, u_min=-u_bnd, u_max=u_bnd)\n",
    "add_constraint!(conSet, bnd, 1:N-1)\n",
    "\n",
    "#   Goal constraint\n",
    "goal = GoalConstraint(xf)\n",
    "add_constraint!(conSet, goal, N)\n",
    "\n",
    "# Define the problem\n",
    "prob = Problem(model, obj, xf, Tf, x0=x0, constraints=conSet, integration=RK4);\n",
    "\n",
    "# Initial controls\n",
    "U0 = [randn() for k = 1:N-1]\n",
    "initial_controls!(prob, U0)\n",
    "rollout!(prob);"
   ]
  },
  {
   "cell_type": "markdown",
   "metadata": {},
   "source": [
    "## Solving the Problem\n",
    "We'll make it easy for you and and solve the problem using ALTRO. Run the code below to solve for the optimized trajectory and visualize the result."
   ]
  },
  {
   "cell_type": "code",
   "execution_count": 3,
   "metadata": {},
   "outputs": [
    {
     "name": "stdout",
     "output_type": "stream",
     "text": [
      "\u001b[32;1m\n",
      "SOLVE COMPLETED\n",
      "\u001b[0m solved using the \u001b[0m\u001b[36;1mALTRO\u001b[0m Solver,\n",
      " part of the Altro.jl package developed by the REx Lab at Stanford and Carnegie Mellon Universities\n",
      "\u001b[34;1m\n",
      "  Solve Statistics\n",
      "\u001b[0m    Total Iterations: 877\n",
      "\u001b[0m    Solve Time: 1904.7268889999998 (ms)\n",
      "\u001b[34;1m\n",
      "  Covergence\n",
      "\u001b[0m    Terminal Cost: 5607.5892866843205\n",
      "\u001b[0m    Terminal dJ: \u001b[32m1.442316897737328e-5\n",
      "\u001b[0m    Terminal gradient: \u001b[32m0.009015517830683833\n",
      "\u001b[0m    Terminal constraint violation: \u001b[32m3.501533653182953e-5\n",
      "\u001b[0m    Solve Status: \u001b[1m\u001b[32mSOLVE_SUCCEEDED\n",
      "\u001b[0m"
     ]
    }
   ],
   "source": [
    "using Altro\n",
    "using Random\n",
    "opts = SolverOptions(\n",
    "    iterations=100000,\n",
    "    constraint_tolerance=1e-4,\n",
    "    projected_newton=0,\n",
    "    verbose=0\n",
    ")\n",
    "\n",
    "Random.seed!(1)\n",
    "U0 = [randn() for k = 1:N-1]\n",
    "initial_controls!(prob, U0)\n",
    "\n",
    "altro = ALTROSolver(prob, opts)\n",
    "set_options!(altro, show_summary=true)\n",
    "solve!(altro);"
   ]
  },
  {
   "cell_type": "code",
   "execution_count": 4,
   "metadata": {},
   "outputs": [
    {
     "name": "stderr",
     "output_type": "stream",
     "text": [
      "┌ Info: MeshCat server started. You can open the visualizer by visiting the following URL in your browser:\n",
      "│ http://127.0.0.1:8700\n",
      "└ @ MeshCat /home/brian/.julia/packages/MeshCat/GlCMx/src/visualizer.jl:73\n"
     ]
    },
    {
     "data": {
      "text/html": [
       "    <div style=\"height: 500px; width: 100%; overflow-x: auto; overflow-y: hidden; resize: both\">\n",
       "    <iframe src=\"http://127.0.0.1:8700\" style=\"width: 100%; height: 100%; border: none\"></iframe>\n",
       "    </div>\n"
      ],
      "text/plain": [
       "MeshCat.DisplayedVisualizer(MeshCat.CoreVisualizer(MeshCat.SceneTrees.SceneNode(nothing, nothing, Dict{String,Array{UInt8,1}}(), nothing, Dict{String,MeshCat.SceneTrees.SceneNode}(\"meshcat\" => MeshCat.SceneTrees.SceneNode(nothing, nothing, Dict{String,Array{UInt8,1}}(), nothing, Dict{String,MeshCat.SceneTrees.SceneNode}(\"robot\" => MeshCat.SceneTrees.SceneNode(nothing, nothing, Dict{String,Array{UInt8,1}}(), nothing, Dict{String,MeshCat.SceneTrees.SceneNode}(\"base\" => MeshCat.SceneTrees.SceneNode(UInt8[0x83, 0xa6, 0x6f, 0x62, 0x6a, 0x65, 0x63, 0x74, 0x84, 0xaa  …  0x72, 0x6f, 0x62, 0x6f, 0x74, 0x2f, 0x62, 0x61, 0x73, 0x65], nothing, Dict{String,Array{UInt8,1}}(), nothing, Dict{String,MeshCat.SceneTrees.SceneNode}()),\"link1\" => MeshCat.SceneTrees.SceneNode(UInt8[0x83, 0xa6, 0x6f, 0x62, 0x6a, 0x65, 0x63, 0x74, 0x84, 0xaa  …  0x6f, 0x62, 0x6f, 0x74, 0x2f, 0x6c, 0x69, 0x6e, 0x6b, 0x31], nothing, Dict{String,Array{UInt8,1}}(), nothing, Dict{String,MeshCat.SceneTrees.SceneNode}(\"joint\" => MeshCat.SceneTrees.SceneNode(UInt8[0x83, 0xa6, 0x6f, 0x62, 0x6a, 0x65, 0x63, 0x74, 0x84, 0xaa  …  0x69, 0x6e, 0x6b, 0x31, 0x2f, 0x6a, 0x6f, 0x69, 0x6e, 0x74], UInt8[0x83, 0xa6, 0x6d, 0x61, 0x74, 0x72, 0x69, 0x78, 0xc7, 0x40  …  0x69, 0x6e, 0x6b, 0x31, 0x2f, 0x6a, 0x6f, 0x69, 0x6e, 0x74], Dict{String,Array{UInt8,1}}(), nothing, Dict{String,MeshCat.SceneTrees.SceneNode}()),\"link2\" => MeshCat.SceneTrees.SceneNode(UInt8[0x83, 0xa6, 0x6f, 0x62, 0x6a, 0x65, 0x63, 0x74, 0x84, 0xaa  …  0x69, 0x6e, 0x6b, 0x31, 0x2f, 0x6c, 0x69, 0x6e, 0x6b, 0x32], UInt8[0x83, 0xa6, 0x6d, 0x61, 0x74, 0x72, 0x69, 0x78, 0xc7, 0x40  …  0x69, 0x6e, 0x6b, 0x31, 0x2f, 0x6c, 0x69, 0x6e, 0x6b, 0x32], Dict{String,Array{UInt8,1}}(), nothing, Dict{String,MeshCat.SceneTrees.SceneNode}()))))))))), Set{Any}(), ip\"127.0.0.1\", 8700))"
      ]
     },
     "execution_count": 4,
     "metadata": {},
     "output_type": "execute_result"
    }
   ],
   "source": [
    "vis = Visualizer()\n",
    "TrajOptPlots.set_mesh!(vis, model)\n",
    "render(vis)"
   ]
  },
  {
   "cell_type": "code",
   "execution_count": 5,
   "metadata": {},
   "outputs": [],
   "source": [
    "visualize!(vis, model, Tf, states(altro))"
   ]
  },
  {
   "cell_type": "markdown",
   "metadata": {},
   "source": [
    "## Part (a): Simulate on \"Real\" System (6 pts)\n",
    "Using out optimized trajectory, design a TVLQR control policy to tracking the new system. You'll also implement a basic simulator to test out your controller on the \"real\" system, which is slightly different than our nominal model. "
   ]
  },
  {
   "cell_type": "code",
   "execution_count": 63,
   "metadata": {},
   "outputs": [],
   "source": [
    "# TASK: Calculate the TVLQR gains (3 pts)\n",
    "\n",
    "# Extract reference trajectory\n",
    "Xref = states(altro)\n",
    "Uref = controls(altro)\n",
    "times = get_times(altro)\n",
    "\n",
    "# TODO: Calculate the TVLQR gains\n",
    "n,m,N = size(altro)\n",
    "K = [zeros(m,n) for k = 1:N]\n",
    "\n",
    "# SOLUTION\n",
    "function linearize(model, X, U, times)\n",
    "    n,m = size(model)\n",
    "    N = length(X)\n",
    "    A = [zeros(n,n) for k = 1:N-1]\n",
    "    B = [zeros(n,m) for k = 1:N-1]\n",
    "    ∇f = RobotDynamics.DynamicsJacobian(model)\n",
    "    for k = 1:N-1\n",
    "        dt = times[k+1] - times[k]\n",
    "        z = KnotPoint(X[k], U[k], dt, times[k])\n",
    "        discrete_jacobian!(RK4, ∇f, model, z)\n",
    "        A[k] .= ∇f.A\n",
    "        B[k] .= ∇f.B\n",
    "    end\n",
    "    A,B\n",
    "end\n",
    "function tvlqr(A,B, Q,R,Qf=Q)\n",
    "    n,m = size(B[1])\n",
    "    N = length(A)+1\n",
    "    K = [zeros(m,n) for k = 1:N-1]\n",
    "    P = [zeros(n,n) for k = 1:N]\n",
    "    P[end] .= Qf\n",
    "    for k = reverse(1:N-1)\n",
    "        K[k] .= (R + B[k]'P[k+1]*B[k])\\(B[k]'P[k+1]*A[k])\n",
    "        P[k] .= Q + A[k]'P[k+1]*A[k] - A[k]'P[k+1]*B[k]*K[k]\n",
    "    end\n",
    "    return K,P\n",
    "end\n",
    "A,B = linearize(model, states(altro), controls(altro), get_times(altro))\n",
    "K,P = tvlqr(A,B, Q,R,Qf);\n",
    "# END SOLUTION"
   ]
  },
  {
   "cell_type": "code",
   "execution_count": 72,
   "metadata": {},
   "outputs": [
    {
     "data": {
      "text/plain": [
       "\u001b[32m\u001b[1mTest Passed\u001b[22m\u001b[39m"
      ]
     },
     "execution_count": 72,
     "metadata": {},
     "output_type": "execute_result"
    }
   ],
   "source": [
    "@test P[end] == Qf\n",
    "@test abs((K[1]*(Xref[2] - Xref[1]))[1] + 11.213) < 1e-3"
   ]
  },
  {
   "cell_type": "code",
   "execution_count": 35,
   "metadata": {},
   "outputs": [],
   "source": [
    "# TASK: Implement the following function (3 pts)\n",
    "\"\"\"\n",
    "    rollout(model, K, Xref, Uref, times; [u_bnd, x0])\n",
    "\n",
    "Simulate the system with the TVLQR controller specified by the feedback gains `K` and reference trajectory `Xref`, `Uref`, and `times`.\n",
    "\n",
    "Should clamp the controls to be between `-u_bnd` and `+u_bnd` prior to integrating the system dynamics.\n",
    "\n",
    "For the dynamics integration, use `x′ = true_dynamics_rk4(model, x, u, dt)`.\n",
    "\"\"\"\n",
    "function rollout(model::Acrobot, K, Xref, Uref, times; u_bnd=20.0, x0=Xref[1])\n",
    "    n,m = size(model)\n",
    "    N = length(K) + 1\n",
    "    X = [@SVector zeros(n) for k = 1:N]\n",
    "    U = [@SVector zeros(m) for k = 1:N-1]\n",
    "    X[1] = x0\n",
    "    \n",
    "    # TODO: Simulate at the same time step as the reference trajectory\n",
    "    #  TIP: just loop over the indices, instead of time (just to make it easier)\n",
    "    #  TIP: remember to use `true_dynamics_rk4(model, x, u, dt)` to simulate your dynamics!\n",
    "    #  TIP: remember to clamp your controls before sending them to them to the simulator!\n",
    "    \n",
    "    # SOLUTION\n",
    "    for k = 1:N-1\n",
    "        dt = times[k+1] - times[k]\n",
    "        U[k] = Uref[k] - K[k]*(X[k] - Xref[k])\n",
    "        U[k] = clamp.(U[k], -u_bnd, u_bnd)\n",
    "        X[k+1] = true_dynamics_rk4(model, X[k], U[k], dt)\n",
    "    end\n",
    "    # END SOLUTION\n",
    "    return X, U\n",
    "end\n",
    "Xsim,Usim = rollout(model, K, states(altro), controls(altro), get_times(altro));"
   ]
  },
  {
   "cell_type": "code",
   "execution_count": 44,
   "metadata": {},
   "outputs": [
    {
     "data": {
      "text/plain": [
       "\u001b[32m\u001b[1mTest Passed\u001b[22m\u001b[39m"
      ]
     },
     "execution_count": 44,
     "metadata": {},
     "output_type": "execute_result"
    }
   ],
   "source": [
    "@testset \"Part a\" begin\n",
    "    @test norm(Xsim[1] - states(altro)[1]) < 1e-8\n",
    "    @test 1 < norm(Xsim[end] - states(altro)[end]) < 2\n",
    "    @test abs(maximum(norm.(Usim,Inf)) - u_bnd) < 1e-8\n",
    "end;"
   ]
  },
  {
   "cell_type": "code",
   "execution_count": 9,
   "metadata": {},
   "outputs": [
    {
     "data": {
      "text/html": [
       "    <div style=\"height: 500px; width: 100%; overflow-x: auto; overflow-y: hidden; resize: both\">\n",
       "    <iframe src=\"http://127.0.0.1:8700\" style=\"width: 100%; height: 100%; border: none\"></iframe>\n",
       "    </div>\n"
      ],
      "text/plain": [
       "MeshCat.DisplayedVisualizer(MeshCat.CoreVisualizer(MeshCat.SceneTrees.SceneNode(nothing, nothing, Dict{String,Array{UInt8,1}}(), UInt8[0x83, 0xa7, 0x6f, 0x70, 0x74, 0x69, 0x6f, 0x6e, 0x73, 0x82  …  0x5f, 0x61, 0x6e, 0x69, 0x6d, 0x61, 0x74, 0x69, 0x6f, 0x6e], Dict{String,MeshCat.SceneTrees.SceneNode}(\"meshcat\" => MeshCat.SceneTrees.SceneNode(nothing, nothing, Dict{String,Array{UInt8,1}}(), nothing, Dict{String,MeshCat.SceneTrees.SceneNode}(\"robot\" => MeshCat.SceneTrees.SceneNode(nothing, nothing, Dict{String,Array{UInt8,1}}(), nothing, Dict{String,MeshCat.SceneTrees.SceneNode}(\"base\" => MeshCat.SceneTrees.SceneNode(UInt8[0x83, 0xa6, 0x6f, 0x62, 0x6a, 0x65, 0x63, 0x74, 0x84, 0xaa  …  0x72, 0x6f, 0x62, 0x6f, 0x74, 0x2f, 0x62, 0x61, 0x73, 0x65], nothing, Dict{String,Array{UInt8,1}}(), nothing, Dict{String,MeshCat.SceneTrees.SceneNode}()),\"link1\" => MeshCat.SceneTrees.SceneNode(UInt8[0x83, 0xa6, 0x6f, 0x62, 0x6a, 0x65, 0x63, 0x74, 0x84, 0xaa  …  0x6f, 0x62, 0x6f, 0x74, 0x2f, 0x6c, 0x69, 0x6e, 0x6b, 0x31], nothing, Dict{String,Array{UInt8,1}}(), nothing, Dict{String,MeshCat.SceneTrees.SceneNode}(\"joint\" => MeshCat.SceneTrees.SceneNode(UInt8[0x83, 0xa6, 0x6f, 0x62, 0x6a, 0x65, 0x63, 0x74, 0x84, 0xaa  …  0x69, 0x6e, 0x6b, 0x31, 0x2f, 0x6a, 0x6f, 0x69, 0x6e, 0x74], UInt8[0x83, 0xa6, 0x6d, 0x61, 0x74, 0x72, 0x69, 0x78, 0xc7, 0x40  …  0x69, 0x6e, 0x6b, 0x31, 0x2f, 0x6a, 0x6f, 0x69, 0x6e, 0x74], Dict{String,Array{UInt8,1}}(), nothing, Dict{String,MeshCat.SceneTrees.SceneNode}()),\"link2\" => MeshCat.SceneTrees.SceneNode(UInt8[0x83, 0xa6, 0x6f, 0x62, 0x6a, 0x65, 0x63, 0x74, 0x84, 0xaa  …  0x69, 0x6e, 0x6b, 0x31, 0x2f, 0x6c, 0x69, 0x6e, 0x6b, 0x32], UInt8[0x83, 0xa6, 0x6d, 0x61, 0x74, 0x72, 0x69, 0x78, 0xc7, 0x40  …  0x69, 0x6e, 0x6b, 0x31, 0x2f, 0x6c, 0x69, 0x6e, 0x6b, 0x32], Dict{String,Array{UInt8,1}}(), nothing, Dict{String,MeshCat.SceneTrees.SceneNode}()))))))))), Set(Any[WebSocket(server, \u001b[32mCONNECTED\u001b[39m)]), ip\"127.0.0.1\", 8700))"
      ]
     },
     "execution_count": 9,
     "metadata": {},
     "output_type": "execute_result"
    }
   ],
   "source": [
    "render(vis)"
   ]
  },
  {
   "cell_type": "code",
   "execution_count": 45,
   "metadata": {},
   "outputs": [],
   "source": [
    "# visualize with ghost of the reference trajectory\n",
    "visualize!(vis, model, Tf, Xsim, states(altro), colors=[colorant\"blue\", RGBA(0,0,1,0.5)])"
   ]
  },
  {
   "cell_type": "code",
   "execution_count": 15,
   "metadata": {},
   "outputs": [
    {
     "data": {
      "image/svg+xml": [
       "<?xml version=\"1.0\" encoding=\"utf-8\"?>\n",
       "<svg xmlns=\"http://www.w3.org/2000/svg\" xmlns:xlink=\"http://www.w3.org/1999/xlink\" width=\"600\" height=\"400\" viewBox=\"0 0 2400 1600\">\n",
       "<defs>\n",
       "  <clipPath id=\"clip020\">\n",
       "    <rect x=\"0\" y=\"0\" width=\"2400\" height=\"1600\"/>\n",
       "  </clipPath>\n",
       "</defs>\n",
       "<path clip-path=\"url(#clip020)\" d=\"\n",
       "M0 1600 L2400 1600 L2400 0 L0 0  Z\n",
       "  \" fill=\"#ffffff\" fill-rule=\"evenodd\" fill-opacity=\"1\"/>\n",
       "<defs>\n",
       "  <clipPath id=\"clip021\">\n",
       "    <rect x=\"480\" y=\"0\" width=\"1681\" height=\"1600\"/>\n",
       "  </clipPath>\n",
       "</defs>\n",
       "<path clip-path=\"url(#clip020)\" d=\"\n",
       "M143.033 1486.45 L2352.76 1486.45 L2352.76 47.2441 L143.033 47.2441  Z\n",
       "  \" fill=\"#ffffff\" fill-rule=\"evenodd\" fill-opacity=\"1\"/>\n",
       "<defs>\n",
       "  <clipPath id=\"clip022\">\n",
       "    <rect x=\"143\" y=\"47\" width=\"2211\" height=\"1440\"/>\n",
       "  </clipPath>\n",
       "</defs>\n",
       "<polyline clip-path=\"url(#clip022)\" style=\"stroke:#000000; stroke-width:2; stroke-opacity:0.1; fill:none\" points=\"\n",
       "  184.726,1486.45 184.726,47.2441 \n",
       "  \"/>\n",
       "<polyline clip-path=\"url(#clip022)\" style=\"stroke:#000000; stroke-width:2; stroke-opacity:0.1; fill:none\" points=\"\n",
       "  705.887,1486.45 705.887,47.2441 \n",
       "  \"/>\n",
       "<polyline clip-path=\"url(#clip022)\" style=\"stroke:#000000; stroke-width:2; stroke-opacity:0.1; fill:none\" points=\"\n",
       "  1227.05,1486.45 1227.05,47.2441 \n",
       "  \"/>\n",
       "<polyline clip-path=\"url(#clip022)\" style=\"stroke:#000000; stroke-width:2; stroke-opacity:0.1; fill:none\" points=\"\n",
       "  1748.21,1486.45 1748.21,47.2441 \n",
       "  \"/>\n",
       "<polyline clip-path=\"url(#clip022)\" style=\"stroke:#000000; stroke-width:2; stroke-opacity:0.1; fill:none\" points=\"\n",
       "  2269.37,1486.45 2269.37,47.2441 \n",
       "  \"/>\n",
       "<polyline clip-path=\"url(#clip020)\" style=\"stroke:#000000; stroke-width:4; stroke-opacity:1; fill:none\" points=\"\n",
       "  143.033,1486.45 2352.76,1486.45 \n",
       "  \"/>\n",
       "<polyline clip-path=\"url(#clip020)\" style=\"stroke:#000000; stroke-width:4; stroke-opacity:1; fill:none\" points=\"\n",
       "  184.726,1486.45 184.726,1469.18 \n",
       "  \"/>\n",
       "<polyline clip-path=\"url(#clip020)\" style=\"stroke:#000000; stroke-width:4; stroke-opacity:1; fill:none\" points=\"\n",
       "  705.887,1486.45 705.887,1469.18 \n",
       "  \"/>\n",
       "<polyline clip-path=\"url(#clip020)\" style=\"stroke:#000000; stroke-width:4; stroke-opacity:1; fill:none\" points=\"\n",
       "  1227.05,1486.45 1227.05,1469.18 \n",
       "  \"/>\n",
       "<polyline clip-path=\"url(#clip020)\" style=\"stroke:#000000; stroke-width:4; stroke-opacity:1; fill:none\" points=\"\n",
       "  1748.21,1486.45 1748.21,1469.18 \n",
       "  \"/>\n",
       "<polyline clip-path=\"url(#clip020)\" style=\"stroke:#000000; stroke-width:4; stroke-opacity:1; fill:none\" points=\"\n",
       "  2269.37,1486.45 2269.37,1469.18 \n",
       "  \"/>\n",
       "<path clip-path=\"url(#clip020)\" d=\"M 0 0 M184.726 1515.64 Q181.115 1515.64 179.287 1519.2 Q177.481 1522.75 177.481 1529.87 Q177.481 1536.98 179.287 1540.55 Q181.115 1544.09 184.726 1544.09 Q188.361 1544.09 190.166 1540.55 Q191.995 1536.98 191.995 1529.87 Q191.995 1522.75 190.166 1519.2 Q188.361 1515.64 184.726 1515.64 M184.726 1511.93 Q190.537 1511.93 193.592 1516.54 Q196.671 1521.12 196.671 1529.87 Q196.671 1538.6 193.592 1543.21 Q190.537 1547.79 184.726 1547.79 Q178.916 1547.79 175.838 1543.21 Q172.782 1538.6 172.782 1529.87 Q172.782 1521.12 175.838 1516.54 Q178.916 1511.93 184.726 1511.93 Z\" fill=\"#000000\" fill-rule=\"evenodd\" fill-opacity=\"1\" /><path clip-path=\"url(#clip020)\" d=\"M 0 0 M687.531 1543.18 L703.85 1543.18 L703.85 1547.12 L681.906 1547.12 L681.906 1543.18 Q684.568 1540.43 689.151 1535.8 Q693.758 1531.15 694.938 1529.81 Q697.184 1527.28 698.063 1525.55 Q698.966 1523.79 698.966 1522.1 Q698.966 1519.34 697.022 1517.61 Q695.1 1515.87 691.999 1515.87 Q689.799 1515.87 687.346 1516.63 Q684.915 1517.4 682.137 1518.95 L682.137 1514.23 Q684.962 1513.09 687.415 1512.51 Q689.869 1511.93 691.906 1511.93 Q697.276 1511.93 700.471 1514.62 Q703.665 1517.31 703.665 1521.8 Q703.665 1523.93 702.855 1525.85 Q702.068 1527.74 699.961 1530.34 Q699.383 1531.01 696.281 1534.23 Q693.179 1537.42 687.531 1543.18 Z\" fill=\"#000000\" fill-rule=\"evenodd\" fill-opacity=\"1\" /><path clip-path=\"url(#clip020)\" d=\"M 0 0 M708.966 1512.56 L727.322 1512.56 L727.322 1516.5 L713.248 1516.5 L713.248 1524.97 Q714.267 1524.62 715.285 1524.46 Q716.304 1524.27 717.322 1524.27 Q723.109 1524.27 726.489 1527.44 Q729.869 1530.62 729.869 1536.03 Q729.869 1541.61 726.396 1544.71 Q722.924 1547.79 716.605 1547.79 Q714.429 1547.79 712.16 1547.42 Q709.915 1547.05 707.508 1546.31 L707.508 1541.61 Q709.591 1542.74 711.813 1543.3 Q714.035 1543.86 716.512 1543.86 Q720.517 1543.86 722.855 1541.75 Q725.193 1539.64 725.193 1536.03 Q725.193 1532.42 722.855 1530.31 Q720.517 1528.21 716.512 1528.21 Q714.637 1528.21 712.762 1528.62 Q710.91 1529.04 708.966 1529.92 L708.966 1512.56 Z\" fill=\"#000000\" fill-rule=\"evenodd\" fill-opacity=\"1\" /><path clip-path=\"url(#clip020)\" d=\"M 0 0 M1203.82 1512.56 L1222.18 1512.56 L1222.18 1516.5 L1208.1 1516.5 L1208.1 1524.97 Q1209.12 1524.62 1210.14 1524.46 Q1211.16 1524.27 1212.18 1524.27 Q1217.96 1524.27 1221.34 1527.44 Q1224.72 1530.62 1224.72 1536.03 Q1224.72 1541.61 1221.25 1544.71 Q1217.78 1547.79 1211.46 1547.79 Q1209.28 1547.79 1207.01 1547.42 Q1204.77 1547.05 1202.36 1546.31 L1202.36 1541.61 Q1204.44 1542.74 1206.67 1543.3 Q1208.89 1543.86 1211.37 1543.86 Q1215.37 1543.86 1217.71 1541.75 Q1220.05 1539.64 1220.05 1536.03 Q1220.05 1532.42 1217.71 1530.31 Q1215.37 1528.21 1211.37 1528.21 Q1209.49 1528.21 1207.62 1528.62 Q1205.76 1529.04 1203.82 1529.92 L1203.82 1512.56 Z\" fill=\"#000000\" fill-rule=\"evenodd\" fill-opacity=\"1\" /><path clip-path=\"url(#clip020)\" d=\"M 0 0 M1239.79 1515.64 Q1236.18 1515.64 1234.35 1519.2 Q1232.55 1522.75 1232.55 1529.87 Q1232.55 1536.98 1234.35 1540.55 Q1236.18 1544.09 1239.79 1544.09 Q1243.43 1544.09 1245.23 1540.55 Q1247.06 1536.98 1247.06 1529.87 Q1247.06 1522.75 1245.23 1519.2 Q1243.43 1515.64 1239.79 1515.64 M1239.79 1511.93 Q1245.6 1511.93 1248.66 1516.54 Q1251.74 1521.12 1251.74 1529.87 Q1251.74 1538.6 1248.66 1543.21 Q1245.6 1547.79 1239.79 1547.79 Q1233.98 1547.79 1230.9 1543.21 Q1227.85 1538.6 1227.85 1529.87 Q1227.85 1521.12 1230.9 1516.54 Q1233.98 1511.93 1239.79 1511.93 Z\" fill=\"#000000\" fill-rule=\"evenodd\" fill-opacity=\"1\" /><path clip-path=\"url(#clip020)\" d=\"M 0 0 M1724.09 1512.56 L1746.31 1512.56 L1746.31 1514.55 L1733.76 1547.12 L1728.88 1547.12 L1740.69 1516.5 L1724.09 1516.5 L1724.09 1512.56 Z\" fill=\"#000000\" fill-rule=\"evenodd\" fill-opacity=\"1\" /><path clip-path=\"url(#clip020)\" d=\"M 0 0 M1751.43 1512.56 L1769.78 1512.56 L1769.78 1516.5 L1755.71 1516.5 L1755.71 1524.97 Q1756.73 1524.62 1757.75 1524.46 Q1758.76 1524.27 1759.78 1524.27 Q1765.57 1524.27 1768.95 1527.44 Q1772.33 1530.62 1772.33 1536.03 Q1772.33 1541.61 1768.86 1544.71 Q1765.39 1547.79 1759.07 1547.79 Q1756.89 1547.79 1754.62 1547.42 Q1752.38 1547.05 1749.97 1546.31 L1749.97 1541.61 Q1752.05 1542.74 1754.27 1543.3 Q1756.5 1543.86 1758.97 1543.86 Q1762.98 1543.86 1765.32 1541.75 Q1767.65 1539.64 1767.65 1536.03 Q1767.65 1532.42 1765.32 1530.31 Q1762.98 1528.21 1758.97 1528.21 Q1757.1 1528.21 1755.22 1528.62 Q1753.37 1529.04 1751.43 1529.92 L1751.43 1512.56 Z\" fill=\"#000000\" fill-rule=\"evenodd\" fill-opacity=\"1\" /><path clip-path=\"url(#clip020)\" d=\"M 0 0 M2232.74 1543.18 L2240.38 1543.18 L2240.38 1516.82 L2232.07 1518.49 L2232.07 1514.23 L2240.33 1512.56 L2245.01 1512.56 L2245.01 1543.18 L2252.65 1543.18 L2252.65 1547.12 L2232.74 1547.12 L2232.74 1543.18 Z\" fill=\"#000000\" fill-rule=\"evenodd\" fill-opacity=\"1\" /><path clip-path=\"url(#clip020)\" d=\"M 0 0 M2267.72 1515.64 Q2264.1 1515.64 2262.28 1519.2 Q2260.47 1522.75 2260.47 1529.87 Q2260.47 1536.98 2262.28 1540.55 Q2264.1 1544.09 2267.72 1544.09 Q2271.35 1544.09 2273.15 1540.55 Q2274.98 1536.98 2274.98 1529.87 Q2274.98 1522.75 2273.15 1519.2 Q2271.35 1515.64 2267.72 1515.64 M2267.72 1511.93 Q2273.53 1511.93 2276.58 1516.54 Q2279.66 1521.12 2279.66 1529.87 Q2279.66 1538.6 2276.58 1543.21 Q2273.53 1547.79 2267.72 1547.79 Q2261.9 1547.79 2258.83 1543.21 Q2255.77 1538.6 2255.77 1529.87 Q2255.77 1521.12 2258.83 1516.54 Q2261.9 1511.93 2267.72 1511.93 Z\" fill=\"#000000\" fill-rule=\"evenodd\" fill-opacity=\"1\" /><path clip-path=\"url(#clip020)\" d=\"M 0 0 M2294.73 1515.64 Q2291.12 1515.64 2289.29 1519.2 Q2287.48 1522.75 2287.48 1529.87 Q2287.48 1536.98 2289.29 1540.55 Q2291.12 1544.09 2294.73 1544.09 Q2298.36 1544.09 2300.17 1540.55 Q2302 1536.98 2302 1529.87 Q2302 1522.75 2300.17 1519.2 Q2298.36 1515.64 2294.73 1515.64 M2294.73 1511.93 Q2300.54 1511.93 2303.59 1516.54 Q2306.67 1521.12 2306.67 1529.87 Q2306.67 1538.6 2303.59 1543.21 Q2300.54 1547.79 2294.73 1547.79 Q2288.92 1547.79 2285.84 1543.21 Q2282.78 1538.6 2282.78 1529.87 Q2282.78 1521.12 2285.84 1516.54 Q2288.92 1511.93 2294.73 1511.93 Z\" fill=\"#000000\" fill-rule=\"evenodd\" fill-opacity=\"1\" /><polyline clip-path=\"url(#clip022)\" style=\"stroke:#000000; stroke-width:2; stroke-opacity:0.1; fill:none\" points=\"\n",
       "  143.033,1285.24 2352.76,1285.24 \n",
       "  \"/>\n",
       "<polyline clip-path=\"url(#clip022)\" style=\"stroke:#000000; stroke-width:2; stroke-opacity:0.1; fill:none\" points=\"\n",
       "  143.033,1048.83 2352.76,1048.83 \n",
       "  \"/>\n",
       "<polyline clip-path=\"url(#clip022)\" style=\"stroke:#000000; stroke-width:2; stroke-opacity:0.1; fill:none\" points=\"\n",
       "  143.033,812.423 2352.76,812.423 \n",
       "  \"/>\n",
       "<polyline clip-path=\"url(#clip022)\" style=\"stroke:#000000; stroke-width:2; stroke-opacity:0.1; fill:none\" points=\"\n",
       "  143.033,576.013 2352.76,576.013 \n",
       "  \"/>\n",
       "<polyline clip-path=\"url(#clip022)\" style=\"stroke:#000000; stroke-width:2; stroke-opacity:0.1; fill:none\" points=\"\n",
       "  143.033,339.604 2352.76,339.604 \n",
       "  \"/>\n",
       "<polyline clip-path=\"url(#clip022)\" style=\"stroke:#000000; stroke-width:2; stroke-opacity:0.1; fill:none\" points=\"\n",
       "  143.033,103.195 2352.76,103.195 \n",
       "  \"/>\n",
       "<polyline clip-path=\"url(#clip020)\" style=\"stroke:#000000; stroke-width:4; stroke-opacity:1; fill:none\" points=\"\n",
       "  143.033,1486.45 143.033,47.2441 \n",
       "  \"/>\n",
       "<polyline clip-path=\"url(#clip020)\" style=\"stroke:#000000; stroke-width:4; stroke-opacity:1; fill:none\" points=\"\n",
       "  143.033,1285.24 169.55,1285.24 \n",
       "  \"/>\n",
       "<polyline clip-path=\"url(#clip020)\" style=\"stroke:#000000; stroke-width:4; stroke-opacity:1; fill:none\" points=\"\n",
       "  143.033,1048.83 169.55,1048.83 \n",
       "  \"/>\n",
       "<polyline clip-path=\"url(#clip020)\" style=\"stroke:#000000; stroke-width:4; stroke-opacity:1; fill:none\" points=\"\n",
       "  143.033,812.423 169.55,812.423 \n",
       "  \"/>\n",
       "<polyline clip-path=\"url(#clip020)\" style=\"stroke:#000000; stroke-width:4; stroke-opacity:1; fill:none\" points=\"\n",
       "  143.033,576.013 169.55,576.013 \n",
       "  \"/>\n",
       "<polyline clip-path=\"url(#clip020)\" style=\"stroke:#000000; stroke-width:4; stroke-opacity:1; fill:none\" points=\"\n",
       "  143.033,339.604 169.55,339.604 \n",
       "  \"/>\n",
       "<polyline clip-path=\"url(#clip020)\" style=\"stroke:#000000; stroke-width:4; stroke-opacity:1; fill:none\" points=\"\n",
       "  143.033,103.195 169.55,103.195 \n",
       "  \"/>\n",
       "<path clip-path=\"url(#clip020)\" d=\"M 0 0 M50.9921 1285.69 L80.6679 1285.69 L80.6679 1289.63 L50.9921 1289.63 L50.9921 1285.69 Z\" fill=\"#000000\" fill-rule=\"evenodd\" fill-opacity=\"1\" /><path clip-path=\"url(#clip020)\" d=\"M 0 0 M99.9039 1283.89 Q103.26 1284.6 105.135 1286.87 Q107.033 1289.14 107.033 1292.47 Q107.033 1297.59 103.515 1300.39 Q99.9965 1303.19 93.515 1303.19 Q91.3391 1303.19 89.0243 1302.75 Q86.7327 1302.34 84.279 1301.48 L84.279 1296.97 Q86.2234 1298.1 88.5382 1298.68 Q90.853 1299.26 93.3762 1299.26 Q97.7743 1299.26 100.066 1297.52 Q102.381 1295.79 102.381 1292.47 Q102.381 1289.42 100.228 1287.71 Q98.0984 1285.97 94.2789 1285.97 L90.2512 1285.97 L90.2512 1282.13 L94.4641 1282.13 Q97.9132 1282.13 99.7419 1280.76 Q101.571 1279.37 101.571 1276.78 Q101.571 1274.12 99.6724 1272.71 Q97.7974 1271.27 94.2789 1271.27 Q92.3576 1271.27 90.1586 1271.69 Q87.9595 1272.1 85.3206 1272.98 L85.3206 1268.82 Q87.9827 1268.08 90.2975 1267.71 Q92.6354 1267.34 94.6956 1267.34 Q100.02 1267.34 103.121 1269.77 Q106.223 1272.17 106.223 1276.29 Q106.223 1279.16 104.58 1281.16 Q102.936 1283.12 99.9039 1283.89 Z\" fill=\"#000000\" fill-rule=\"evenodd\" fill-opacity=\"1\" /><path clip-path=\"url(#clip020)\" d=\"M 0 0 M51.9412 1049.28 L81.617 1049.28 L81.617 1053.22 L51.9412 1053.22 L51.9412 1049.28 Z\" fill=\"#000000\" fill-rule=\"evenodd\" fill-opacity=\"1\" /><path clip-path=\"url(#clip020)\" d=\"M 0 0 M90.7141 1062.18 L107.033 1062.18 L107.033 1066.11 L85.0892 1066.11 L85.0892 1062.18 Q87.7512 1059.42 92.3345 1054.79 Q96.941 1050.14 98.1215 1048.8 Q100.367 1046.27 101.246 1044.54 Q102.149 1042.78 102.149 1041.09 Q102.149 1038.33 100.205 1036.6 Q98.2835 1034.86 95.1817 1034.86 Q92.9826 1034.86 90.529 1035.63 Q88.0984 1036.39 85.3206 1037.94 L85.3206 1033.22 Q88.1447 1032.08 90.5984 1031.51 Q93.0521 1030.93 95.0891 1030.93 Q100.459 1030.93 103.654 1033.61 Q106.848 1036.3 106.848 1040.79 Q106.848 1042.92 106.038 1044.84 Q105.251 1046.74 103.145 1049.33 Q102.566 1050 99.4641 1053.22 Q96.3623 1056.41 90.7141 1062.18 Z\" fill=\"#000000\" fill-rule=\"evenodd\" fill-opacity=\"1\" /><path clip-path=\"url(#clip020)\" d=\"M 0 0 M51.5708 812.874 L81.2466 812.874 L81.2466 816.809 L51.5708 816.809 L51.5708 812.874 Z\" fill=\"#000000\" fill-rule=\"evenodd\" fill-opacity=\"1\" /><path clip-path=\"url(#clip020)\" d=\"M 0 0 M87.1262 825.767 L94.765 825.767 L94.765 799.402 L86.4549 801.069 L86.4549 796.809 L94.7187 795.143 L99.3946 795.143 L99.3946 825.767 L107.033 825.767 L107.033 829.703 L87.1262 829.703 L87.1262 825.767 Z\" fill=\"#000000\" fill-rule=\"evenodd\" fill-opacity=\"1\" /><path clip-path=\"url(#clip020)\" d=\"M 0 0 M95.0891 561.812 Q91.478 561.812 89.6493 565.377 Q87.8438 568.918 87.8438 576.048 Q87.8438 583.155 89.6493 586.719 Q91.478 590.261 95.0891 590.261 Q98.7234 590.261 100.529 586.719 Q102.358 583.155 102.358 576.048 Q102.358 568.918 100.529 565.377 Q98.7234 561.812 95.0891 561.812 M95.0891 558.108 Q100.899 558.108 103.955 562.715 Q107.033 567.298 107.033 576.048 Q107.033 584.775 103.955 589.381 Q100.899 593.965 95.0891 593.965 Q89.279 593.965 86.2003 589.381 Q83.1447 584.775 83.1447 576.048 Q83.1447 567.298 86.2003 562.715 Q89.279 558.108 95.0891 558.108 Z\" fill=\"#000000\" fill-rule=\"evenodd\" fill-opacity=\"1\" /><path clip-path=\"url(#clip020)\" d=\"M 0 0 M87.1262 352.949 L94.765 352.949 L94.765 326.583 L86.4549 328.25 L86.4549 323.991 L94.7187 322.324 L99.3946 322.324 L99.3946 352.949 L107.033 352.949 L107.033 356.884 L87.1262 356.884 L87.1262 352.949 Z\" fill=\"#000000\" fill-rule=\"evenodd\" fill-opacity=\"1\" /><path clip-path=\"url(#clip020)\" d=\"M 0 0 M90.7141 116.54 L107.033 116.54 L107.033 120.475 L85.0892 120.475 L85.0892 116.54 Q87.7512 113.785 92.3345 109.155 Q96.941 104.503 98.1215 103.16 Q100.367 100.637 101.246 98.9009 Q102.149 97.1416 102.149 95.4518 Q102.149 92.6972 100.205 90.9611 Q98.2835 89.225 95.1817 89.225 Q92.9826 89.225 90.529 89.9889 Q88.0984 90.7528 85.3206 92.3037 L85.3206 87.5815 Q88.1447 86.4472 90.5984 85.8685 Q93.0521 85.2898 95.0891 85.2898 Q100.459 85.2898 103.654 87.975 Q106.848 90.6602 106.848 95.1509 Q106.848 97.2805 106.038 99.2018 Q105.251 101.1 103.145 103.693 Q102.566 104.364 99.4641 107.581 Q96.3623 110.776 90.7141 116.54 Z\" fill=\"#000000\" fill-rule=\"evenodd\" fill-opacity=\"1\" /><polyline clip-path=\"url(#clip022)\" style=\"stroke:#009af9; stroke-width:4; stroke-opacity:1; fill:none\" points=\"\n",
       "  205.573,947.364 226.419,939.476 247.266,923.197 268.112,905.842 288.959,888.574 309.805,871.663 330.651,855.292 351.498,839.702 372.344,825.244 393.191,812.392 \n",
       "  414.037,801.761 434.884,794.08 455.73,790.133 476.576,790.611 497.423,795.885 518.269,805.793 539.116,819.628 559.962,836.426 580.809,855.317 601.655,875.663 \n",
       "  622.502,896.942 643.348,918.561 664.194,939.769 685.041,959.778 705.887,978.071 726.734,994.691 747.58,1010.18 768.427,1025.18 789.273,1040.05 810.12,1054.72 \n",
       "  830.966,1068.73 851.812,1081.4 872.659,1092.01 893.505,1099.85 914.352,1103.38 935.198,1093.32 956.045,1064.25 976.891,1021.9 997.737,972.627 1018.58,920.68 \n",
       "  1039.43,867.8 1060.28,814.502 1081.12,761.039 1101.97,707.803 1122.82,655.408 1143.66,604.602 1164.51,556.103 1185.36,510.484 1206.2,468.141 1227.05,429.359 \n",
       "  1247.89,394.396 1268.74,363.472 1289.59,336.876 1310.43,314.331 1331.28,294.998 1352.13,278.093 1372.97,262.953 1393.82,248.977 1414.67,235.585 1435.51,222.201 \n",
       "  1456.36,208.295 1477.21,193.464 1498.05,177.562 1518.9,160.865 1539.74,144.163 1560.59,128.658 1581.44,115.617 1602.28,105.954 1623.13,100.011 1643.98,97.6153 \n",
       "  1664.82,98.2873 1685.67,101.44 1706.52,106.506 1727.36,112.988 1748.21,120.482 1769.06,128.665 1789.9,137.288 1810.75,146.157 1831.59,155.124 1852.44,164.069 \n",
       "  1873.29,172.901 1894.13,181.539 1914.98,189.915 1935.83,197.967 1956.67,205.634 1977.52,212.853 1998.37,219.559 2019.21,225.676 2040.06,231.124 2060.91,235.808 \n",
       "  2081.75,239.626 2102.6,242.461 2123.45,244.179 2144.29,244.63 2165.14,243.635 2185.98,240.992 2206.83,236.459 2227.68,229.773 2248.52,220.741 2269.37,210.031 \n",
       "  2290.22,204.671 \n",
       "  \"/>\n",
       "<polyline clip-path=\"url(#clip022)\" style=\"stroke:#e26f46; stroke-width:4; stroke-opacity:1; fill:none\" points=\"\n",
       "  205.573,576.013 226.419,595.647 247.266,636.518 268.112,680.832 288.959,726.03 309.805,771.822 330.651,818.224 351.498,865.234 372.344,912.752 393.191,960.553 \n",
       "  414.037,1008.28 434.884,1055.44 455.73,1101.38 476.576,1145.27 497.423,1186.06 518.269,1222.55 539.116,1253.43 559.962,1277.45 580.809,1293.59 601.655,1301.14 \n",
       "  622.502,1299.68 643.348,1289.05 664.194,1269.29 685.041,1240.65 705.887,1203.65 726.734,1159.18 747.58,1108.42 768.427,1052.72 789.273,993.518 810.12,932.309 \n",
       "  830.966,870.634 851.812,810.019 872.659,751.74 893.505,696.848 914.352,648.617 935.198,629.476 956.045,652.699 976.891,704.187 997.737,767.874 1018.58,832.367 \n",
       "  1039.43,892.384 1060.28,946.039 1081.12,992.862 1101.97,1033.09 1122.82,1067.52 1143.66,1097.41 1164.51,1124.42 1185.36,1150.41 1206.2,1177.21 1227.05,1206.5 \n",
       "  1247.89,1239.67 1268.74,1277.75 1289.59,1316.63 1310.43,1350.51 1331.28,1377.52 1352.13,1397.08 1372.97,1409.2 1393.82,1414.19 1414.67,1412.47 1435.51,1404.54 \n",
       "  1456.36,1390.9 1477.21,1372.04 1498.05,1348.5 1518.9,1320.82 1539.74,1289.59 1560.59,1255.45 1581.44,1219.08 1602.28,1181.16 1623.13,1142.32 1643.98,1103.1 \n",
       "  1664.82,1063.92 1685.67,1025.12 1706.52,986.962 1727.36,949.635 1748.21,913.272 1769.06,877.968 1789.9,843.78 1810.75,810.747 1831.59,778.891 1852.44,748.228 \n",
       "  1873.29,718.777 1894.13,690.561 1914.98,663.614 1935.83,637.985 1956.67,613.742 1977.52,590.976 1998.37,569.808 2019.21,550.389 2040.06,532.908 2060.91,517.591 \n",
       "  2081.75,504.702 2102.6,494.549 2123.45,487.484 2144.29,483.91 2165.14,484.285 2185.98,489.135 2206.83,499.055 2227.68,514.689 2248.52,536.49 2269.37,562.767 \n",
       "  2290.22,576.016 \n",
       "  \"/>\n",
       "<polyline clip-path=\"url(#clip022)\" style=\"stroke:#009af9; stroke-width:4; stroke-opacity:1; fill:none\" stroke-dasharray=\"16, 10\" points=\"\n",
       "  205.573,947.364 226.419,939.565 247.266,923.445 268.112,906.201 288.959,889.017 309.805,872.179 330.651,855.88 351.498,840.369 372.344,826.003 393.191,813.268 \n",
       "  414.037,802.785 434.884,795.289 455.73,791.569 476.576,792.299 497.423,797.806 518.269,807.917 539.116,821.934 559.962,838.896 580.809,857.929 601.655,878.376 \n",
       "  622.502,899.692 643.348,921.265 664.194,942.346 685.041,962.163 705.887,980.222 726.734,996.58 747.58,1011.78 768.427,1026.46 789.273,1040.96 810.12,1055.23 \n",
       "  830.966,1068.8 851.812,1081 872.659,1091.12 893.505,1098.49 914.352,1101.56 935.198,1091.16 956.045,1061.97 976.891,1019.63 997.737,970.356 1018.58,918.389 \n",
       "  1039.43,865.52 1060.28,812.324 1081.12,759.098 1101.97,706.257 1122.82,654.413 1143.66,604.292 1164.51,556.582 1185.36,511.834 1206.2,470.44 1227.05,432.703 \n",
       "  1247.89,398.915 1268.74,369.328 1289.59,344.125 1310.43,322.948 1331.28,304.95 1352.13,289.368 1372.97,275.649 1393.82,263.335 1414.67,251.949 1435.51,240.949 \n",
       "  1456.36,229.754 1477.21,217.779 1498.05,204.514 1518.9,189.648 1539.74,173.209 1560.59,155.631 1581.44,137.701 1602.28,120.486 1623.13,105.423 1643.98,94.1759 \n",
       "  1664.82,88.0873 1685.67,87.9763 1706.52,94.0643 1727.36,104.924 1748.21,117.598 1769.06,129.967 1789.9,141.216 1810.75,151.349 1831.59,160.6 1852.44,169.146 \n",
       "  1873.29,177.058 1894.13,184.347 1914.98,190.992 1935.83,196.957 1956.67,202.189 1977.52,206.619 1998.37,210.164 2019.21,212.725 2040.06,214.187 2060.91,214.423 \n",
       "  2081.75,213.287 2102.6,210.61 2123.45,206.193 2144.29,199.816 2165.14,191.257 2185.98,180.297 2206.83,166.628 2227.68,149.9 2248.52,129.863 2269.37,107.061 \n",
       "  2290.22,88.0227 \n",
       "  \"/>\n",
       "<polyline clip-path=\"url(#clip022)\" style=\"stroke:#e26f46; stroke-width:4; stroke-opacity:1; fill:none\" stroke-dasharray=\"16, 10\" points=\"\n",
       "  205.573,576.013 226.419,595.4 247.266,635.839 268.112,679.864 288.959,724.868 309.805,770.529 330.651,816.845 351.498,863.799 372.344,911.277 393.191,959.044 \n",
       "  414.037,1006.73 434.884,1053.83 455.73,1099.68 476.576,1143.45 497.423,1184.12 518.269,1220.49 539.116,1251.26 559.962,1275.2 580.809,1291.29 601.655,1298.79 \n",
       "  622.502,1297.3 643.348,1286.72 664.194,1267.05 685.041,1238.54 705.887,1201.72 726.734,1157.47 747.58,1106.95 768.427,1051.54 789.273,992.657 810.12,931.798 \n",
       "  830.966,870.505 851.812,810.285 872.659,752.393 893.505,697.853 914.352,649.898 935.198,630.725 956.045,653.325 976.891,703.874 997.737,766.687 1018.58,830.494 \n",
       "  1039.43,889.964 1060.28,943.169 1081.12,989.639 1101.97,1029.64 1122.82,1063.99 1143.66,1093.98 1164.51,1121.26 1185.36,1147.65 1206.2,1174.95 1227.05,1204.79 \n",
       "  1247.89,1238.49 1268.74,1277.03 1289.59,1317.99 1310.43,1356.38 1331.28,1388.99 1352.13,1414.46 1372.97,1432.32 1393.82,1442.62 1414.67,1445.72 1435.51,1442.2 \n",
       "  1456.36,1432.73 1477.21,1418 1498.05,1398.83 1518.9,1376.2 1539.74,1351.08 1560.59,1324.3 1581.44,1296.04 1602.28,1265.33 1623.13,1229.7 1643.98,1187.95 \n",
       "  1664.82,1140.58 1685.67,1087.63 1706.52,1028.91 1727.36,967.861 1748.21,910.322 1769.06,859.108 1789.9,814.229 1810.75,774.364 1831.59,738.135 1852.44,704.61 \n",
       "  1873.29,673.259 1894.13,643.794 1914.98,616.047 1935.83,589.922 1956.67,565.384 1977.52,542.441 1998.37,521.152 2019.21,501.616 2040.06,483.975 2060.91,468.41 \n",
       "  2081.75,455.149 2102.6,444.483 2123.45,436.766 2144.29,432.399 2165.14,431.788 2185.98,435.313 2206.83,443.561 2227.68,457.209 2248.52,476.633 2269.37,500.145 \n",
       "  2290.22,510.964 \n",
       "  \"/>\n",
       "<path clip-path=\"url(#clip020)\" d=\"\n",
       "M216.691 397.618 L583.905 397.618 L583.905 95.2176 L216.691 95.2176  Z\n",
       "  \" fill=\"#ffffff\" fill-rule=\"evenodd\" fill-opacity=\"1\"/>\n",
       "<polyline clip-path=\"url(#clip020)\" style=\"stroke:#000000; stroke-width:4; stroke-opacity:1; fill:none\" points=\"\n",
       "  216.691,397.618 583.905,397.618 583.905,95.2176 216.691,95.2176 216.691,397.618 \n",
       "  \"/>\n",
       "<polyline clip-path=\"url(#clip020)\" style=\"stroke:#009af9; stroke-width:4; stroke-opacity:1; fill:none\" points=\"\n",
       "  241.243,155.698 388.558,155.698 \n",
       "  \"/>\n",
       "<path clip-path=\"url(#clip020)\" d=\"M 0 0 M428.296 151.033 Q427.578 150.617 426.722 150.431 Q425.888 150.223 424.87 150.223 Q421.259 150.223 419.314 152.584 Q417.393 154.922 417.393 159.32 L417.393 172.978 L413.111 172.978 L413.111 147.052 L417.393 147.052 L417.393 151.08 Q418.736 148.718 420.888 147.584 Q423.041 146.427 426.12 146.427 Q426.56 146.427 427.092 146.496 Q427.624 146.543 428.273 146.658 L428.296 151.033 Z\" fill=\"#000000\" fill-rule=\"evenodd\" fill-opacity=\"1\" /><path clip-path=\"url(#clip020)\" d=\"M 0 0 M453.897 158.95 L453.897 161.033 L434.314 161.033 Q434.592 165.431 436.953 167.746 Q439.337 170.038 443.573 170.038 Q446.027 170.038 448.319 169.436 Q450.634 168.834 452.902 167.63 L452.902 171.658 Q450.61 172.63 448.203 173.14 Q445.796 173.649 443.319 173.649 Q437.115 173.649 433.481 170.038 Q429.87 166.427 429.87 160.269 Q429.87 153.904 433.296 150.177 Q436.745 146.427 442.578 146.427 Q447.81 146.427 450.842 149.806 Q453.897 153.163 453.897 158.95 M449.638 157.7 Q449.592 154.205 447.671 152.121 Q445.773 150.038 442.624 150.038 Q439.06 150.038 436.907 152.052 Q434.777 154.066 434.453 157.723 L449.638 157.7 Z\" fill=\"#000000\" fill-rule=\"evenodd\" fill-opacity=\"1\" /><path clip-path=\"url(#clip020)\" d=\"M 0 0 M471.49 136.959 L471.49 140.501 L467.416 140.501 Q465.124 140.501 464.222 141.427 Q463.342 142.353 463.342 144.76 L463.342 147.052 L470.356 147.052 L470.356 150.362 L463.342 150.362 L463.342 172.978 L459.06 172.978 L459.06 150.362 L454.985 150.362 L454.985 147.052 L459.06 147.052 L459.06 145.246 Q459.06 140.918 461.073 138.95 Q463.087 136.959 467.462 136.959 L471.49 136.959 Z\" fill=\"#000000\" fill-rule=\"evenodd\" fill-opacity=\"1\" /><polyline clip-path=\"url(#clip020)\" style=\"stroke:#e26f46; stroke-width:4; stroke-opacity:1; fill:none\" points=\"\n",
       "  241.243,216.178 388.558,216.178 \n",
       "  \"/>\n",
       "<path clip-path=\"url(#clip020)\" d=\"M 0 0 M428.296 211.513 Q427.578 211.097 426.722 210.911 Q425.888 210.703 424.87 210.703 Q421.259 210.703 419.314 213.064 Q417.393 215.402 417.393 219.8 L417.393 233.458 L413.111 233.458 L413.111 207.532 L417.393 207.532 L417.393 211.56 Q418.736 209.198 420.888 208.064 Q423.041 206.907 426.12 206.907 Q426.56 206.907 427.092 206.976 Q427.624 207.023 428.273 207.138 L428.296 211.513 Z\" fill=\"#000000\" fill-rule=\"evenodd\" fill-opacity=\"1\" /><path clip-path=\"url(#clip020)\" d=\"M 0 0 M453.897 219.43 L453.897 221.513 L434.314 221.513 Q434.592 225.911 436.953 228.226 Q439.337 230.518 443.573 230.518 Q446.027 230.518 448.319 229.916 Q450.634 229.314 452.902 228.11 L452.902 232.138 Q450.61 233.11 448.203 233.62 Q445.796 234.129 443.319 234.129 Q437.115 234.129 433.481 230.518 Q429.87 226.907 429.87 220.749 Q429.87 214.384 433.296 210.657 Q436.745 206.907 442.578 206.907 Q447.81 206.907 450.842 210.286 Q453.897 213.643 453.897 219.43 M449.638 218.18 Q449.592 214.685 447.671 212.601 Q445.773 210.518 442.624 210.518 Q439.06 210.518 436.907 212.532 Q434.777 214.546 434.453 218.203 L449.638 218.18 Z\" fill=\"#000000\" fill-rule=\"evenodd\" fill-opacity=\"1\" /><path clip-path=\"url(#clip020)\" d=\"M 0 0 M471.49 197.439 L471.49 200.981 L467.416 200.981 Q465.124 200.981 464.222 201.907 Q463.342 202.833 463.342 205.24 L463.342 207.532 L470.356 207.532 L470.356 210.842 L463.342 210.842 L463.342 233.458 L459.06 233.458 L459.06 210.842 L454.985 210.842 L454.985 207.532 L459.06 207.532 L459.06 205.726 Q459.06 201.398 461.073 199.43 Q463.087 197.439 467.462 197.439 L471.49 197.439 Z\" fill=\"#000000\" fill-rule=\"evenodd\" fill-opacity=\"1\" /><polyline clip-path=\"url(#clip020)\" style=\"stroke:#009af9; stroke-width:4; stroke-opacity:1; fill:none\" stroke-dasharray=\"16, 10\" points=\"\n",
       "  241.243,276.658 388.558,276.658 \n",
       "  \"/>\n",
       "<path clip-path=\"url(#clip020)\" d=\"M 0 0 M426.513 280.905 Q421.351 280.905 419.361 282.086 Q417.37 283.266 417.37 286.114 Q417.37 288.382 418.851 289.725 Q420.356 291.044 422.925 291.044 Q426.467 291.044 428.597 288.544 Q430.749 286.021 430.749 281.854 L430.749 280.905 L426.513 280.905 M435.009 279.146 L435.009 293.938 L430.749 293.938 L430.749 290.002 Q429.291 292.363 427.115 293.498 Q424.939 294.609 421.791 294.609 Q417.81 294.609 415.449 292.387 Q413.111 290.141 413.111 286.391 Q413.111 282.016 416.027 279.794 Q418.967 277.572 424.777 277.572 L430.749 277.572 L430.749 277.155 Q430.749 274.215 428.805 272.618 Q426.884 270.998 423.388 270.998 Q421.166 270.998 419.06 271.53 Q416.953 272.063 415.009 273.127 L415.009 269.192 Q417.347 268.29 419.546 267.85 Q421.745 267.387 423.828 267.387 Q429.453 267.387 432.231 270.303 Q435.009 273.22 435.009 279.146 Z\" fill=\"#000000\" fill-rule=\"evenodd\" fill-opacity=\"1\" /><path clip-path=\"url(#clip020)\" d=\"M 0 0 M458.134 269.007 L458.134 272.989 Q456.328 271.993 454.499 271.507 Q452.694 270.998 450.842 270.998 Q446.698 270.998 444.407 273.637 Q442.115 276.252 442.115 280.998 Q442.115 285.743 444.407 288.382 Q446.698 290.998 450.842 290.998 Q452.694 290.998 454.499 290.512 Q456.328 290.002 458.134 289.007 L458.134 292.942 Q456.351 293.776 454.43 294.192 Q452.532 294.609 450.379 294.609 Q444.523 294.609 441.073 290.928 Q437.624 287.248 437.624 280.998 Q437.624 274.655 441.097 271.021 Q444.592 267.387 450.657 267.387 Q452.624 267.387 454.499 267.803 Q456.374 268.197 458.134 269.007 Z\" fill=\"#000000\" fill-rule=\"evenodd\" fill-opacity=\"1\" /><path clip-path=\"url(#clip020)\" d=\"M 0 0 M466.814 260.651 L466.814 268.012 L475.587 268.012 L475.587 271.322 L466.814 271.322 L466.814 285.396 Q466.814 288.567 467.671 289.47 Q468.55 290.373 471.212 290.373 L475.587 290.373 L475.587 293.938 L471.212 293.938 Q466.282 293.938 464.407 292.109 Q462.532 290.257 462.532 285.396 L462.532 271.322 L459.407 271.322 L459.407 268.012 L462.532 268.012 L462.532 260.651 L466.814 260.651 Z\" fill=\"#000000\" fill-rule=\"evenodd\" fill-opacity=\"1\" /><path clip-path=\"url(#clip020)\" d=\"M 0 0 M479.615 283.706 L479.615 268.012 L483.874 268.012 L483.874 283.544 Q483.874 287.225 485.309 289.076 Q486.745 290.905 489.615 290.905 Q493.064 290.905 495.055 288.706 Q497.069 286.507 497.069 282.711 L497.069 268.012 L501.328 268.012 L501.328 293.938 L497.069 293.938 L497.069 289.956 Q495.518 292.317 493.457 293.475 Q491.42 294.609 488.712 294.609 Q484.245 294.609 481.93 291.831 Q479.615 289.053 479.615 283.706 M490.332 267.387 L490.332 267.387 Z\" fill=\"#000000\" fill-rule=\"evenodd\" fill-opacity=\"1\" /><path clip-path=\"url(#clip020)\" d=\"M 0 0 M517.578 280.905 Q512.416 280.905 510.425 282.086 Q508.434 283.266 508.434 286.114 Q508.434 288.382 509.916 289.725 Q511.42 291.044 513.99 291.044 Q517.531 291.044 519.661 288.544 Q521.814 286.021 521.814 281.854 L521.814 280.905 L517.578 280.905 M526.073 279.146 L526.073 293.938 L521.814 293.938 L521.814 290.002 Q520.355 292.363 518.18 293.498 Q516.004 294.609 512.856 294.609 Q508.874 294.609 506.513 292.387 Q504.175 290.141 504.175 286.391 Q504.175 282.016 507.092 279.794 Q510.031 277.572 515.842 277.572 L521.814 277.572 L521.814 277.155 Q521.814 274.215 519.869 272.618 Q517.948 270.998 514.453 270.998 Q512.231 270.998 510.124 271.53 Q508.018 272.063 506.073 273.127 L506.073 269.192 Q508.411 268.29 510.61 267.85 Q512.809 267.387 514.893 267.387 Q520.518 267.387 523.295 270.303 Q526.073 273.22 526.073 279.146 Z\" fill=\"#000000\" fill-rule=\"evenodd\" fill-opacity=\"1\" /><path clip-path=\"url(#clip020)\" d=\"M 0 0 M530.541 257.919 L534.8 257.919 L534.8 293.938 L530.541 293.938 L530.541 257.919 Z\" fill=\"#000000\" fill-rule=\"evenodd\" fill-opacity=\"1\" /><polyline clip-path=\"url(#clip020)\" style=\"stroke:#e26f46; stroke-width:4; stroke-opacity:1; fill:none\" stroke-dasharray=\"16, 10\" points=\"\n",
       "  241.243,337.138 388.558,337.138 \n",
       "  \"/>\n",
       "<path clip-path=\"url(#clip020)\" d=\"M 0 0 M426.513 341.385 Q421.351 341.385 419.361 342.566 Q417.37 343.746 417.37 346.594 Q417.37 348.862 418.851 350.205 Q420.356 351.524 422.925 351.524 Q426.467 351.524 428.597 349.024 Q430.749 346.501 430.749 342.334 L430.749 341.385 L426.513 341.385 M435.009 339.626 L435.009 354.418 L430.749 354.418 L430.749 350.482 Q429.291 352.843 427.115 353.978 Q424.939 355.089 421.791 355.089 Q417.81 355.089 415.449 352.867 Q413.111 350.621 413.111 346.871 Q413.111 342.496 416.027 340.274 Q418.967 338.052 424.777 338.052 L430.749 338.052 L430.749 337.635 Q430.749 334.695 428.805 333.098 Q426.884 331.478 423.388 331.478 Q421.166 331.478 419.06 332.01 Q416.953 332.543 415.009 333.607 L415.009 329.672 Q417.347 328.77 419.546 328.33 Q421.745 327.867 423.828 327.867 Q429.453 327.867 432.231 330.783 Q435.009 333.7 435.009 339.626 Z\" fill=\"#000000\" fill-rule=\"evenodd\" fill-opacity=\"1\" /><path clip-path=\"url(#clip020)\" d=\"M 0 0 M458.134 329.487 L458.134 333.469 Q456.328 332.473 454.499 331.987 Q452.694 331.478 450.842 331.478 Q446.698 331.478 444.407 334.117 Q442.115 336.732 442.115 341.478 Q442.115 346.223 444.407 348.862 Q446.698 351.478 450.842 351.478 Q452.694 351.478 454.499 350.992 Q456.328 350.482 458.134 349.487 L458.134 353.422 Q456.351 354.256 454.43 354.672 Q452.532 355.089 450.379 355.089 Q444.523 355.089 441.073 351.408 Q437.624 347.728 437.624 341.478 Q437.624 335.135 441.097 331.501 Q444.592 327.867 450.657 327.867 Q452.624 327.867 454.499 328.283 Q456.374 328.677 458.134 329.487 Z\" fill=\"#000000\" fill-rule=\"evenodd\" fill-opacity=\"1\" /><path clip-path=\"url(#clip020)\" d=\"M 0 0 M466.814 321.131 L466.814 328.492 L475.587 328.492 L475.587 331.802 L466.814 331.802 L466.814 345.876 Q466.814 349.047 467.671 349.95 Q468.55 350.853 471.212 350.853 L475.587 350.853 L475.587 354.418 L471.212 354.418 Q466.282 354.418 464.407 352.589 Q462.532 350.737 462.532 345.876 L462.532 331.802 L459.407 331.802 L459.407 328.492 L462.532 328.492 L462.532 321.131 L466.814 321.131 Z\" fill=\"#000000\" fill-rule=\"evenodd\" fill-opacity=\"1\" /><path clip-path=\"url(#clip020)\" d=\"M 0 0 M479.615 344.186 L479.615 328.492 L483.874 328.492 L483.874 344.024 Q483.874 347.705 485.309 349.556 Q486.745 351.385 489.615 351.385 Q493.064 351.385 495.055 349.186 Q497.069 346.987 497.069 343.191 L497.069 328.492 L501.328 328.492 L501.328 354.418 L497.069 354.418 L497.069 350.436 Q495.518 352.797 493.457 353.955 Q491.42 355.089 488.712 355.089 Q484.245 355.089 481.93 352.311 Q479.615 349.533 479.615 344.186 M490.332 327.867 L490.332 327.867 Z\" fill=\"#000000\" fill-rule=\"evenodd\" fill-opacity=\"1\" /><path clip-path=\"url(#clip020)\" d=\"M 0 0 M517.578 341.385 Q512.416 341.385 510.425 342.566 Q508.434 343.746 508.434 346.594 Q508.434 348.862 509.916 350.205 Q511.42 351.524 513.99 351.524 Q517.531 351.524 519.661 349.024 Q521.814 346.501 521.814 342.334 L521.814 341.385 L517.578 341.385 M526.073 339.626 L526.073 354.418 L521.814 354.418 L521.814 350.482 Q520.355 352.843 518.18 353.978 Q516.004 355.089 512.856 355.089 Q508.874 355.089 506.513 352.867 Q504.175 350.621 504.175 346.871 Q504.175 342.496 507.092 340.274 Q510.031 338.052 515.842 338.052 L521.814 338.052 L521.814 337.635 Q521.814 334.695 519.869 333.098 Q517.948 331.478 514.453 331.478 Q512.231 331.478 510.124 332.01 Q508.018 332.543 506.073 333.607 L506.073 329.672 Q508.411 328.77 510.61 328.33 Q512.809 327.867 514.893 327.867 Q520.518 327.867 523.295 330.783 Q526.073 333.7 526.073 339.626 Z\" fill=\"#000000\" fill-rule=\"evenodd\" fill-opacity=\"1\" /><path clip-path=\"url(#clip020)\" d=\"M 0 0 M530.541 318.399 L534.8 318.399 L534.8 354.418 L530.541 354.418 L530.541 318.399 Z\" fill=\"#000000\" fill-rule=\"evenodd\" fill-opacity=\"1\" /></svg>\n"
      ]
     },
     "execution_count": 15,
     "metadata": {},
     "output_type": "execute_result"
    }
   ],
   "source": [
    "# compare the joint angles\n",
    "plot(states(altro), inds=1:2, label=\"ref\")\n",
    "plot!(Xsim, inds=1:2, color=[1 2], ls=:dash, legend=:topleft, label=\"actual\")"
   ]
  },
  {
   "cell_type": "code",
   "execution_count": 16,
   "metadata": {},
   "outputs": [
    {
     "data": {
      "image/svg+xml": [
       "<?xml version=\"1.0\" encoding=\"utf-8\"?>\n",
       "<svg xmlns=\"http://www.w3.org/2000/svg\" xmlns:xlink=\"http://www.w3.org/1999/xlink\" width=\"600\" height=\"400\" viewBox=\"0 0 2400 1600\">\n",
       "<defs>\n",
       "  <clipPath id=\"clip060\">\n",
       "    <rect x=\"0\" y=\"0\" width=\"2400\" height=\"1600\"/>\n",
       "  </clipPath>\n",
       "</defs>\n",
       "<path clip-path=\"url(#clip060)\" d=\"\n",
       "M0 1600 L2400 1600 L2400 0 L0 0  Z\n",
       "  \" fill=\"#ffffff\" fill-rule=\"evenodd\" fill-opacity=\"1\"/>\n",
       "<defs>\n",
       "  <clipPath id=\"clip061\">\n",
       "    <rect x=\"480\" y=\"0\" width=\"1681\" height=\"1600\"/>\n",
       "  </clipPath>\n",
       "</defs>\n",
       "<path clip-path=\"url(#clip060)\" d=\"\n",
       "M169.469 1486.45 L2352.76 1486.45 L2352.76 47.2441 L169.469 47.2441  Z\n",
       "  \" fill=\"#ffffff\" fill-rule=\"evenodd\" fill-opacity=\"1\"/>\n",
       "<defs>\n",
       "  <clipPath id=\"clip062\">\n",
       "    <rect x=\"169\" y=\"47\" width=\"2184\" height=\"1440\"/>\n",
       "  </clipPath>\n",
       "</defs>\n",
       "<polyline clip-path=\"url(#clip062)\" style=\"stroke:#000000; stroke-width:2; stroke-opacity:0.1; fill:none\" points=\"\n",
       "  210.455,1486.45 210.455,47.2441 \n",
       "  \"/>\n",
       "<polyline clip-path=\"url(#clip062)\" style=\"stroke:#000000; stroke-width:2; stroke-opacity:0.1; fill:none\" points=\"\n",
       "  730.582,1486.45 730.582,47.2441 \n",
       "  \"/>\n",
       "<polyline clip-path=\"url(#clip062)\" style=\"stroke:#000000; stroke-width:2; stroke-opacity:0.1; fill:none\" points=\"\n",
       "  1250.71,1486.45 1250.71,47.2441 \n",
       "  \"/>\n",
       "<polyline clip-path=\"url(#clip062)\" style=\"stroke:#000000; stroke-width:2; stroke-opacity:0.1; fill:none\" points=\"\n",
       "  1770.84,1486.45 1770.84,47.2441 \n",
       "  \"/>\n",
       "<polyline clip-path=\"url(#clip062)\" style=\"stroke:#000000; stroke-width:2; stroke-opacity:0.1; fill:none\" points=\"\n",
       "  2290.96,1486.45 2290.96,47.2441 \n",
       "  \"/>\n",
       "<polyline clip-path=\"url(#clip060)\" style=\"stroke:#000000; stroke-width:4; stroke-opacity:1; fill:none\" points=\"\n",
       "  169.469,1486.45 2352.76,1486.45 \n",
       "  \"/>\n",
       "<polyline clip-path=\"url(#clip060)\" style=\"stroke:#000000; stroke-width:4; stroke-opacity:1; fill:none\" points=\"\n",
       "  210.455,1486.45 210.455,1469.18 \n",
       "  \"/>\n",
       "<polyline clip-path=\"url(#clip060)\" style=\"stroke:#000000; stroke-width:4; stroke-opacity:1; fill:none\" points=\"\n",
       "  730.582,1486.45 730.582,1469.18 \n",
       "  \"/>\n",
       "<polyline clip-path=\"url(#clip060)\" style=\"stroke:#000000; stroke-width:4; stroke-opacity:1; fill:none\" points=\"\n",
       "  1250.71,1486.45 1250.71,1469.18 \n",
       "  \"/>\n",
       "<polyline clip-path=\"url(#clip060)\" style=\"stroke:#000000; stroke-width:4; stroke-opacity:1; fill:none\" points=\"\n",
       "  1770.84,1486.45 1770.84,1469.18 \n",
       "  \"/>\n",
       "<polyline clip-path=\"url(#clip060)\" style=\"stroke:#000000; stroke-width:4; stroke-opacity:1; fill:none\" points=\"\n",
       "  2290.96,1486.45 2290.96,1469.18 \n",
       "  \"/>\n",
       "<path clip-path=\"url(#clip060)\" d=\"M 0 0 M210.455 1515.64 Q206.843 1515.64 205.015 1519.2 Q203.209 1522.75 203.209 1529.87 Q203.209 1536.98 205.015 1540.55 Q206.843 1544.09 210.455 1544.09 Q214.089 1544.09 215.894 1540.55 Q217.723 1536.98 217.723 1529.87 Q217.723 1522.75 215.894 1519.2 Q214.089 1515.64 210.455 1515.64 M210.455 1511.93 Q216.265 1511.93 219.32 1516.54 Q222.399 1521.12 222.399 1529.87 Q222.399 1538.6 219.32 1543.21 Q216.265 1547.79 210.455 1547.79 Q204.644 1547.79 201.566 1543.21 Q198.51 1538.6 198.51 1529.87 Q198.51 1521.12 201.566 1516.54 Q204.644 1511.93 210.455 1511.93 Z\" fill=\"#000000\" fill-rule=\"evenodd\" fill-opacity=\"1\" /><path clip-path=\"url(#clip060)\" d=\"M 0 0 M712.226 1543.18 L728.545 1543.18 L728.545 1547.12 L706.601 1547.12 L706.601 1543.18 Q709.263 1540.43 713.846 1535.8 Q718.453 1531.15 719.633 1529.81 Q721.878 1527.28 722.758 1525.55 Q723.661 1523.79 723.661 1522.1 Q723.661 1519.34 721.716 1517.61 Q719.795 1515.87 716.693 1515.87 Q714.494 1515.87 712.041 1516.63 Q709.61 1517.4 706.832 1518.95 L706.832 1514.23 Q709.656 1513.09 712.11 1512.51 Q714.564 1511.93 716.601 1511.93 Q721.971 1511.93 725.165 1514.62 Q728.36 1517.31 728.36 1521.8 Q728.36 1523.93 727.55 1525.85 Q726.763 1527.74 724.656 1530.34 Q724.078 1531.01 720.976 1534.23 Q717.874 1537.42 712.226 1543.18 Z\" fill=\"#000000\" fill-rule=\"evenodd\" fill-opacity=\"1\" /><path clip-path=\"url(#clip060)\" d=\"M 0 0 M733.661 1512.56 L752.017 1512.56 L752.017 1516.5 L737.943 1516.5 L737.943 1524.97 Q738.962 1524.62 739.98 1524.46 Q740.999 1524.27 742.017 1524.27 Q747.804 1524.27 751.184 1527.44 Q754.563 1530.62 754.563 1536.03 Q754.563 1541.61 751.091 1544.71 Q747.619 1547.79 741.3 1547.79 Q739.124 1547.79 736.855 1547.42 Q734.61 1547.05 732.202 1546.31 L732.202 1541.61 Q734.286 1542.74 736.508 1543.3 Q738.73 1543.86 741.207 1543.86 Q745.212 1543.86 747.55 1541.75 Q749.888 1539.64 749.888 1536.03 Q749.888 1532.42 747.55 1530.31 Q745.212 1528.21 741.207 1528.21 Q739.332 1528.21 737.457 1528.62 Q735.605 1529.04 733.661 1529.92 L733.661 1512.56 Z\" fill=\"#000000\" fill-rule=\"evenodd\" fill-opacity=\"1\" /><path clip-path=\"url(#clip060)\" d=\"M 0 0 M1227.48 1512.56 L1245.84 1512.56 L1245.84 1516.5 L1231.76 1516.5 L1231.76 1524.97 Q1232.78 1524.62 1233.8 1524.46 Q1234.82 1524.27 1235.84 1524.27 Q1241.62 1524.27 1245 1527.44 Q1248.38 1530.62 1248.38 1536.03 Q1248.38 1541.61 1244.91 1544.71 Q1241.44 1547.79 1235.12 1547.79 Q1232.94 1547.79 1230.68 1547.42 Q1228.43 1547.05 1226.02 1546.31 L1226.02 1541.61 Q1228.11 1542.74 1230.33 1543.3 Q1232.55 1543.86 1235.03 1543.86 Q1239.03 1543.86 1241.37 1541.75 Q1243.71 1539.64 1243.71 1536.03 Q1243.71 1532.42 1241.37 1530.31 Q1239.03 1528.21 1235.03 1528.21 Q1233.15 1528.21 1231.28 1528.62 Q1229.43 1529.04 1227.48 1529.92 L1227.48 1512.56 Z\" fill=\"#000000\" fill-rule=\"evenodd\" fill-opacity=\"1\" /><path clip-path=\"url(#clip060)\" d=\"M 0 0 M1263.45 1515.64 Q1259.84 1515.64 1258.01 1519.2 Q1256.21 1522.75 1256.21 1529.87 Q1256.21 1536.98 1258.01 1540.55 Q1259.84 1544.09 1263.45 1544.09 Q1267.09 1544.09 1268.89 1540.55 Q1270.72 1536.98 1270.72 1529.87 Q1270.72 1522.75 1268.89 1519.2 Q1267.09 1515.64 1263.45 1515.64 M1263.45 1511.93 Q1269.26 1511.93 1272.32 1516.54 Q1275.4 1521.12 1275.4 1529.87 Q1275.4 1538.6 1272.32 1543.21 Q1269.26 1547.79 1263.45 1547.79 Q1257.64 1547.79 1254.56 1543.21 Q1251.51 1538.6 1251.51 1529.87 Q1251.51 1521.12 1254.56 1516.54 Q1257.64 1511.93 1263.45 1511.93 Z\" fill=\"#000000\" fill-rule=\"evenodd\" fill-opacity=\"1\" /><path clip-path=\"url(#clip060)\" d=\"M 0 0 M1746.72 1512.56 L1768.94 1512.56 L1768.94 1514.55 L1756.39 1547.12 L1751.51 1547.12 L1763.31 1516.5 L1746.72 1516.5 L1746.72 1512.56 Z\" fill=\"#000000\" fill-rule=\"evenodd\" fill-opacity=\"1\" /><path clip-path=\"url(#clip060)\" d=\"M 0 0 M1774.05 1512.56 L1792.41 1512.56 L1792.41 1516.5 L1778.34 1516.5 L1778.34 1524.97 Q1779.36 1524.62 1780.37 1524.46 Q1781.39 1524.27 1782.41 1524.27 Q1788.2 1524.27 1791.58 1527.44 Q1794.96 1530.62 1794.96 1536.03 Q1794.96 1541.61 1791.49 1544.71 Q1788.01 1547.79 1781.69 1547.79 Q1779.52 1547.79 1777.25 1547.42 Q1775 1547.05 1772.6 1546.31 L1772.6 1541.61 Q1774.68 1542.74 1776.9 1543.3 Q1779.12 1543.86 1781.6 1543.86 Q1785.61 1543.86 1787.94 1541.75 Q1790.28 1539.64 1790.28 1536.03 Q1790.28 1532.42 1787.94 1530.31 Q1785.61 1528.21 1781.6 1528.21 Q1779.73 1528.21 1777.85 1528.62 Q1776 1529.04 1774.05 1529.92 L1774.05 1512.56 Z\" fill=\"#000000\" fill-rule=\"evenodd\" fill-opacity=\"1\" /><path clip-path=\"url(#clip060)\" d=\"M 0 0 M2254.33 1543.18 L2261.97 1543.18 L2261.97 1516.82 L2253.66 1518.49 L2253.66 1514.23 L2261.93 1512.56 L2266.6 1512.56 L2266.6 1543.18 L2274.24 1543.18 L2274.24 1547.12 L2254.33 1547.12 L2254.33 1543.18 Z\" fill=\"#000000\" fill-rule=\"evenodd\" fill-opacity=\"1\" /><path clip-path=\"url(#clip060)\" d=\"M 0 0 M2289.31 1515.64 Q2285.7 1515.64 2283.87 1519.2 Q2282.06 1522.75 2282.06 1529.87 Q2282.06 1536.98 2283.87 1540.55 Q2285.7 1544.09 2289.31 1544.09 Q2292.94 1544.09 2294.75 1540.55 Q2296.58 1536.98 2296.58 1529.87 Q2296.58 1522.75 2294.75 1519.2 Q2292.94 1515.64 2289.31 1515.64 M2289.31 1511.93 Q2295.12 1511.93 2298.18 1516.54 Q2301.25 1521.12 2301.25 1529.87 Q2301.25 1538.6 2298.18 1543.21 Q2295.12 1547.79 2289.31 1547.79 Q2283.5 1547.79 2280.42 1543.21 Q2277.37 1538.6 2277.37 1529.87 Q2277.37 1521.12 2280.42 1516.54 Q2283.5 1511.93 2289.31 1511.93 Z\" fill=\"#000000\" fill-rule=\"evenodd\" fill-opacity=\"1\" /><path clip-path=\"url(#clip060)\" d=\"M 0 0 M2316.32 1515.64 Q2312.71 1515.64 2310.88 1519.2 Q2309.08 1522.75 2309.08 1529.87 Q2309.08 1536.98 2310.88 1540.55 Q2312.71 1544.09 2316.32 1544.09 Q2319.96 1544.09 2321.76 1540.55 Q2323.59 1536.98 2323.59 1529.87 Q2323.59 1522.75 2321.76 1519.2 Q2319.96 1515.64 2316.32 1515.64 M2316.32 1511.93 Q2322.13 1511.93 2325.19 1516.54 Q2328.27 1521.12 2328.27 1529.87 Q2328.27 1538.6 2325.19 1543.21 Q2322.13 1547.79 2316.32 1547.79 Q2310.51 1547.79 2307.43 1543.21 Q2304.38 1538.6 2304.38 1529.87 Q2304.38 1521.12 2307.43 1516.54 Q2310.51 1511.93 2316.32 1511.93 Z\" fill=\"#000000\" fill-rule=\"evenodd\" fill-opacity=\"1\" /><polyline clip-path=\"url(#clip062)\" style=\"stroke:#000000; stroke-width:2; stroke-opacity:0.1; fill:none\" points=\"\n",
       "  169.469,1445.72 2352.76,1445.72 \n",
       "  \"/>\n",
       "<polyline clip-path=\"url(#clip062)\" style=\"stroke:#000000; stroke-width:2; stroke-opacity:0.1; fill:none\" points=\"\n",
       "  169.469,1106.28 2352.76,1106.28 \n",
       "  \"/>\n",
       "<polyline clip-path=\"url(#clip062)\" style=\"stroke:#000000; stroke-width:2; stroke-opacity:0.1; fill:none\" points=\"\n",
       "  169.469,766.846 2352.76,766.846 \n",
       "  \"/>\n",
       "<polyline clip-path=\"url(#clip062)\" style=\"stroke:#000000; stroke-width:2; stroke-opacity:0.1; fill:none\" points=\"\n",
       "  169.469,427.411 2352.76,427.411 \n",
       "  \"/>\n",
       "<polyline clip-path=\"url(#clip062)\" style=\"stroke:#000000; stroke-width:2; stroke-opacity:0.1; fill:none\" points=\"\n",
       "  169.469,87.9763 2352.76,87.9763 \n",
       "  \"/>\n",
       "<polyline clip-path=\"url(#clip060)\" style=\"stroke:#000000; stroke-width:4; stroke-opacity:1; fill:none\" points=\"\n",
       "  169.469,1486.45 169.469,47.2441 \n",
       "  \"/>\n",
       "<polyline clip-path=\"url(#clip060)\" style=\"stroke:#000000; stroke-width:4; stroke-opacity:1; fill:none\" points=\"\n",
       "  169.469,1445.72 195.668,1445.72 \n",
       "  \"/>\n",
       "<polyline clip-path=\"url(#clip060)\" style=\"stroke:#000000; stroke-width:4; stroke-opacity:1; fill:none\" points=\"\n",
       "  169.469,1106.28 195.668,1106.28 \n",
       "  \"/>\n",
       "<polyline clip-path=\"url(#clip060)\" style=\"stroke:#000000; stroke-width:4; stroke-opacity:1; fill:none\" points=\"\n",
       "  169.469,766.846 195.668,766.846 \n",
       "  \"/>\n",
       "<polyline clip-path=\"url(#clip060)\" style=\"stroke:#000000; stroke-width:4; stroke-opacity:1; fill:none\" points=\"\n",
       "  169.469,427.411 195.668,427.411 \n",
       "  \"/>\n",
       "<polyline clip-path=\"url(#clip060)\" style=\"stroke:#000000; stroke-width:4; stroke-opacity:1; fill:none\" points=\"\n",
       "  169.469,87.9763 195.668,87.9763 \n",
       "  \"/>\n",
       "<path clip-path=\"url(#clip060)\" d=\"M 0 0 M51.3625 1446.17 L81.0383 1446.17 L81.0383 1450.1 L51.3625 1450.1 L51.3625 1446.17 Z\" fill=\"#000000\" fill-rule=\"evenodd\" fill-opacity=\"1\" /><path clip-path=\"url(#clip060)\" d=\"M 0 0 M90.1354 1459.06 L106.455 1459.06 L106.455 1463 L84.5105 1463 L84.5105 1459.06 Q87.1725 1456.31 91.7558 1451.68 Q96.3623 1447.02 97.5428 1445.68 Q99.7882 1443.16 100.668 1441.42 Q101.571 1439.66 101.571 1437.97 Q101.571 1435.22 99.6261 1433.48 Q97.7048 1431.75 94.603 1431.75 Q92.4039 1431.75 89.9503 1432.51 Q87.5197 1433.27 84.7419 1434.82 L84.7419 1430.1 Q87.566 1428.97 90.0197 1428.39 Q92.4734 1427.81 94.5104 1427.81 Q99.8808 1427.81 103.075 1430.5 Q106.27 1433.18 106.27 1437.67 Q106.27 1439.8 105.459 1441.72 Q104.672 1443.62 102.566 1446.21 Q101.987 1446.88 98.8854 1450.1 Q95.7836 1453.3 90.1354 1459.06 Z\" fill=\"#000000\" fill-rule=\"evenodd\" fill-opacity=\"1\" /><path clip-path=\"url(#clip060)\" d=\"M 0 0 M121.524 1431.51 Q117.913 1431.51 116.084 1435.08 Q114.279 1438.62 114.279 1445.75 Q114.279 1452.86 116.084 1456.42 Q117.913 1459.96 121.524 1459.96 Q125.158 1459.96 126.964 1456.42 Q128.793 1452.86 128.793 1445.75 Q128.793 1438.62 126.964 1435.08 Q125.158 1431.51 121.524 1431.51 M121.524 1427.81 Q127.334 1427.81 130.39 1432.42 Q133.469 1437 133.469 1445.75 Q133.469 1454.48 130.39 1459.08 Q127.334 1463.67 121.524 1463.67 Q115.714 1463.67 112.635 1459.08 Q109.58 1454.48 109.58 1445.75 Q109.58 1437 112.635 1432.42 Q115.714 1427.81 121.524 1427.81 Z\" fill=\"#000000\" fill-rule=\"evenodd\" fill-opacity=\"1\" /><path clip-path=\"url(#clip060)\" d=\"M 0 0 M50.9921 1106.73 L80.6679 1106.73 L80.6679 1110.67 L50.9921 1110.67 L50.9921 1106.73 Z\" fill=\"#000000\" fill-rule=\"evenodd\" fill-opacity=\"1\" /><path clip-path=\"url(#clip060)\" d=\"M 0 0 M86.5475 1119.63 L94.1863 1119.63 L94.1863 1093.26 L85.8762 1094.93 L85.8762 1090.67 L94.14 1089 L98.8159 1089 L98.8159 1119.63 L106.455 1119.63 L106.455 1123.56 L86.5475 1123.56 L86.5475 1119.63 Z\" fill=\"#000000\" fill-rule=\"evenodd\" fill-opacity=\"1\" /><path clip-path=\"url(#clip060)\" d=\"M 0 0 M121.524 1092.08 Q117.913 1092.08 116.084 1095.64 Q114.279 1099.19 114.279 1106.32 Q114.279 1113.42 116.084 1116.99 Q117.913 1120.53 121.524 1120.53 Q125.158 1120.53 126.964 1116.99 Q128.793 1113.42 128.793 1106.32 Q128.793 1099.19 126.964 1095.64 Q125.158 1092.08 121.524 1092.08 M121.524 1088.38 Q127.334 1088.38 130.39 1092.98 Q133.469 1097.57 133.469 1106.32 Q133.469 1115.04 130.39 1119.65 Q127.334 1124.23 121.524 1124.23 Q115.714 1124.23 112.635 1119.65 Q109.58 1115.04 109.58 1106.32 Q109.58 1097.57 112.635 1092.98 Q115.714 1088.38 121.524 1088.38 Z\" fill=\"#000000\" fill-rule=\"evenodd\" fill-opacity=\"1\" /><path clip-path=\"url(#clip060)\" d=\"M 0 0 M121.524 752.645 Q117.913 752.645 116.084 756.209 Q114.279 759.751 114.279 766.881 Q114.279 773.987 116.084 777.552 Q117.913 781.094 121.524 781.094 Q125.158 781.094 126.964 777.552 Q128.793 773.987 128.793 766.881 Q128.793 759.751 126.964 756.209 Q125.158 752.645 121.524 752.645 M121.524 748.941 Q127.334 748.941 130.39 753.547 Q133.469 758.131 133.469 766.881 Q133.469 775.607 130.39 780.214 Q127.334 784.797 121.524 784.797 Q115.714 784.797 112.635 780.214 Q109.58 775.607 109.58 766.881 Q109.58 758.131 112.635 753.547 Q115.714 748.941 121.524 748.941 Z\" fill=\"#000000\" fill-rule=\"evenodd\" fill-opacity=\"1\" /><path clip-path=\"url(#clip060)\" d=\"M 0 0 M86.5475 440.756 L94.1863 440.756 L94.1863 414.39 L85.8762 416.057 L85.8762 411.798 L94.14 410.131 L98.8159 410.131 L98.8159 440.756 L106.455 440.756 L106.455 444.691 L86.5475 444.691 L86.5475 440.756 Z\" fill=\"#000000\" fill-rule=\"evenodd\" fill-opacity=\"1\" /><path clip-path=\"url(#clip060)\" d=\"M 0 0 M121.524 413.21 Q117.913 413.21 116.084 416.775 Q114.279 420.316 114.279 427.446 Q114.279 434.552 116.084 438.117 Q117.913 441.659 121.524 441.659 Q125.158 441.659 126.964 438.117 Q128.793 434.552 128.793 427.446 Q128.793 420.316 126.964 416.775 Q125.158 413.21 121.524 413.21 M121.524 409.506 Q127.334 409.506 130.39 414.113 Q133.469 418.696 133.469 427.446 Q133.469 436.173 130.39 440.779 Q127.334 445.362 121.524 445.362 Q115.714 445.362 112.635 440.779 Q109.58 436.173 109.58 427.446 Q109.58 418.696 112.635 414.113 Q115.714 409.506 121.524 409.506 Z\" fill=\"#000000\" fill-rule=\"evenodd\" fill-opacity=\"1\" /><path clip-path=\"url(#clip060)\" d=\"M 0 0 M90.1354 101.321 L106.455 101.321 L106.455 105.256 L84.5105 105.256 L84.5105 101.321 Q87.1725 98.5665 91.7558 93.9369 Q96.3623 89.2841 97.5428 87.9416 Q99.7882 85.4184 100.668 83.6823 Q101.571 81.9231 101.571 80.2333 Q101.571 77.4786 99.6261 75.7425 Q97.7048 74.0064 94.603 74.0064 Q92.4039 74.0064 89.9503 74.7703 Q87.5197 75.5342 84.7419 77.0851 L84.7419 72.3629 Q87.566 71.2287 90.0197 70.65 Q92.4734 70.0713 94.5104 70.0713 Q99.8808 70.0713 103.075 72.7565 Q106.27 75.4416 106.27 79.9323 Q106.27 82.062 105.459 83.9832 Q104.672 85.8814 102.566 88.474 Q101.987 89.1453 98.8854 92.3628 Q95.7836 95.5573 90.1354 101.321 Z\" fill=\"#000000\" fill-rule=\"evenodd\" fill-opacity=\"1\" /><path clip-path=\"url(#clip060)\" d=\"M 0 0 M121.524 73.775 Q117.913 73.775 116.084 77.3398 Q114.279 80.8814 114.279 88.011 Q114.279 95.1174 116.084 98.6822 Q117.913 102.224 121.524 102.224 Q125.158 102.224 126.964 98.6822 Q128.793 95.1174 128.793 88.011 Q128.793 80.8814 126.964 77.3398 Q125.158 73.775 121.524 73.775 M121.524 70.0713 Q127.334 70.0713 130.39 74.6777 Q133.469 79.261 133.469 88.011 Q133.469 96.7378 130.39 101.344 Q127.334 105.928 121.524 105.928 Q115.714 105.928 112.635 101.344 Q109.58 96.7378 109.58 88.011 Q109.58 79.261 112.635 74.6777 Q115.714 70.0713 121.524 70.0713 Z\" fill=\"#000000\" fill-rule=\"evenodd\" fill-opacity=\"1\" /><polyline clip-path=\"url(#clip062)\" style=\"stroke:#009af9; stroke-width:4; stroke-opacity:1; fill:none\" points=\"\n",
       "  231.26,1364.29 252.065,1041.72 272.87,1050.72 293.675,1108.3 314.48,1172 335.285,1233.45 356.09,1287.69 376.895,1329.27 397.701,1352.54 418.506,1352.43 \n",
       "  439.311,1324.86 460.116,1267.07 480.921,1178.28 501.726,1060.85 522.531,921.587 543.336,771.827 564.141,625.477 584.946,495.39 605.752,390.016 626.557,312.454 \n",
       "  647.362,262.092 668.167,237.825 688.972,241.456 709.777,278.639 730.582,354.569 751.387,466.338 772.192,599.319 792.997,731.427 813.803,840.029 834.608,906.77 \n",
       "  855.413,921.913 876.218,890.58 897.023,841.086 917.828,865.979 938.633,1445.72 959.438,1445.72 980.243,1445.72 1001.05,1445.72 1021.85,1445.72 1042.66,1445.72 \n",
       "  1063.46,1445.72 1084.27,1445.72 1105.07,1445.72 1125.88,1445.72 1146.68,1445.72 1167.49,1445.72 1188.29,1445.72 1209.1,1445.72 1229.9,1445.72 1250.71,1445.72 \n",
       "  1271.51,1445.72 1292.32,854.57 1313.12,659.745 1333.93,577.86 1354.74,547.436 1375.54,536.999 1396.35,531.294 1417.15,523.206 1437.96,509.814 1458.76,490.58 \n",
       "  1479.57,466.506 1500.37,439.722 1521.18,413.244 1541.98,390.681 1562.79,375.613 1583.59,370.437 1604.4,375.263 1625.2,387.95 1646.01,405.331 1666.81,424.521 \n",
       "  1687.62,443.563 1708.42,461.469 1729.23,478.005 1750.03,493.418 1770.84,508.21 1791.64,522.958 1812.45,538.183 1833.25,554.272 1854.06,571.449 1874.86,589.799 \n",
       "  1895.67,609.306 1916.47,629.91 1937.28,651.537 1958.08,674.121 1978.89,697.606 1999.69,721.937 2020.5,747.043 2041.3,772.811 2062.11,799.073 2082.91,825.577 \n",
       "  2103.72,851.971 2124.52,877.781 2145.33,902.414 2166.13,925.168 2186.94,945.288 2207.74,962.004 2228.55,974.085 2249.35,975.054 2270.16,914.86 2290.96,426.769 \n",
       "  \n",
       "  \"/>\n",
       "<polyline clip-path=\"url(#clip062)\" style=\"stroke:#e26f46; stroke-width:4; stroke-opacity:1; fill:none\" points=\"\n",
       "  231.26,1364.29 252.065,1046.84 272.87,1054.33 293.675,1111.05 314.48,1174.37 335.285,1235.62 356.09,1289.73 376.895,1331.22 397.701,1354.45 418.506,1354.35 \n",
       "  439.311,1326.89 460.116,1269.36 480.921,1181.03 501.726,1064.9 522.531,927.255 543.336,778.291 564.141,631.725 584.946,500.703 605.752,394.304 626.557,316.087 \n",
       "  647.362,263.29 668.167,237.017 688.972,239.752 709.777,276.423 730.582,351.751 751.387,462.574 772.192,594.283 792.997,725.004 813.803,832.398 834.608,898.445 \n",
       "  855.413,913.729 876.218,883.451 897.023,835.54 917.828,862.028 938.633,1443.84 959.438,1445.72 980.243,1445.72 1001.05,1445.72 1021.85,1445.72 1042.66,1445.72 \n",
       "  1063.46,1445.72 1084.27,1445.72 1105.07,1445.72 1125.88,1445.72 1146.68,1445.72 1167.49,1445.72 1188.29,1445.72 1209.1,1445.72 1229.9,1445.72 1250.71,1445.72 \n",
       "  1271.51,1445.72 1292.32,1077.19 1313.12,788.099 1333.93,656.244 1354.74,598.295 1375.54,575.054 1396.35,567.913 1417.15,567.062 1437.96,566.739 1458.76,562.156 \n",
       "  1479.57,560.255 1500.37,563.376 1521.18,571.249 1541.98,577.347 1562.79,563.027 1583.59,495.136 1604.4,335.554 1625.2,87.9763 1646.01,87.9763 1666.81,87.9763 \n",
       "  1687.62,87.9763 1708.42,132.038 1729.23,536.048 1750.03,723.898 1770.84,730.229 1791.64,674.115 1812.45,628.103 1833.25,609.41 1854.06,610.85 1874.86,622.95 \n",
       "  1895.67,640.277 1916.47,660.419 1937.28,682.287 1958.08,705.314 1978.89,729.18 1999.69,753.696 2020.5,778.738 2041.3,804.205 2062.11,829.999 2082.91,855.957 \n",
       "  2103.72,881.665 2124.52,906.406 2145.33,929.439 2166.13,950.141 2186.94,968.948 2207.74,984.564 2228.55,992.368 2249.35,985.369 2270.16,913.527 2290.96,411.038 \n",
       "  \n",
       "  \"/>\n",
       "<path clip-path=\"url(#clip060)\" d=\"\n",
       "M1915.7 276.658 L2279.98 276.658 L2279.98 95.2176 L1915.7 95.2176  Z\n",
       "  \" fill=\"#ffffff\" fill-rule=\"evenodd\" fill-opacity=\"1\"/>\n",
       "<polyline clip-path=\"url(#clip060)\" style=\"stroke:#000000; stroke-width:4; stroke-opacity:1; fill:none\" points=\"\n",
       "  1915.7,276.658 2279.98,276.658 2279.98,95.2176 1915.7,95.2176 1915.7,276.658 \n",
       "  \"/>\n",
       "<polyline clip-path=\"url(#clip060)\" style=\"stroke:#009af9; stroke-width:4; stroke-opacity:1; fill:none\" points=\"\n",
       "  1939.96,155.698 2085.51,155.698 \n",
       "  \"/>\n",
       "<path clip-path=\"url(#clip060)\" d=\"M 0 0 M2124.96 151.033 Q2124.24 150.617 2123.38 150.431 Q2122.55 150.223 2121.53 150.223 Q2117.92 150.223 2115.98 152.584 Q2114.06 154.922 2114.06 159.32 L2114.06 172.978 L2109.77 172.978 L2109.77 147.052 L2114.06 147.052 L2114.06 151.08 Q2115.4 148.718 2117.55 147.584 Q2119.7 146.427 2122.78 146.427 Q2123.22 146.427 2123.75 146.496 Q2124.29 146.543 2124.93 146.658 L2124.96 151.033 Z\" fill=\"#000000\" fill-rule=\"evenodd\" fill-opacity=\"1\" /><path clip-path=\"url(#clip060)\" d=\"M 0 0 M2150.56 158.95 L2150.56 161.033 L2130.98 161.033 Q2131.25 165.431 2133.62 167.746 Q2136 170.038 2140.24 170.038 Q2142.69 170.038 2144.98 169.436 Q2147.3 168.834 2149.56 167.63 L2149.56 171.658 Q2147.27 172.63 2144.87 173.14 Q2142.46 173.649 2139.98 173.649 Q2133.78 173.649 2130.14 170.038 Q2126.53 166.427 2126.53 160.269 Q2126.53 153.904 2129.96 150.177 Q2133.41 146.427 2139.24 146.427 Q2144.47 146.427 2147.5 149.806 Q2150.56 153.163 2150.56 158.95 M2146.3 157.7 Q2146.25 154.205 2144.33 152.121 Q2142.43 150.038 2139.29 150.038 Q2135.72 150.038 2133.57 152.052 Q2131.44 154.066 2131.12 157.723 L2146.3 157.7 Z\" fill=\"#000000\" fill-rule=\"evenodd\" fill-opacity=\"1\" /><path clip-path=\"url(#clip060)\" d=\"M 0 0 M2168.15 136.959 L2168.15 140.501 L2164.08 140.501 Q2161.79 140.501 2160.88 141.427 Q2160 142.353 2160 144.76 L2160 147.052 L2167.02 147.052 L2167.02 150.362 L2160 150.362 L2160 172.978 L2155.72 172.978 L2155.72 150.362 L2151.65 150.362 L2151.65 147.052 L2155.72 147.052 L2155.72 145.246 Q2155.72 140.918 2157.74 138.95 Q2159.75 136.959 2164.12 136.959 L2168.15 136.959 Z\" fill=\"#000000\" fill-rule=\"evenodd\" fill-opacity=\"1\" /><polyline clip-path=\"url(#clip060)\" style=\"stroke:#e26f46; stroke-width:4; stroke-opacity:1; fill:none\" points=\"\n",
       "  1939.96,216.178 2085.51,216.178 \n",
       "  \"/>\n",
       "<path clip-path=\"url(#clip060)\" d=\"M 0 0 M2123.18 220.425 Q2118.01 220.425 2116.02 221.606 Q2114.03 222.786 2114.03 225.634 Q2114.03 227.902 2115.51 229.245 Q2117.02 230.564 2119.59 230.564 Q2123.13 230.564 2125.26 228.064 Q2127.41 225.541 2127.41 221.374 L2127.41 220.425 L2123.18 220.425 M2131.67 218.666 L2131.67 233.458 L2127.41 233.458 L2127.41 229.522 Q2125.95 231.883 2123.78 233.018 Q2121.6 234.129 2118.45 234.129 Q2114.47 234.129 2112.11 231.907 Q2109.77 229.661 2109.77 225.911 Q2109.77 221.536 2112.69 219.314 Q2115.63 217.092 2121.44 217.092 L2127.41 217.092 L2127.41 216.675 Q2127.41 213.735 2125.47 212.138 Q2123.55 210.518 2120.05 210.518 Q2117.83 210.518 2115.72 211.05 Q2113.62 211.583 2111.67 212.647 L2111.67 208.712 Q2114.01 207.81 2116.21 207.37 Q2118.41 206.907 2120.49 206.907 Q2126.12 206.907 2128.89 209.823 Q2131.67 212.74 2131.67 218.666 Z\" fill=\"#000000\" fill-rule=\"evenodd\" fill-opacity=\"1\" /><path clip-path=\"url(#clip060)\" d=\"M 0 0 M2154.8 208.527 L2154.8 212.509 Q2152.99 211.513 2151.16 211.027 Q2149.36 210.518 2147.5 210.518 Q2143.36 210.518 2141.07 213.157 Q2138.78 215.772 2138.78 220.518 Q2138.78 225.263 2141.07 227.902 Q2143.36 230.518 2147.5 230.518 Q2149.36 230.518 2151.16 230.032 Q2152.99 229.522 2154.8 228.527 L2154.8 232.462 Q2153.01 233.296 2151.09 233.712 Q2149.19 234.129 2147.04 234.129 Q2141.18 234.129 2137.74 230.448 Q2134.29 226.768 2134.29 220.518 Q2134.29 214.175 2137.76 210.541 Q2141.25 206.907 2147.32 206.907 Q2149.29 206.907 2151.16 207.323 Q2153.04 207.717 2154.8 208.527 Z\" fill=\"#000000\" fill-rule=\"evenodd\" fill-opacity=\"1\" /><path clip-path=\"url(#clip060)\" d=\"M 0 0 M2163.48 200.171 L2163.48 207.532 L2172.25 207.532 L2172.25 210.842 L2163.48 210.842 L2163.48 224.916 Q2163.48 228.087 2164.33 228.99 Q2165.21 229.893 2167.87 229.893 L2172.25 229.893 L2172.25 233.458 L2167.87 233.458 Q2162.94 233.458 2161.07 231.629 Q2159.19 229.777 2159.19 224.916 L2159.19 210.842 L2156.07 210.842 L2156.07 207.532 L2159.19 207.532 L2159.19 200.171 L2163.48 200.171 Z\" fill=\"#000000\" fill-rule=\"evenodd\" fill-opacity=\"1\" /><path clip-path=\"url(#clip060)\" d=\"M 0 0 M2176.28 223.226 L2176.28 207.532 L2180.54 207.532 L2180.54 223.064 Q2180.54 226.745 2181.97 228.596 Q2183.41 230.425 2186.28 230.425 Q2189.73 230.425 2191.72 228.226 Q2193.73 226.027 2193.73 222.231 L2193.73 207.532 L2197.99 207.532 L2197.99 233.458 L2193.73 233.458 L2193.73 229.476 Q2192.18 231.837 2190.12 232.995 Q2188.08 234.129 2185.37 234.129 Q2180.91 234.129 2178.59 231.351 Q2176.28 228.573 2176.28 223.226 M2186.99 206.907 L2186.99 206.907 Z\" fill=\"#000000\" fill-rule=\"evenodd\" fill-opacity=\"1\" /><path clip-path=\"url(#clip060)\" d=\"M 0 0 M2214.24 220.425 Q2209.08 220.425 2207.09 221.606 Q2205.1 222.786 2205.1 225.634 Q2205.1 227.902 2206.58 229.245 Q2208.08 230.564 2210.65 230.564 Q2214.19 230.564 2216.32 228.064 Q2218.48 225.541 2218.48 221.374 L2218.48 220.425 L2214.24 220.425 M2222.74 218.666 L2222.74 233.458 L2218.48 233.458 L2218.48 229.522 Q2217.02 231.883 2214.84 233.018 Q2212.67 234.129 2209.52 234.129 Q2205.54 234.129 2203.18 231.907 Q2200.84 229.661 2200.84 225.911 Q2200.84 221.536 2203.75 219.314 Q2206.69 217.092 2212.5 217.092 L2218.48 217.092 L2218.48 216.675 Q2218.48 213.735 2216.53 212.138 Q2214.61 210.518 2211.12 210.518 Q2208.89 210.518 2206.79 211.05 Q2204.68 211.583 2202.74 212.647 L2202.74 208.712 Q2205.07 207.81 2207.27 207.37 Q2209.47 206.907 2211.55 206.907 Q2217.18 206.907 2219.96 209.823 Q2222.74 212.74 2222.74 218.666 Z\" fill=\"#000000\" fill-rule=\"evenodd\" fill-opacity=\"1\" /><path clip-path=\"url(#clip060)\" d=\"M 0 0 M2227.2 197.439 L2231.46 197.439 L2231.46 233.458 L2227.2 233.458 L2227.2 197.439 Z\" fill=\"#000000\" fill-rule=\"evenodd\" fill-opacity=\"1\" /></svg>\n"
      ]
     },
     "execution_count": 16,
     "metadata": {},
     "output_type": "execute_result"
    }
   ],
   "source": [
    "# compare the controls\n",
    "plot(controls(altro), label=\"ref\")\n",
    "plot!(Usim, label=\"actual\")"
   ]
  },
  {
   "cell_type": "markdown",
   "metadata": {},
   "source": [
    "## Part (b): ILC (19 pts)\n",
    "With a reference trajectory and closed-loop controller, let's use ILC to modify the feedforward (reference) control inputs to get our \"real\" system to match our expected trajectory. At each iteration of ILC you should solve a QP of the following form:\n",
    "\n",
    "$$\n",
    "\\begin{align}\n",
    "\\text{minimize} &&& \\frac{1}{2} (\\Delta x_N - \\Delta \\bar{x}_N)^T Q_N (\\Delta x_N - \\Delta \\bar{x}_N) \n",
    "+ \\frac{1}{2} \\sum_{k=1}^{N-1} (\\delta x_k - \\delta \\bar{x}_k)^T Q_k (\\delta x_k - \\delta \\bar{x}_k)\n",
    "                             + (\\delta u_k - \\delta \\bar{u}_k)^T R_k (\\delta u_k - \\delta \\bar{u}_k) \\\\\n",
    "\\text{subject to} &&& \\Delta x_{k+1} = A_k \\Delta x_k + B_k \\Delta x_k \\\\\n",
    "                  &&& -\\Delta u_\\text{bnd} \\leq \\Delta u_k \\leq \\Delta u_\\text{bnd}\n",
    "\\end{align}\n",
    "$$\n",
    "where $\\Delta x = x - x_\\text{ref}$, $\\bar{x}_k$ is the trajectory from the real system, and $x_\\text{ref}$, $u_\\text{ref}$ is the reference trajectory. After every iteration, the reference controls $u_\\text{ref}$ are updated using $\\Delta u$. "
   ]
  },
  {
   "cell_type": "code",
   "execution_count": 47,
   "metadata": {},
   "outputs": [
    {
     "data": {
      "text/plain": [
       "update_qp!"
      ]
     },
     "execution_count": 47,
     "metadata": {},
     "output_type": "execute_result"
    }
   ],
   "source": [
    "# TASK: Complete the following function\n",
    "#       1. build_qp    (5 pts)\n",
    "#       2. update_qp!  (4 pts)\n",
    "\n",
    "\"\"\"\n",
    "    ILCData\n",
    "\n",
    "Store basic information about the iterative learning control (ILC)\n",
    "problem, including the quadratic cost function matrices, the reference\n",
    "trajectory, and the control bounds.\n",
    "\"\"\"\n",
    "struct ILCData{n,m,T}\n",
    "    Q::Diagonal{T,SVector{n,T}}\n",
    "    R::Diagonal{T,SVector{m,T}}\n",
    "    Qf::Diagonal{T,SVector{n,T}}\n",
    "    Xref::Vector{SVector{n,T}}\n",
    "    Uref::Vector{SVector{m,T}}\n",
    "    times::Vector{T}\n",
    "    u_bnd::T\n",
    "end\n",
    "\n",
    "\"\"\"\n",
    "    build_qp(data, Xsim, Usim, A,B,K)\n",
    "\n",
    "Build the QP for the ILC problem, using the data for the ILC problem in `data`,\n",
    "the trajectories from the real system `Xsim`, `Usim`, the linearization about\n",
    "the reference trajectory `A`, `B`, and the feedback matrices `K`.\n",
    "\n",
    "TIP: The dynamics constraints should be on the closed-loop system.\n",
    "\"\"\"\n",
    "function build_qp(data::ILCData, Xsim, Usim, A,B,K)\n",
    "    Nh = length(data.Xref)\n",
    "    n,m = size(B[1])\n",
    "    Xref,Uref = data.Xref, data.Uref\n",
    "    \n",
    "    # TODO: Build the QP for ILC\n",
    "    Np = (Nh-1)*(n+m)         # number of primals\n",
    "    Nd = (Nh-1)*n + (Nh-1)*m  #  number of duals\n",
    "    H = spzeros(Np,Np)\n",
    "    q = zeros(Np)\n",
    "    C = spzeros(Nd,Np)\n",
    "    lb = fill(-Inf,Nd)\n",
    "    ub = fill(+Inf,Nd)\n",
    "    \n",
    "    # SOLUTION\n",
    "    # Cost\n",
    "    Qilc = sparse(data.Q)\n",
    "    Rilc = sparse(data.R)\n",
    "    H = blockdiag(kron(I(Nh-2), blockdiag(Rilc, Qilc)), Rilc, sparse(data.Qf))\n",
    "    q = zeros((n+m)*(Nh-1))\n",
    "    for k = 1:(Nh-2)\n",
    "        q[(k-1)*(m+n) .+ (1:(m+n))] .= [0.0; Qilc*(Xsim[k+1]-Xref[k+1])]\n",
    "    end\n",
    "    q[(Nh-2)*(m+n) .+ (1:(m+n))] .= [0.0; Qf*(Xsim[Nh]-Xref[Nh])]\n",
    "    \n",
    "    # Constraints\n",
    "    U = kron(I(Nh-1), [I zeros(m,n)]) #Matrix that picks out all u\n",
    "    X = kron(I(Nh-1), [zeros(n,m) I]) #Matrix that picks out all x\n",
    "    D = spzeros(n*(Nh-1), (n+m)*(Nh-1)) #dynamics constraints\n",
    "    D[1:n,1:m] .= B[1]\n",
    "    D[1:n,(m+1):(m+n)] .= -I(n)\n",
    "    for k = 1:(Nh-2)\n",
    "        D[(k*n).+(1:n), (m+(k-1)*(n+m)).+(1:(2*n+m))] .= [(A[k+1]-B[k+1]*K[k+1]) B[k+1] -I]\n",
    "    end\n",
    "    Ubar = hcat(Vector.(Uref)...)\n",
    "    C = [D; U]\n",
    "    lb = [zeros(n*(Nh-1)); -u_bnd .- vec(Ubar)]\n",
    "    ub = [zeros(n*(Nh-1)); +u_bnd .- vec(Ubar)]\n",
    "    # END SOLUTION\n",
    "    \n",
    "    # Build QP\n",
    "    qp = OSQP.Model()\n",
    "    OSQP.setup!(\n",
    "        qp, P=H, q=q, A=C, l=lb, u=ub,\n",
    "        # QP Parameters: feel free to change these, but these values should work fine\n",
    "        eps_abs=1e-6, eps_rel=1e-6, eps_prim_inf = 1.0e-6, eps_dual_inf = 1.0e-6, polish=1, verbose=0\n",
    "    )\n",
    "    return qp\n",
    "end\n",
    "\n",
    "\"\"\"\n",
    "    update_qp!(qp, data, X, U)\n",
    "\n",
    "Update the ILC QP with the current trajectories `X` and `U` from the real system.\n",
    "\"\"\"\n",
    "function update_qp!(qp::OSQP.Model, data, X, U)\n",
    "    Nh = length(data.Xref)\n",
    "    n,m = length(X[1]), length(U[1])\n",
    "    Qilc, Rilc, Qf = data.Q, data.R, data.Qf\n",
    "    \n",
    "    # TODO: Update the QP with the new data\n",
    "    Np = (Nh-1)*(n+m)\n",
    "    q = zeros(Np)\n",
    "    \n",
    "    # SOLUTION\n",
    "    for k = 1:(Nh-2)\n",
    "        q[(k-1)*(m+n) .+ (1:(m+n))] .= [0.0; Qilc*(X[k+1]-data.Xref[k+1])]\n",
    "    end\n",
    "    q[(Nh-2)*(m+n) .+ (1:(m+n))] .= [0.0; Qf*(X[Nh]-data.Xref[Nh])]\n",
    "    # END SOLUTION\n",
    "    \n",
    "    OSQP.update_q!(qp, q)\n",
    "    return q\n",
    "end"
   ]
  },
  {
   "cell_type": "code",
   "execution_count": 78,
   "metadata": {},
   "outputs": [
    {
     "data": {
      "text/plain": [
       "run_ilc"
      ]
     },
     "execution_count": 78,
     "metadata": {},
     "output_type": "execute_result"
    }
   ],
   "source": [
    "# TASK: Implement ILC  (10 pts)\n",
    "\"\"\"\n",
    "    run_ilc(altro; [verbose])\n",
    "\n",
    "Run ILC on the output on the problem and optimized trajectory stored in `altro`. \n",
    "Should iterate until improvements in the SSE between the state trajectory of the real \n",
    "system and the nominal trajectory is small (less than `tol`).\n",
    "\"\"\"\n",
    "function run_ilc(altro;\n",
    "        verbose=true,\n",
    "        tol=1e-2\n",
    "    )\n",
    "    # Get nominal trajectory\n",
    "    Xref = states(altro)\n",
    "    Uref = controls(altro);\n",
    "    n,m,Nh = size(altro)\n",
    "    \n",
    "    # Get costs out of solver\n",
    "    Q = get_objective(altro).obj[1].Q\n",
    "    R = get_objective(altro).obj[1].R\n",
    "    Qf = get_objective(altro).obj[end].Q\n",
    "    \n",
    "    # Get bound out of solver\n",
    "    u_bnd = get_constraints(altro).convals[1].con.z_max[end]\n",
    "    \n",
    "    # ILC Cost functions    \n",
    "    Qilc = Diagonal(SA[1.0; 1.0; 1.0; 1.0])\n",
    "    Rilc = Diagonal(SA[0.1])\n",
    "    \n",
    "    # Generate ILC Data\n",
    "    data = ILCData(Qilc,Rilc,Qf, Xref, Uref, get_times(altro), u_bnd);\n",
    "    \n",
    "    # TODO: Use ILC to improve the tracking performance\n",
    "    #  TIP: you'll need to generate A,B,K and using the code from part (a)\n",
    "    #  TIP: compute the first SSE value outside the loop, and compare between subsequent iterations\n",
    "    #  TIP: you should only need to call build_qp once\n",
    "    Xsim = deepcopy(Xref)\n",
    "    Usim = deepcopy(Uref)\n",
    "    \n",
    "    # SOLUTION\n",
    "    # Generate Tracking Controller\n",
    "    A,B = linearize(model, states(altro), controls(altro), get_times(altro))\n",
    "    K,P = tvlqr(A,B, Q,R,Qf);\n",
    "    U = kron(I(Nh-1), [I zeros(m,n)]) #Matrix that picks out all u\n",
    "    \n",
    "    # Generate first problem\n",
    "    Xsim,Usim = rollout(model, K, Xref, Uref, get_times(altro));\n",
    "    sse_prev = norm(Xsim - Xref)\n",
    "    qp0 = build_qp(data, Xsim, Usim, A,B,K);\n",
    "    verbose && @printf(\"Iter 0: sse = %0.3f\\n\", sse_prev)\n",
    "    \n",
    "    for iter = 1:10\n",
    "        # Solve QP and modify feedforward controls\n",
    "        res0 = OSQP.solve!(qp0)\n",
    "        Δu = reshape(U*res0.x, m, N-1)\n",
    "        for k = 1:N-1\n",
    "            Uref[k] += Δu[:,k]\n",
    "        end\n",
    "        \n",
    "        # Simulate the system with the new feedforward controls\n",
    "        Xsim,Usim = rollout(model, K, Xref, Uref, get_times(altro));\n",
    "        sse = norm(Xsim - Xref)\n",
    "        verbose && @printf(\"Iter %d: sse = %0.3f (%0.2e)\\n\", iter, sse, sse_prev-sse)\n",
    "        if sse_prev - sse < tol\n",
    "            break\n",
    "        end\n",
    "        sse_prev = sse\n",
    "        \n",
    "        # Update the QP\n",
    "        data.Uref .= Uref\n",
    "        q0 = update_qp!(qp0, data, Xsim, Usim)\n",
    "        \n",
    "    end\n",
    "    # END SOLUTION\n",
    "    return Xsim,Usim\n",
    "end"
   ]
  },
  {
   "cell_type": "code",
   "execution_count": 81,
   "metadata": {},
   "outputs": [
    {
     "name": "stdout",
     "output_type": "stream",
     "text": [
      "Iter 0: sse = 5.845\n",
      "Iter 1: sse = 3.949 (1.90e+00)\n",
      "Iter 2: sse = 3.084 (8.65e-01)\n",
      "Iter 3: sse = 2.533 (5.51e-01)\n",
      "Iter 4: sse = 2.226 (3.07e-01)\n",
      "Iter 5: sse = 2.128 (9.82e-02)\n",
      "Iter 6: sse = 2.100 (2.81e-02)\n",
      "Iter 7: sse = 2.089 (1.12e-02)\n",
      "Iter 8: sse = 2.088 (7.73e-04)\n"
     ]
    }
   ],
   "source": [
    "Xilc,Uilc = run_ilc(altro);"
   ]
  },
  {
   "cell_type": "code",
   "execution_count": 88,
   "metadata": {},
   "outputs": [
    {
     "data": {
      "text/plain": [
       "\u001b[32m\u001b[1mTest Passed\u001b[22m\u001b[39m"
      ]
     },
     "execution_count": 88,
     "metadata": {},
     "output_type": "execute_result"
    }
   ],
   "source": [
    "@testset begin \"Part b\"\n",
    "    @test norm(Xilc - Xref) < 2.1\n",
    "    @test 10 < norm(Uilc - Uref) < 20\n",
    "    @test norm(Xilc[end] - Xref[end]) < 0.05\n",
    "end;"
   ]
  },
  {
   "cell_type": "code",
   "execution_count": 57,
   "metadata": {},
   "outputs": [
    {
     "data": {
      "text/html": [
       "    <div style=\"height: 500px; width: 100%; overflow-x: auto; overflow-y: hidden; resize: both\">\n",
       "    <iframe src=\"http://127.0.0.1:8700\" style=\"width: 100%; height: 100%; border: none\"></iframe>\n",
       "    </div>\n"
      ],
      "text/plain": [
       "MeshCat.DisplayedVisualizer(MeshCat.CoreVisualizer(MeshCat.SceneTrees.SceneNode(nothing, nothing, Dict{String,Array{UInt8,1}}(), UInt8[0x83, 0xa7, 0x6f, 0x70, 0x74, 0x69, 0x6f, 0x6e, 0x73, 0x82  …  0x5f, 0x61, 0x6e, 0x69, 0x6d, 0x61, 0x74, 0x69, 0x6f, 0x6e], Dict{String,MeshCat.SceneTrees.SceneNode}(\"meshcat\" => MeshCat.SceneTrees.SceneNode(nothing, nothing, Dict{String,Array{UInt8,1}}(), nothing, Dict{String,MeshCat.SceneTrees.SceneNode}(\"robot_copies\" => MeshCat.SceneTrees.SceneNode(nothing, nothing, Dict{String,Array{UInt8,1}}(), nothing, Dict{String,MeshCat.SceneTrees.SceneNode}(\"robot2\" => MeshCat.SceneTrees.SceneNode(nothing, nothing, Dict{String,Array{UInt8,1}}(), nothing, Dict{String,MeshCat.SceneTrees.SceneNode}(\"robot\" => MeshCat.SceneTrees.SceneNode(nothing, nothing, Dict{String,Array{UInt8,1}}(), nothing, Dict{String,MeshCat.SceneTrees.SceneNode}(\"base\" => MeshCat.SceneTrees.SceneNode(UInt8[0x83, 0xa6, 0x6f, 0x62, 0x6a, 0x65, 0x63, 0x74, 0x84, 0xaa  …  0x72, 0x6f, 0x62, 0x6f, 0x74, 0x2f, 0x62, 0x61, 0x73, 0x65], nothing, Dict{String,Array{UInt8,1}}(), nothing, Dict{String,MeshCat.SceneTrees.SceneNode}()),\"link1\" => MeshCat.SceneTrees.SceneNode(UInt8[0x83, 0xa6, 0x6f, 0x62, 0x6a, 0x65, 0x63, 0x74, 0x84, 0xaa  …  0x6f, 0x62, 0x6f, 0x74, 0x2f, 0x6c, 0x69, 0x6e, 0x6b, 0x31], nothing, Dict{String,Array{UInt8,1}}(), nothing, Dict{String,MeshCat.SceneTrees.SceneNode}(\"joint\" => MeshCat.SceneTrees.SceneNode(UInt8[0x83, 0xa6, 0x6f, 0x62, 0x6a, 0x65, 0x63, 0x74, 0x84, 0xaa  …  0x69, 0x6e, 0x6b, 0x31, 0x2f, 0x6a, 0x6f, 0x69, 0x6e, 0x74], UInt8[0x83, 0xa6, 0x6d, 0x61, 0x74, 0x72, 0x69, 0x78, 0xc7, 0x40  …  0x69, 0x6e, 0x6b, 0x31, 0x2f, 0x6a, 0x6f, 0x69, 0x6e, 0x74], Dict{String,Array{UInt8,1}}(), nothing, Dict{String,MeshCat.SceneTrees.SceneNode}()),\"link2\" => MeshCat.SceneTrees.SceneNode(UInt8[0x83, 0xa6, 0x6f, 0x62, 0x6a, 0x65, 0x63, 0x74, 0x84, 0xaa  …  0x69, 0x6e, 0x6b, 0x31, 0x2f, 0x6c, 0x69, 0x6e, 0x6b, 0x32], UInt8[0x83, 0xa6, 0x6d, 0x61, 0x74, 0x72, 0x69, 0x78, 0xc7, 0x40  …  0x69, 0x6e, 0x6b, 0x31, 0x2f, 0x6c, 0x69, 0x6e, 0x6b, 0x32], Dict{String,Array{UInt8,1}}(), nothing, Dict{String,MeshCat.SceneTrees.SceneNode}()))))))))),\"robot\" => MeshCat.SceneTrees.SceneNode(nothing, nothing, Dict{String,Array{UInt8,1}}(), nothing, Dict{String,MeshCat.SceneTrees.SceneNode}(\"base\" => MeshCat.SceneTrees.SceneNode(UInt8[0x83, 0xa6, 0x6f, 0x62, 0x6a, 0x65, 0x63, 0x74, 0x84, 0xaa  …  0x72, 0x6f, 0x62, 0x6f, 0x74, 0x2f, 0x62, 0x61, 0x73, 0x65], nothing, Dict{String,Array{UInt8,1}}(), nothing, Dict{String,MeshCat.SceneTrees.SceneNode}()),\"link1\" => MeshCat.SceneTrees.SceneNode(UInt8[0x83, 0xa6, 0x6f, 0x62, 0x6a, 0x65, 0x63, 0x74, 0x84, 0xaa  …  0x6f, 0x62, 0x6f, 0x74, 0x2f, 0x6c, 0x69, 0x6e, 0x6b, 0x31], nothing, Dict{String,Array{UInt8,1}}(), nothing, Dict{String,MeshCat.SceneTrees.SceneNode}(\"joint\" => MeshCat.SceneTrees.SceneNode(UInt8[0x83, 0xa6, 0x6f, 0x62, 0x6a, 0x65, 0x63, 0x74, 0x84, 0xaa  …  0x69, 0x6e, 0x6b, 0x31, 0x2f, 0x6a, 0x6f, 0x69, 0x6e, 0x74], UInt8[0x83, 0xa6, 0x6d, 0x61, 0x74, 0x72, 0x69, 0x78, 0xc7, 0x40  …  0x69, 0x6e, 0x6b, 0x31, 0x2f, 0x6a, 0x6f, 0x69, 0x6e, 0x74], Dict{String,Array{UInt8,1}}(), nothing, Dict{String,MeshCat.SceneTrees.SceneNode}()),\"link2\" => MeshCat.SceneTrees.SceneNode(UInt8[0x83, 0xa6, 0x6f, 0x62, 0x6a, 0x65, 0x63, 0x74, 0x84, 0xaa  …  0x69, 0x6e, 0x6b, 0x31, 0x2f, 0x6c, 0x69, 0x6e, 0x6b, 0x32], UInt8[0x83, 0xa6, 0x6d, 0x61, 0x74, 0x72, 0x69, 0x78, 0xc7, 0x40  …  0x69, 0x6e, 0x6b, 0x31, 0x2f, 0x6c, 0x69, 0x6e, 0x6b, 0x32], Dict{String,Array{UInt8,1}}(), nothing, Dict{String,MeshCat.SceneTrees.SceneNode}()))))))))), Set(Any[WebSocket(server, \u001b[32mCONNECTED\u001b[39m), WebSocket(server, \u001b[32mCONNECTED\u001b[39m), WebSocket(server, \u001b[32mCONNECTED\u001b[39m)]), ip\"127.0.0.1\", 8700))"
      ]
     },
     "execution_count": 57,
     "metadata": {},
     "output_type": "execute_result"
    }
   ],
   "source": [
    "render(vis)"
   ]
  },
  {
   "cell_type": "code",
   "execution_count": 59,
   "metadata": {},
   "outputs": [],
   "source": [
    "# visualize the result (reference shown as a ghost)\n",
    "# TIP: solutions will differ slightly, but should both reach the goal position\n",
    "visualize!(vis, model, Tf, Xilc, states(altro), colors=[colorant\"blue\", RGBA(0,0,1,0.5)])"
   ]
  }
 ],
 "metadata": {
  "kernelspec": {
   "display_name": "Julia 1.5.3",
   "language": "julia",
   "name": "julia-1.5"
  },
  "language_info": {
   "file_extension": ".jl",
   "mimetype": "application/julia",
   "name": "julia",
   "version": "1.5.3"
  }
 },
 "nbformat": 4,
 "nbformat_minor": 4
}
