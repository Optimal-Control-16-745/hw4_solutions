{
 "cells": [
  {
   "cell_type": "code",
   "execution_count": 28,
   "metadata": {},
   "outputs": [
    {
     "name": "stderr",
     "output_type": "stream",
     "text": [
      "\u001b[32m\u001b[1m Activating\u001b[22m\u001b[39m environment at `~/Classes/OptimalControl/hw4_solutions/Project.toml`\n"
     ]
    },
    {
     "data": {
      "text/plain": [
       "cost (generic function with 2 methods)"
      ]
     },
     "execution_count": 28,
     "metadata": {},
     "output_type": "execute_result"
    }
   ],
   "source": [
    "import Pkg; Pkg.activate(joinpath(@__DIR__,\"..\")); Pkg.instantiate()\n",
    "using LinearAlgebra\n",
    "using PyPlot\n",
    "using ForwardDiff\n",
    "using RobotZoo\n",
    "using RobotDynamics\n",
    "using Ipopt\n",
    "using MathOptInterface\n",
    "const MOI = MathOptInterface;\n",
    "include(\"quadratic_cost.jl\")"
   ]
  },
  {
   "cell_type": "code",
   "execution_count": null,
   "metadata": {},
   "outputs": [],
   "source": []
  },
  {
   "cell_type": "code",
   "execution_count": 48,
   "metadata": {},
   "outputs": [
    {
     "data": {
      "text/plain": [
       "5-element Array{UnitRange{Int64},1}:\n",
       " 1:12\n",
       " 13:24\n",
       " 25:552\n",
       " 553:597\n",
       " 598:687"
      ]
     },
     "execution_count": 48,
     "metadata": {},
     "output_type": "execute_result"
    }
   ],
   "source": [
    "Nx = 12         # number of state\n",
    "Nu = 3          # number of controls\n",
    "Tfinal = 4.4    # final time\n",
    "h = 0.1         # 10 hz\n",
    "Nm = 5          # number of steps in each mode\n",
    "Nt = Int(ceil(Tfinal/h)+1)   # number of time steps\n",
    "Nmodes = Int(ceil(Nt/Nm))\n",
    "thist = Array(range(0,h*(Nt-1), step=h));\n",
    "n_nlp = Nx*Nt + Nu*(Nt-1) # number of decision variables\n",
    "c_init_inds = 1:Nx                                                   # initial constraint\n",
    "c_term_inds = (c_init_inds[end]+1):(c_init_inds[end]+Nx)             # terminal constraint\n",
    "c_dyn_inds = (c_term_inds[end]+1):(c_term_inds[end]+Nx*(Nt-1))       # dynamics constraints\n",
    "c_stance_inds = (c_dyn_inds[end]+1):(c_dyn_inds[end]+Nt)             # stance constraint (1 per time step)\n",
    "c_length_inds = (c_stance_inds[end]+1):(c_stance_inds[end]+(2*Nt))   # length bounds     (2 per time step)\n",
    "m_nlp = c_length_inds[end]                                           # total constraints\n",
    "cinds = [c_init_inds, c_term_inds, c_dyn_inds, c_stance_inds, c_length_inds]"
   ]
  },
  {
   "cell_type": "code",
   "execution_count": 53,
   "metadata": {},
   "outputs": [
    {
     "data": {
      "text/plain": [
       "687"
      ]
     },
     "execution_count": 53,
     "metadata": {},
     "output_type": "execute_result"
    }
   ],
   "source": [
    "cinds[end][end]"
   ]
  },
  {
   "cell_type": "code",
   "execution_count": 94,
   "metadata": {},
   "outputs": [
    {
     "data": {
      "text/plain": [
       "jump2_map (generic function with 1 method)"
      ]
     },
     "execution_count": 94,
     "metadata": {},
     "output_type": "execute_result"
    }
   ],
   "source": [
    "#Walker Dynamics\n",
    "Base.@kwdef struct Walker\n",
    "    g::Float64 = 9.81\n",
    "    mb::Float64 = 5.0\n",
    "    mf::Float64 = 1.0\n",
    "    ℓ_min::Float64 = 0.5\n",
    "    ℓ_max::Float64 = 1.5\n",
    "end\n",
    "g = 9.81\n",
    "mb = 5.0 #body mass\n",
    "mf = 1.0 #foot mass\n",
    "ℓ_min = 0.5 #minimum length\n",
    "ℓ_max = 1.5 #maximum length\n",
    "\n",
    "function stance1_dynamics(x,u)\n",
    "    #Foot 1 is in contact\n",
    "    M = Diagonal([mb mb mf mf mf mf])\n",
    "    \n",
    "    rb  = x[1:2]   # position of the body\n",
    "    rf1 = x[3:4]   # position of foot 1\n",
    "    rf2 = x[5:6]   # position of foot 2\n",
    "    v   = x[7:12]  # velocities\n",
    "    \n",
    "    ℓ1x = (rb[1]-rf1[1])/norm(rb-rf1)\n",
    "    ℓ1y = (rb[2]-rf1[2])/norm(rb-rf1)\n",
    "    ℓ2x = (rb[1]-rf2[1])/norm(rb-rf2)\n",
    "    ℓ2y = (rb[2]-rf2[2])/norm(rb-rf2)\n",
    "    \n",
    "    B = [ℓ1x  ℓ2x  ℓ1y-ℓ2y;\n",
    "         ℓ1y  ℓ2y  ℓ2x-ℓ1x;\n",
    "          0    0     0;\n",
    "          0    0     0;\n",
    "          0  -ℓ2x  ℓ2y;\n",
    "          0  -ℓ2y -ℓ2x]\n",
    "    \n",
    "    v̇ = [0; -g; 0; 0; 0; -g] + M\\(B*u)\n",
    "    \n",
    "    ẋ = [v; v̇]\n",
    "end\n",
    "\n",
    "function stance2_dynamics(x,u)\n",
    "    #Foot 2 is in contact\n",
    "    M = Diagonal([mb mb mf mf mf mf])\n",
    "    \n",
    "    rb  = x[1:2]\n",
    "    rf1 = x[3:4]\n",
    "    rf2 = x[5:6]\n",
    "    v   = x[7:12]\n",
    "    \n",
    "    ℓ1x = (rb[1]-rf1[1])/norm(rb-rf1)\n",
    "    ℓ1y = (rb[2]-rf1[2])/norm(rb-rf1)\n",
    "    ℓ2x = (rb[1]-rf2[1])/norm(rb-rf2)\n",
    "    ℓ2y = (rb[2]-rf2[2])/norm(rb-rf2)\n",
    "    \n",
    "    B = [ℓ1x  ℓ2x  ℓ1y-ℓ2y;\n",
    "         ℓ1y  ℓ2y  ℓ2x-ℓ1x;\n",
    "        -ℓ1x   0  -ℓ1y;\n",
    "        -ℓ1y   0   ℓ1x;\n",
    "          0    0    0;\n",
    "          0    0    0]\n",
    "    \n",
    "    v̇ = [0; -g; 0; -g; 0; 0] + M\\(B*u)\n",
    "    \n",
    "    ẋ = [v; v̇]\n",
    "end\n",
    "\n",
    "function stance1_dynamics_rk4(x,u)\n",
    "    #RK4 integration with zero-order hold on u\n",
    "    f1 = stance1_dynamics(x, u)\n",
    "    f2 = stance1_dynamics(x + 0.5*h*f1, u)\n",
    "    f3 = stance1_dynamics(x + 0.5*h*f2, u)\n",
    "    f4 = stance1_dynamics(x + h*f3, u)\n",
    "    return x + (h/6.0)*(f1 + 2*f2 + 2*f3 + f4)\n",
    "end\n",
    "\n",
    "function stance2_dynamics_rk4(x,u)\n",
    "    #RK4 integration with zero-order hold on u\n",
    "    f1 = stance2_dynamics(x, u)\n",
    "    f2 = stance2_dynamics(x + 0.5*h*f1, u)\n",
    "    f3 = stance2_dynamics(x + 0.5*h*f2, u)\n",
    "    f4 = stance2_dynamics(x + h*f3, u)\n",
    "    return x + (h/6.0)*(f1 + 2*f2 + 2*f3 + f4)\n",
    "end\n",
    "\n",
    "function jump1_map(x)\n",
    "    #Foot 1 experiences inelastic collision\n",
    "    xn = [x[1:8]; 0.0; 0.0; x[11:12]]\n",
    "    return xn\n",
    "end\n",
    "\n",
    "function jump2_map(x)\n",
    "    #Foot 2 experiences inelastic collision\n",
    "    xn = [x[1:10]; 0.0; 0.0]\n",
    "    return xn\n",
    "end"
   ]
  },
  {
   "cell_type": "code",
   "execution_count": 69,
   "metadata": {},
   "outputs": [],
   "source": [
    "# Cost weights\n",
    "Q = Diagonal([1.0*ones(6); 1.0*ones(6)]);\n",
    "R = 0.001;\n",
    "R = Diagonal(fill(1e-3,3))\n",
    "Qn = Q;"
   ]
  },
  {
   "cell_type": "code",
   "execution_count": 70,
   "metadata": {},
   "outputs": [
    {
     "data": {
      "text/plain": [
       "terminal_cost (generic function with 1 method)"
      ]
     },
     "execution_count": 70,
     "metadata": {},
     "output_type": "execute_result"
    }
   ],
   "source": [
    "function stage_cost(x,u,k)\n",
    "    return 0.5*((x-xref[:,k])'*Q*(x-xref[:,k])) + 0.5*(u-uref)'*R*(u-uref)\n",
    "end\n",
    "function terminal_cost(x)\n",
    "    return 0.5*((x-xref[:,end])'*Qn*(x-xref[:,end]))\n",
    "end"
   ]
  },
  {
   "cell_type": "code",
   "execution_count": 119,
   "metadata": {},
   "outputs": [
    {
     "data": {
      "text/plain": [
       "-0.6014756249999993"
      ]
     },
     "execution_count": 119,
     "metadata": {},
     "output_type": "execute_result"
    }
   ],
   "source": [
    "k = Nt-1\n",
    "stage_cost(xguess[:,k], uguess[:,k], k) - stagecost(obj[k], xguess[:,k], uguess[:,k])\n",
    "\n",
    "terminal_cost(xguess[:,end]) - termcost(obj[end], xguess[:,end])"
   ]
  },
  {
   "cell_type": "code",
   "execution_count": 71,
   "metadata": {},
   "outputs": [
    {
     "data": {
      "text/plain": [
       "cost (generic function with 2 methods)"
      ]
     },
     "execution_count": 71,
     "metadata": {},
     "output_type": "execute_result"
    }
   ],
   "source": [
    "function cost(ztraj)\n",
    "    z = reshape(ztraj[1:(end-Nx)],Nx+Nu,Nt-1)\n",
    "    xtraj = [z[1:Nx,:] ztraj[end-(Nx-1):end]]\n",
    "    utraj = z[(Nx+1):(Nx+Nu),:]\n",
    "    J = 0.0\n",
    "    for k = 1:(Nt-1)\n",
    "        J += stage_cost(xtraj[:,k],utraj[:,k],k)\n",
    "    end\n",
    "    J += terminal_cost(xtraj[:,end])\n",
    "    return J\n",
    "end"
   ]
  },
  {
   "cell_type": "code",
   "execution_count": 72,
   "metadata": {},
   "outputs": [],
   "source": [
    "#Reference Trajectory\n",
    "uref = [0.5*mb*g; 0.5*mb*g; 0.0]\n",
    "xref = zeros(Nx,Nt)\n",
    "xref[1,:] .= LinRange(-1.5,1.5,Nt)\n",
    "xref[2,:] .= ones(Nt)\n",
    "xref[3,:] .= LinRange(-1.5,1.5,Nt)\n",
    "xref[5,:] .= LinRange(-1.5,1.5,Nt)\n",
    "xref[7,2:end-1] .= (3.0/Tfinal)*ones(Nt-2)\n",
    "xref[9,2:end-1] .= (3.0/Tfinal)*ones(Nt-2)\n",
    "xref[11,2:end-1] .= (3.0/Tfinal)*ones(Nt-2);"
   ]
  },
  {
   "cell_type": "code",
   "execution_count": 73,
   "metadata": {},
   "outputs": [
    {
     "data": {
      "text/plain": [
       "dynamics_constraint! (generic function with 2 methods)"
      ]
     },
     "execution_count": 73,
     "metadata": {},
     "output_type": "execute_result"
    }
   ],
   "source": [
    "function dynamics_constraint!(c,ztraj)\n",
    "    d = reshape(view(c,c_dyn_inds),Nx,Nt-1)\n",
    "    z = reshape(ztraj[1:(end-Nx)],Nx+Nu,Nt-1)\n",
    "    xtraj = [z[1:Nx,:] ztraj[end-(Nx-1):end]]\n",
    "    utraj = z[(Nx+1):(Nx+Nu),:]\n",
    "    for k = 1:(Nmodes-1)\n",
    "        if mod(k,2) == 1\n",
    "            for j = 1:(Nm-1)\n",
    "                s = (k-1)*Nm + j\n",
    "                d[:,s] = stance1_dynamics_rk4(xtraj[:,s],utraj[:,s]) - xtraj[:,s+1]\n",
    "            end\n",
    "            s = k*Nm\n",
    "            d[:,s] = jump2_map(stance1_dynamics_rk4(xtraj[:,s],utraj[:,s])) - xtraj[:,s+1]\n",
    "        else\n",
    "            for j = 1:(Nm-1)\n",
    "                s = (k-1)*Nm + j\n",
    "                d[:,s] = stance2_dynamics_rk4(xtraj[:,s],utraj[:,s]) - xtraj[:,s+1]\n",
    "            end\n",
    "            s = k*Nm\n",
    "            d[:,s] = jump1_map(stance2_dynamics_rk4(xtraj[:,s],utraj[:,s])) - xtraj[:,s+1]\n",
    "        end\n",
    "    end\n",
    "    if mod(Nmodes,2) == 1\n",
    "        for j = 1:(Nm-1)\n",
    "            s = (Nmodes-1)*Nm + j\n",
    "            d[:,s] = stance1_dynamics_rk4(xtraj[:,s],utraj[:,s]) - xtraj[:,s+1]\n",
    "        end\n",
    "    else\n",
    "        for j = 1:(Nm-1)\n",
    "            s = (Nmodes-1)*Nm + j\n",
    "            d[:,s] = stance2_dynamics_rk4(xtraj[:,s],utraj[:,s]) - xtraj[:,s+1]\n",
    "        end\n",
    "    end\n",
    "    \n",
    "    return nothing\n",
    "end"
   ]
  },
  {
   "cell_type": "code",
   "execution_count": 74,
   "metadata": {},
   "outputs": [
    {
     "data": {
      "text/plain": [
       "stance_constraint! (generic function with 1 method)"
      ]
     },
     "execution_count": 74,
     "metadata": {},
     "output_type": "execute_result"
    }
   ],
   "source": [
    "function stance_constraint!(c,ztraj)\n",
    "    d = view(c,c_stance_inds)\n",
    "    z = reshape(ztraj[1:(end-Nx)],Nx+Nu,Nt-1)\n",
    "    xtraj = [z[1:Nx,:] ztraj[(end-(Nx-1)):end]]\n",
    "    t = 1\n",
    "    for k = 1:Nmodes\n",
    "        if mod(k,2) == 1\n",
    "            for j = 1:Nm\n",
    "                s = (k-1)*Nm + j\n",
    "                d[t] = xtraj[4,s]  # keep foot on the floor\n",
    "                t += 1\n",
    "            end\n",
    "        else\n",
    "            for j = 1:Nm\n",
    "                s = (k-1)*Nm + j\n",
    "                d[t] = xtraj[6,s]\n",
    "                t += 1\n",
    "            end\n",
    "        end\n",
    "            \n",
    "    end\n",
    "    return nothing\n",
    "end"
   ]
  },
  {
   "cell_type": "code",
   "execution_count": 75,
   "metadata": {},
   "outputs": [
    {
     "data": {
      "text/plain": [
       "length_constraint! (generic function with 1 method)"
      ]
     },
     "execution_count": 75,
     "metadata": {},
     "output_type": "execute_result"
    }
   ],
   "source": [
    "function length_constraint!(c,ztraj)\n",
    "    d = view(c,c_length_inds)\n",
    "    z = reshape(ztraj[1:(end-Nx)],Nx+Nu,Nt-1)\n",
    "    xtraj = [z[1:Nx,:] ztraj[(end-(Nx-1)):end]]\n",
    "    for k = 1:Nt\n",
    "        d[2*(k-1)+1] = norm(xtraj[1:2,k] - xtraj[3:4,k])\n",
    "        d[2*(k-1)+2] = norm(xtraj[1:2,k] - xtraj[5:6,k])\n",
    "    end\n",
    "end"
   ]
  },
  {
   "cell_type": "code",
   "execution_count": 76,
   "metadata": {},
   "outputs": [
    {
     "data": {
      "text/plain": [
       "con! (generic function with 1 method)"
      ]
     },
     "execution_count": 76,
     "metadata": {},
     "output_type": "execute_result"
    }
   ],
   "source": [
    "function con!(c,ztraj)\n",
    "    c[c_init_inds] .= ztraj[1:Nx] - xref[:,1] #initial state constraint\n",
    "    c[c_term_inds] .= ztraj[(end-(Nx-1)):end] - xref[:,end] #terminal state constraint\n",
    "    @views dynamics_constraint!(c,ztraj)\n",
    "    @views stance_constraint!(c,ztraj)\n",
    "    @views length_constraint!(c,ztraj)\n",
    "end"
   ]
  },
  {
   "cell_type": "code",
   "execution_count": 77,
   "metadata": {},
   "outputs": [
    {
     "data": {
      "text/plain": [
       "solve (generic function with 1 method)"
      ]
     },
     "execution_count": 77,
     "metadata": {},
     "output_type": "execute_result"
    }
   ],
   "source": [
    "struct ProblemMOI <: MOI.AbstractNLPEvaluator\n",
    "    n_nlp::Int\n",
    "    m_nlp::Int\n",
    "    idx_ineq\n",
    "    obj_grad::Bool\n",
    "    con_jac::Bool\n",
    "    sparsity_jac\n",
    "    sparsity_hess\n",
    "    primal_bounds\n",
    "    constraint_bounds\n",
    "    hessian_lagrangian::Bool\n",
    "end\n",
    "\n",
    "function ProblemMOI(n_nlp,m_nlp;\n",
    "        idx_ineq=c_length_inds,\n",
    "        obj_grad=true,\n",
    "        con_jac=true,\n",
    "        sparsity_jac=sparsity_jacobian(n_nlp,m_nlp),\n",
    "        sparsity_hess=sparsity_hessian(n_nlp,m_nlp),\n",
    "        primal_bounds=primal_bounds(n_nlp),\n",
    "        constraint_bounds=constraint_bounds(m_nlp,idx_ineq=idx_ineq),\n",
    "        hessian_lagrangian=false)\n",
    "\n",
    "    ProblemMOI(n_nlp,m_nlp,\n",
    "        idx_ineq,\n",
    "        obj_grad,\n",
    "        con_jac,\n",
    "        sparsity_jac,\n",
    "        sparsity_hess,\n",
    "        primal_bounds,\n",
    "        constraint_bounds,\n",
    "        hessian_lagrangian)\n",
    "end\n",
    "\n",
    "function primal_bounds(n)\n",
    "    x_l = -Inf*ones(n)\n",
    "    x_u = Inf*ones(n)\n",
    "    return x_l, x_u\n",
    "end\n",
    "\n",
    "function constraint_bounds(m; idx_ineq=(1:0))\n",
    "    c_l = zeros(m)\n",
    "    c_l[idx_ineq] .= ℓ_min\n",
    "\n",
    "    c_u = zeros(m)\n",
    "    c_u[idx_ineq] .= ℓ_max\n",
    "    return c_l, c_u\n",
    "end\n",
    "\n",
    "function row_col!(row,col,r,c)\n",
    "    for cc in c\n",
    "        for rr in r\n",
    "            push!(row,convert(Int,rr))\n",
    "            push!(col,convert(Int,cc))\n",
    "        end\n",
    "    end\n",
    "    return row, col\n",
    "end\n",
    "\n",
    "function sparsity_jacobian(n,m)\n",
    "\n",
    "    row = []\n",
    "    col = []\n",
    "\n",
    "    r = 1:m\n",
    "    c = 1:n\n",
    "\n",
    "    row_col!(row,col,r,c)\n",
    "\n",
    "    return collect(zip(row,col))\n",
    "end\n",
    "\n",
    "function sparsity_hessian(n,m)\n",
    "\n",
    "    row = []\n",
    "    col = []\n",
    "\n",
    "    r = 1:m\n",
    "    c = 1:n\n",
    "\n",
    "    row_col!(row,col,r,c)\n",
    "\n",
    "    return collect(zip(row,col))\n",
    "end\n",
    "\n",
    "function MOI.eval_objective(prob::MOI.AbstractNLPEvaluator, x)\n",
    "    cost(x)\n",
    "end\n",
    "\n",
    "function MOI.eval_objective_gradient(prob::MOI.AbstractNLPEvaluator, grad_f, x)\n",
    "    ForwardDiff.gradient!(grad_f,cost,x)\n",
    "    return nothing\n",
    "end\n",
    "\n",
    "function MOI.eval_constraint(prob::MOI.AbstractNLPEvaluator,g,x)\n",
    "    con!(g,x)\n",
    "    return nothing\n",
    "end\n",
    "\n",
    "function MOI.eval_constraint_jacobian(prob::MOI.AbstractNLPEvaluator, jac, x)\n",
    "    ForwardDiff.jacobian!(reshape(jac,prob.m_nlp,prob.n_nlp), con!, zeros(prob.m_nlp), x)\n",
    "    return nothing\n",
    "end\n",
    "\n",
    "function MOI.features_available(prob::MOI.AbstractNLPEvaluator)\n",
    "    return [:Grad, :Jac]\n",
    "end\n",
    "\n",
    "MOI.initialize(prob::MOI.AbstractNLPEvaluator, features) = nothing\n",
    "MOI.jacobian_structure(prob::MOI.AbstractNLPEvaluator) = prob.sparsity_jac\n",
    "\n",
    "function solve(x0,prob::MOI.AbstractNLPEvaluator;\n",
    "        tol=1.0e-6,c_tol=1.0e-6,max_iter=10000)\n",
    "    x_l, x_u = prob.primal_bounds\n",
    "    c_l, c_u = prob.constraint_bounds\n",
    "\n",
    "    nlp_bounds = MOI.NLPBoundsPair.(c_l,c_u)\n",
    "    block_data = MOI.NLPBlockData(nlp_bounds,prob,true)\n",
    "\n",
    "    solver = Ipopt.Optimizer()\n",
    "    solver.options[\"max_iter\"] = max_iter\n",
    "    solver.options[\"tol\"] = tol\n",
    "    solver.options[\"constr_viol_tol\"] = c_tol\n",
    "\n",
    "    x = MOI.add_variables(solver,prob.n_nlp)\n",
    "\n",
    "    for i = 1:prob.n_nlp\n",
    "        xi = MOI.SingleVariable(x[i])\n",
    "        MOI.add_constraint(solver, xi, MOI.LessThan(x_u[i]))\n",
    "        MOI.add_constraint(solver, xi, MOI.GreaterThan(x_l[i]))\n",
    "        MOI.set(solver, MOI.VariablePrimalStart(), x[i], x0[i])\n",
    "    end\n",
    "\n",
    "    # Solve the problem\n",
    "    MOI.set(solver, MOI.NLPBlock(), block_data)\n",
    "    MOI.set(solver, MOI.ObjectiveSense(), MOI.MIN_SENSE)\n",
    "    MOI.optimize!(solver)\n",
    "\n",
    "    # Get the solution\n",
    "    res = MOI.get(solver, MOI.VariablePrimal(), x)\n",
    "\n",
    "    return res\n",
    "end"
   ]
  },
  {
   "cell_type": "code",
   "execution_count": 78,
   "metadata": {},
   "outputs": [],
   "source": [
    "#Guess\n",
    "xguess = xref + 0.1*randn(Nx,Nt)\n",
    "uguess = kron(ones(Nt-1)', uref) + 0.1*randn(Nu,Nt-1)\n",
    "z0 = [reshape([xguess[:,1:(Nt-1)]; uguess],(Nx+Nu)*(Nt-1),1); xguess[:,end]];"
   ]
  },
  {
   "cell_type": "code",
   "execution_count": 79,
   "metadata": {},
   "outputs": [
    {
     "data": {
      "text/plain": [
       "90-element Array{Float64,1}:\n",
       " 0.5\n",
       " 0.5\n",
       " 0.5\n",
       " 0.5\n",
       " 0.5\n",
       " 0.5\n",
       " 0.5\n",
       " 0.5\n",
       " 0.5\n",
       " 0.5\n",
       " 0.5\n",
       " 0.5\n",
       " 0.5\n",
       " ⋮\n",
       " 0.5\n",
       " 0.5\n",
       " 0.5\n",
       " 0.5\n",
       " 0.5\n",
       " 0.5\n",
       " 0.5\n",
       " 0.5\n",
       " 0.5\n",
       " 0.5\n",
       " 0.5\n",
       " 0.5"
      ]
     },
     "execution_count": 79,
     "metadata": {},
     "output_type": "execute_result"
    }
   ],
   "source": [
    "prob.constraint_bounds[1][c_length_inds]"
   ]
  },
  {
   "cell_type": "code",
   "execution_count": 80,
   "metadata": {},
   "outputs": [
    {
     "name": "stdout",
     "output_type": "stream",
     "text": [
      "This is Ipopt version 3.13.4, running with linear solver mumps.\n",
      "NOTE: Other linear solvers might be more efficient (see Ipopt documentation).\n",
      "\n",
      "Number of nonzeros in equality constraint Jacobian...:   401184\n",
      "Number of nonzeros in inequality constraint Jacobian.:    60480\n",
      "Number of nonzeros in Lagrangian Hessian.............:        0\n",
      "\n",
      "Total number of variables............................:      672\n",
      "                     variables with only lower bounds:        0\n",
      "                variables with lower and upper bounds:        0\n",
      "                     variables with only upper bounds:        0\n",
      "Total number of equality constraints.................:      597\n",
      "Total number of inequality constraints...............:       90\n",
      "        inequality constraints with only lower bounds:        0\n",
      "   inequality constraints with lower and upper bounds:       90\n",
      "        inequality constraints with only upper bounds:        0\n",
      "\n",
      "iter    objective    inf_pr   inf_du lg(mu)  ||d||  lg(rg) alpha_du alpha_pr  ls\n",
      "   0  2.8448939e+00 1.82e+00 3.15e-01   0.0 0.00e+00    -  0.00e+00 0.00e+00   0\n",
      "   1  1.4301727e+01 1.44e+00 3.56e+02  -6.3 1.23e+02    -  3.15e-02 2.18e-01h  1\n",
      "   2  5.1376470e+01 1.01e+00 5.48e+02   0.4 9.80e+01    -  1.00e+00 2.97e-01h  1\n",
      "   3  1.9834493e+02 7.17e-01 3.07e+02   0.8 7.59e+01    -  1.00e+00 8.05e-01h  1\n",
      "   4  2.8633406e+02 3.73e-01 7.13e+01  -0.5 4.69e+01    -  4.85e-01 1.00e+00h  1\n",
      "   5  2.6263805e+02 6.51e-02 1.16e+01  -0.7 4.18e+01    -  7.26e-01 1.00e+00f  1\n",
      "   6  2.7469951e+02 9.03e-02 1.36e+01  -0.3 5.16e+01    -  7.56e-01 1.00e+00H  1\n",
      "   7  2.4744977e+02 1.57e-01 1.09e+01  -0.3 3.48e+01    -  8.99e-01 1.00e+00f  1\n",
      "   8  2.4491571e+02 8.18e-02 1.38e+01  -0.9 1.28e+01    -  9.85e-01 1.00e+00f  1\n",
      "   9  2.4058572e+02 1.72e-02 5.09e+00  -1.3 1.29e+01    -  9.97e-01 1.00e+00f  1\n",
      "iter    objective    inf_pr   inf_du lg(mu)  ||d||  lg(rg) alpha_du alpha_pr  ls\n",
      "  10  2.3540109e+02 1.77e-01 5.01e+00  -1.4 4.65e+01    -  9.96e-01 1.00e+00f  1\n",
      "  11  2.3439620e+02 4.69e-02 8.59e+00  -1.2 1.39e+01    -  1.00e+00 1.00e+00f  1\n",
      "  12  2.3267833e+02 2.08e-02 1.81e+00  -1.7 1.05e+01    -  1.00e+00 1.00e+00f  1\n",
      "  13  2.3282893e+02 4.58e-03 1.04e+00  -2.3 3.60e+00    -  1.00e+00 1.00e+00h  1\n",
      "  14  2.3275815e+02 4.68e-04 3.46e-01  -3.4 1.51e+00    -  1.00e+00 1.00e+00h  1\n",
      "  15  2.3275465e+02 4.37e-04 7.46e-01  -4.4 1.13e+00    -  1.00e+00 1.00e+00h  1\n",
      "  16  2.3272302e+02 1.57e-04 2.78e-01  -5.7 1.10e+00    -  1.00e+00 1.00e+00h  1\n",
      "  17  2.3271492e+02 3.27e-04 2.91e-01  -6.7 1.31e+00    -  1.00e+00 1.00e+00h  1\n",
      "  18  2.3270773e+02 9.58e-05 1.86e-01  -8.1 7.03e-01    -  1.00e+00 1.00e+00h  1\n",
      "  19  2.3270600e+02 5.57e-05 7.51e-02  -9.3 3.00e-01    -  1.00e+00 1.00e+00h  1\n",
      "iter    objective    inf_pr   inf_du lg(mu)  ||d||  lg(rg) alpha_du alpha_pr  ls\n",
      "  20  2.3270549e+02 2.45e-06 3.21e-02 -10.9 1.55e-01    -  1.00e+00 1.00e+00h  1\n",
      "  21  2.3270516e+02 2.64e-05 6.29e-02 -11.0 6.03e-01    -  1.00e+00 1.00e+00h  1\n",
      "  22  2.3270577e+02 3.97e-08 1.41e-01 -11.0 5.96e-01    -  1.00e+00 1.00e+00H  1\n",
      "  23  2.3270481e+02 1.14e-05 4.62e-02 -11.0 4.80e-01    -  1.00e+00 1.00e+00f  1\n",
      "  24  2.3270643e+02 5.07e-08 1.20e-01 -11.0 4.43e-01    -  1.00e+00 1.00e+00H  1\n",
      "  25  2.3270444e+02 9.62e-06 4.20e-03 -11.0 4.05e-01    -  1.00e+00 1.00e+00f  1\n",
      "  26  2.3270457e+02 7.50e-07 7.99e-03 -11.0 3.89e-02    -  1.00e+00 1.00e+00h  1\n",
      "  27  2.3270454e+02 3.78e-07 8.70e-04 -11.0 2.65e-02    -  1.00e+00 1.00e+00h  1\n",
      "  28  2.3270454e+02 8.93e-10 5.11e-04 -11.0 4.45e-03    -  1.00e+00 1.00e+00h  1\n",
      "  29  2.3270455e+02 1.03e-10 3.71e-03 -11.0 4.41e-02    -  1.00e+00 1.00e+00H  1\n",
      "iter    objective    inf_pr   inf_du lg(mu)  ||d||  lg(rg) alpha_du alpha_pr  ls\n",
      "  30  2.3270454e+02 2.60e-07 4.57e-03 -11.0 1.72e-02    -  1.00e+00 1.00e+00h  1\n",
      "  31  2.3270454e+02 5.20e-08 1.73e-03 -11.0 2.36e-02    -  1.00e+00 1.00e+00h  1\n",
      "  32  2.3270454e+02 3.01e-08 5.65e-03 -11.0 9.98e-03    -  1.00e+00 1.00e+00h  1\n",
      "  33  2.3270454e+02 1.49e-08 4.70e-04 -11.0 8.56e-03    -  1.00e+00 1.00e+00h  1\n",
      "  34  2.3270454e+02 5.81e-10 2.08e-04 -11.0 1.28e-03    -  1.00e+00 1.00e+00h  1\n",
      "  35  2.3270454e+02 2.31e-10 2.35e-05 -11.0 8.55e-04    -  1.00e+00 1.00e+00h  1\n",
      "  36  2.3270454e+02 9.58e-13 1.90e-05 -11.0 9.83e-05    -  1.00e+00 1.00e+00h  1\n",
      "  37  2.3270454e+02 2.22e-15 8.92e-05 -11.0 1.35e-03    -  1.00e+00 1.00e+00H  1\n",
      "  38  2.3270454e+02 1.86e-10 1.43e-04 -11.0 5.54e-04    -  1.00e+00 1.00e+00h  1\n",
      "  39  2.3270454e+02 8.52e-11 1.78e-05 -11.0 8.74e-04    -  1.00e+00 1.00e+00h  1\n",
      "iter    objective    inf_pr   inf_du lg(mu)  ||d||  lg(rg) alpha_du alpha_pr  ls\n",
      "  40  2.3270454e+02 8.53e-12 6.56e-05 -11.0 2.07e-04    -  1.00e+00 1.00e+00h  1\n",
      "  41  2.3270454e+02 6.14e-12 6.71e-06 -11.0 1.37e-04    -  1.00e+00 1.00e+00h  1\n",
      "  42  2.3270454e+02 2.55e-14 4.55e-06 -11.0 1.97e-05    -  1.00e+00 1.00e+00h  1\n",
      "  43  2.3270454e+02 6.66e-16 1.51e-05 -11.0 1.18e-04    -  1.00e+00 1.00e+00H  1\n",
      "  44  2.3270454e+02 4.74e-13 1.08e-05 -11.0 3.74e-05    -  1.00e+00 1.00e+00h  1\n",
      "  45  2.3270454e+02 6.35e-14 3.42e-06 -11.0 2.88e-05    -  1.00e+00 1.00e+00h  1\n",
      "  46  2.3270454e+02 3.42e-14 1.81e-06 -11.0 9.61e-06    -  1.00e+00 1.00e+00h  1\n",
      "  47  2.3270454e+02 1.64e-14 2.04e-07 -11.0 6.36e-06    -  1.00e+00 1.00e+00h  1\n",
      "\n",
      "Number of Iterations....: 47\n",
      "\n",
      "                                   (scaled)                 (unscaled)\n",
      "Objective...............:   2.3270454096038500e+02    2.3270454096038500e+02\n",
      "Dual infeasibility......:   2.0420814089705530e-07    2.0420814089705530e-07\n",
      "Constraint violation....:   1.6431300764452317e-14    1.6431300764452317e-14\n",
      "Complementarity.........:   1.0000000000000003e-11    1.0000000000000003e-11\n",
      "Overall NLP error.......:   2.0420814089705530e-07    2.0420814089705530e-07\n",
      "\n",
      "\n",
      "Number of objective function evaluations             = 54\n",
      "Number of objective gradient evaluations             = 48\n",
      "Number of equality constraint evaluations            = 54\n",
      "Number of inequality constraint evaluations          = 54\n",
      "Number of equality constraint Jacobian evaluations   = 48\n",
      "Number of inequality constraint Jacobian evaluations = 48\n",
      "Number of Lagrangian Hessian evaluations             = 0\n",
      "Total CPU secs in IPOPT (w/o function evaluations)   =     36.131\n",
      "Total CPU secs in NLP function evaluations           =     12.666\n",
      "\n",
      "EXIT: Optimal Solution Found.\n"
     ]
    },
    {
     "data": {
      "text/plain": [
       "672-element Array{Float64,1}:\n",
       " -1.5\n",
       "  1.0\n",
       " -1.5\n",
       " -2.0545188476878428e-19\n",
       " -1.5\n",
       " -1.356351123151941e-17\n",
       " -1.6429777601284064e-17\n",
       " -9.36095783795195e-19\n",
       "  1.0174830755521764e-17\n",
       " -2.2568657935216827e-18\n",
       " -9.165779278180887e-19\n",
       " -2.1442267457463127e-18\n",
       " 77.66672525486017\n",
       "  ⋮\n",
       "  1.4999999999999998\n",
       "  1.0\n",
       "  1.5000000000000002\n",
       "  2.289961125774507e-19\n",
       "  1.5\n",
       "  1.389433540704986e-17\n",
       "  6.83528540446671e-17\n",
       "  2.686656978539194e-18\n",
       " -2.793828081425469e-17\n",
       " -2.799539695562882e-19\n",
       "  4.666731407465191e-18\n",
       "  2.5887415422013033e-18"
      ]
     },
     "execution_count": 80,
     "metadata": {},
     "output_type": "execute_result"
    }
   ],
   "source": [
    "prob = ProblemMOI(n_nlp,m_nlp)\n",
    "z_sol = solve(z0,prob) # solve"
   ]
  },
  {
   "cell_type": "code",
   "execution_count": 83,
   "metadata": {},
   "outputs": [],
   "source": [
    "z = reshape(z_sol[1:(end-Nx)],Nx+Nu,Nt-1)\n",
    "xtraj = [z[1:Nx,:] z_sol[end-(Nx-1):end]]\n",
    "utraj = z[(Nx+1):(Nx+Nu),:];"
   ]
  },
  {
   "cell_type": "code",
   "execution_count": 100,
   "metadata": {},
   "outputs": [
    {
     "data": {
      "text/plain": [
       "unpackZ"
      ]
     },
     "execution_count": 100,
     "metadata": {},
     "output_type": "execute_result"
    }
   ],
   "source": [
    "\"\"\"\n",
    "    HybridNLP{n,m,L,Q}\n",
    "\n",
    "Represents a (N)on(L)inear (P)rogram of a trajectory optimization problem,\n",
    "with a dynamics model of type `L`, a quadratic cost function, horizon `T`, \n",
    "and initial and final state `x0`, `xf`.\n",
    "\n",
    "The kth state and control can be extracted from the concatenated state vector `Z` using\n",
    "`Z[nlp.xinds[k]]`, and `Z[nlp.uinds[k]]`.\n",
    "\n",
    "# Constructor\n",
    "    NLP(model, obj, tf, T, x0, xf, [integration])\n",
    "\n",
    "# Basic Methods\n",
    "    Base.size(nlp)    # returns (n,m,T)\n",
    "    num_ineq(nlp)     # number of inequality constraints\n",
    "    num_eq(nlp)       # number of equality constraints\n",
    "    num_primals(nlp)  # number of primal variables\n",
    "    num_duals(nlp)    # total number of dual variables\n",
    "    packZ(nlp, X, U)  # Stacks state `X` and controls `U` into one vector `Z`\n",
    "\n",
    "# Evaluating the NLP\n",
    "The NLP supports the following API for evaluating various pieces of the NLP:\n",
    "\n",
    "    eval_f(nlp, Z)         # evaluate the objective\n",
    "    grad_f!(nlp, grad, Z)  # gradient of the objective\n",
    "    hess_f!(nlp, hess, Z)  # Hessian of the objective\n",
    "    eval_c!(nlp, c, Z)     # evaluate the constraints\n",
    "    jac_c!(nlp, c, Z)      # constraint Jacobian\n",
    "\"\"\"\n",
    "struct HybridNLP{n,m,L,Q} <: MOI.AbstractNLPEvaluator\n",
    "    model::L                                 # dynamics model\n",
    "    obj::Vector{QuadraticCost{n,m,Float64}}  # objective function\n",
    "    T::Int                                   # number of knot points\n",
    "    M::Int                                   # number of steps in each mode\n",
    "    Nmodes::Int                              # number of modes\n",
    "    tf::Float64                              # total time (sec)\n",
    "    x0::MVector{n,Float64}                   # initial condition\n",
    "    xf::MVector{n,Float64}                   # final condition\n",
    "    times::Vector{Float64}                   # vector of times\n",
    "    modes::Vector{Int}                       # mode ID\n",
    "    xinds::Vector{SVector{n,Int}}            # Z[xinds[k]] gives states for time step k\n",
    "    uinds::Vector{SVector{m,Int}}            # Z[uinds[k]] gives controls for time step k\n",
    "    cinds::Vector{UnitRange{Int}}\n",
    "    lb::Vector{Float64}\n",
    "    ub::Vector{Float64}\n",
    "    function HybridNLP(model, obj::Vector{<:QuadraticCost{n,m}},\n",
    "            tf::Real, T::Integer, M::Integer, x0::AbstractVector, xf::AbstractVector, integration::Type{<:QuadratureRule}=RK4\n",
    "        ) where {n,m}\n",
    "        xinds = [SVector{n}((k-1)*(n+m) .+ (1:n)) for k = 1:T]\n",
    "        uinds = [SVector{m}((k-1)*(n+m) .+ (n+1:n+m)) for k = 1:T-1]\n",
    "        times = collect(range(0, tf, length=T))\n",
    "        modes = map(1:Nt) do k\n",
    "            isodd((k-1) ÷ Nm + 1) ? 1 : 2\n",
    "        end\n",
    "        Nmodes = Int(ceil(Nt/Nm))\n",
    "        \n",
    "        c_init_inds = 1:Nx                                                   # initial constraint\n",
    "        c_term_inds = (c_init_inds[end]+1):(c_init_inds[end]+Nx)             # terminal constraint\n",
    "        c_dyn_inds = (c_term_inds[end]+1):(c_term_inds[end]+Nx*(Nt-1))       # dynamics constraints\n",
    "        c_stance_inds = (c_dyn_inds[end]+1):(c_dyn_inds[end]+Nt)             # stance constraint (1 per time step)\n",
    "        c_length_inds = (c_stance_inds[end]+1):(c_stance_inds[end]+(2*Nt))   # length bounds     (2 per time step)\n",
    "        M = c_length_inds[end]                                               # total number of constraints\n",
    "        \n",
    "        lb = fill(0.0,M)\n",
    "        ub = fill(0.0,M)\n",
    "        lb[c_length_inds] .= model.ℓ_min\n",
    "        ub[c_length_inds] .= model.ℓ_max\n",
    "\n",
    "        cinds = [c_init_inds, c_term_inds, c_dyn_inds, c_stance_inds, c_length_inds]\n",
    "        \n",
    "        new{n,m,typeof(model), integration}(\n",
    "            model, obj,\n",
    "            T, M, Nmodes, tf, x0, xf, times, modes,\n",
    "            xinds, uinds, cinds, lb, ub\n",
    "        )\n",
    "    end\n",
    "end\n",
    "Base.size(nlp::HybridNLP{n,m}) where {n,m} = (n,m,nlp.T)\n",
    "num_primals(nlp::HybridNLP{n,m}) where {n,m} = n*nlp.T + m*(nlp.T-1)\n",
    "num_duals(nlp::HybridNLP) = nlp.cinds[end][end]\n",
    "\n",
    "\"\"\"\n",
    "    packZ(nlp, X, U)\n",
    "\n",
    "Take a vector state vectors `X` and controls `U` and stack them into a single vector Z.\n",
    "\"\"\"\n",
    "function packZ(nlp, X, U)\n",
    "    Z = zeros(num_primals(nlp))\n",
    "    for k = 1:nlp.T-1\n",
    "        Z[nlp.xinds[k]] = X[k]\n",
    "        Z[nlp.uinds[k]] = U[k]\n",
    "    end\n",
    "    Z[nlp.xinds[end]] = X[end]\n",
    "    return Z\n",
    "end\n",
    "\n",
    "\"\"\"\n",
    "    unpackZ(nlp, Z)\n",
    "\n",
    "Take a vector of all the states and controls and return a vector of state vectors `X` and\n",
    "controls `U`.\n",
    "\"\"\"\n",
    "function unpackZ(nlp, Z)\n",
    "    X = [Z[xi] for xi in nlp.xinds]\n",
    "    U = [Z[ui] for ui in nlp.uinds]\n",
    "    return X, U\n",
    "end"
   ]
  },
  {
   "cell_type": "code",
   "execution_count": 101,
   "metadata": {},
   "outputs": [
    {
     "data": {
      "text/plain": [
       "hess_f!"
      ]
     },
     "execution_count": 101,
     "metadata": {},
     "output_type": "execute_result"
    }
   ],
   "source": [
    "\"\"\"\n",
    "    eval_f(nlp, Z)\n",
    "\n",
    "Evaluate the objective, returning a scalar.\n",
    "\"\"\"\n",
    "function eval_f(nlp::HybridNLP, Z)\n",
    "    # TASK: compute the objective value (cost)\n",
    "    J = 0.0\n",
    "    \n",
    "    # SOLUTION\n",
    "    xi,ui = nlp.xinds, nlp.uinds\n",
    "    for k = 1:nlp.T-1\n",
    "        x,u = Z[xi[k]], Z[ui[k]]\n",
    "        J += stagecost(nlp.obj[k], x, u)\n",
    "    end\n",
    "    J += termcost(nlp.obj[end], Z[xi[end]])\n",
    "    return J\n",
    "end\n",
    "\n",
    "\"\"\"\n",
    "    grad_f!(nlp, grad, Z)\n",
    "\n",
    "Evaluate the gradient of the objective at `Z`, storing the result in `grad`.\n",
    "\"\"\"\n",
    "function grad_f!(nlp::HybridNLP{n,m}, grad, Z) where {n,m}\n",
    "    xi,ui = nlp.xinds, nlp.uinds\n",
    "    obj = nlp.obj\n",
    "    for k = 1:nlp.T-1\n",
    "        x,u = Z[xi[k]], Z[ui[k]]\n",
    "        # TASK: Compute the cost gradient\n",
    "        grad[xi[k]] .= 0\n",
    "        grad[ui[k]] .= 0\n",
    "        \n",
    "        # SOLUTION\n",
    "        grad[xi[k]] = obj[k].Q*x + obj[k].q\n",
    "        grad[ui[k]] = obj[k].R*u + obj[k].r\n",
    "    end\n",
    "    grad[xi[end]] = obj[end].Q*Z[xi[end]] + obj[end].q\n",
    "    return nothing\n",
    "end\n",
    "\n",
    "\"\"\"\n",
    "    hess_f!(nlp, hess, Z)\n",
    "\n",
    "Evaluate the Hessian of the objective at `Z`, storing the result in `hess`.\n",
    "Should work with `hess` sparse.\n",
    "\"\"\"\n",
    "function hess_f!(nlp::HybridNLP{n,m}, hess, Z, rezero=true) where {n,m}\n",
    "    # TASK: Compute the objective hessian\n",
    "    # HINT: It's a diagonal matrix\n",
    "    if rezero\n",
    "        for i = 1:size(hess,1)\n",
    "            hess[i,i] = 0\n",
    "        end\n",
    "    end\n",
    "    xi,ui = nlp.xinds, nlp.uinds\n",
    "    obj = nlp.obj\n",
    "    i = 1\n",
    "    for k = 1:nlp.T\n",
    "        for j = 1:n\n",
    "            hess[i,i] += nlp.obj[k].Q[j,j]\n",
    "            i += 1\n",
    "        end\n",
    "        if k < nlp.T\n",
    "            for j = 1:m\n",
    "                hess[i,i] += nlp.obj[k].R[j,j]\n",
    "                i += 1\n",
    "            end\n",
    "        end\n",
    "    end\n",
    "end"
   ]
  },
  {
   "cell_type": "code",
   "execution_count": 158,
   "metadata": {},
   "outputs": [
    {
     "data": {
      "text/plain": [
       "eval_c! (generic function with 1 method)"
      ]
     },
     "execution_count": 158,
     "metadata": {},
     "output_type": "execute_result"
    }
   ],
   "source": [
    "\"\"\"\n",
    "    eval_c!(nlp, c, Z)\n",
    "\n",
    "Evaluate the equality constraints at `Z`, storing the result in `c`.\n",
    "The constraints should be ordered as follows: \n",
    "1. Initial condition ``x_1 = x_\\\\text{init}``\n",
    "2. Dynamics ``f(x_k,u_k) - x_{k+1} = 0``\n",
    "3. Terminal constraint ``x_T = x_\\\\text{goal}``\n",
    "\n",
    "For this problem, you can use an explicit integrator. We suggest RK4.\n",
    "\"\"\"\n",
    "function dyn!(nlp::HybridNLP{n,m,<:Any,Q}, c, Z) where {n,m,Q}\n",
    "    T = nlp.T\n",
    "    xi,ui = nlp.xinds, nlp.uinds\n",
    "    idx = xi[1]\n",
    "\n",
    "    # TODO: initial condition\n",
    "    c[idx] = Z[xi[1]] - nlp.x0\n",
    "\n",
    "    # dynamics\n",
    "    for k = 1:T-1\n",
    "        idx = idx .+ n\n",
    "        x,u = Z[xi[k]], Z[ui[k]]\n",
    "        x⁺ = Z[xi[k+1]]\n",
    "        dt = nlp.times[k+1] - nlp.times[k]\n",
    "        \n",
    "        # TASK: Dynamics constraint\n",
    "        c[idx] .= 0\n",
    "        \n",
    "        # SOLUTION\n",
    "        c[idx] = discrete_dynamics(Q, nlp.model, x, u, nlp.times[k], dt) - x⁺\n",
    "    end\n",
    "\n",
    "    # TODO: terminal constraint\n",
    "    idx = idx .+ n\n",
    "    c[idx] .= 0\n",
    "    \n",
    "    # SOLUTION\n",
    "    c[idx] = Z[xi[T]] - nlp.xf\n",
    "    return nothing\n",
    "end\n",
    "\n",
    "function dynamics_constraint!(nlp::HybridNLP{n,m}, c, Z) where {n,m}\n",
    "    d = view(c, nlp.cinds[3])\n",
    "    xi,ui = nlp.xinds, nlp.uinds\n",
    "    ci = 1:n\n",
    "    for k = 1:nlp.T-1\n",
    "        x,u   = Z[xi[k]],   Z[ui[k]]\n",
    "        x2    = Z[xi[k+1]]\n",
    "        dk = view(d,ci)\n",
    "          \n",
    "        if nlp.modes[k] == 1\n",
    "            dk .= stance1_dynamics_rk4(x, u) - x2\n",
    "        else\n",
    "            dk .= stance2_dynamics_rk4(x, u) - x2\n",
    "        end\n",
    "        jump = nlp.modes[k+1] != nlp.modes[k]\n",
    "        if jump\n",
    "            if nlp.modes[k] == 1\n",
    "                dk .= jump2_map(dk + x2) - x2\n",
    "            else\n",
    "                dk .= jump1_map(dk + x2) - x2\n",
    "            end\n",
    "        end\n",
    "        \n",
    "        ci = ci .+ n\n",
    "    end\n",
    "    \n",
    "    return nothing\n",
    "end\n",
    "\n",
    "function stance_constraint!(nlp::HybridNLP, c, Z)\n",
    "    d = view(c, nlp.cinds[4])\n",
    "    xi,ui = nlp.xinds, nlp.uinds\n",
    "    t = 1\n",
    "    for k = 1:nlp.T\n",
    "        x = Z[xi[k]]\n",
    "        foot_ind = nlp.modes[k] == 1 ? 4 : 6 \n",
    "        d[t] = x[foot_ind]   # keep foot on the floor \n",
    "        t += 1\n",
    "    end\n",
    "    return nothing\n",
    "end\n",
    "\n",
    "function length_constraint!(nlp::HybridNLP, c, Z)\n",
    "    d = view(c, nlp.cinds[5])\n",
    "    xi,ui = nlp.xinds, nlp.uinds\n",
    "    for k = 1:nlp.T\n",
    "        x = Z[xi[k]]\n",
    "        d[2*(k-1)+1] = norm(x[1:2] - x[3:4])\n",
    "        d[2*(k-1)+2] = norm(x[1:2] - x[5:6])\n",
    "    end\n",
    "end\n",
    "\n",
    "function eval_c!(nlp::HybridNLP, c, Z)\n",
    "    xi,ui = nlp.xinds, nlp.uinds\n",
    "    c[nlp.cinds[1]] .= Z[xi[1]] - nlp.x0\n",
    "    c[nlp.cinds[2]] .= Z[xi[end]] - nlp.xf\n",
    "    dynamics_constraint!(nlp, c, Z)\n",
    "    stance_constraint!(nlp, c, Z)\n",
    "    length_constraint!(nlp, c, Z)\n",
    "end"
   ]
  },
  {
   "cell_type": "code",
   "execution_count": 159,
   "metadata": {},
   "outputs": [
    {
     "data": {
      "text/plain": [
       "Int64[]"
      ]
     },
     "execution_count": 159,
     "metadata": {},
     "output_type": "execute_result"
    }
   ],
   "source": [
    "obj = map(1:Nt-1) do k\n",
    "    LQRCost(Q,R,xref[:,k],uref)\n",
    "end\n",
    "push!(obj, LQRCost(Qn, R*0, xref[:,Nt], uref))\n",
    "\n",
    "model = Walker()\n",
    "nlp = HybridNLP(model, obj, thist[end], Nt, Nm, xref[:,1], xref[:,end]);\n",
    "Z = vec(z0)\n",
    "eval_f(nlp, Z) - cost(z0)\n",
    "\n",
    "grad1 = zero(Z)\n",
    "grad2 = zero(Z)\n",
    "grad_f!(nlp, grad1, Z)\n",
    "MOI.eval_objective_gradient(prob, grad2, Z)\n",
    "grad1 ≈ grad2\n",
    "\n",
    "c1 = zeros(m_nlp)\n",
    "c2 = zeros(m_nlp)\n",
    "Z = rand(n_nlp)\n",
    "dynamics_constraint!(nlp, c1, Z)\n",
    "dynamics_constraint!(c2, Z)\n",
    "\n",
    "stance_constraint!(nlp, c1, Z)\n",
    "stance_constraint!(c2, Z)\n",
    "\n",
    "length_constraint!(nlp, c1, Z)\n",
    "length_constraint!(c2, Z)\n",
    "\n",
    "Z = rand(n_nlp)\n",
    "eval_c!(nlp, c1, Z)\n",
    "con!(c2, Z)\n",
    "\n",
    "inds = findall(.!(c1 .≈ c2))"
   ]
  },
  {
   "cell_type": "markdown",
   "metadata": {},
   "source": [
    "# Results"
   ]
  },
  {
   "cell_type": "code",
   "execution_count": 18,
   "metadata": {},
   "outputs": [
    {
     "data": {
      "image/png": "[encoded data removed]",
      "text/plain": [
       "Figure(PyObject <Figure size 640x480 with 1 Axes>)"
      ]
     },
     "metadata": {},
     "output_type": "display_data"
    },
    {
     "data": {
      "text/plain": [
       "1-element Array{PyCall.PyObject,1}:\n",
       " PyObject <matplotlib.lines.Line2D object at 0x7f7a4198f1c0>"
      ]
     },
     "execution_count": 18,
     "metadata": {},
     "output_type": "execute_result"
    }
   ],
   "source": [
    "plot(thist,xtraj[2,:])\n",
    "plot(thist,xtraj[4,:])\n",
    "plot(thist,xtraj[6,:])"
   ]
  },
  {
   "cell_type": "code",
   "execution_count": 19,
   "metadata": {},
   "outputs": [
    {
     "data": {
      "image/png": "[encoded data removed]",
      "text/plain": [
       "Figure(PyObject <Figure size 640x480 with 1 Axes>)"
      ]
     },
     "metadata": {},
     "output_type": "display_data"
    },
    {
     "data": {
      "text/plain": [
       "1-element Array{PyCall.PyObject,1}:\n",
       " PyObject <matplotlib.lines.Line2D object at 0x7f7a20cf10d0>"
      ]
     },
     "execution_count": 19,
     "metadata": {},
     "output_type": "execute_result"
    }
   ],
   "source": [
    "plot(thist,xtraj[1,:])\n",
    "plot(thist,xtraj[3,:])\n",
    "plot(thist,xtraj[5,:])"
   ]
  },
  {
   "cell_type": "code",
   "execution_count": 20,
   "metadata": {},
   "outputs": [
    {
     "data": {
      "image/png": "[encoded data removed]",
      "text/plain": [
       "Figure(PyObject <Figure size 640x480 with 1 Axes>)"
      ]
     },
     "metadata": {},
     "output_type": "display_data"
    },
    {
     "data": {
      "text/plain": [
       "1-element Array{PyCall.PyObject,1}:\n",
       " PyObject <matplotlib.lines.Line2D object at 0x7f7a20c560d0>"
      ]
     },
     "execution_count": 20,
     "metadata": {},
     "output_type": "execute_result"
    }
   ],
   "source": [
    "plot(thist[1:end-1],utraj[1,:])\n",
    "plot(thist[1:end-1],utraj[2,:])"
   ]
  },
  {
   "cell_type": "code",
   "execution_count": 21,
   "metadata": {},
   "outputs": [
    {
     "data": {
      "image/png": "[encoded data removed]",
      "text/plain": [
       "Figure(PyObject <Figure size 640x480 with 1 Axes>)"
      ]
     },
     "metadata": {},
     "output_type": "display_data"
    },
    {
     "data": {
      "text/plain": [
       "1-element Array{PyCall.PyObject,1}:\n",
       " PyObject <matplotlib.lines.Line2D object at 0x7f7a20c28e80>"
      ]
     },
     "execution_count": 21,
     "metadata": {},
     "output_type": "execute_result"
    }
   ],
   "source": [
    "plot(thist[1:end-1],utraj[3,:])"
   ]
  },
  {
   "cell_type": "code",
   "execution_count": 22,
   "metadata": {},
   "outputs": [
    {
     "name": "stderr",
     "output_type": "stream",
     "text": [
      "┌ Info: MeshCat server started. You can open the visualizer by visiting the following URL in your browser:\n",
      "│ http://127.0.0.1:8706\n",
      "└ @ MeshCat /home/brian/.julia/packages/MeshCat/GlCMx/src/visualizer.jl:73\n"
     ]
    },
    {
     "data": {
      "text/html": [
       "    <div style=\"height: 500px; width: 100%; overflow-x: auto; overflow-y: hidden; resize: both\">\n",
       "    <iframe src=\"http://127.0.0.1:8706\" style=\"width: 100%; height: 100%; border: none\"></iframe>\n",
       "    </div>\n"
      ],
      "text/plain": [
       "MeshCat.DisplayedVisualizer(MeshCat.CoreVisualizer(MeshCat.SceneTrees.SceneNode(nothing, nothing, Dict{String,Array{UInt8,1}}(), nothing, Dict{String,MeshCat.SceneTrees.SceneNode}(\"meshcat\" => MeshCat.SceneTrees.SceneNode(nothing, nothing, Dict{String,Array{UInt8,1}}(), nothing, Dict{String,MeshCat.SceneTrees.SceneNode}(\"robot\" => MeshCat.SceneTrees.SceneNode(nothing, nothing, Dict{String,Array{UInt8,1}}(), nothing, Dict{String,MeshCat.SceneTrees.SceneNode}(\"Rfoot\" => MeshCat.SceneTrees.SceneNode(nothing, nothing, Dict{String,Array{UInt8,1}}(), nothing, Dict{String,MeshCat.SceneTrees.SceneNode}(\"geom\" => MeshCat.SceneTrees.SceneNode(UInt8[0x83, 0xa6, 0x6f, 0x62, 0x6a, 0x65, 0x63, 0x74, 0x84, 0xaa  …  0x52, 0x66, 0x6f, 0x6f, 0x74, 0x2f, 0x67, 0x65, 0x6f, 0x6d], UInt8[0x83, 0xa6, 0x6d, 0x61, 0x74, 0x72, 0x69, 0x78, 0xc7, 0x40  …  0x52, 0x66, 0x6f, 0x6f, 0x74, 0x2f, 0x67, 0x65, 0x6f, 0x6d], Dict{String,Array{UInt8,1}}(), nothing, Dict{String,MeshCat.SceneTrees.SceneNode}()))),\"torso\" => MeshCat.SceneTrees.SceneNode(nothing, nothing, Dict{String,Array{UInt8,1}}(), nothing, Dict{String,MeshCat.SceneTrees.SceneNode}(\"body\" => MeshCat.SceneTrees.SceneNode(UInt8[0x83, 0xa6, 0x6f, 0x62, 0x6a, 0x65, 0x63, 0x74, 0x84, 0xaa  …  0x74, 0x6f, 0x72, 0x73, 0x6f, 0x2f, 0x62, 0x6f, 0x64, 0x79], nothing, Dict{String,Array{UInt8,1}}(), nothing, Dict{String,MeshCat.SceneTrees.SceneNode}()),\"Laxle\" => MeshCat.SceneTrees.SceneNode(UInt8[0x83, 0xa6, 0x6f, 0x62, 0x6a, 0x65, 0x63, 0x74, 0x84, 0xaa  …  0x6f, 0x72, 0x73, 0x6f, 0x2f, 0x4c, 0x61, 0x78, 0x6c, 0x65], UInt8[0x83, 0xa6, 0x6d, 0x61, 0x74, 0x72, 0x69, 0x78, 0xc7, 0x40  …  0x6f, 0x72, 0x73, 0x6f, 0x2f, 0x4c, 0x61, 0x78, 0x6c, 0x65], Dict{String,Array{UInt8,1}}(), nothing, Dict{String,MeshCat.SceneTrees.SceneNode}()),\"Lleg\" => MeshCat.SceneTrees.SceneNode(nothing, nothing, Dict{String,Array{UInt8,1}}(), nothing, Dict{String,MeshCat.SceneTrees.SceneNode}(\"geom\" => MeshCat.SceneTrees.SceneNode(UInt8[0x83, 0xa6, 0x6f, 0x62, 0x6a, 0x65, 0x63, 0x74, 0x84, 0xaa  …  0x2f, 0x4c, 0x6c, 0x65, 0x67, 0x2f, 0x67, 0x65, 0x6f, 0x6d], nothing, Dict{String,Array{UInt8,1}}(), nothing, Dict{String,MeshCat.SceneTrees.SceneNode}()))),\"Rleg\" => MeshCat.SceneTrees.SceneNode(nothing, nothing, Dict{String,Array{UInt8,1}}(), nothing, Dict{String,MeshCat.SceneTrees.SceneNode}(\"geom\" => MeshCat.SceneTrees.SceneNode(UInt8[0x83, 0xa6, 0x6f, 0x62, 0x6a, 0x65, 0x63, 0x74, 0x84, 0xaa  …  0x2f, 0x52, 0x6c, 0x65, 0x67, 0x2f, 0x67, 0x65, 0x6f, 0x6d], nothing, Dict{String,Array{UInt8,1}}(), nothing, Dict{String,MeshCat.SceneTrees.SceneNode}()))),\"Raxle\" => MeshCat.SceneTrees.SceneNode(UInt8[0x83, 0xa6, 0x6f, 0x62, 0x6a, 0x65, 0x63, 0x74, 0x84, 0xaa  …  0x6f, 0x72, 0x73, 0x6f, 0x2f, 0x52, 0x61, 0x78, 0x6c, 0x65], UInt8[0x83, 0xa6, 0x6d, 0x61, 0x74, 0x72, 0x69, 0x78, 0xc7, 0x40  …  0x6f, 0x72, 0x73, 0x6f, 0x2f, 0x52, 0x61, 0x78, 0x6c, 0x65], Dict{String,Array{UInt8,1}}(), nothing, Dict{String,MeshCat.SceneTrees.SceneNode}()))),\"Lfoot\" => MeshCat.SceneTrees.SceneNode(nothing, nothing, Dict{String,Array{UInt8,1}}(), nothing, Dict{String,MeshCat.SceneTrees.SceneNode}(\"geom\" => MeshCat.SceneTrees.SceneNode(UInt8[0x83, 0xa6, 0x6f, 0x62, 0x6a, 0x65, 0x63, 0x74, 0x84, 0xaa  …  0x4c, 0x66, 0x6f, 0x6f, 0x74, 0x2f, 0x67, 0x65, 0x6f, 0x6d], UInt8[0x83, 0xa6, 0x6d, 0x61, 0x74, 0x72, 0x69, 0x78, 0xc7, 0x40  …  0x4c, 0x66, 0x6f, 0x6f, 0x74, 0x2f, 0x67, 0x65, 0x6f, 0x6d], Dict{String,Array{UInt8,1}}(), nothing, Dict{String,MeshCat.SceneTrees.SceneNode}()))))))))), Set{Any}(), ip\"127.0.0.1\", 8706))"
      ]
     },
     "execution_count": 22,
     "metadata": {},
     "output_type": "execute_result"
    }
   ],
   "source": [
    "#Set up visualizer\n",
    "using Colors\n",
    "using CoordinateTransformations\n",
    "using GeometryBasics\n",
    "using MeshCat\n",
    "using Rotations\n",
    "using StaticArrays\n",
    "\n",
    "# Visualization\n",
    "function set_mesh!(vis)\n",
    "    l,w,h = 0.4,0.4,0.6\n",
    "    body = HyperRectangle(Vec(-l/2,-w/2,0), Vec(l,w,h)) \n",
    "    body = Sphere(Point3f0(0,0,0), 7l/16)\n",
    "    setobject!(vis[\"robot\"][\"torso\"][\"body\"], body, MeshPhongMaterial(color=colorant\"gray\"))\n",
    "    axle = Cylinder(Point3f0(0,0,0), Point3f0(0,w/2,0), 0.03f0)\n",
    "    setobject!(vis[\"robot\"][\"torso\"][\"Laxle\"], axle, MeshPhongMaterial(color=colorant\"black\"))\n",
    "    setobject!(vis[\"robot\"][\"torso\"][\"Raxle\"], axle, MeshPhongMaterial(color=colorant\"black\"))\n",
    "    settransform!(vis[\"robot\"][\"torso\"][\"Laxle\"], Translation(0,+l/4,0))\n",
    "    settransform!(vis[\"robot\"][\"torso\"][\"Raxle\"], Translation(0,-3l/4,0))\n",
    "\n",
    "    foot = HyperSphere(Point3f0(0,0,0f0), 0.05f0)\n",
    "    Lfoot = setobject!(vis[\"robot\"][\"Lfoot\"][\"geom\"], foot, MeshPhongMaterial(color=colorant\"firebrick\"))\n",
    "    setobject!(vis[\"robot\"][\"Rfoot\"][\"geom\"], foot, MeshPhongMaterial(color=colorant\"firebrick\"))\n",
    "    settransform!(vis[\"robot\"][\"Lfoot\"][\"geom\"], Translation(0,+l/2,0))\n",
    "    settransform!(vis[\"robot\"][\"Rfoot\"][\"geom\"], Translation(0,-l/2,0))\n",
    "\n",
    "    Lleg = Cylinder(Point3f0(0,+l/2,0), Point3f0(0,+l/2,1), 0.03f0)\n",
    "    Rleg = Cylinder(Point3f0(0,-l/2,0), Point3f0(0,-l/2,1), 0.03f0)\n",
    "    setobject!(vis[\"robot\"][\"torso\"][\"Lleg\"][\"geom\"], Lleg, MeshPhongMaterial(color=colorant=colorant\"green\"))\n",
    "    setobject!(vis[\"robot\"][\"torso\"][\"Rleg\"][\"geom\"], Rleg, MeshPhongMaterial(color=colorant=colorant\"green\"))\n",
    "    # settransform!(vis[\"robot\"][\"torso\"][\"Lleg\"][\"geom\"], Translation(0,+l/2,0))\n",
    "    # settransform!(vis[\"robot\"][\"torso\"][\"Rleg\"][\"geom\"], Translation(0,-l/2,0))\n",
    "\n",
    "    return Lfoot\n",
    "end\n",
    "\n",
    "function visualize!(vis, x::StaticVector)\n",
    "    xb,yb = x[1],x[2]\n",
    "    xl,yl = x[3],x[4]\n",
    "    xr,yr = x[5],x[6]\n",
    "    settransform!(vis[\"robot\"][\"torso\"], Translation(xb,0,yb))\n",
    "    settransform!(vis[\"robot\"][\"Lfoot\"], Translation(xl,0,yl))\n",
    "    settransform!(vis[\"robot\"][\"Rfoot\"], Translation(xr,0,yr))\n",
    "\n",
    "    Llen = norm(SA[xl-xb, yl-yb])\n",
    "    Rlen = norm(SA[xr-xb, yr-yb])\n",
    "    θl = atan(xl-xb, yl-yb)\n",
    "    θr = atan(xr-xb, yr-yb)\n",
    "    settransform!(vis[\"robot\"][\"torso\"][\"Lleg\"], LinearMap(RotY(θl)))\n",
    "    settransform!(vis[\"robot\"][\"torso\"][\"Rleg\"], LinearMap(RotY(θr)))\n",
    "\n",
    "    settransform!(vis[\"robot\"][\"torso\"][\"Lleg\"][\"geom\"], LinearMap(Diagonal(SA[1,1,Llen])))\n",
    "    settransform!(vis[\"robot\"][\"torso\"][\"Rleg\"][\"geom\"], LinearMap(Diagonal(SA[1,1,Rlen])))\n",
    "end\n",
    "\n",
    "vis = Visualizer()\n",
    "set_mesh!(vis)\n",
    "render(vis)"
   ]
  },
  {
   "cell_type": "code",
   "execution_count": 85,
   "metadata": {},
   "outputs": [],
   "source": [
    "q = [SVector{6}(x[1:6]) for x in eachcol(xtraj)];\n",
    "for k = 1:Nt\n",
    "    visualize!(vis, q[k])\n",
    "    sleep(h)\n",
    "end"
   ]
  },
  {
   "cell_type": "code",
   "execution_count": null,
   "metadata": {},
   "outputs": [],
   "source": []
  }
 ],
 "metadata": {
  "kernelspec": {
   "display_name": "Julia 1.5.3",
   "language": "julia",
   "name": "julia-1.5"
  },
  "language_info": {
   "file_extension": ".jl",
   "mimetype": "application/julia",
   "name": "julia",
   "version": "1.5.3"
  }
 },
 "nbformat": 4,
 "nbformat_minor": 4
}
