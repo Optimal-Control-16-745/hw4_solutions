{
 "cells": [
  {
   "cell_type": "code",
   "execution_count": 1,
   "metadata": {},
   "outputs": [
    {
     "name": "stderr",
     "output_type": "stream",
     "text": [
      "\u001b[32m\u001b[1m Activating\u001b[22m\u001b[39m environment at `~/Classes/OptimalControl/hw4_solutions/Project.toml`\n",
      "\u001b[32m\u001b[1m Activating\u001b[22m\u001b[39m environment at `~/Classes/OptimalControl/hw4_solutions/Project.toml`\n"
     ]
    },
    {
     "data": {
      "text/html": [
       "<script>\n",
       "// Immediately-invoked-function-expression to avoid global variables.\n",
       "(function() {\n",
       "    var warning_div = document.getElementById(\"webio-warning-10898276164975573786\");\n",
       "    var hide = function () {\n",
       "        var script = document.getElementById(\"webio-setup-12965589097999995381\");\n",
       "        var parent = script && script.parentElement;\n",
       "        var grandparent = parent && parent.parentElement;\n",
       "        if (grandparent) {\n",
       "            grandparent.style.display = \"none\";\n",
       "        }\n",
       "        warning_div.style.display = \"none\";\n",
       "    };\n",
       "    if (typeof Jupyter !== \"undefined\") {\n",
       "        console.log(\"WebIO detected Jupyter notebook environment.\");\n",
       "        // Jupyter notebook.\n",
       "        var extensions = (\n",
       "            Jupyter\n",
       "            && Jupyter.notebook.config.data\n",
       "            && Jupyter.notebook.config.data.load_extensions\n",
       "        );\n",
       "        if (extensions && extensions[\"webio-jupyter-notebook\"]) {\n",
       "            // Extension already loaded.\n",
       "            console.log(\"Jupyter WebIO nbextension detected; not loading ad-hoc.\");\n",
       "            hide();\n",
       "            return;\n",
       "        }\n",
       "    } else if (window.location.pathname.includes(\"/lab\")) {\n",
       "        // Guessing JupyterLa\n",
       "        console.log(\"Jupyter Lab detected; make sure the @webio/jupyter-lab-provider labextension is installed.\");\n",
       "        hide();\n",
       "        return;\n",
       "    }\n",
       "})();\n",
       "\n",
       "</script>\n",
       "<p\n",
       "    id=\"webio-warning-10898276164975573786\"\n",
       "    class=\"output_text output_stderr\"\n",
       "    style=\"padding: 1em; font-weight: bold;\"\n",
       ">\n",
       "    Unable to load WebIO. Please make sure WebIO works for your Jupyter client.\n",
       "    For troubleshooting, please see <a href=\"https://juliagizmos.github.io/WebIO.jl/latest/providers/ijulia/\">\n",
       "    the WebIO/IJulia documentation</a>.\n",
       "    <!-- TODO: link to installation docs. -->\n",
       "</p>\n"
      ],
      "text/plain": [
       "HTML{String}(\"<script>\\n// Immediately-invoked-function-expression to avoid global variables.\\n(function() {\\n    var warning_div = document.getElementById(\\\"webio-warning-10898276164975573786\\\");\\n    var hide = function () {\\n        var script = document.getElementById(\\\"webio-setup-12965589097999995381\\\");\\n        var parent = script && script.parentElement;\\n        var grandparent = parent && parent.parentElement;\\n        if (grandparent) {\\n            grandparent.style.display = \\\"none\\\";\\n        }\\n        warning_div.style.display = \\\"none\\\";\\n    };\\n    if (typeof Jupyter !== \\\"undefined\\\") {\\n        console.log(\\\"WebIO detected Jupyter notebook environment.\\\");\\n        // Jupyter notebook.\\n        var extensions = (\\n            Jupyter\\n            && Jupyter.notebook.config.data\\n            && Jupyter.notebook.config.data.load_extensions\\n        );\\n        if (extensions && extensions[\\\"webio-jupyter-notebook\\\"]) {\\n            // Extension already loaded.\\n            console.log(\\\"Jupyter WebIO nbextension detected; not loading ad-hoc.\\\");\\n            hide();\\n            return;\\n        }\\n    } else if (window.location.pathname.includes(\\\"/lab\\\")) {\\n        // Guessing JupyterLa\\n        console.log(\\\"Jupyter Lab detected; make sure the @webio/jupyter-lab-provider labextension is installed.\\\");\\n        hide();\\n        return;\\n    }\\n})();\\n\\n</script>\\n<p\\n    id=\\\"webio-warning-10898276164975573786\\\"\\n    class=\\\"output_text output_stderr\\\"\\n    style=\\\"padding: 1em; font-weight: bold;\\\"\\n>\\n    Unable to load WebIO. Please make sure WebIO works for your Jupyter client.\\n    For troubleshooting, please see <a href=\\\"https://juliagizmos.github.io/WebIO.jl/latest/providers/ijulia/\\\">\\n    the WebIO/IJulia documentation</a>.\\n    <!-- TODO: link to installation docs. -->\\n</p>\\n\")"
      ]
     },
     "metadata": {},
     "output_type": "display_data"
    },
    {
     "data": {
      "text/plain": [
       "slerp (generic function with 1 method)"
      ]
     },
     "execution_count": 1,
     "metadata": {},
     "output_type": "execute_result"
    }
   ],
   "source": [
    "import Pkg; Pkg.activate(joinpath(@__DIR__,\"..\")); Pkg.instantiate()\n",
    "using LinearAlgebra\n",
    "using PyPlot\n",
    "using ForwardDiff\n",
    "using RobotZoo\n",
    "using RobotDynamics\n",
    "using Ipopt\n",
    "using MathOptInterface\n",
    "const MOI = MathOptInterface;\n",
    "include(\"quadratic_cost.jl\")\n",
    "include(\"walker.jl\")\n",
    "include(\"utils.jl\")"
   ]
  },
  {
   "cell_type": "markdown",
   "metadata": {},
   "source": [
    "# Q2: Hybrid Trajectory Optimization"
   ]
  },
  {
   "cell_type": "code",
   "execution_count": 28,
   "metadata": {},
   "outputs": [
    {
     "data": {
      "text/plain": [
       "solve (generic function with 1 method)"
      ]
     },
     "execution_count": 28,
     "metadata": {},
     "output_type": "execute_result"
    }
   ],
   "source": [
    "\"\"\"\n",
    "    HybridNLP{n,m,L,Q}\n",
    "\n",
    "Represents a (N)on(L)inear (P)rogram of a trajectory optimization problem,\n",
    "with a dynamics model of type `L`, a quadratic cost function, horizon `T`, \n",
    "and initial and final state `x0`, `xf`.\n",
    "\n",
    "The kth state and control can be extracted from the concatenated state vector `Z` using\n",
    "`Z[nlp.xinds[k]]`, and `Z[nlp.uinds[k]]`.\n",
    "\n",
    "# Constructor\n",
    "    NLP(model, obj, tf, T, x0, xf, [integration])\n",
    "\n",
    "# Basic Methods\n",
    "    Base.size(nlp)    # returns (n,m,T)\n",
    "    num_ineq(nlp)     # number of inequality constraints\n",
    "    num_eq(nlp)       # number of equality constraints\n",
    "    num_primals(nlp)  # number of primal variables\n",
    "    num_duals(nlp)    # total number of dual variables\n",
    "    packZ(nlp, X, U)  # Stacks state `X` and controls `U` into one vector `Z`\n",
    "\n",
    "# Evaluating the NLP\n",
    "The NLP supports the following API for evaluating various pieces of the NLP:\n",
    "\n",
    "    eval_f(nlp, Z)         # evaluate the objective\n",
    "    grad_f!(nlp, grad, Z)  # gradient of the objective\n",
    "    hess_f!(nlp, hess, Z)  # Hessian of the objective\n",
    "    eval_c!(nlp, c, Z)     # evaluate the constraints\n",
    "    jac_c!(nlp, c, Z)      # constraint Jacobian\n",
    "\"\"\"\n",
    "struct HybridNLP{n,m,L,Q} <: MOI.AbstractNLPEvaluator\n",
    "    model::L                                 # dynamics model\n",
    "    obj::Vector{QuadraticCost{n,m,Float64}}  # objective function\n",
    "    T::Int                                   # number of knot points\n",
    "    M::Int                                   # number of steps in each mode\n",
    "    Nmodes::Int                              # number of modes\n",
    "    tf::Float64                              # total time (sec)\n",
    "    x0::MVector{n,Float64}                   # initial condition\n",
    "    xf::MVector{n,Float64}                   # final condition\n",
    "    times::Vector{Float64}                   # vector of times\n",
    "    modes::Vector{Int}                       # mode ID\n",
    "    xinds::Vector{SVector{n,Int}}            # Z[xinds[k]] gives states for time step k\n",
    "    uinds::Vector{SVector{m,Int}}            # Z[uinds[k]] gives controls for time step k\n",
    "    cinds::Vector{UnitRange{Int}}\n",
    "    lb::Vector{Float64}\n",
    "    ub::Vector{Float64}\n",
    "    function HybridNLP(model, obj::Vector{<:QuadraticCost{n,m}},\n",
    "            tf::Real, T::Integer, M::Integer, x0::AbstractVector, xf::AbstractVector, integration::Type{<:QuadratureRule}=RK4\n",
    "        ) where {n,m}\n",
    "        xinds = [SVector{n}((k-1)*(n+m) .+ (1:n)) for k = 1:T]\n",
    "        uinds = [SVector{m}((k-1)*(n+m) .+ (n+1:n+m)) for k = 1:T-1]\n",
    "        times = collect(range(0, tf, length=T))\n",
    "        modes = map(1:T) do k\n",
    "            isodd((k-1) ÷ M + 1) ? 1 : 2\n",
    "        end\n",
    "        Nmodes = Int(ceil(T/M))\n",
    "        \n",
    "        c_init_inds = 1:n                                                    # initial constraint\n",
    "        c_term_inds = (c_init_inds[end]+1):(c_init_inds[end]+n)              # terminal constraint\n",
    "        c_dyn_inds = (c_term_inds[end]+1):(c_term_inds[end]+n*(T-1)  )       # dynamics constraints\n",
    "        c_stance_inds = (c_dyn_inds[end]+1):(c_dyn_inds[end]+T)              # stance constraint (1 per time step)\n",
    "        c_length_inds = (c_stance_inds[end]+1):(c_stance_inds[end]+(2*T))    # length bounds     (2 per time step)\n",
    "        m_nlp = c_length_inds[end]                                           # total number of constraints\n",
    "        \n",
    "        lb = fill(0.0,m_nlp)\n",
    "        ub = fill(0.0,m_nlp)\n",
    "        lb[c_length_inds] .= model.ℓ_min\n",
    "        ub[c_length_inds] .= model.ℓ_max\n",
    "\n",
    "        cinds = [c_init_inds, c_term_inds, c_dyn_inds, c_stance_inds, c_length_inds]\n",
    "        \n",
    "        new{n,m,typeof(model), integration}(\n",
    "            model, obj,\n",
    "            T, M, Nmodes, tf, x0, xf, times, modes,\n",
    "            xinds, uinds, cinds, lb, ub\n",
    "        )\n",
    "    end\n",
    "end\n",
    "Base.size(nlp::HybridNLP{n,m}) where {n,m} = (n,m,nlp.T)\n",
    "num_primals(nlp::HybridNLP{n,m}) where {n,m} = n*nlp.T + m*(nlp.T-1)\n",
    "num_duals(nlp::HybridNLP) = nlp.cinds[end][end]\n",
    "\n",
    "\"\"\"\n",
    "    packZ(nlp, X, U)\n",
    "\n",
    "Take a vector state vectors `X` and controls `U` and stack them into a single vector Z.\n",
    "\"\"\"\n",
    "function packZ(nlp, X, U)\n",
    "    Z = zeros(num_primals(nlp))\n",
    "    for k = 1:nlp.T-1\n",
    "        Z[nlp.xinds[k]] = X[k]\n",
    "        Z[nlp.uinds[k]] = U[k]\n",
    "    end\n",
    "    Z[nlp.xinds[end]] = X[end]\n",
    "    return Z\n",
    "end\n",
    "\n",
    "\"\"\"\n",
    "    unpackZ(nlp, Z)\n",
    "\n",
    "Take a vector of all the states and controls and return a vector of state vectors `X` and\n",
    "controls `U`.\n",
    "\"\"\"\n",
    "function unpackZ(nlp, Z)\n",
    "    X = [Z[xi] for xi in nlp.xinds]\n",
    "    U = [Z[ui] for ui in nlp.uinds]\n",
    "    return X, U\n",
    "end\n",
    "\n",
    "include(\"moi.jl\")"
   ]
  },
  {
   "cell_type": "markdown",
   "metadata": {},
   "source": [
    "## Costs"
   ]
  },
  {
   "cell_type": "code",
   "execution_count": 3,
   "metadata": {},
   "outputs": [
    {
     "data": {
      "text/plain": [
       "hess_f!"
      ]
     },
     "execution_count": 3,
     "metadata": {},
     "output_type": "execute_result"
    }
   ],
   "source": [
    "\"\"\"\n",
    "    eval_f(nlp, Z)\n",
    "\n",
    "Evaluate the objective, returning a scalar.\n",
    "\"\"\"\n",
    "function eval_f(nlp::HybridNLP, Z)\n",
    "    # TASK: compute the objective value (cost)\n",
    "    J = 0.0\n",
    "    \n",
    "    # SOLUTION\n",
    "    xi,ui = nlp.xinds, nlp.uinds\n",
    "    for k = 1:nlp.T-1\n",
    "        x,u = Z[xi[k]], Z[ui[k]]\n",
    "        J += stagecost(nlp.obj[k], x, u)\n",
    "    end\n",
    "    J += termcost(nlp.obj[end], Z[xi[end]])\n",
    "    return J\n",
    "end\n",
    "\n",
    "\"\"\"\n",
    "    grad_f!(nlp, grad, Z)\n",
    "\n",
    "Evaluate the gradient of the objective at `Z`, storing the result in `grad`.\n",
    "\"\"\"\n",
    "function grad_f!(nlp::HybridNLP{n,m}, grad, Z) where {n,m}\n",
    "    xi,ui = nlp.xinds, nlp.uinds\n",
    "    obj = nlp.obj\n",
    "    for k = 1:nlp.T-1\n",
    "        x,u = Z[xi[k]], Z[ui[k]]\n",
    "        # TASK: Compute the cost gradient\n",
    "        grad[xi[k]] .= 0\n",
    "        grad[ui[k]] .= 0\n",
    "        \n",
    "        # SOLUTION\n",
    "        grad[xi[k]] = obj[k].Q*x + obj[k].q\n",
    "        grad[ui[k]] = obj[k].R*u + obj[k].r\n",
    "    end\n",
    "    grad[xi[end]] = obj[end].Q*Z[xi[end]] + obj[end].q\n",
    "    return nothing\n",
    "end\n",
    "\n",
    "\"\"\"\n",
    "    hess_f!(nlp, hess, Z)\n",
    "\n",
    "Evaluate the Hessian of the objective at `Z`, storing the result in `hess`.\n",
    "Should work with `hess` sparse.\n",
    "\"\"\"\n",
    "function hess_f!(nlp::HybridNLP{n,m}, hess, Z, rezero=true) where {n,m}\n",
    "    # TASK: Compute the objective hessian\n",
    "    # HINT: It's a diagonal matrix\n",
    "    if rezero\n",
    "        for i = 1:size(hess,1)\n",
    "            hess[i,i] = 0\n",
    "        end\n",
    "    end\n",
    "    xi,ui = nlp.xinds, nlp.uinds\n",
    "    obj = nlp.obj\n",
    "    i = 1\n",
    "    for k = 1:nlp.T\n",
    "        for j = 1:n\n",
    "            hess[i,i] += nlp.obj[k].Q[j,j]\n",
    "            i += 1\n",
    "        end\n",
    "        if k < nlp.T\n",
    "            for j = 1:m\n",
    "                hess[i,i] += nlp.obj[k].R[j,j]\n",
    "                i += 1\n",
    "            end\n",
    "        end\n",
    "    end\n",
    "end"
   ]
  },
  {
   "cell_type": "markdown",
   "metadata": {},
   "source": [
    "## Constraints"
   ]
  },
  {
   "cell_type": "code",
   "execution_count": 9,
   "metadata": {},
   "outputs": [
    {
     "data": {
      "text/plain": [
       "jac_c! (generic function with 1 method)"
      ]
     },
     "execution_count": 9,
     "metadata": {},
     "output_type": "execute_result"
    }
   ],
   "source": [
    "\"\"\"\n",
    "    eval_c!(nlp, c, Z)\n",
    "\n",
    "Evaluate the equality constraints at `Z`, storing the result in `c`.\n",
    "The constraints should be ordered as follows: \n",
    "1. Initial condition ``x_1 = x_\\\\text{init}``\n",
    "2. Dynamics ``f(x_k,u_k) - x_{k+1} = 0``\n",
    "3. Terminal constraint ``x_T = x_\\\\text{goal}``\n",
    "\n",
    "For this problem, you can use an explicit integrator. We suggest RK4.\n",
    "\"\"\"\n",
    "function dyn!(nlp::HybridNLP{n,m,<:Any,Q}, c, Z) where {n,m,Q}\n",
    "    T = nlp.T\n",
    "    xi,ui = nlp.xinds, nlp.uinds\n",
    "    idx = xi[1]\n",
    "\n",
    "    # TODO: initial condition\n",
    "    c[idx] = Z[xi[1]] - nlp.x0\n",
    "\n",
    "    # dynamics\n",
    "    for k = 1:T-1\n",
    "        idx = idx .+ n\n",
    "        x,u = Z[xi[k]], Z[ui[k]]\n",
    "        x⁺ = Z[xi[k+1]]\n",
    "        dt = nlp.times[k+1] - nlp.times[k]\n",
    "        \n",
    "        # TASK: Dynamics constraint\n",
    "        c[idx] .= 0\n",
    "        \n",
    "        # SOLUTION\n",
    "        c[idx] = discrete_dynamics(Q, nlp.model, x, u, nlp.times[k], dt) - x⁺\n",
    "    end\n",
    "\n",
    "    # TODO: terminal constraint\n",
    "    idx = idx .+ n\n",
    "    c[idx] .= 0\n",
    "    \n",
    "    # SOLUTION\n",
    "    c[idx] = Z[xi[T]] - nlp.xf\n",
    "    return nothing\n",
    "end\n",
    "\n",
    "function dynamics_constraint!(nlp::HybridNLP{n,m}, c, Z) where {n,m}\n",
    "    model = nlp.model\n",
    "    d = view(c, nlp.cinds[3])\n",
    "    xi,ui = nlp.xinds, nlp.uinds\n",
    "    ci = 1:n\n",
    "    for k = 1:nlp.T-1\n",
    "        x,u   = Z[xi[k]],   Z[ui[k]]\n",
    "        x2    = Z[xi[k+1]]\n",
    "        dk = view(d,ci)\n",
    "        t = nlp.times[k]\n",
    "        dt = nlp.times[k+1] - nlp.times[k]\n",
    "        \n",
    "        mode = nlp.modes[k]\n",
    "        \n",
    "        \n",
    "#         if nlp.modes[k] == 1\n",
    "#             dk .= stance1_dynamics_rk4(x, u) - x2\n",
    "#         else\n",
    "#             dk .= stance2_dynamics_rk4(x, u) - x2\n",
    "#         end\n",
    "        jump = nlp.modes[k+1] != nlp.modes[k]\n",
    "        f = rk4(model, x, u, t, dt, mode)\n",
    "        if jump\n",
    "            dk .= jumpmap(model, f, mode) - x2\n",
    "#             if nlp.modes[k] == 1\n",
    "#                 dk .= jump2_map(dk + x2) - x2\n",
    "#             else\n",
    "#                 dk .= jump1_map(dk + x2) - x2\n",
    "#             end\n",
    "        else\n",
    "            dk .= f - x2\n",
    "        end\n",
    "        \n",
    "        ci = ci .+ n\n",
    "    end\n",
    "    \n",
    "    return d\n",
    "end\n",
    "\n",
    "function dynamics_jacobian!(nlp::HybridNLP{n,m}, jac, Z) where {n,m}\n",
    "    model = nlp.model\n",
    "    D = view(jac, nlp.cinds[3], :)\n",
    "    xi,ui = nlp.xinds, nlp.uinds\n",
    "    ci = 1:n\n",
    "    for k = 1:nlp.T-1\n",
    "        x,u   = Z[xi[k]],   Z[ui[k]]\n",
    "        zi = [xi[k]; ui[k]]\n",
    "        t = nlp.times[k]\n",
    "        dt = nlp.times[k+1] - nlp.times[k]\n",
    "        \n",
    "        mode = nlp.modes[k]\n",
    "        jump = nlp.modes[k+1] != nlp.modes[k]\n",
    "        function dyn(z)\n",
    "            x2 = rk4(model, z[xi[1]], z[ui[1]], t, dt, mode)\n",
    "            jump ? jumpmap(model, x2, mode) : x2\n",
    "        end\n",
    "        F = view(D, ci, zi)\n",
    "        F2 = view(D, ci, xi[k+1])\n",
    "        \n",
    "        ForwardDiff.jacobian!(F, \n",
    "            dyn,\n",
    "            [x; u]\n",
    "        )\n",
    "        for i = 1:n\n",
    "            F2[i,i] = -1\n",
    "        end\n",
    "        ci = ci .+ n\n",
    "    end\n",
    "end\n",
    "\n",
    "function stance_constraint!(nlp::HybridNLP, c, Z)\n",
    "    d = view(c, nlp.cinds[4])\n",
    "    xi,ui = nlp.xinds, nlp.uinds\n",
    "    t = 1\n",
    "    for k = 1:nlp.T\n",
    "        x = Z[xi[k]]\n",
    "        foot_ind = nlp.modes[k] == 1 ? 4 : 6 \n",
    "        d[t] = x[foot_ind]   # keep foot on the floor \n",
    "        t += 1\n",
    "    end\n",
    "    return d\n",
    "end\n",
    "\n",
    "function length_constraint!(nlp::HybridNLP, c, Z)\n",
    "    d = view(c, nlp.cinds[5])\n",
    "    xi,ui = nlp.xinds, nlp.uinds\n",
    "    for k = 1:nlp.T\n",
    "        x = Z[xi[k]]\n",
    "        d[2*(k-1)+1] = norm(x[1:2] - x[3:4])\n",
    "        d[2*(k-1)+2] = norm(x[1:2] - x[5:6])\n",
    "    end\n",
    "    return d\n",
    "end\n",
    "\n",
    "function eval_c!(nlp::HybridNLP, c, Z)\n",
    "    xi,ui = nlp.xinds, nlp.uinds\n",
    "    c[nlp.cinds[1]] .= Z[xi[1]] - nlp.x0\n",
    "    c[nlp.cinds[2]] .= Z[xi[end]] - nlp.xf\n",
    "    dynamics_constraint!(nlp, c, Z)\n",
    "    stance_constraint!(nlp, c, Z)\n",
    "    length_constraint!(nlp, c, Z)\n",
    "end\n",
    "\n",
    "function jac_c!(nlp::HybridNLP{n,m}, jac, Z) where {n,m}\n",
    "    xi,ui = nlp.xinds, nlp.uinds\n",
    "    m_nlp = size(jac,1)\n",
    "    Finit = view(jac, nlp.cinds[1], xi[1])\n",
    "    Fterm = view(jac, nlp.cinds[2], xi[end])\n",
    "    for i = 1:n\n",
    "        Finit[i,i] = 1\n",
    "        Fterm[i,i] = 1\n",
    "    end\n",
    "    \n",
    "    dynamics_jacobian!(nlp, jac, Z)\n",
    "    jac_stance = ForwardDiff.jacobian(\n",
    "        z->stance_constraint!(nlp, zeros(eltype(z), m_nlp), z),\n",
    "        Z\n",
    "    )\n",
    "    jac_length = ForwardDiff.jacobian(\n",
    "        z->length_constraint!(nlp, zeros(eltype(z), m_nlp), z),\n",
    "        Z\n",
    "    )\n",
    "    jac[nlp.cinds[4],:] .= jac_stance\n",
    "    jac[nlp.cinds[5],:] .= jac_length\n",
    "    \n",
    "end"
   ]
  },
  {
   "cell_type": "markdown",
   "metadata": {},
   "source": [
    "## Problem Definition"
   ]
  },
  {
   "cell_type": "code",
   "execution_count": 5,
   "metadata": {},
   "outputs": [],
   "source": [
    "# Dynamics model\n",
    "model = SimpleWalker()\n",
    "\n",
    "# Discretization\n",
    "tf = 4.4\n",
    "dt = 0.1\n",
    "T = Int(ceil(tf/dt)) + 1\n",
    "M = 5\n",
    "times = range(0,tf, length=T)\n",
    "\n",
    "# model = Walker()\n",
    "# nlp = HybridNLP(model, obj, thist[end], T, M, xref[:,1], xref[:,end]);"
   ]
  },
  {
   "cell_type": "markdown",
   "metadata": {},
   "source": [
    "## Reference Trajectory"
   ]
  },
  {
   "cell_type": "code",
   "execution_count": 6,
   "metadata": {},
   "outputs": [],
   "source": [
    "function reference_trajectory(model::SimpleWalker, times)\n",
    "    n,m = size(model)\n",
    "    tf = times[end]\n",
    "    T = length(times)\n",
    "    mb,g = model.mb, model.g\n",
    "    uref = [0.5*mb*g; 0.5*mb*g; 0.0]\n",
    "    xref = zeros(n,T)\n",
    "    xref[1,:] .= LinRange(-1.5,1.5,T)\n",
    "    xref[2,:] .= ones(T)\n",
    "    xref[3,:] .= LinRange(-1.5,1.5,T)\n",
    "    xref[5,:] .= LinRange(-1.5,1.5,T)\n",
    "    xref[7,2:end-1] .= (3.0/tf)*ones(T-2)\n",
    "    xref[9,2:end-1] .= (3.0/tf)*ones(T-2)\n",
    "    xref[11,2:end-1] .= (3.0/tf)*ones(T-2);  \n",
    "    Uref = [SVector{m}(uref) for k = 1:T-1]\n",
    "    Xref = [SVector{n}(x) for x in eachcol(xref)]\n",
    "    return Xref, Uref\n",
    "end\n",
    "Xref,Uref = reference_trajectory(model, times);"
   ]
  },
  {
   "cell_type": "markdown",
   "metadata": {},
   "source": [
    "## Solve\n"
   ]
  },
  {
   "cell_type": "code",
   "execution_count": 30,
   "metadata": {},
   "outputs": [],
   "source": [
    "# Objective\n",
    "using Random\n",
    "Random.seed!(1)\n",
    "Q = Diagonal([1.0*ones(6); 1.0*ones(6)]);\n",
    "R = Diagonal(fill(1e-3,3))\n",
    "Qf = Q;\n",
    "obj = map(1:T-1) do k\n",
    "    LQRCost(Q,R,Xref[k],Uref[k])\n",
    "end\n",
    "push!(obj, LQRCost(Qf, R*0, Xref[T], Uref[1]))\n",
    "\n",
    "# Define the NLP\n",
    "nlp = HybridNLP(model, obj, tf, T, M, Xref[1], Xref[end]);\n",
    "\n",
    "# Initial guess\n",
    "Xguess = [x + 0.1*randn(length(x)) for x in Xref]\n",
    "Uguess = [u + 0.1*randn(length(u)) for u in Uref]\n",
    "Z0 = packZ(nlp, Xguess, Uguess);"
   ]
  },
  {
   "cell_type": "code",
   "execution_count": 31,
   "metadata": {},
   "outputs": [
    {
     "name": "stdout",
     "output_type": "stream",
     "text": [
      "Creating NLP Block Data...\n",
      "Creating Ipopt...\n",
      "Adding constraints...\n",
      "starting Ipopt Solve...\n",
      "This is Ipopt version 3.13.4, running with linear solver mumps.\n",
      "NOTE: Other linear solvers might be more efficient (see Ipopt documentation).\n",
      "\n",
      "Number of nonzeros in equality constraint Jacobian...:   401184\n",
      "Number of nonzeros in inequality constraint Jacobian.:    60480\n",
      "Number of nonzeros in Lagrangian Hessian.............:        0\n",
      "\n",
      "Total number of variables............................:      672\n",
      "                     variables with only lower bounds:        0\n",
      "                variables with lower and upper bounds:        0\n",
      "                     variables with only upper bounds:        0\n",
      "Total number of equality constraints.................:      597\n",
      "Total number of inequality constraints...............:       90\n",
      "        inequality constraints with only lower bounds:        0\n",
      "   inequality constraints with lower and upper bounds:       90\n",
      "        inequality constraints with only upper bounds:        0\n",
      "\n",
      "iter    objective    inf_pr   inf_du lg(mu)  ||d||  lg(rg) alpha_du alpha_pr  ls\n",
      "   0  2.8692486e+00 1.75e+00 3.88e-01   0.0 0.00e+00    -  0.00e+00 0.00e+00   0\n",
      "WARNING: Problem in step computation; switching to emergency mode.\n",
      "   1r 2.8692486e+00 1.75e+00 9.99e+02   0.2 0.00e+00  20.0 0.00e+00 0.00e+00R  1\n",
      "WARNING: Problem in step computation; switching to emergency mode.\n",
      "Restoration phase is called at point that is almost feasible,\n",
      "  with constraint violation 0.000000e+00. Abort.\n",
      "Restoration phase in the restoration phase failed.\n",
      "\n",
      "Number of Iterations....: 1\n",
      "\n",
      "                                   (scaled)                 (unscaled)\n",
      "Objective...............:   2.8692485797744967e+00    2.8692485797744967e+00\n",
      "Dual infeasibility......:   3.8819978594268878e-01    3.8819978594268878e-01\n",
      "Constraint violation....:   1.7540391489598244e+00    1.7540391489598244e+00\n",
      "Complementarity.........:   8.8915848036321665e-01    8.8915848036321665e-01\n",
      "Overall NLP error.......:   1.7540391489598244e+00    1.7540391489598244e+00\n",
      "\n",
      "\n",
      "Number of objective function evaluations             = 2\n",
      "Number of objective gradient evaluations             = 2\n",
      "Number of equality constraint evaluations            = 2\n",
      "Number of inequality constraint evaluations          = 2\n",
      "Number of equality constraint Jacobian evaluations   = 2\n",
      "Number of inequality constraint Jacobian evaluations = 2\n",
      "Number of Lagrangian Hessian evaluations             = 0\n",
      "Total CPU secs in IPOPT (w/o function evaluations)   =     26.886\n",
      "Total CPU secs in NLP function evaluations           =      0.024\n",
      "\n",
      "EXIT: Restoration Failed!\n"
     ]
    },
    {
     "data": {
      "text/plain": [
       "([-1.4702712015464539, 1.0382395967790607, -1.559763447672823, -0.001044524463737564, -1.5839026854388765, 0.031111133849833383, 0.22950878238373107, -0.22670863488005308, 0.052996557616674614, 0.04314215264229121  …  1.667594880878731, -0.015215554740698257, 1.5266660230841296, -0.06686180415998987, -0.03688296792504201, -0.03013920467592153, 0.006677792368156305, -0.05088012947039371, -0.03523456900970411, 0.02886881322327386], Ipopt.Optimizer)"
      ]
     },
     "execution_count": 31,
     "metadata": {},
     "output_type": "execute_result"
    }
   ],
   "source": [
    "# include(\"moi.jl\")\n",
    "Z_sol, solver = solve(Z0, nlp)"
   ]
  },
  {
   "cell_type": "code",
   "execution_count": 32,
   "metadata": {},
   "outputs": [
    {
     "name": "stdout",
     "output_type": "stream",
     "text": [
      "This is Ipopt version 3.13.4, running with linear solver mumps.\n",
      "NOTE: Other linear solvers might be more efficient (see Ipopt documentation).\n",
      "\n",
      "Number of nonzeros in equality constraint Jacobian...:   401184\n",
      "Number of nonzeros in inequality constraint Jacobian.:    60480\n",
      "Number of nonzeros in Lagrangian Hessian.............:        0\n",
      "\n",
      "Total number of variables............................:      672\n",
      "                     variables with only lower bounds:        0\n",
      "                variables with lower and upper bounds:        0\n",
      "                     variables with only upper bounds:        0\n",
      "Total number of equality constraints.................:      597\n",
      "Total number of inequality constraints...............:       90\n",
      "        inequality constraints with only lower bounds:        0\n",
      "   inequality constraints with lower and upper bounds:       90\n",
      "        inequality constraints with only upper bounds:        0\n",
      "\n",
      "iter    objective    inf_pr   inf_du lg(mu)  ||d||  lg(rg) alpha_du alpha_pr  ls\n",
      "   0  2.8692486e+00 1.75e+00 3.88e-01   0.0 0.00e+00    -  0.00e+00 0.00e+00   0\n",
      "   1  7.0736362e+01 1.10e+00 8.96e+03  -6.3 1.29e+02    -  1.48e-01 5.05e-01h  1\n",
      "   2  1.6198941e+02 5.58e-01 6.49e+03   0.1 8.23e+01    -  1.00e+00 5.28e-01h  1\n",
      "   3  2.0385938e+02 6.77e-01 4.92e+03   0.9 7.51e+01    -  1.00e+00 3.42e-01f  1\n",
      "   4  2.5536473e+02 3.64e-01 1.44e+03   1.3 2.14e+01    -  8.99e-01 6.26e-01h  1\n",
      "   5  3.0210991e+02 1.26e-01 5.16e+02   1.2 2.92e+01    -  1.00e+00 1.00e+00f  1\n",
      "   6  2.8560321e+02 2.22e-02 1.09e+02   0.3 2.02e+01    -  9.29e-01 1.00e+00f  1\n",
      "   7  2.7806386e+02 1.12e-01 8.98e+01   0.1 3.15e+01    -  8.69e-01 1.00e+00f  1\n",
      "   8  2.7403384e+02 3.03e-02 6.71e+01  -0.5 2.84e+01    -  9.93e-01 1.00e+00f  1\n",
      "   9  2.5133977e+02 1.24e-01 2.72e+01  -0.3 3.83e+01    -  1.00e+00 1.00e+00f  1\n",
      "iter    objective    inf_pr   inf_du lg(mu)  ||d||  lg(rg) alpha_du alpha_pr  ls\n",
      "  10  2.7447005e+02 1.31e-01 1.41e+01  -0.3 5.64e+01    -  9.11e-01 1.00e+00H  1\n",
      "  11  2.3314749e+02 2.91e-01 8.59e+00  -0.4 2.65e+01    -  8.94e-01 1.00e+00f  1\n",
      "  12  2.3771407e+02 1.66e-02 5.27e+00  -0.6 9.47e+00    -  9.36e-01 1.00e+00h  1\n",
      "  13  2.3591040e+02 1.39e-02 9.31e+00  -1.3 1.13e+01    -  9.77e-01 1.00e+00f  1\n",
      "  14  2.3538835e+02 1.20e-02 1.16e+01  -1.2 2.77e+01    -  9.20e-01 1.00e+00F  1\n",
      "  15  2.3709616e+02 6.84e-03 1.37e+01  -1.6 2.40e+01    -  1.00e+00 1.00e+00H  1\n",
      "  16  2.3312355e+02 3.86e-02 1.05e+01  -2.1 1.67e+01    -  1.00e+00 1.00e+00f  1\n",
      "  17  2.3326119e+02 1.69e-02 1.27e+00  -2.2 7.90e+00    -  1.00e+00 1.00e+00h  1\n",
      "  18  2.3275379e+02 8.41e-03 1.17e+00  -2.8 4.62e+00    -  1.00e+00 1.00e+00f  1\n",
      "  19  2.3275613e+02 7.98e-04 4.14e-01  -3.8 1.75e+00    -  1.00e+00 1.00e+00h  1\n",
      "iter    objective    inf_pr   inf_du lg(mu)  ||d||  lg(rg) alpha_du alpha_pr  ls\n",
      "  20  2.3273255e+02 2.60e-04 4.08e-01  -4.8 1.09e+00    -  1.00e+00 1.00e+00h  1\n",
      "  21  2.3271882e+02 3.09e-04 4.16e-01  -6.1 2.25e+00    -  1.00e+00 1.00e+00h  1\n",
      "  22  2.3271382e+02 2.23e-04 6.46e-01  -7.1 1.14e+00    -  1.00e+00 1.00e+00h  1\n",
      "  23  2.3271137e+02 7.14e-05 1.93e-01  -8.3 5.38e-01    -  1.00e+00 1.00e+00h  1\n",
      "  24  2.3270540e+02 2.48e-05 2.61e-01  -9.8 4.46e-01    -  1.00e+00 1.00e+00h  1\n",
      "  25  2.3270536e+02 2.70e-06 3.70e-02 -11.0 1.48e-01    -  1.00e+00 1.00e+00h  1\n",
      "  26  2.3270494e+02 9.98e-06 6.06e-02 -11.0 2.91e-01    -  1.00e+00 1.00e+00h  1\n",
      "  27  2.3270604e+02 5.07e-08 7.49e-02 -11.0 3.74e-01    -  1.00e+00 1.00e+00H  1\n",
      "  28  2.3270439e+02 9.28e-06 4.33e-02 -11.0 2.16e-01    -  1.00e+00 1.00e+00f  1\n",
      "  29  2.3270459e+02 1.88e-06 1.51e-02 -11.0 4.66e-02    -  1.00e+00 1.00e+00h  1\n",
      "iter    objective    inf_pr   inf_du lg(mu)  ||d||  lg(rg) alpha_du alpha_pr  ls\n",
      "  30  2.3270454e+02 5.81e-07 1.46e-03 -11.0 3.59e-02    -  1.00e+00 1.00e+00h  1\n",
      "  31  2.3270454e+02 2.68e-09 1.60e-03 -11.0 8.61e-03    -  1.00e+00 1.00e+00h  1\n",
      "  32  2.3270458e+02 9.76e-11 1.80e-02 -11.0 8.48e-02    -  1.00e+00 1.00e+00H  1\n",
      "  33  2.3270454e+02 2.94e-07 2.35e-03 -11.0 4.81e-02    -  1.00e+00 1.00e+00f  1\n",
      "  34  2.3270454e+02 6.38e-08 4.40e-03 -11.0 1.49e-02    -  1.00e+00 1.00e+00h  1\n",
      "  35  2.3270454e+02 2.93e-08 3.31e-04 -11.0 8.98e-03    -  1.00e+00 1.00e+00h  1\n",
      "  36  2.3270454e+02 3.52e-10 1.34e-04 -11.0 5.14e-04    -  1.00e+00 1.00e+00h  1\n",
      "  37  2.3270454e+02 2.60e-11 1.11e-04 -11.0 2.50e-04    -  1.00e+00 1.00e+00h  1\n",
      "  38  2.3270454e+02 1.85e-11 5.62e-05 -11.0 3.22e-04    -  1.00e+00 1.00e+00h  1\n",
      "  39  2.3270454e+02 3.25e-11 1.26e-04 -11.0 5.35e-04    -  1.00e+00 1.00e+00h  1\n",
      "iter    objective    inf_pr   inf_du lg(mu)  ||d||  lg(rg) alpha_du alpha_pr  ls\n",
      "  40  2.3270454e+02 1.28e-15 1.32e-04 -11.0 3.30e-04    -  1.00e+00 1.00e+00H  1\n",
      "  41  2.3270454e+02 1.86e-11 3.43e-05 -11.0 3.19e-04    -  1.00e+00 1.00e+00h  1\n",
      "  42  2.3270454e+02 2.67e-13 5.94e-06 -11.0 3.88e-05    -  1.00e+00 1.00e+00h  1\n",
      "  43  2.3270454e+02 8.88e-16 3.44e-05 -11.0 1.95e-04    -  1.00e+00 1.00e+00H  1\n",
      "  44  2.3270454e+02 2.71e-12 2.24e-05 -11.0 1.08e-04    -  1.00e+00 1.00e+00h  1\n",
      "  45  2.3270454e+02 1.76e-12 1.18e-05 -11.0 7.00e-05    -  1.00e+00 1.00e+00h  1\n",
      "  46  2.3270454e+02 7.75e-14 1.24e-05 -11.0 1.82e-05    -  1.00e+00 1.00e+00h  1\n",
      "  47  2.3270454e+02 2.54e-14 1.75e-06 -11.0 9.28e-06    -  1.00e+00 1.00e+00h  1\n",
      "  48  2.3270454e+02 6.66e-16 3.39e-07 -11.0 2.37e-06    -  1.00e+00 1.00e+00h  1\n",
      "\n",
      "Number of Iterations....: 48\n",
      "\n",
      "                                   (scaled)                 (unscaled)\n",
      "Objective...............:   2.3270454096038588e+02    2.3270454096038588e+02\n",
      "Dual infeasibility......:   3.3883086669739271e-07    3.3883086669739271e-07\n",
      "Constraint violation....:   6.6613381477509392e-16    6.6613381477509392e-16\n",
      "Complementarity.........:   1.0000000000000003e-11    1.0000000000000003e-11\n",
      "Overall NLP error.......:   3.3883086669739271e-07    3.3883086669739271e-07\n",
      "\n",
      "\n",
      "Number of objective function evaluations             = 56\n",
      "Number of objective gradient evaluations             = 49\n",
      "Number of equality constraint evaluations            = 56\n",
      "Number of inequality constraint evaluations          = 56\n",
      "Number of equality constraint Jacobian evaluations   = 49\n",
      "Number of inequality constraint Jacobian evaluations = 49\n",
      "Number of Lagrangian Hessian evaluations             = 0\n",
      "Total CPU secs in IPOPT (w/o function evaluations)   =     62.385\n",
      "Total CPU secs in NLP function evaluations           =      1.469\n",
      "\n",
      "EXIT: Optimal Solution Found.\n"
     ]
    }
   ],
   "source": [
    "MOI.optimize!(solver)"
   ]
  },
  {
   "cell_type": "code",
   "execution_count": 157,
   "metadata": {},
   "outputs": [
    {
     "name": "stdout",
     "output_type": "stream",
     "text": [
      "MOI.eval_objective(prob, Z) ≈ MOI.eval_objective(nlp, Z) = true\n",
      "norm(grad_f1 - grad_f2) = 1.9317063097816575e-17\n",
      "norm(c1 - c2) = 1.799075887679826e-14\n",
      "norm(jac1 - jac2) = 0.0\n",
      "norm.(prob.constraint_bounds .- (nlp.lb, nlp.ub)) = (0.0, 0.0)\n"
     ]
    },
    {
     "data": {
      "text/plain": [
       "([-Inf, -Inf, -Inf, -Inf, -Inf, -Inf, -Inf, -Inf, -Inf, -Inf  …  -Inf, -Inf, -Inf, -Inf, -Inf, -Inf, -Inf, -Inf, -Inf, -Inf], [Inf, Inf, Inf, Inf, Inf, Inf, Inf, Inf, Inf, Inf  …  Inf, Inf, Inf, Inf, Inf, Inf, Inf, Inf, Inf, Inf])"
      ]
     },
     "execution_count": 157,
     "metadata": {},
     "output_type": "execute_result"
    }
   ],
   "source": [
    "Z = randn(n_nlp)\n",
    "\n",
    "@show MOI.eval_objective(prob, Z) ≈ MOI.eval_objective(nlp, Z)\n",
    "\n",
    "grad_f1 = zero(Z)\n",
    "grad_f2 = zero(Z)\n",
    "MOI.eval_objective_gradient(prob, grad_f1, Z) \n",
    "MOI.eval_objective_gradient(nlp,  grad_f2, Z)\n",
    "@show norm(grad_f1 - grad_f2)\n",
    "\n",
    "c1 = zeros(m_nlp)\n",
    "c2 = zeros(m_nlp)\n",
    "MOI.eval_constraint(prob, c1, Z)\n",
    "MOI.eval_constraint(nlp,  c2, Z)\n",
    "@show norm(c1 - c2)\n",
    "\n",
    "jac1 = zeros(m_nlp, n_nlp)\n",
    "jac2 = zeros(m_nlp, n_nlp)\n",
    "MOI.eval_constraint_jacobian(prob, vec(jac1), Z)\n",
    "MOI.eval_constraint_jacobian(prob, vec(jac2), Z)\n",
    "@show norm(jac1 - jac2)\n",
    "\n",
    "@show norm.(prob.constraint_bounds .- (nlp.lb, nlp.ub))\n",
    "prob.primal_bounds"
   ]
  },
  {
   "cell_type": "markdown",
   "metadata": {},
   "source": [
    "## Visualizer"
   ]
  },
  {
   "cell_type": "code",
   "execution_count": 11,
   "metadata": {},
   "outputs": [
    {
     "name": "stderr",
     "output_type": "stream",
     "text": [
      "┌ Info: MeshCat server started. You can open the visualizer by visiting the following URL in your browser:\n",
      "│ http://127.0.0.1:8700\n",
      "└ @ MeshCat /home/brian/.julia/packages/MeshCat/GlCMx/src/visualizer.jl:73\n"
     ]
    },
    {
     "data": {
      "text/html": [
       "    <div style=\"height: 500px; width: 100%; overflow-x: auto; overflow-y: hidden; resize: both\">\n",
       "    <iframe src=\"http://127.0.0.1:8700\" style=\"width: 100%; height: 100%; border: none\"></iframe>\n",
       "    </div>\n"
      ],
      "text/plain": [
       "MeshCat.DisplayedVisualizer(MeshCat.CoreVisualizer(MeshCat.SceneTrees.SceneNode(nothing, nothing, Dict{String,Array{UInt8,1}}(), nothing, Dict{String,MeshCat.SceneTrees.SceneNode}(\"meshcat\" => MeshCat.SceneTrees.SceneNode(nothing, nothing, Dict{String,Array{UInt8,1}}(), nothing, Dict{String,MeshCat.SceneTrees.SceneNode}(\"robot\" => MeshCat.SceneTrees.SceneNode(nothing, nothing, Dict{String,Array{UInt8,1}}(), nothing, Dict{String,MeshCat.SceneTrees.SceneNode}(\"Rfoot\" => MeshCat.SceneTrees.SceneNode(nothing, nothing, Dict{String,Array{UInt8,1}}(), nothing, Dict{String,MeshCat.SceneTrees.SceneNode}(\"geom\" => MeshCat.SceneTrees.SceneNode(UInt8[0x83, 0xa6, 0x6f, 0x62, 0x6a, 0x65, 0x63, 0x74, 0x84, 0xaa  …  0x52, 0x66, 0x6f, 0x6f, 0x74, 0x2f, 0x67, 0x65, 0x6f, 0x6d], UInt8[0x83, 0xa6, 0x6d, 0x61, 0x74, 0x72, 0x69, 0x78, 0xc7, 0x40  …  0x52, 0x66, 0x6f, 0x6f, 0x74, 0x2f, 0x67, 0x65, 0x6f, 0x6d], Dict{String,Array{UInt8,1}}(), nothing, Dict{String,MeshCat.SceneTrees.SceneNode}()))),\"torso\" => MeshCat.SceneTrees.SceneNode(nothing, nothing, Dict{String,Array{UInt8,1}}(), nothing, Dict{String,MeshCat.SceneTrees.SceneNode}(\"body\" => MeshCat.SceneTrees.SceneNode(UInt8[0x83, 0xa6, 0x6f, 0x62, 0x6a, 0x65, 0x63, 0x74, 0x84, 0xaa  …  0x74, 0x6f, 0x72, 0x73, 0x6f, 0x2f, 0x62, 0x6f, 0x64, 0x79], nothing, Dict{String,Array{UInt8,1}}(), nothing, Dict{String,MeshCat.SceneTrees.SceneNode}()),\"Laxle\" => MeshCat.SceneTrees.SceneNode(UInt8[0x83, 0xa6, 0x6f, 0x62, 0x6a, 0x65, 0x63, 0x74, 0x84, 0xaa  …  0x6f, 0x72, 0x73, 0x6f, 0x2f, 0x4c, 0x61, 0x78, 0x6c, 0x65], UInt8[0x83, 0xa6, 0x6d, 0x61, 0x74, 0x72, 0x69, 0x78, 0xc7, 0x40  …  0x6f, 0x72, 0x73, 0x6f, 0x2f, 0x4c, 0x61, 0x78, 0x6c, 0x65], Dict{String,Array{UInt8,1}}(), nothing, Dict{String,MeshCat.SceneTrees.SceneNode}()),\"Lleg\" => MeshCat.SceneTrees.SceneNode(nothing, nothing, Dict{String,Array{UInt8,1}}(), nothing, Dict{String,MeshCat.SceneTrees.SceneNode}(\"geom\" => MeshCat.SceneTrees.SceneNode(UInt8[0x83, 0xa6, 0x6f, 0x62, 0x6a, 0x65, 0x63, 0x74, 0x84, 0xaa  …  0x2f, 0x4c, 0x6c, 0x65, 0x67, 0x2f, 0x67, 0x65, 0x6f, 0x6d], nothing, Dict{String,Array{UInt8,1}}(), nothing, Dict{String,MeshCat.SceneTrees.SceneNode}()))),\"Rleg\" => MeshCat.SceneTrees.SceneNode(nothing, nothing, Dict{String,Array{UInt8,1}}(), nothing, Dict{String,MeshCat.SceneTrees.SceneNode}(\"geom\" => MeshCat.SceneTrees.SceneNode(UInt8[0x83, 0xa6, 0x6f, 0x62, 0x6a, 0x65, 0x63, 0x74, 0x84, 0xaa  …  0x2f, 0x52, 0x6c, 0x65, 0x67, 0x2f, 0x67, 0x65, 0x6f, 0x6d], nothing, Dict{String,Array{UInt8,1}}(), nothing, Dict{String,MeshCat.SceneTrees.SceneNode}()))),\"Raxle\" => MeshCat.SceneTrees.SceneNode(UInt8[0x83, 0xa6, 0x6f, 0x62, 0x6a, 0x65, 0x63, 0x74, 0x84, 0xaa  …  0x6f, 0x72, 0x73, 0x6f, 0x2f, 0x52, 0x61, 0x78, 0x6c, 0x65], UInt8[0x83, 0xa6, 0x6d, 0x61, 0x74, 0x72, 0x69, 0x78, 0xc7, 0x40  …  0x6f, 0x72, 0x73, 0x6f, 0x2f, 0x52, 0x61, 0x78, 0x6c, 0x65], Dict{String,Array{UInt8,1}}(), nothing, Dict{String,MeshCat.SceneTrees.SceneNode}()))),\"Lfoot\" => MeshCat.SceneTrees.SceneNode(nothing, nothing, Dict{String,Array{UInt8,1}}(), nothing, Dict{String,MeshCat.SceneTrees.SceneNode}(\"geom\" => MeshCat.SceneTrees.SceneNode(UInt8[0x83, 0xa6, 0x6f, 0x62, 0x6a, 0x65, 0x63, 0x74, 0x84, 0xaa  …  0x4c, 0x66, 0x6f, 0x6f, 0x74, 0x2f, 0x67, 0x65, 0x6f, 0x6d], UInt8[0x83, 0xa6, 0x6d, 0x61, 0x74, 0x72, 0x69, 0x78, 0xc7, 0x40  …  0x4c, 0x66, 0x6f, 0x6f, 0x74, 0x2f, 0x67, 0x65, 0x6f, 0x6d], Dict{String,Array{UInt8,1}}(), nothing, Dict{String,MeshCat.SceneTrees.SceneNode}()))))))))), Set{Any}(), ip\"127.0.0.1\", 8700))"
      ]
     },
     "execution_count": 11,
     "metadata": {},
     "output_type": "execute_result"
    }
   ],
   "source": [
    "vis = Visualizer()\n",
    "set_mesh!(vis, model)\n",
    "render(vis)"
   ]
  },
  {
   "cell_type": "code",
   "execution_count": 23,
   "metadata": {},
   "outputs": [],
   "source": [
    "visualize!(vis, nlp, unpackZ(nlp, Z_sol)[1])"
   ]
  },
  {
   "cell_type": "markdown",
   "metadata": {},
   "source": [
    "# Old Problem"
   ]
  },
  {
   "cell_type": "code",
   "execution_count": 33,
   "metadata": {},
   "outputs": [
    {
     "data": {
      "text/plain": [
       "5-element Array{UnitRange{Int64},1}:\n",
       " 1:12\n",
       " 13:24\n",
       " 25:552\n",
       " 553:597\n",
       " 598:687"
      ]
     },
     "execution_count": 33,
     "metadata": {},
     "output_type": "execute_result"
    }
   ],
   "source": [
    "Nx = 12         # number of state\n",
    "Nu = 3          # number of controls\n",
    "Tfinal = 4.4    # final time\n",
    "h = 0.1         # 10 hz\n",
    "Nm = 5          # number of steps in each mode\n",
    "Nt = Int(ceil(Tfinal/h)+1)   # number of time steps\n",
    "Nmodes = Int(ceil(Nt/Nm))\n",
    "thist = Array(range(0,h*(Nt-1), step=h));\n",
    "n_nlp = Nx*Nt + Nu*(Nt-1) # number of decision variables\n",
    "c_init_inds = 1:Nx                                                   # initial constraint\n",
    "c_term_inds = (c_init_inds[end]+1):(c_init_inds[end]+Nx)             # terminal constraint\n",
    "c_dyn_inds = (c_term_inds[end]+1):(c_term_inds[end]+Nx*(Nt-1))       # dynamics constraints\n",
    "c_stance_inds = (c_dyn_inds[end]+1):(c_dyn_inds[end]+Nt)             # stance constraint (1 per time step)\n",
    "c_length_inds = (c_stance_inds[end]+1):(c_stance_inds[end]+(2*Nt))   # length bounds     (2 per time step)\n",
    "m_nlp = c_length_inds[end]                                           # total constraints\n",
    "cinds = [c_init_inds, c_term_inds, c_dyn_inds, c_stance_inds, c_length_inds]"
   ]
  },
  {
   "cell_type": "code",
   "execution_count": 34,
   "metadata": {},
   "outputs": [
    {
     "data": {
      "text/plain": [
       "jump2_map (generic function with 1 method)"
      ]
     },
     "execution_count": 34,
     "metadata": {},
     "output_type": "execute_result"
    }
   ],
   "source": [
    "#Walker Dynamics\n",
    "Base.@kwdef struct Walker\n",
    "    g::Float64 = 9.81\n",
    "    mb::Float64 = 5.0\n",
    "    mf::Float64 = 1.0\n",
    "    ℓ_min::Float64 = 0.5\n",
    "    ℓ_max::Float64 = 1.5\n",
    "end\n",
    "RobotDynamics.state_dim(::Walker) = 12\n",
    "RobotDynamics.control_dim(::Walker) = 3\n",
    "g = 9.81\n",
    "mb = 5.0 #body mass\n",
    "mf = 1.0 #foot mass\n",
    "ℓ_min = 0.5 #minimum length\n",
    "ℓ_max = 1.5 #maximum length\n",
    "\n",
    "function stance1_dynamics(x,u)\n",
    "    #Foot 1 is in contact\n",
    "    M = Diagonal([mb mb mf mf mf mf])\n",
    "    \n",
    "    rb  = x[1:2]   # position of the body\n",
    "    rf1 = x[3:4]   # position of foot 1\n",
    "    rf2 = x[5:6]   # position of foot 2\n",
    "    v   = x[7:12]  # velocities\n",
    "    \n",
    "    ℓ1x = (rb[1]-rf1[1])/norm(rb-rf1)\n",
    "    ℓ1y = (rb[2]-rf1[2])/norm(rb-rf1)\n",
    "    ℓ2x = (rb[1]-rf2[1])/norm(rb-rf2)\n",
    "    ℓ2y = (rb[2]-rf2[2])/norm(rb-rf2)\n",
    "    \n",
    "    B = [ℓ1x  ℓ2x  ℓ1y-ℓ2y;\n",
    "         ℓ1y  ℓ2y  ℓ2x-ℓ1x;\n",
    "          0    0     0;\n",
    "          0    0     0;\n",
    "          0  -ℓ2x  ℓ2y;\n",
    "          0  -ℓ2y -ℓ2x]\n",
    "    \n",
    "    v̇ = [0; -g; 0; 0; 0; -g] + M\\(B*u)\n",
    "    \n",
    "    ẋ = [v; v̇]\n",
    "end\n",
    "\n",
    "function stance2_dynamics(x,u)\n",
    "    #Foot 2 is in contact\n",
    "    M = Diagonal([mb mb mf mf mf mf])\n",
    "    \n",
    "    rb  = x[1:2]\n",
    "    rf1 = x[3:4]\n",
    "    rf2 = x[5:6]\n",
    "    v   = x[7:12]\n",
    "    \n",
    "    ℓ1x = (rb[1]-rf1[1])/norm(rb-rf1)\n",
    "    ℓ1y = (rb[2]-rf1[2])/norm(rb-rf1)\n",
    "    ℓ2x = (rb[1]-rf2[1])/norm(rb-rf2)\n",
    "    ℓ2y = (rb[2]-rf2[2])/norm(rb-rf2)\n",
    "    \n",
    "    B = [ℓ1x  ℓ2x  ℓ1y-ℓ2y;\n",
    "         ℓ1y  ℓ2y  ℓ2x-ℓ1x;\n",
    "        -ℓ1x   0  -ℓ1y;\n",
    "        -ℓ1y   0   ℓ1x;\n",
    "          0    0    0;\n",
    "          0    0    0]\n",
    "    \n",
    "    v̇ = [0; -g; 0; -g; 0; 0] + M\\(B*u)\n",
    "    \n",
    "    ẋ = [v; v̇]\n",
    "end\n",
    "\n",
    "function stance1_dynamics_rk4(x,u)\n",
    "    #RK4 integration with zero-order hold on u\n",
    "    f1 = stance1_dynamics(x, u)\n",
    "    f2 = stance1_dynamics(x + 0.5*h*f1, u)\n",
    "    f3 = stance1_dynamics(x + 0.5*h*f2, u)\n",
    "    f4 = stance1_dynamics(x + h*f3, u)\n",
    "    return x + (h/6.0)*(f1 + 2*f2 + 2*f3 + f4)\n",
    "end\n",
    "\n",
    "function stance2_dynamics_rk4(x,u)\n",
    "    #RK4 integration with zero-order hold on u\n",
    "    f1 = stance2_dynamics(x, u)\n",
    "    f2 = stance2_dynamics(x + 0.5*h*f1, u)\n",
    "    f3 = stance2_dynamics(x + 0.5*h*f2, u)\n",
    "    f4 = stance2_dynamics(x + h*f3, u)\n",
    "    return x + (h/6.0)*(f1 + 2*f2 + 2*f3 + f4)\n",
    "end\n",
    "\n",
    "function jump1_map(x)\n",
    "    #Foot 1 experiences inelastic collision\n",
    "    xn = [x[1:8]; 0.0; 0.0; x[11:12]]\n",
    "    return xn\n",
    "end\n",
    "\n",
    "function jump2_map(x)\n",
    "    #Foot 2 experiences inelastic collision\n",
    "    xn = [x[1:10]; 0.0; 0.0]\n",
    "    return xn\n",
    "end"
   ]
  },
  {
   "cell_type": "code",
   "execution_count": 35,
   "metadata": {},
   "outputs": [],
   "source": [
    "# Cost weights\n",
    "Q = Diagonal([1.0*ones(6); 1.0*ones(6)]);\n",
    "R = 0.001;\n",
    "R = Diagonal(fill(1e-3,3))\n",
    "Qn = Q;"
   ]
  },
  {
   "cell_type": "code",
   "execution_count": 36,
   "metadata": {},
   "outputs": [
    {
     "data": {
      "text/plain": [
       "terminal_cost (generic function with 1 method)"
      ]
     },
     "execution_count": 36,
     "metadata": {},
     "output_type": "execute_result"
    }
   ],
   "source": [
    "function stage_cost(x,u,k)\n",
    "    return 0.5*((x-xref[:,k])'*Q*(x-xref[:,k])) + 0.5*(u-uref)'*R*(u-uref)\n",
    "end\n",
    "function terminal_cost(x)\n",
    "    return 0.5*((x-xref[:,end])'*Qn*(x-xref[:,end]))\n",
    "end"
   ]
  },
  {
   "cell_type": "code",
   "execution_count": 40,
   "metadata": {},
   "outputs": [
    {
     "data": {
      "text/plain": [
       "cost (generic function with 2 methods)"
      ]
     },
     "execution_count": 40,
     "metadata": {},
     "output_type": "execute_result"
    }
   ],
   "source": [
    "function cost(ztraj)\n",
    "    z = reshape(ztraj[1:(end-Nx)],Nx+Nu,Nt-1)\n",
    "    xtraj = [z[1:Nx,:] ztraj[end-(Nx-1):end]]\n",
    "    utraj = z[(Nx+1):(Nx+Nu),:]\n",
    "    J = 0.0\n",
    "    for k = 1:(Nt-1)\n",
    "        J += stage_cost(xtraj[:,k],utraj[:,k],k)\n",
    "    end\n",
    "    J += terminal_cost(xtraj[:,end])\n",
    "    return J\n",
    "end"
   ]
  },
  {
   "cell_type": "code",
   "execution_count": 41,
   "metadata": {},
   "outputs": [],
   "source": [
    "#Reference Trajectory\n",
    "uref = [0.5*mb*g; 0.5*mb*g; 0.0]\n",
    "xref = zeros(Nx,Nt)\n",
    "xref[1,:] .= LinRange(-1.5,1.5,Nt)\n",
    "xref[2,:] .= ones(Nt)\n",
    "xref[3,:] .= LinRange(-1.5,1.5,Nt)\n",
    "xref[5,:] .= LinRange(-1.5,1.5,Nt)\n",
    "xref[7,2:end-1] .= (3.0/Tfinal)*ones(Nt-2)\n",
    "xref[9,2:end-1] .= (3.0/Tfinal)*ones(Nt-2)\n",
    "xref[11,2:end-1] .= (3.0/Tfinal)*ones(Nt-2);"
   ]
  },
  {
   "cell_type": "code",
   "execution_count": 42,
   "metadata": {},
   "outputs": [
    {
     "data": {
      "text/plain": [
       "dynamics_constraint! (generic function with 2 methods)"
      ]
     },
     "execution_count": 42,
     "metadata": {},
     "output_type": "execute_result"
    }
   ],
   "source": [
    "function dynamics_constraint!(c,ztraj)\n",
    "    d = reshape(view(c,c_dyn_inds),Nx,Nt-1)\n",
    "    z = reshape(ztraj[1:(end-Nx)],Nx+Nu,Nt-1)\n",
    "    xtraj = [z[1:Nx,:] ztraj[end-(Nx-1):end]]\n",
    "    utraj = z[(Nx+1):(Nx+Nu),:]\n",
    "    for k = 1:(Nmodes-1)\n",
    "        if mod(k,2) == 1\n",
    "            for j = 1:(Nm-1)\n",
    "                s = (k-1)*Nm + j\n",
    "                d[:,s] = stance1_dynamics_rk4(xtraj[:,s],utraj[:,s]) - xtraj[:,s+1]\n",
    "            end\n",
    "            s = k*Nm\n",
    "            d[:,s] = jump2_map(stance1_dynamics_rk4(xtraj[:,s],utraj[:,s])) - xtraj[:,s+1]\n",
    "        else\n",
    "            for j = 1:(Nm-1)\n",
    "                s = (k-1)*Nm + j\n",
    "                d[:,s] = stance2_dynamics_rk4(xtraj[:,s],utraj[:,s]) - xtraj[:,s+1]\n",
    "            end\n",
    "            s = k*Nm\n",
    "            d[:,s] = jump1_map(stance2_dynamics_rk4(xtraj[:,s],utraj[:,s])) - xtraj[:,s+1]\n",
    "        end\n",
    "    end\n",
    "    if mod(Nmodes,2) == 1\n",
    "        for j = 1:(Nm-1)\n",
    "            s = (Nmodes-1)*Nm + j\n",
    "            d[:,s] = stance1_dynamics_rk4(xtraj[:,s],utraj[:,s]) - xtraj[:,s+1]\n",
    "        end\n",
    "    else\n",
    "        for j = 1:(Nm-1)\n",
    "            s = (Nmodes-1)*Nm + j\n",
    "            d[:,s] = stance2_dynamics_rk4(xtraj[:,s],utraj[:,s]) - xtraj[:,s+1]\n",
    "        end\n",
    "    end\n",
    "    \n",
    "    return nothing\n",
    "end"
   ]
  },
  {
   "cell_type": "code",
   "execution_count": 43,
   "metadata": {},
   "outputs": [
    {
     "data": {
      "text/plain": [
       "stance_constraint! (generic function with 2 methods)"
      ]
     },
     "execution_count": 43,
     "metadata": {},
     "output_type": "execute_result"
    }
   ],
   "source": [
    "function stance_constraint!(c,ztraj)\n",
    "    d = view(c,c_stance_inds)\n",
    "    z = reshape(ztraj[1:(end-Nx)],Nx+Nu,Nt-1)\n",
    "    xtraj = [z[1:Nx,:] ztraj[(end-(Nx-1)):end]]\n",
    "    t = 1\n",
    "    for k = 1:Nmodes\n",
    "        if mod(k,2) == 1\n",
    "            for j = 1:Nm\n",
    "                s = (k-1)*Nm + j\n",
    "                d[t] = xtraj[4,s]  # keep foot on the floor\n",
    "                t += 1\n",
    "            end\n",
    "        else\n",
    "            for j = 1:Nm\n",
    "                s = (k-1)*Nm + j\n",
    "                d[t] = xtraj[6,s]\n",
    "                t += 1\n",
    "            end\n",
    "        end\n",
    "            \n",
    "    end\n",
    "    return nothing\n",
    "end"
   ]
  },
  {
   "cell_type": "code",
   "execution_count": 44,
   "metadata": {},
   "outputs": [
    {
     "data": {
      "text/plain": [
       "length_constraint! (generic function with 2 methods)"
      ]
     },
     "execution_count": 44,
     "metadata": {},
     "output_type": "execute_result"
    }
   ],
   "source": [
    "function length_constraint!(c,ztraj)\n",
    "    d = view(c,c_length_inds)\n",
    "    z = reshape(ztraj[1:(end-Nx)],Nx+Nu,Nt-1)\n",
    "    xtraj = [z[1:Nx,:] ztraj[(end-(Nx-1)):end]]\n",
    "    for k = 1:Nt\n",
    "        d[2*(k-1)+1] = norm(xtraj[1:2,k] - xtraj[3:4,k])\n",
    "        d[2*(k-1)+2] = norm(xtraj[1:2,k] - xtraj[5:6,k])\n",
    "    end\n",
    "end"
   ]
  },
  {
   "cell_type": "code",
   "execution_count": 45,
   "metadata": {},
   "outputs": [
    {
     "data": {
      "text/plain": [
       "con! (generic function with 1 method)"
      ]
     },
     "execution_count": 45,
     "metadata": {},
     "output_type": "execute_result"
    }
   ],
   "source": [
    "function con!(c,ztraj)\n",
    "    c[c_init_inds] .= ztraj[1:Nx] - xref[:,1] #initial state constraint\n",
    "    c[c_term_inds] .= ztraj[(end-(Nx-1)):end] - xref[:,end] #terminal state constraint\n",
    "    @views dynamics_constraint!(c,ztraj)\n",
    "    @views stance_constraint!(c,ztraj)\n",
    "    @views length_constraint!(c,ztraj)\n",
    "end"
   ]
  },
  {
   "cell_type": "code",
   "execution_count": 49,
   "metadata": {},
   "outputs": [
    {
     "data": {
      "text/plain": [
       "solve (generic function with 2 methods)"
      ]
     },
     "execution_count": 49,
     "metadata": {},
     "output_type": "execute_result"
    }
   ],
   "source": [
    "struct ProblemMOI <: MOI.AbstractNLPEvaluator\n",
    "    n_nlp::Int\n",
    "    m_nlp::Int\n",
    "    idx_ineq\n",
    "    obj_grad::Bool\n",
    "    con_jac::Bool\n",
    "    sparsity_jac\n",
    "    sparsity_hess\n",
    "    primal_bounds\n",
    "    constraint_bounds\n",
    "    hessian_lagrangian::Bool\n",
    "end\n",
    "\n",
    "function ProblemMOI(n_nlp,m_nlp;\n",
    "        idx_ineq=c_length_inds,\n",
    "        obj_grad=true,\n",
    "        con_jac=true,\n",
    "        sparsity_jac=sparsity_jacobian(n_nlp,m_nlp),\n",
    "        sparsity_hess=sparsity_hessian(n_nlp,m_nlp),\n",
    "        primal_bounds=primal_bounds(n_nlp),\n",
    "        constraint_bounds=constraint_bounds(m_nlp,idx_ineq=idx_ineq),\n",
    "        hessian_lagrangian=false)\n",
    "\n",
    "    ProblemMOI(n_nlp,m_nlp,\n",
    "        idx_ineq,\n",
    "        obj_grad,\n",
    "        con_jac,\n",
    "        sparsity_jac,\n",
    "        sparsity_hess,\n",
    "        primal_bounds,\n",
    "        constraint_bounds,\n",
    "        hessian_lagrangian)\n",
    "end\n",
    "\n",
    "function primal_bounds(n)\n",
    "    x_l = -Inf*ones(n)\n",
    "    x_u = Inf*ones(n)\n",
    "    return x_l, x_u\n",
    "end\n",
    "\n",
    "function constraint_bounds(m; idx_ineq=(1:0))\n",
    "    c_l = zeros(m)\n",
    "    c_l[idx_ineq] .= ℓ_min\n",
    "\n",
    "    c_u = zeros(m)\n",
    "    c_u[idx_ineq] .= ℓ_max\n",
    "    return c_l, c_u\n",
    "end\n",
    "\n",
    "function row_col!(row,col,r,c)\n",
    "    for cc in c\n",
    "        for rr in r\n",
    "            push!(row,convert(Int,rr))\n",
    "            push!(col,convert(Int,cc))\n",
    "        end\n",
    "    end\n",
    "    return row, col\n",
    "end\n",
    "\n",
    "function sparsity_jacobian(n,m)\n",
    "\n",
    "    row = []\n",
    "    col = []\n",
    "\n",
    "    r = 1:m\n",
    "    c = 1:n\n",
    "\n",
    "    row_col!(row,col,r,c)\n",
    "\n",
    "    return collect(zip(row,col))\n",
    "end\n",
    "\n",
    "function sparsity_hessian(n,m)\n",
    "\n",
    "    row = []\n",
    "    col = []\n",
    "\n",
    "    r = 1:m\n",
    "    c = 1:n\n",
    "\n",
    "    row_col!(row,col,r,c)\n",
    "\n",
    "    return collect(zip(row,col))\n",
    "end\n",
    "\n",
    "function MOI.eval_objective(prob::MOI.AbstractNLPEvaluator, x)\n",
    "    cost(x)\n",
    "end\n",
    "\n",
    "function MOI.eval_objective_gradient(prob::MOI.AbstractNLPEvaluator, grad_f, x)\n",
    "    ForwardDiff.gradient!(grad_f,cost,x)\n",
    "    return nothing\n",
    "end\n",
    "\n",
    "function MOI.eval_constraint(prob::MOI.AbstractNLPEvaluator,g,x)\n",
    "    con!(g,x)\n",
    "    return nothing\n",
    "end\n",
    "\n",
    "function MOI.eval_constraint_jacobian(prob::MOI.AbstractNLPEvaluator, jac, x)\n",
    "    ForwardDiff.jacobian!(reshape(jac,prob.m_nlp,prob.n_nlp), con!, zeros(prob.m_nlp), x)\n",
    "    return nothing\n",
    "end\n",
    "\n",
    "function MOI.features_available(prob::MOI.AbstractNLPEvaluator)\n",
    "    return [:Grad, :Jac]\n",
    "end\n",
    "\n",
    "MOI.initialize(prob::MOI.AbstractNLPEvaluator, features) = nothing\n",
    "MOI.jacobian_structure(prob::MOI.AbstractNLPEvaluator) = prob.sparsity_jac\n",
    "\n",
    "function solve(x0,prob::MOI.AbstractNLPEvaluator;\n",
    "        tol=1.0e-6,c_tol=1.0e-6,max_iter=10000)\n",
    "    x_l, x_u = prob.primal_bounds\n",
    "    c_l, c_u = prob.constraint_bounds\n",
    "\n",
    "    nlp_bounds = MOI.NLPBoundsPair.(c_l,c_u)\n",
    "    block_data = MOI.NLPBlockData(nlp_bounds,prob,true)\n",
    "\n",
    "    solver = Ipopt.Optimizer()\n",
    "    solver.options[\"max_iter\"] = max_iter\n",
    "    solver.options[\"tol\"] = tol\n",
    "    solver.options[\"constr_viol_tol\"] = c_tol\n",
    "\n",
    "    x = MOI.add_variables(solver,prob.n_nlp)\n",
    "\n",
    "    for i = 1:prob.n_nlp\n",
    "        xi = MOI.SingleVariable(x[i])\n",
    "        MOI.add_constraint(solver, xi, MOI.LessThan(x_u[i]))\n",
    "        MOI.add_constraint(solver, xi, MOI.GreaterThan(x_l[i]))\n",
    "        MOI.set(solver, MOI.VariablePrimalStart(), x[i], x0[i])\n",
    "    end\n",
    "\n",
    "    # Solve the problem\n",
    "    MOI.set(solver, MOI.NLPBlock(), block_data)\n",
    "    MOI.set(solver, MOI.ObjectiveSense(), MOI.MIN_SENSE)\n",
    "    MOI.optimize!(solver)\n",
    "\n",
    "    # Get the solution\n",
    "    res = MOI.get(solver, MOI.VariablePrimal(), x)\n",
    "\n",
    "    return res, solver\n",
    "end"
   ]
  },
  {
   "cell_type": "code",
   "execution_count": 47,
   "metadata": {},
   "outputs": [],
   "source": [
    "#Guess\n",
    "xguess = xref + 0.1*randn(Nx,Nt)\n",
    "uguess = kron(ones(Nt-1)', uref) + 0.1*randn(Nu,Nt-1)\n",
    "z0 = [reshape([xguess[:,1:(Nt-1)]; uguess],(Nx+Nu)*(Nt-1),1); xguess[:,end]];"
   ]
  },
  {
   "cell_type": "code",
   "execution_count": 50,
   "metadata": {},
   "outputs": [
    {
     "name": "stdout",
     "output_type": "stream",
     "text": [
      "This is Ipopt version 3.13.4, running with linear solver mumps.\n",
      "NOTE: Other linear solvers might be more efficient (see Ipopt documentation).\n",
      "\n",
      "Number of nonzeros in equality constraint Jacobian...:   401184\n",
      "Number of nonzeros in inequality constraint Jacobian.:    60480\n",
      "Number of nonzeros in Lagrangian Hessian.............:        0\n",
      "\n",
      "Total number of variables............................:      672\n",
      "                     variables with only lower bounds:        0\n",
      "                variables with lower and upper bounds:        0\n",
      "                     variables with only upper bounds:        0\n",
      "Total number of equality constraints.................:      597\n",
      "Total number of inequality constraints...............:       90\n",
      "        inequality constraints with only lower bounds:        0\n",
      "   inequality constraints with lower and upper bounds:       90\n",
      "        inequality constraints with only upper bounds:        0\n",
      "\n",
      "iter    objective    inf_pr   inf_du lg(mu)  ||d||  lg(rg) alpha_du alpha_pr  ls\n",
      "   0  2.8755611e+00 1.62e+00 3.21e-01   0.0 0.00e+00    -  0.00e+00 0.00e+00   0\n",
      "   1  7.6965980e+01 9.07e-01 4.62e+03  -6.3 1.22e+02    -  1.84e-01 5.66e-01h  1\n",
      "   2  1.3026214e+02 5.30e-01 2.56e+03   0.2 6.37e+01    -  1.00e+00 3.82e-01h  1\n",
      "   3  1.4081505e+02 4.85e-01 2.03e+03   1.5 1.52e+02    -  8.02e-01 9.63e-02f  1\n",
      "   4  2.6497894e+02 1.39e-01 2.78e+02   1.5 4.37e+01    -  7.94e-01 1.00e+00h  1\n",
      "   5  2.6568439e+02 1.61e-02 3.74e+01  -0.4 1.24e+01    -  9.31e-01 1.00e+00h  1\n",
      "   6  2.6233339e+02 1.35e-01 3.55e+01  -0.3 3.71e+01    -  6.89e-01 1.00e+00f  1\n",
      "   7  2.4999081e+02 1.39e-01 2.43e+01  -1.4 1.78e+01    -  6.28e-01 1.00e+00f  1\n",
      "   8  2.4980843e+02 2.05e-02 2.81e+01  -0.9 9.17e+00    -  9.97e-01 1.00e+00f  1\n",
      "   9  2.4773842e+02 5.55e-02 2.60e+01  -0.4 9.62e+00    -  1.00e+00 1.00e+00f  1\n",
      "iter    objective    inf_pr   inf_du lg(mu)  ||d||  lg(rg) alpha_du alpha_pr  ls\n",
      "  10  2.4403802e+02 7.08e-03 2.04e+01  -1.0 9.93e+00    -  9.98e-01 1.00e+00f  1\n",
      "  11  2.3637185e+02 1.57e-01 1.55e+01  -0.8 4.35e+01    -  1.00e+00 1.00e+00f  1\n",
      "  12  2.3521166e+02 2.86e-02 7.70e+00  -1.3 1.83e+01    -  9.98e-01 1.00e+00f  1\n",
      "  13  2.3323092e+02 3.22e-02 5.36e+00  -1.6 1.02e+01    -  9.98e-01 1.00e+00f  1\n",
      "  14  2.3297912e+02 3.24e-03 7.33e-01  -1.7 7.80e+00    -  9.97e-01 1.00e+00f  1\n",
      "  15  2.3286571e+02 8.38e-04 9.61e-01  -2.9 1.87e+00    -  1.00e+00 1.00e+00h  1\n",
      "  16  2.3279041e+02 7.39e-04 5.30e-01  -4.2 2.29e+00    -  1.00e+00 1.00e+00h  1\n",
      "  17  2.3277260e+02 8.95e-04 1.00e+00  -4.8 2.75e+00    -  1.00e+00 1.00e+00f  1\n",
      "  18  2.3272498e+02 1.19e-03 6.96e-01  -5.7 1.44e+00    -  1.00e+00 1.00e+00h  1\n",
      "  19  2.3271191e+02 2.62e-04 1.22e-01  -6.8 9.92e-01    -  1.00e+00 1.00e+00h  1\n",
      "iter    objective    inf_pr   inf_du lg(mu)  ||d||  lg(rg) alpha_du alpha_pr  ls\n",
      "  20  2.3271023e+02 8.47e-06 1.01e-01  -8.4 3.69e-01    -  1.00e+00 1.00e+00h  1\n",
      "  21  2.3271304e+02 6.02e-06 3.63e-01  -9.6 2.03e+00    -  1.00e+00 1.00e+00H  1\n",
      "  22  2.3271111e+02 2.92e-04 3.35e-01 -10.4 4.22e-01    -  1.00e+00 1.00e+00f  1\n",
      "  23  2.3270433e+02 6.43e-05 4.99e-02 -10.5 8.27e-01    -  1.00e+00 1.00e+00h  1\n",
      "  24  2.3270482e+02 1.55e-05 5.00e-02 -11.0 1.65e-01    -  1.00e+00 1.00e+00h  1\n",
      "  25  2.3270454e+02 4.49e-06 1.06e-02 -11.0 1.12e-01    -  1.00e+00 1.00e+00h  1\n",
      "  26  2.3270458e+02 1.31e-07 4.54e-03 -11.0 2.18e-02    -  1.00e+00 1.00e+00h  1\n",
      "  27  2.3270457e+02 3.22e-08 5.41e-03 -11.0 1.96e-02    -  1.00e+00 1.00e+00h  1\n",
      "  28  2.3270455e+02 2.36e-07 1.13e-02 -11.0 7.31e-02    -  1.00e+00 1.00e+00h  1\n",
      "  29  2.3270457e+02 2.43e-10 2.62e-02 -11.0 4.24e-02    -  1.00e+00 1.00e+00H  1\n",
      "iter    objective    inf_pr   inf_du lg(mu)  ||d||  lg(rg) alpha_du alpha_pr  ls\n",
      "  30  2.3270454e+02 1.77e-07 1.63e-03 -11.0 2.91e-02    -  1.00e+00 1.00e+00h  1\n",
      "  31  2.3270454e+02 4.31e-08 4.61e-03 -11.0 8.57e-03    -  1.00e+00 1.00e+00h  1\n",
      "  32  2.3270454e+02 1.75e-08 5.79e-04 -11.0 6.44e-03    -  1.00e+00 1.00e+00h  1\n",
      "  33  2.3270454e+02 5.23e-11 6.27e-05 -11.0 5.67e-04    -  1.00e+00 1.00e+00h  1\n",
      "  34  2.3270454e+02 3.75e-10 2.80e-04 -11.0 3.87e-03    -  1.00e+00 1.00e+00h  1\n",
      "  35  2.3270454e+02 7.88e-14 6.63e-04 -11.0 5.53e-03    -  1.00e+00 1.00e+00H  1\n",
      "  36  2.3270454e+02 2.07e-09 8.89e-05 -11.0 5.14e-03    -  1.00e+00 1.00e+00h  1\n",
      "  37  2.3270454e+02 2.50e-12 4.54e-05 -11.0 1.94e-04    -  1.00e+00 1.00e+00h  1\n",
      "  38  2.3270454e+02 6.66e-16 9.69e-05 -11.0 7.06e-04    -  1.00e+00 1.00e+00H  1\n",
      "  39  2.3270454e+02 1.91e-11 3.26e-05 -11.0 2.26e-04    -  1.00e+00 1.00e+00h  1\n",
      "iter    objective    inf_pr   inf_du lg(mu)  ||d||  lg(rg) alpha_du alpha_pr  ls\n",
      "  40  2.3270454e+02 2.31e-12 1.24e-05 -11.0 1.24e-04    -  1.00e+00 1.00e+00h  1\n",
      "  41  2.3270454e+02 8.06e-13 1.32e-05 -11.0 4.09e-05    -  1.00e+00 1.00e+00h  1\n",
      "  42  2.3270454e+02 2.34e-13 5.08e-06 -11.0 3.56e-05    -  1.00e+00 1.00e+00h  1\n",
      "  43  2.3270454e+02 1.99e-14 2.47e-06 -11.0 7.34e-06    -  1.00e+00 1.00e+00h  1\n",
      "  44  2.3270454e+02 7.75e-14 3.99e-06 -11.0 2.70e-05    -  1.00e+00 1.00e+00h  1\n",
      "  45  2.3270454e+02 6.66e-16 9.54e-06 -11.0 4.32e-05    -  1.00e+00 1.00e+00H  1\n",
      "  46  2.3270454e+02 6.57e-14 2.12e-06 -11.0 2.67e-05    -  1.00e+00 1.00e+00h  1\n",
      "  47  2.3270454e+02 5.88e-15 1.13e-06 -11.0 5.50e-06    -  1.00e+00 1.00e+00h  1\n",
      "  48  2.3270454e+02 1.22e-15 2.84e-07 -11.0 2.18e-06    -  1.00e+00 1.00e+00h  1\n",
      "\n",
      "Number of Iterations....: 48\n",
      "\n",
      "                                   (scaled)                 (unscaled)\n",
      "Objective...............:   2.3270454096038532e+02    2.3270454096038532e+02\n",
      "Dual infeasibility......:   2.8391359951918105e-07    2.8391359951918105e-07\n",
      "Constraint violation....:   1.2212453270876722e-15    1.2212453270876722e-15\n",
      "Complementarity.........:   1.0000000000000003e-11    1.0000000000000003e-11\n",
      "Overall NLP error.......:   2.8391359951918105e-07    2.8391359951918105e-07\n",
      "\n",
      "\n",
      "Number of objective function evaluations             = 54\n",
      "Number of objective gradient evaluations             = 49\n",
      "Number of equality constraint evaluations            = 54\n",
      "Number of inequality constraint evaluations          = 54\n",
      "Number of equality constraint Jacobian evaluations   = 49\n",
      "Number of inequality constraint Jacobian evaluations = 49\n",
      "Number of Lagrangian Hessian evaluations             = 0\n",
      "Total CPU secs in IPOPT (w/o function evaluations)   =     36.389\n",
      "Total CPU secs in NLP function evaluations           =     12.126\n",
      "\n",
      "EXIT: Optimal Solution Found.\n"
     ]
    },
    {
     "data": {
      "text/plain": [
       "([-1.5000000000000002, 1.0, -1.4999999999999998, 1.245169584512821e-19, -1.5, 7.788509458426897e-18, -4.633202998445543e-17, 5.418766160932768e-18, 4.0113836452081653e-17, -7.89580936092339e-18  …  1.5000000000000002, 1.5405113407250485e-19, 1.5, 8.976325980683132e-18, 2.847614476549533e-17, 2.202335558687524e-18, -1.0129807951598129e-17, -2.0704562465486633e-19, -2.698190102401601e-18, 1.9222600376629094e-18], Ipopt.Optimizer)"
      ]
     },
     "execution_count": 50,
     "metadata": {},
     "output_type": "execute_result"
    }
   ],
   "source": [
    "prob = ProblemMOI(n_nlp,m_nlp)\n",
    "z_sol, solver = solve(z0,prob) # solve"
   ]
  },
  {
   "cell_type": "code",
   "execution_count": 51,
   "metadata": {},
   "outputs": [
    {
     "name": "stdout",
     "output_type": "stream",
     "text": [
      "This is Ipopt version 3.13.4, running with linear solver mumps.\n",
      "NOTE: Other linear solvers might be more efficient (see Ipopt documentation).\n",
      "\n",
      "Number of nonzeros in equality constraint Jacobian...:   401184\n",
      "Number of nonzeros in inequality constraint Jacobian.:    60480\n",
      "Number of nonzeros in Lagrangian Hessian.............:        0\n",
      "\n",
      "Total number of variables............................:      672\n",
      "                     variables with only lower bounds:        0\n",
      "                variables with lower and upper bounds:        0\n",
      "                     variables with only upper bounds:        0\n",
      "Total number of equality constraints.................:      597\n",
      "Total number of inequality constraints...............:       90\n",
      "        inequality constraints with only lower bounds:        0\n",
      "   inequality constraints with lower and upper bounds:       90\n",
      "        inequality constraints with only upper bounds:        0\n",
      "\n",
      "iter    objective    inf_pr   inf_du lg(mu)  ||d||  lg(rg) alpha_du alpha_pr  ls\n",
      "   0  2.8755611e+00 1.62e+00 3.21e-01   0.0 0.00e+00    -  0.00e+00 0.00e+00   0\n",
      "   1  7.6965980e+01 9.07e-01 4.62e+03  -6.3 1.22e+02    -  1.84e-01 5.66e-01h  1\n",
      "   2  1.3026214e+02 5.30e-01 2.56e+03   0.2 6.37e+01    -  1.00e+00 3.82e-01h  1\n",
      "   3  1.4081505e+02 4.85e-01 2.03e+03   1.5 1.52e+02    -  8.02e-01 9.63e-02f  1\n",
      "   4  2.6497894e+02 1.39e-01 2.78e+02   1.5 4.37e+01    -  7.94e-01 1.00e+00h  1\n",
      "   5  2.6568439e+02 1.61e-02 3.74e+01  -0.4 1.24e+01    -  9.31e-01 1.00e+00h  1\n",
      "   6  2.6233339e+02 1.35e-01 3.55e+01  -0.3 3.71e+01    -  6.89e-01 1.00e+00f  1\n",
      "   7  2.4999081e+02 1.39e-01 2.43e+01  -1.4 1.78e+01    -  6.28e-01 1.00e+00f  1\n",
      "   8  2.4980843e+02 2.05e-02 2.81e+01  -0.9 9.17e+00    -  9.97e-01 1.00e+00f  1\n",
      "   9  2.4773842e+02 5.55e-02 2.60e+01  -0.4 9.62e+00    -  1.00e+00 1.00e+00f  1\n",
      "iter    objective    inf_pr   inf_du lg(mu)  ||d||  lg(rg) alpha_du alpha_pr  ls\n",
      "  10  2.4403802e+02 7.08e-03 2.04e+01  -1.0 9.93e+00    -  9.98e-01 1.00e+00f  1\n",
      "  11  2.3637185e+02 1.57e-01 1.55e+01  -0.8 4.35e+01    -  1.00e+00 1.00e+00f  1\n",
      "  12  2.3521166e+02 2.86e-02 7.70e+00  -1.3 1.83e+01    -  9.98e-01 1.00e+00f  1\n",
      "  13  2.3323092e+02 3.22e-02 5.36e+00  -1.6 1.02e+01    -  9.98e-01 1.00e+00f  1\n",
      "  14  2.3297912e+02 3.24e-03 7.33e-01  -1.7 7.80e+00    -  9.97e-01 1.00e+00f  1\n",
      "  15  2.3286571e+02 8.38e-04 9.61e-01  -2.9 1.87e+00    -  1.00e+00 1.00e+00h  1\n",
      "  16  2.3279041e+02 7.39e-04 5.30e-01  -4.2 2.29e+00    -  1.00e+00 1.00e+00h  1\n",
      "  17  2.3277260e+02 8.95e-04 1.00e+00  -4.8 2.75e+00    -  1.00e+00 1.00e+00f  1\n",
      "  18  2.3272498e+02 1.19e-03 6.96e-01  -5.7 1.44e+00    -  1.00e+00 1.00e+00h  1\n",
      "  19  2.3271191e+02 2.62e-04 1.22e-01  -6.8 9.92e-01    -  1.00e+00 1.00e+00h  1\n",
      "iter    objective    inf_pr   inf_du lg(mu)  ||d||  lg(rg) alpha_du alpha_pr  ls\n",
      "  20  2.3271023e+02 8.47e-06 1.01e-01  -8.4 3.69e-01    -  1.00e+00 1.00e+00h  1\n",
      "  21  2.3271304e+02 6.02e-06 3.63e-01  -9.6 2.03e+00    -  1.00e+00 1.00e+00H  1\n",
      "  22  2.3271111e+02 2.92e-04 3.35e-01 -10.4 4.22e-01    -  1.00e+00 1.00e+00f  1\n",
      "  23  2.3270433e+02 6.43e-05 4.99e-02 -10.5 8.27e-01    -  1.00e+00 1.00e+00h  1\n",
      "  24  2.3270482e+02 1.55e-05 5.00e-02 -11.0 1.65e-01    -  1.00e+00 1.00e+00h  1\n",
      "  25  2.3270454e+02 4.49e-06 1.06e-02 -11.0 1.12e-01    -  1.00e+00 1.00e+00h  1\n",
      "  26  2.3270458e+02 1.31e-07 4.54e-03 -11.0 2.18e-02    -  1.00e+00 1.00e+00h  1\n",
      "  27  2.3270457e+02 3.22e-08 5.41e-03 -11.0 1.96e-02    -  1.00e+00 1.00e+00h  1\n",
      "  28  2.3270455e+02 2.36e-07 1.13e-02 -11.0 7.31e-02    -  1.00e+00 1.00e+00h  1\n",
      "  29  2.3270457e+02 2.43e-10 2.62e-02 -11.0 4.24e-02    -  1.00e+00 1.00e+00H  1\n",
      "iter    objective    inf_pr   inf_du lg(mu)  ||d||  lg(rg) alpha_du alpha_pr  ls\n",
      "  30  2.3270454e+02 1.77e-07 1.63e-03 -11.0 2.91e-02    -  1.00e+00 1.00e+00h  1\n",
      "  31  2.3270454e+02 4.31e-08 4.61e-03 -11.0 8.57e-03    -  1.00e+00 1.00e+00h  1\n",
      "  32  2.3270454e+02 1.75e-08 5.79e-04 -11.0 6.44e-03    -  1.00e+00 1.00e+00h  1\n",
      "  33  2.3270454e+02 5.23e-11 6.27e-05 -11.0 5.67e-04    -  1.00e+00 1.00e+00h  1\n",
      "  34  2.3270454e+02 3.75e-10 2.80e-04 -11.0 3.87e-03    -  1.00e+00 1.00e+00h  1\n",
      "  35  2.3270454e+02 7.88e-14 6.63e-04 -11.0 5.53e-03    -  1.00e+00 1.00e+00H  1\n",
      "  36  2.3270454e+02 2.07e-09 8.89e-05 -11.0 5.14e-03    -  1.00e+00 1.00e+00h  1\n",
      "  37  2.3270454e+02 2.50e-12 4.54e-05 -11.0 1.94e-04    -  1.00e+00 1.00e+00h  1\n",
      "  38  2.3270454e+02 6.66e-16 9.69e-05 -11.0 7.06e-04    -  1.00e+00 1.00e+00H  1\n",
      "  39  2.3270454e+02 1.91e-11 3.26e-05 -11.0 2.26e-04    -  1.00e+00 1.00e+00h  1\n",
      "iter    objective    inf_pr   inf_du lg(mu)  ||d||  lg(rg) alpha_du alpha_pr  ls\n",
      "  40  2.3270454e+02 2.31e-12 1.24e-05 -11.0 1.24e-04    -  1.00e+00 1.00e+00h  1\n",
      "  41  2.3270454e+02 8.06e-13 1.32e-05 -11.0 4.09e-05    -  1.00e+00 1.00e+00h  1\n",
      "  42  2.3270454e+02 2.34e-13 5.08e-06 -11.0 3.56e-05    -  1.00e+00 1.00e+00h  1\n",
      "  43  2.3270454e+02 1.99e-14 2.47e-06 -11.0 7.34e-06    -  1.00e+00 1.00e+00h  1\n",
      "  44  2.3270454e+02 7.75e-14 3.99e-06 -11.0 2.70e-05    -  1.00e+00 1.00e+00h  1\n",
      "  45  2.3270454e+02 6.66e-16 9.54e-06 -11.0 4.32e-05    -  1.00e+00 1.00e+00H  1\n",
      "  46  2.3270454e+02 6.57e-14 2.12e-06 -11.0 2.67e-05    -  1.00e+00 1.00e+00h  1\n",
      "  47  2.3270454e+02 5.88e-15 1.13e-06 -11.0 5.50e-06    -  1.00e+00 1.00e+00h  1\n",
      "  48  2.3270454e+02 1.22e-15 2.84e-07 -11.0 2.18e-06    -  1.00e+00 1.00e+00h  1\n",
      "\n",
      "Number of Iterations....: 48\n",
      "\n",
      "                                   (scaled)                 (unscaled)\n",
      "Objective...............:   2.3270454096038532e+02    2.3270454096038532e+02\n",
      "Dual infeasibility......:   2.8391359951918105e-07    2.8391359951918105e-07\n",
      "Constraint violation....:   1.2212453270876722e-15    1.2212453270876722e-15\n",
      "Complementarity.........:   1.0000000000000003e-11    1.0000000000000003e-11\n",
      "Overall NLP error.......:   2.8391359951918105e-07    2.8391359951918105e-07\n",
      "\n",
      "\n",
      "Number of objective function evaluations             = 54\n",
      "Number of objective gradient evaluations             = 49\n",
      "Number of equality constraint evaluations            = 54\n",
      "Number of inequality constraint evaluations          = 54\n",
      "Number of equality constraint Jacobian evaluations   = 49\n",
      "Number of inequality constraint Jacobian evaluations = 49\n",
      "Number of Lagrangian Hessian evaluations             = 0\n",
      "Total CPU secs in IPOPT (w/o function evaluations)   =     38.773\n",
      "Total CPU secs in NLP function evaluations           =     11.838\n",
      "\n",
      "EXIT: Optimal Solution Found.\n"
     ]
    }
   ],
   "source": [
    "MOI.optimize!(solver)"
   ]
  },
  {
   "cell_type": "code",
   "execution_count": 83,
   "metadata": {},
   "outputs": [],
   "source": [
    "z = reshape(z_sol[1:(end-Nx)],Nx+Nu,Nt-1)\n",
    "xtraj = [z[1:Nx,:] z_sol[end-(Nx-1):end]]\n",
    "utraj = z[(Nx+1):(Nx+Nu),:];"
   ]
  },
  {
   "cell_type": "markdown",
   "metadata": {},
   "source": [
    "# New Problem"
   ]
  },
  {
   "cell_type": "code",
   "execution_count": 100,
   "metadata": {},
   "outputs": [
    {
     "data": {
      "text/plain": [
       "unpackZ"
      ]
     },
     "execution_count": 100,
     "metadata": {},
     "output_type": "execute_result"
    }
   ],
   "source": []
  },
  {
   "cell_type": "code",
   "execution_count": 101,
   "metadata": {},
   "outputs": [
    {
     "data": {
      "text/plain": [
       "hess_f!"
      ]
     },
     "execution_count": 101,
     "metadata": {},
     "output_type": "execute_result"
    }
   ],
   "source": []
  },
  {
   "cell_type": "code",
   "execution_count": 158,
   "metadata": {},
   "outputs": [
    {
     "data": {
      "text/plain": [
       "eval_c! (generic function with 1 method)"
      ]
     },
     "execution_count": 158,
     "metadata": {},
     "output_type": "execute_result"
    }
   ],
   "source": []
  },
  {
   "cell_type": "code",
   "execution_count": 204,
   "metadata": {},
   "outputs": [
    {
     "data": {
      "text/plain": [
       "true"
      ]
     },
     "execution_count": 204,
     "metadata": {},
     "output_type": "execute_result"
    }
   ],
   "source": [
    "obj = map(1:Nt-1) do k\n",
    "    LQRCost(Q,R,xref[:,k],uref)\n",
    "end\n",
    "push!(obj, LQRCost(Qn, R*0, xref[:,Nt], uref))\n",
    "\n",
    "model = Walker()\n",
    "nlp = HybridNLP(model, obj, thist[end], Nt, Nm, xref[:,1], xref[:,end]);\n",
    "Z = vec(z0)\n",
    "eval_f(nlp, Z) - cost(z0)\n",
    "\n",
    "grad1 = zero(Z)\n",
    "grad2 = zero(Z)\n",
    "grad_f!(nlp, grad1, Z)\n",
    "MOI.eval_objective_gradient(prob, grad2, Z)\n",
    "grad1 ≈ grad2\n",
    "\n",
    "c1 = zeros(m_nlp)\n",
    "c2 = zeros(m_nlp)\n",
    "Z = rand(n_nlp)\n",
    "dynamics_constraint!(nlp, c1, Z)\n",
    "dynamics_constraint!(c2, Z)\n",
    "\n",
    "stance_constraint!(nlp, c1, Z)\n",
    "stance_constraint!(c2, Z)\n",
    "\n",
    "length_constraint!(nlp, c1, Z)\n",
    "length_constraint!(c2, Z)\n",
    "\n",
    "Z = rand(n_nlp)\n",
    "eval_c!(nlp, c1, Z)\n",
    "con!(c2, Z)\n",
    "\n",
    "inds = findall(.!(c1 .≈ c2))\n",
    "num_primals(nlp) == n_nlp\n",
    "num_duals(nlp) == m_nlp\n",
    "\n",
    "nlp.lb == constraint_bounds(m_nlp, idx_ineq=c_length_inds)[1]\n",
    "nlp.ub == constraint_bounds(m_nlp, idx_ineq=c_length_inds)[2]"
   ]
  },
  {
   "cell_type": "code",
   "execution_count": 206,
   "metadata": {},
   "outputs": [
    {
     "data": {
      "text/plain": [
       "solve (generic function with 2 methods)"
      ]
     },
     "execution_count": 206,
     "metadata": {},
     "output_type": "execute_result"
    }
   ],
   "source": []
  },
  {
   "cell_type": "code",
   "execution_count": 229,
   "metadata": {},
   "outputs": [
    {
     "name": "stdout",
     "output_type": "stream",
     "text": [
      "This is Ipopt version 3.13.4, running with linear solver mumps.\n",
      "NOTE: Other linear solvers might be more efficient (see Ipopt documentation).\n",
      "\n",
      "Number of nonzeros in equality constraint Jacobian...:   401184\n",
      "Number of nonzeros in inequality constraint Jacobian.:    60480\n",
      "Number of nonzeros in Lagrangian Hessian.............:        0\n",
      "\n",
      "Total number of variables............................:      672\n",
      "                     variables with only lower bounds:        0\n",
      "                variables with lower and upper bounds:        0\n",
      "                     variables with only upper bounds:        0\n",
      "Total number of equality constraints.................:      597\n",
      "Total number of inequality constraints...............:       90\n",
      "        inequality constraints with only lower bounds:        0\n",
      "   inequality constraints with lower and upper bounds:       90\n",
      "        inequality constraints with only upper bounds:        0\n",
      "\n",
      "iter    objective    inf_pr   inf_du lg(mu)  ||d||  lg(rg) alpha_du alpha_pr  ls\n",
      "   0  2.6302005e+00 1.80e+00 2.87e-01   0.0 0.00e+00    -  0.00e+00 0.00e+00   0\n",
      "   1  8.3417977e+01 7.67e-01 3.27e+03  -6.3 1.22e+02    -  1.76e-01 5.89e-01h  1\n",
      "   2  1.4019165e+02 4.68e-01 2.39e+03   0.2 6.16e+01    -  1.00e+00 4.05e-01h  1\n",
      "   3  2.1759473e+02 7.26e-01 1.26e+03   0.8 6.07e+01    -  1.00e+00 4.97e-01f  1\n",
      "   4  2.8041173e+02 3.04e-01 5.39e+02   1.0 2.64e+01    -  1.00e+00 7.04e-01h  1\n",
      "   5  3.0174458e+02 3.61e-02 1.24e+02   0.7 2.01e+01    -  7.58e-01 1.00e+00f  1\n",
      "   6  2.7891668e+02 9.12e-02 4.16e+01  -1.1 2.87e+01    -  7.51e-01 1.00e+00f  1\n",
      "   7  2.8070970e+02 2.21e-01 3.32e+01   0.2 4.52e+01    -  5.42e-01 1.00e+00f  1\n",
      "   8  2.6387510e+02 1.01e-01 2.50e+01   0.1 2.28e+01    -  1.00e+00 1.00e+00f  1\n",
      "   9  2.5393257e+02 5.86e-02 1.28e+01  -0.7 2.77e+01    -  9.94e-01 1.00e+00f  1\n",
      "iter    objective    inf_pr   inf_du lg(mu)  ||d||  lg(rg) alpha_du alpha_pr  ls\n",
      "  10  2.4220051e+02 2.08e-01 2.31e+01  -0.4 3.51e+01    -  1.00e+00 1.00e+00f  1\n",
      "  11  2.3691537e+02 6.00e-02 8.01e+00  -0.4 2.12e+01    -  8.96e-01 1.00e+00f  1\n",
      "  12  2.3458354e+02 1.80e-02 6.58e+00  -1.1 8.42e+00    -  9.83e-01 1.00e+00f  1\n",
      "  13  2.3433434e+02 4.57e-03 1.02e+01  -1.9 1.90e+01    -  9.96e-01 1.00e+00F  1\n",
      "  14  2.3635549e+02 1.32e-03 8.09e+00  -2.1 1.23e+01    -  1.00e+00 1.00e+00H  1\n",
      "  15  2.3288815e+02 2.43e-02 1.48e+00  -2.2 1.18e+01    -  1.00e+00 1.00e+00f  1\n",
      "  16  2.3281356e+02 1.05e-03 8.58e-01  -3.3 2.52e+00    -  1.00e+00 1.00e+00h  1\n",
      "  17  2.3281330e+02 3.85e-05 1.01e+00  -4.0 4.24e+00    -  1.00e+00 1.00e+00H  1\n",
      "  18  2.3272594e+02 6.79e-04 1.23e+00  -5.0 3.77e+00    -  1.00e+00 1.00e+00f  1\n",
      "  19  2.3273836e+02 1.05e-03 7.10e-01  -5.8 1.58e+00    -  1.00e+00 1.00e+00h  1\n",
      "iter    objective    inf_pr   inf_du lg(mu)  ||d||  lg(rg) alpha_du alpha_pr  ls\n",
      "  20  2.3270778e+02 3.56e-04 2.98e-01  -6.6 7.68e-01    -  1.00e+00 1.00e+00h  1\n",
      "  21  2.3270663e+02 4.02e-05 9.75e-02  -8.3 4.98e-01    -  1.00e+00 1.00e+00h  1\n",
      "  22  2.3270524e+02 7.44e-06 8.56e-02  -9.9 2.01e-01    -  1.00e+00 1.00e+00h  1\n",
      "  23  2.3270495e+02 1.70e-06 8.31e-02 -11.0 1.39e-01    -  1.00e+00 1.00e+00h  1\n",
      "  24  2.3270473e+02 4.13e-06 1.55e-01 -11.0 2.66e-01    -  1.00e+00 1.00e+00h  1\n",
      "  25  2.3270536e+02 1.90e-08 1.09e-01 -11.0 1.71e-01    -  1.00e+00 1.00e+00H  1\n",
      "  26  2.3270445e+02 4.96e-06 8.08e-03 -11.0 1.67e-01    -  1.00e+00 1.00e+00f  1\n",
      "  27  2.3270459e+02 6.02e-07 1.77e-02 -11.0 3.86e-02    -  1.00e+00 1.00e+00h  1\n",
      "  28  2.3270454e+02 2.99e-07 1.16e-03 -11.0 2.72e-02    -  1.00e+00 1.00e+00h  1\n",
      "  29  2.3270455e+02 1.74e-09 1.04e-03 -11.0 5.23e-03    -  1.00e+00 1.00e+00h  1\n",
      "iter    objective    inf_pr   inf_du lg(mu)  ||d||  lg(rg) alpha_du alpha_pr  ls\n",
      "  30  2.3270456e+02 6.76e-11 7.09e-03 -11.0 6.10e-02    -  1.00e+00 1.00e+00H  1\n",
      "  31  2.3270454e+02 1.86e-07 6.12e-03 -11.0 1.91e-02    -  1.00e+00 1.00e+00h  1\n",
      "  32  2.3270454e+02 5.40e-08 1.51e-03 -11.0 2.66e-02    -  1.00e+00 1.00e+00h  1\n",
      "  33  2.3270454e+02 4.83e-09 8.30e-04 -11.0 3.88e-03    -  1.00e+00 1.00e+00h  1\n",
      "  34  2.3270454e+02 2.16e-09 4.38e-04 -11.0 1.38e-03    -  1.00e+00 1.00e+00h  1\n",
      "  35  2.3270454e+02 1.55e-10 1.15e-04 -11.0 5.19e-04    -  1.00e+00 1.00e+00h  1\n",
      "  36  2.3270454e+02 1.37e-11 4.60e-05 -11.0 1.53e-04    -  1.00e+00 1.00e+00h  1\n",
      "  37  2.3270454e+02 9.77e-12 5.22e-05 -11.0 3.15e-04    -  1.00e+00 1.00e+00h  1\n",
      "  38  2.3270454e+02 1.41e-15 1.45e-04 -11.0 1.11e-03    -  1.00e+00 1.00e+00H  1\n",
      "  39  2.3270454e+02 2.73e-11 2.52e-04 -11.0 9.38e-04    -  1.00e+00 5.00e-01h  2\n",
      "iter    objective    inf_pr   inf_du lg(mu)  ||d||  lg(rg) alpha_du alpha_pr  ls\n",
      "  40  2.3270454e+02 2.24e-11 4.43e-05 -11.0 4.53e-04    -  1.00e+00 1.00e+00h  1\n",
      "  41  2.3270454e+02 6.11e-16 1.22e-04 -11.0 5.86e-04    -  1.00e+00 1.00e+00H  1\n",
      "  42  2.3270454e+02 5.33e-11 1.02e-05 -11.0 6.15e-04    -  1.00e+00 1.00e+00h  1\n",
      "  43  2.3270454e+02 1.01e-13 8.10e-06 -11.0 2.68e-05    -  1.00e+00 1.00e+00h  1\n",
      "  44  2.3270454e+02 7.42e-14 7.52e-06 -11.0 2.51e-05    -  1.00e+00 1.00e+00h  1\n",
      "  45  2.3270454e+02 8.88e-16 1.39e-05 -11.0 4.46e-05    -  1.00e+00 1.00e+00H  1\n",
      "  46  2.3270454e+02 2.10e-13 1.37e-06 -11.0 2.81e-05    -  1.00e+00 1.00e+00h  1\n",
      "  47  2.3270454e+02 5.11e-15 6.23e-07 -11.0 2.83e-06    -  1.00e+00 1.00e+00h  1\n",
      "\n",
      "Number of Iterations....: 47\n",
      "\n",
      "                                   (scaled)                 (unscaled)\n",
      "Objective...............:   2.3270454096038532e+02    2.3270454096038532e+02\n",
      "Dual infeasibility......:   6.2302434361560799e-07    6.2302434361560799e-07\n",
      "Constraint violation....:   5.1070259132757201e-15    5.1070259132757201e-15\n",
      "Complementarity.........:   1.0000000000000001e-11    1.0000000000000001e-11\n",
      "Overall NLP error.......:   6.2302434361560799e-07    6.2302434361560799e-07\n",
      "\n",
      "\n",
      "Number of objective function evaluations             = 62\n",
      "Number of objective gradient evaluations             = 48\n",
      "Number of equality constraint evaluations            = 62\n",
      "Number of inequality constraint evaluations          = 62\n",
      "Number of equality constraint Jacobian evaluations   = 48\n",
      "Number of inequality constraint Jacobian evaluations = 48\n",
      "Number of Lagrangian Hessian evaluations             = 0\n",
      "Total CPU secs in IPOPT (w/o function evaluations)   =     35.995\n",
      "Total CPU secs in NLP function evaluations           =     12.791\n",
      "\n",
      "EXIT: Optimal Solution Found.\n"
     ]
    },
    {
     "data": {
      "text/plain": [
       "672-element Array{Float64,1}:\n",
       " -1.5\n",
       "  1.0\n",
       " -1.5000000000000002\n",
       "  2.6751457627817306e-19\n",
       " -1.5\n",
       "  3.621349315170559e-18\n",
       "  3.0843238410266e-17\n",
       "  4.390720728949824e-19\n",
       " -3.008998589109138e-17\n",
       "  3.523901260719566e-19\n",
       "  3.577890326219869e-18\n",
       " -2.2918810086306415e-18\n",
       " 77.66672528256782\n",
       "  ⋮\n",
       "  1.5000000000000007\n",
       "  1.0\n",
       "  1.4999999999999991\n",
       " -7.096174606744433e-19\n",
       "  1.5000000000000002\n",
       " -3.972527408648526e-17\n",
       " -1.889449707898512e-16\n",
       " -3.544031592309081e-18\n",
       "  6.851133065599962e-17\n",
       "  8.873147322170609e-19\n",
       " -9.420170166218907e-18\n",
       " -1.5344690220149927e-18"
      ]
     },
     "execution_count": 229,
     "metadata": {},
     "output_type": "execute_result"
    }
   ],
   "source": [
    "xguess = xref + 0.1*randn(Nx,Nt)\n",
    "uguess = kron(ones(Nt-1)', uref) + 0.1*randn(Nu,Nt-1)\n",
    "Z0 = [reshape([xguess[:,1:(Nt-1)]; uguess],(Nx+Nu)*(Nt-1),1); xguess[:,end]];\n",
    "Z_sol = solve(Z0, nlp)"
   ]
  },
  {
   "cell_type": "code",
   "execution_count": 230,
   "metadata": {},
   "outputs": [
    {
     "data": {
      "text/plain": [
       "3×44 Array{Float64,2}:\n",
       "  77.6667   94.5436   102.675   102.493   …   90.831     94.9979   96.8012\n",
       " -54.4169  -58.3776   -59.0506  -34.4255     -52.4596   -48.6534  -47.1428\n",
       "  78.0405    4.10058  -16.5639  -19.3055       6.37202  -16.1864  -55.2958"
      ]
     },
     "execution_count": 230,
     "metadata": {},
     "output_type": "execute_result"
    }
   ],
   "source": [
    "Xsol,Usol = unpackZ(nlp, Z_sol)\n",
    "xtraj = hcat(Vector.(Xsol)...)\n",
    "utraj = hcat(Vector.(Usol)...)"
   ]
  },
  {
   "cell_type": "markdown",
   "metadata": {},
   "source": [
    "# Results"
   ]
  },
  {
   "cell_type": "code",
   "execution_count": 231,
   "metadata": {},
   "outputs": [
    {
     "data": {
      "image/png": "[encoded data removed]",
      "text/plain": [
       "Figure(PyObject <Figure size 640x480 with 1 Axes>)"
      ]
     },
     "metadata": {},
     "output_type": "display_data"
    },
    {
     "data": {
      "text/plain": [
       "1-element Array{PyCall.PyObject,1}:\n",
       " PyObject <matplotlib.lines.Line2D object at 0x7f79d8333610>"
      ]
     },
     "execution_count": 231,
     "metadata": {},
     "output_type": "execute_result"
    }
   ],
   "source": [
    "plot(thist,xtraj[2,:])\n",
    "plot(thist,xtraj[4,:])\n",
    "plot(thist,xtraj[6,:])"
   ]
  },
  {
   "cell_type": "code",
   "execution_count": 232,
   "metadata": {},
   "outputs": [
    {
     "data": {
      "image/png": "[encoded data removed]",
      "text/plain": [
       "Figure(PyObject <Figure size 640x480 with 1 Axes>)"
      ]
     },
     "metadata": {},
     "output_type": "display_data"
    },
    {
     "data": {
      "text/plain": [
       "1-element Array{PyCall.PyObject,1}:\n",
       " PyObject <matplotlib.lines.Line2D object at 0x7f79d83130a0>"
      ]
     },
     "execution_count": 232,
     "metadata": {},
     "output_type": "execute_result"
    }
   ],
   "source": [
    "plot(thist,xtraj[1,:])\n",
    "plot(thist,xtraj[3,:])\n",
    "plot(thist,xtraj[5,:])"
   ]
  },
  {
   "cell_type": "code",
   "execution_count": 233,
   "metadata": {},
   "outputs": [
    {
     "data": {
      "image/png": "[encoded data removed]",
      "text/plain": [
       "Figure(PyObject <Figure size 640x480 with 1 Axes>)"
      ]
     },
     "metadata": {},
     "output_type": "display_data"
    },
    {
     "data": {
      "text/plain": [
       "1-element Array{PyCall.PyObject,1}:\n",
       " PyObject <matplotlib.lines.Line2D object at 0x7f79d826a730>"
      ]
     },
     "execution_count": 233,
     "metadata": {},
     "output_type": "execute_result"
    }
   ],
   "source": [
    "plot(thist[1:end-1],utraj[1,:])\n",
    "plot(thist[1:end-1],utraj[2,:])"
   ]
  },
  {
   "cell_type": "code",
   "execution_count": 234,
   "metadata": {},
   "outputs": [
    {
     "data": {
      "image/png": "[encoded data removed]",
      "text/plain": [
       "Figure(PyObject <Figure size 640x480 with 1 Axes>)"
      ]
     },
     "metadata": {},
     "output_type": "display_data"
    },
    {
     "data": {
      "text/plain": [
       "1-element Array{PyCall.PyObject,1}:\n",
       " PyObject <matplotlib.lines.Line2D object at 0x7f79d82484c0>"
      ]
     },
     "execution_count": 234,
     "metadata": {},
     "output_type": "execute_result"
    }
   ],
   "source": [
    "plot(thist[1:end-1],utraj[3,:])"
   ]
  },
  {
   "cell_type": "code",
   "execution_count": 235,
   "metadata": {},
   "outputs": [
    {
     "name": "stderr",
     "output_type": "stream",
     "text": [
      "┌ Info: MeshCat server started. You can open the visualizer by visiting the following URL in your browser:\n",
      "│ http://127.0.0.1:8710\n",
      "└ @ MeshCat /home/brian/.julia/packages/MeshCat/GlCMx/src/visualizer.jl:73\n"
     ]
    },
    {
     "data": {
      "text/html": [
       "    <div style=\"height: 500px; width: 100%; overflow-x: auto; overflow-y: hidden; resize: both\">\n",
       "    <iframe src=\"http://127.0.0.1:8710\" style=\"width: 100%; height: 100%; border: none\"></iframe>\n",
       "    </div>\n"
      ],
      "text/plain": [
       "MeshCat.DisplayedVisualizer(MeshCat.CoreVisualizer(MeshCat.SceneTrees.SceneNode(nothing, nothing, Dict{String,Array{UInt8,1}}(), nothing, Dict{String,MeshCat.SceneTrees.SceneNode}(\"meshcat\" => MeshCat.SceneTrees.SceneNode(nothing, nothing, Dict{String,Array{UInt8,1}}(), nothing, Dict{String,MeshCat.SceneTrees.SceneNode}(\"robot\" => MeshCat.SceneTrees.SceneNode(nothing, nothing, Dict{String,Array{UInt8,1}}(), nothing, Dict{String,MeshCat.SceneTrees.SceneNode}(\"Rfoot\" => MeshCat.SceneTrees.SceneNode(nothing, nothing, Dict{String,Array{UInt8,1}}(), nothing, Dict{String,MeshCat.SceneTrees.SceneNode}(\"geom\" => MeshCat.SceneTrees.SceneNode(UInt8[0x83, 0xa6, 0x6f, 0x62, 0x6a, 0x65, 0x63, 0x74, 0x84, 0xaa  …  0x52, 0x66, 0x6f, 0x6f, 0x74, 0x2f, 0x67, 0x65, 0x6f, 0x6d], UInt8[0x83, 0xa6, 0x6d, 0x61, 0x74, 0x72, 0x69, 0x78, 0xc7, 0x40  …  0x52, 0x66, 0x6f, 0x6f, 0x74, 0x2f, 0x67, 0x65, 0x6f, 0x6d], Dict{String,Array{UInt8,1}}(), nothing, Dict{String,MeshCat.SceneTrees.SceneNode}()))),\"torso\" => MeshCat.SceneTrees.SceneNode(nothing, nothing, Dict{String,Array{UInt8,1}}(), nothing, Dict{String,MeshCat.SceneTrees.SceneNode}(\"body\" => MeshCat.SceneTrees.SceneNode(UInt8[0x83, 0xa6, 0x6f, 0x62, 0x6a, 0x65, 0x63, 0x74, 0x84, 0xaa  …  0x74, 0x6f, 0x72, 0x73, 0x6f, 0x2f, 0x62, 0x6f, 0x64, 0x79], nothing, Dict{String,Array{UInt8,1}}(), nothing, Dict{String,MeshCat.SceneTrees.SceneNode}()),\"Laxle\" => MeshCat.SceneTrees.SceneNode(UInt8[0x83, 0xa6, 0x6f, 0x62, 0x6a, 0x65, 0x63, 0x74, 0x84, 0xaa  …  0x6f, 0x72, 0x73, 0x6f, 0x2f, 0x4c, 0x61, 0x78, 0x6c, 0x65], UInt8[0x83, 0xa6, 0x6d, 0x61, 0x74, 0x72, 0x69, 0x78, 0xc7, 0x40  …  0x6f, 0x72, 0x73, 0x6f, 0x2f, 0x4c, 0x61, 0x78, 0x6c, 0x65], Dict{String,Array{UInt8,1}}(), nothing, Dict{String,MeshCat.SceneTrees.SceneNode}()),\"Lleg\" => MeshCat.SceneTrees.SceneNode(nothing, nothing, Dict{String,Array{UInt8,1}}(), nothing, Dict{String,MeshCat.SceneTrees.SceneNode}(\"geom\" => MeshCat.SceneTrees.SceneNode(UInt8[0x83, 0xa6, 0x6f, 0x62, 0x6a, 0x65, 0x63, 0x74, 0x84, 0xaa  …  0x2f, 0x4c, 0x6c, 0x65, 0x67, 0x2f, 0x67, 0x65, 0x6f, 0x6d], nothing, Dict{String,Array{UInt8,1}}(), nothing, Dict{String,MeshCat.SceneTrees.SceneNode}()))),\"Rleg\" => MeshCat.SceneTrees.SceneNode(nothing, nothing, Dict{String,Array{UInt8,1}}(), nothing, Dict{String,MeshCat.SceneTrees.SceneNode}(\"geom\" => MeshCat.SceneTrees.SceneNode(UInt8[0x83, 0xa6, 0x6f, 0x62, 0x6a, 0x65, 0x63, 0x74, 0x84, 0xaa  …  0x2f, 0x52, 0x6c, 0x65, 0x67, 0x2f, 0x67, 0x65, 0x6f, 0x6d], nothing, Dict{String,Array{UInt8,1}}(), nothing, Dict{String,MeshCat.SceneTrees.SceneNode}()))),\"Raxle\" => MeshCat.SceneTrees.SceneNode(UInt8[0x83, 0xa6, 0x6f, 0x62, 0x6a, 0x65, 0x63, 0x74, 0x84, 0xaa  …  0x6f, 0x72, 0x73, 0x6f, 0x2f, 0x52, 0x61, 0x78, 0x6c, 0x65], UInt8[0x83, 0xa6, 0x6d, 0x61, 0x74, 0x72, 0x69, 0x78, 0xc7, 0x40  …  0x6f, 0x72, 0x73, 0x6f, 0x2f, 0x52, 0x61, 0x78, 0x6c, 0x65], Dict{String,Array{UInt8,1}}(), nothing, Dict{String,MeshCat.SceneTrees.SceneNode}()))),\"Lfoot\" => MeshCat.SceneTrees.SceneNode(nothing, nothing, Dict{String,Array{UInt8,1}}(), nothing, Dict{String,MeshCat.SceneTrees.SceneNode}(\"geom\" => MeshCat.SceneTrees.SceneNode(UInt8[0x83, 0xa6, 0x6f, 0x62, 0x6a, 0x65, 0x63, 0x74, 0x84, 0xaa  …  0x4c, 0x66, 0x6f, 0x6f, 0x74, 0x2f, 0x67, 0x65, 0x6f, 0x6d], UInt8[0x83, 0xa6, 0x6d, 0x61, 0x74, 0x72, 0x69, 0x78, 0xc7, 0x40  …  0x4c, 0x66, 0x6f, 0x6f, 0x74, 0x2f, 0x67, 0x65, 0x6f, 0x6d], Dict{String,Array{UInt8,1}}(), nothing, Dict{String,MeshCat.SceneTrees.SceneNode}()))))))))), Set{Any}(), ip\"127.0.0.1\", 8710))"
      ]
     },
     "execution_count": 235,
     "metadata": {},
     "output_type": "execute_result"
    }
   ],
   "source": [
    "#Set up visualizer\n",
    "using Colors\n",
    "using CoordinateTransformations\n",
    "using GeometryBasics\n",
    "using MeshCat\n",
    "using Rotations\n",
    "using StaticArrays\n",
    "\n",
    "# Visualization\n",
    "function set_mesh!(vis)\n",
    "    l,w,h = 0.4,0.4,0.6\n",
    "    body = HyperRectangle(Vec(-l/2,-w/2,0), Vec(l,w,h)) \n",
    "    body = Sphere(Point3f0(0,0,0), 7l/16)\n",
    "    setobject!(vis[\"robot\"][\"torso\"][\"body\"], body, MeshPhongMaterial(color=colorant\"gray\"))\n",
    "    axle = Cylinder(Point3f0(0,0,0), Point3f0(0,w/2,0), 0.03f0)\n",
    "    setobject!(vis[\"robot\"][\"torso\"][\"Laxle\"], axle, MeshPhongMaterial(color=colorant\"black\"))\n",
    "    setobject!(vis[\"robot\"][\"torso\"][\"Raxle\"], axle, MeshPhongMaterial(color=colorant\"black\"))\n",
    "    settransform!(vis[\"robot\"][\"torso\"][\"Laxle\"], Translation(0,+l/4,0))\n",
    "    settransform!(vis[\"robot\"][\"torso\"][\"Raxle\"], Translation(0,-3l/4,0))\n",
    "\n",
    "    foot = HyperSphere(Point3f0(0,0,0f0), 0.05f0)\n",
    "    Lfoot = setobject!(vis[\"robot\"][\"Lfoot\"][\"geom\"], foot, MeshPhongMaterial(color=colorant\"firebrick\"))\n",
    "    setobject!(vis[\"robot\"][\"Rfoot\"][\"geom\"], foot, MeshPhongMaterial(color=colorant\"firebrick\"))\n",
    "    settransform!(vis[\"robot\"][\"Lfoot\"][\"geom\"], Translation(0,+l/2,0))\n",
    "    settransform!(vis[\"robot\"][\"Rfoot\"][\"geom\"], Translation(0,-l/2,0))\n",
    "\n",
    "    Lleg = Cylinder(Point3f0(0,+l/2,0), Point3f0(0,+l/2,1), 0.03f0)\n",
    "    Rleg = Cylinder(Point3f0(0,-l/2,0), Point3f0(0,-l/2,1), 0.03f0)\n",
    "    setobject!(vis[\"robot\"][\"torso\"][\"Lleg\"][\"geom\"], Lleg, MeshPhongMaterial(color=colorant=colorant\"green\"))\n",
    "    setobject!(vis[\"robot\"][\"torso\"][\"Rleg\"][\"geom\"], Rleg, MeshPhongMaterial(color=colorant=colorant\"green\"))\n",
    "    # settransform!(vis[\"robot\"][\"torso\"][\"Lleg\"][\"geom\"], Translation(0,+l/2,0))\n",
    "    # settransform!(vis[\"robot\"][\"torso\"][\"Rleg\"][\"geom\"], Translation(0,-l/2,0))\n",
    "\n",
    "    return Lfoot\n",
    "end\n",
    "\n",
    "function visualize!(vis, x::StaticVector)\n",
    "    xb,yb = x[1],x[2]\n",
    "    xl,yl = x[3],x[4]\n",
    "    xr,yr = x[5],x[6]\n",
    "    settransform!(vis[\"robot\"][\"torso\"], Translation(xb,0,yb))\n",
    "    settransform!(vis[\"robot\"][\"Lfoot\"], Translation(xl,0,yl))\n",
    "    settransform!(vis[\"robot\"][\"Rfoot\"], Translation(xr,0,yr))\n",
    "\n",
    "    Llen = norm(SA[xl-xb, yl-yb])\n",
    "    Rlen = norm(SA[xr-xb, yr-yb])\n",
    "    θl = atan(xl-xb, yl-yb)\n",
    "    θr = atan(xr-xb, yr-yb)\n",
    "    settransform!(vis[\"robot\"][\"torso\"][\"Lleg\"], LinearMap(RotY(θl)))\n",
    "    settransform!(vis[\"robot\"][\"torso\"][\"Rleg\"], LinearMap(RotY(θr)))\n",
    "\n",
    "    settransform!(vis[\"robot\"][\"torso\"][\"Lleg\"][\"geom\"], LinearMap(Diagonal(SA[1,1,Llen])))\n",
    "    settransform!(vis[\"robot\"][\"torso\"][\"Rleg\"][\"geom\"], LinearMap(Diagonal(SA[1,1,Rlen])))\n",
    "end\n",
    "\n",
    "vis = Visualizer()\n",
    "set_mesh!(vis)\n",
    "render(vis)"
   ]
  },
  {
   "cell_type": "code",
   "execution_count": 240,
   "metadata": {},
   "outputs": [],
   "source": [
    "q = [SVector{6}(x[1:6]) for x in eachcol(xtraj)];\n",
    "for k = 1:Nt\n",
    "    visualize!(vis, q[k])\n",
    "    sleep(h)\n",
    "end"
   ]
  },
  {
   "cell_type": "code",
   "execution_count": null,
   "metadata": {},
   "outputs": [],
   "source": []
  }
 ],
 "metadata": {
  "kernelspec": {
   "display_name": "Julia 1.5.3",
   "language": "julia",
   "name": "julia-1.5"
  },
  "language_info": {
   "file_extension": ".jl",
   "mimetype": "application/julia",
   "name": "julia",
   "version": "1.5.3"
  }
 },
 "nbformat": 4,
 "nbformat_minor": 4
}
