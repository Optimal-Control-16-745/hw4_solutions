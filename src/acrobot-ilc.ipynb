{
 "cells": [
  {
   "cell_type": "code",
   "execution_count": 1,
   "metadata": {},
   "outputs": [
    {
     "name": "stderr",
     "output_type": "stream",
     "text": [
      "\u001b[32m\u001b[1m Activating\u001b[22m\u001b[39m environment at `~/Classes/OptimalControl/hw4_solutions/Project.toml`\n"
     ]
    },
    {
     "data": {
      "text/html": [
       "<script>\n",
       "// Immediately-invoked-function-expression to avoid global variables.\n",
       "(function() {\n",
       "    var warning_div = document.getElementById(\"webio-warning-12235939986657469454\");\n",
       "    var hide = function () {\n",
       "        var script = document.getElementById(\"webio-setup-6605469231624402173\");\n",
       "        var parent = script && script.parentElement;\n",
       "        var grandparent = parent && parent.parentElement;\n",
       "        if (grandparent) {\n",
       "            grandparent.style.display = \"none\";\n",
       "        }\n",
       "        warning_div.style.display = \"none\";\n",
       "    };\n",
       "    if (typeof Jupyter !== \"undefined\") {\n",
       "        console.log(\"WebIO detected Jupyter notebook environment.\");\n",
       "        // Jupyter notebook.\n",
       "        var extensions = (\n",
       "            Jupyter\n",
       "            && Jupyter.notebook.config.data\n",
       "            && Jupyter.notebook.config.data.load_extensions\n",
       "        );\n",
       "        if (extensions && extensions[\"webio-jupyter-notebook\"]) {\n",
       "            // Extension already loaded.\n",
       "            console.log(\"Jupyter WebIO nbextension detected; not loading ad-hoc.\");\n",
       "            hide();\n",
       "            return;\n",
       "        }\n",
       "    } else if (window.location.pathname.includes(\"/lab\")) {\n",
       "        // Guessing JupyterLa\n",
       "        console.log(\"Jupyter Lab detected; make sure the @webio/jupyter-lab-provider labextension is installed.\");\n",
       "        hide();\n",
       "        return;\n",
       "    }\n",
       "})();\n",
       "\n",
       "</script>\n",
       "<p\n",
       "    id=\"webio-warning-12235939986657469454\"\n",
       "    class=\"output_text output_stderr\"\n",
       "    style=\"padding: 1em; font-weight: bold;\"\n",
       ">\n",
       "    Unable to load WebIO. Please make sure WebIO works for your Jupyter client.\n",
       "    For troubleshooting, please see <a href=\"https://juliagizmos.github.io/WebIO.jl/latest/providers/ijulia/\">\n",
       "    the WebIO/IJulia documentation</a>.\n",
       "    <!-- TODO: link to installation docs. -->\n",
       "</p>\n"
      ],
      "text/plain": [
       "HTML{String}(\"<script>\\n// Immediately-invoked-function-expression to avoid global variables.\\n(function() {\\n    var warning_div = document.getElementById(\\\"webio-warning-12235939986657469454\\\");\\n    var hide = function () {\\n        var script = document.getElementById(\\\"webio-setup-6605469231624402173\\\");\\n        var parent = script && script.parentElement;\\n        var grandparent = parent && parent.parentElement;\\n        if (grandparent) {\\n            grandparent.style.display = \\\"none\\\";\\n        }\\n        warning_div.style.display = \\\"none\\\";\\n    };\\n    if (typeof Jupyter !== \\\"undefined\\\") {\\n        console.log(\\\"WebIO detected Jupyter notebook environment.\\\");\\n        // Jupyter notebook.\\n        var extensions = (\\n            Jupyter\\n            && Jupyter.notebook.config.data\\n            && Jupyter.notebook.config.data.load_extensions\\n        );\\n        if (extensions && extensions[\\\"webio-jupyter-notebook\\\"]) {\\n            // Extension already loaded.\\n            console.log(\\\"Jupyter WebIO nbextension detected; not loading ad-hoc.\\\");\\n            hide();\\n            return;\\n        }\\n    } else if (window.location.pathname.includes(\\\"/lab\\\")) {\\n        // Guessing JupyterLa\\n        console.log(\\\"Jupyter Lab detected; make sure the @webio/jupyter-lab-provider labextension is installed.\\\");\\n        hide();\\n        return;\\n    }\\n})();\\n\\n</script>\\n<p\\n    id=\\\"webio-warning-12235939986657469454\\\"\\n    class=\\\"output_text output_stderr\\\"\\n    style=\\\"padding: 1em; font-weight: bold;\\\"\\n>\\n    Unable to load WebIO. Please make sure WebIO works for your Jupyter client.\\n    For troubleshooting, please see <a href=\\\"https://juliagizmos.github.io/WebIO.jl/latest/providers/ijulia/\\\">\\n    the WebIO/IJulia documentation</a>.\\n    <!-- TODO: link to installation docs. -->\\n</p>\\n\")"
      ]
     },
     "metadata": {},
     "output_type": "display_data"
    },
    {
     "data": {
      "text/plain": [
       "slerp (generic function with 1 method)"
      ]
     },
     "execution_count": 1,
     "metadata": {},
     "output_type": "execute_result"
    }
   ],
   "source": [
    "import Pkg; Pkg.activate(joinpath(@__DIR__,\"..\")); Pkg.instantiate()\n",
    "using TrajectoryOptimization\n",
    "import TrajectoryOptimization: get_times\n",
    "using RobotDynamics\n",
    "import RobotZoo.Acrobot\n",
    "using StaticArrays\n",
    "using SparseArrays\n",
    "using LinearAlgebra\n",
    "using ForwardDiff\n",
    "using PyPlot\n",
    "using OSQP\n",
    "using Plots\n",
    "include(\"acrobot.jl\")\n",
    "include(\"utils.jl\")"
   ]
  },
  {
   "cell_type": "markdown",
   "metadata": {},
   "source": [
    "# Question 3: Iterative Learning Control\n",
    "In this problem we'll be exploring the use of iterative learning control (ILC) to update our trajectories to work on a \"real\" system with some un-modeled system dynamics. We'll first find an optimalized trajectory using our approximate model, and then refine those trajectories using ILC to achieve the desired behavior. \n",
    "\n",
    "## Dynamics\n",
    "We'll keep things simple by applying this to the \"acrobot\" system, which is just a double pendulum with actuation only at the elbow joint. We'll use the model out of RobotZoo.\n",
    "\n",
    "## Setting up the Optimization problem\n",
    "We'll use TrajectoryOptimization.jl to define our problem. We specify an initial and terminal constraint, a quadratic cost function that penalizes distance from the goal, and bounds on the torques. "
   ]
  },
  {
   "cell_type": "code",
   "execution_count": 2,
   "metadata": {},
   "outputs": [],
   "source": [
    "# Dynamics Model\n",
    "l0 = @SVector [1.0, 1.0]\n",
    "m0 = @SVector [1.0, 1.0]\n",
    "J0 = @SVector [(1.0/12)*m0[1]*l0[1]*l0[1], (1.0/12)*m0[2]*l0[2]*l0[2]]\n",
    "model = Acrobot(l0, m0, J0)\n",
    "n,m = size(model);\n",
    "\n",
    "# Discretization\n",
    "N = 101\n",
    "Tf = 5.\n",
    "h = Tf/(N-1)\n",
    "\n",
    "# Initial and Final Conditions\n",
    "x0 = @SVector [-pi/2, 0, 0, 0]\n",
    "xf = @SVector [pi/2, 0, 0, 0];  # i.e. swing up\n",
    "\n",
    "# Objective\n",
    "Q = 100.0*Diagonal(@SVector ones(n))\n",
    "Qf = 1000.0*Diagonal(@SVector ones(n))\n",
    "R = 1.0*Diagonal(@SVector ones(m))\n",
    "obj = LQRObjective(Q,R,Qf,xf,N);\n",
    "\n",
    "# Constraints\n",
    "conSet = ConstraintList(n,m,N)\n",
    "\n",
    "#   Control bounds\n",
    "u_bnd = 20.0\n",
    "bnd = BoundConstraint(n,m, u_min=-u_bnd, u_max=u_bnd)\n",
    "add_constraint!(conSet, bnd, 1:N-1)\n",
    "\n",
    "#   Goal constraint\n",
    "goal = GoalConstraint(xf)\n",
    "add_constraint!(conSet, goal, N)\n",
    "\n",
    "# Define the problem\n",
    "prob = Problem(model, obj, xf, Tf, x0=x0, constraints=conSet, integration=RK4);\n",
    "\n",
    "# Initial controls\n",
    "U0 = [randn() for k = 1:N-1]\n",
    "initial_controls!(prob, U0)\n",
    "rollout!(prob);"
   ]
  },
  {
   "cell_type": "markdown",
   "metadata": {},
   "source": [
    "## Solving the Problem\n",
    "We'll make it easy for you and and solve the problem using ALTRO. Run the code below to solve for the optimized trajectory and visualize the result."
   ]
  },
  {
   "cell_type": "code",
   "execution_count": 3,
   "metadata": {},
   "outputs": [
    {
     "name": "stdout",
     "output_type": "stream",
     "text": [
      "\u001b[32;1m\n",
      "SOLVE COMPLETED\n",
      "\u001b[0m solved using the \u001b[0m\u001b[36;1mALTRO\u001b[0m Solver,\n",
      " part of the Altro.jl package developed by the REx Lab at Stanford and Carnegie Mellon Universities\n",
      "\u001b[34;1m\n",
      "  Solve Statistics\n",
      "\u001b[0m    Total Iterations: 877\n",
      "\u001b[0m    Solve Time: 2167.431303 (ms)\n",
      "\u001b[34;1m\n",
      "  Covergence\n",
      "\u001b[0m    Terminal Cost: 5607.5892866843205\n",
      "\u001b[0m    Terminal dJ: \u001b[32m1.442316897737328e-5\n",
      "\u001b[0m    Terminal gradient: \u001b[32m0.009015517830683833\n",
      "\u001b[0m    Terminal constraint violation: \u001b[32m3.501533653182953e-5\n",
      "\u001b[0m    Solve Status: \u001b[1m\u001b[32mSOLVE_SUCCEEDED\n",
      "\u001b[0m"
     ]
    }
   ],
   "source": [
    "using Altro\n",
    "using Random\n",
    "opts = SolverOptions(\n",
    "    iterations=100000,\n",
    "    constraint_tolerance=1e-4,\n",
    "#     cost_tolerance_intermediate=1e-4,\n",
    "#     cost_tolerance=1e-6,\n",
    "    #gradient_tolerance=1e-4,\n",
    "    #gradient_tolerance_intermediate=1e-4,\n",
    "    projected_newton=0,\n",
    "#     verbose_pn=1,\n",
    "#     active_set_tolerance_pn=1e-2,\n",
    "    verbose=0\n",
    ")\n",
    "\n",
    "Random.seed!(1)\n",
    "U0 = [randn() for k = 1:N-1]\n",
    "initial_controls!(prob, U0)\n",
    "\n",
    "altro = ALTROSolver(prob, opts)\n",
    "set_options!(altro, show_summary=true)\n",
    "solve!(altro);"
   ]
  },
  {
   "cell_type": "code",
   "execution_count": 4,
   "metadata": {},
   "outputs": [
    {
     "name": "stderr",
     "output_type": "stream",
     "text": [
      "┌ Info: MeshCat server started. You can open the visualizer by visiting the following URL in your browser:\n",
      "│ http://127.0.0.1:8700\n",
      "└ @ MeshCat /home/brian/.julia/packages/MeshCat/GlCMx/src/visualizer.jl:73\n"
     ]
    },
    {
     "data": {
      "text/html": [
       "    <div style=\"height: 500px; width: 100%; overflow-x: auto; overflow-y: hidden; resize: both\">\n",
       "    <iframe src=\"http://127.0.0.1:8700\" style=\"width: 100%; height: 100%; border: none\"></iframe>\n",
       "    </div>\n"
      ],
      "text/plain": [
       "MeshCat.DisplayedVisualizer(MeshCat.CoreVisualizer(MeshCat.SceneTrees.SceneNode(nothing, nothing, Dict{String,Array{UInt8,1}}(), nothing, Dict{String,MeshCat.SceneTrees.SceneNode}(\"meshcat\" => MeshCat.SceneTrees.SceneNode(nothing, nothing, Dict{String,Array{UInt8,1}}(), nothing, Dict{String,MeshCat.SceneTrees.SceneNode}(\"robot\" => MeshCat.SceneTrees.SceneNode(nothing, nothing, Dict{String,Array{UInt8,1}}(), nothing, Dict{String,MeshCat.SceneTrees.SceneNode}(\"base\" => MeshCat.SceneTrees.SceneNode(UInt8[0x83, 0xa6, 0x6f, 0x62, 0x6a, 0x65, 0x63, 0x74, 0x84, 0xaa  …  0x72, 0x6f, 0x62, 0x6f, 0x74, 0x2f, 0x62, 0x61, 0x73, 0x65], nothing, Dict{String,Array{UInt8,1}}(), nothing, Dict{String,MeshCat.SceneTrees.SceneNode}()),\"link1\" => MeshCat.SceneTrees.SceneNode(UInt8[0x83, 0xa6, 0x6f, 0x62, 0x6a, 0x65, 0x63, 0x74, 0x84, 0xaa  …  0x6f, 0x62, 0x6f, 0x74, 0x2f, 0x6c, 0x69, 0x6e, 0x6b, 0x31], nothing, Dict{String,Array{UInt8,1}}(), nothing, Dict{String,MeshCat.SceneTrees.SceneNode}(\"joint\" => MeshCat.SceneTrees.SceneNode(UInt8[0x83, 0xa6, 0x6f, 0x62, 0x6a, 0x65, 0x63, 0x74, 0x84, 0xaa  …  0x69, 0x6e, 0x6b, 0x31, 0x2f, 0x6a, 0x6f, 0x69, 0x6e, 0x74], UInt8[0x83, 0xa6, 0x6d, 0x61, 0x74, 0x72, 0x69, 0x78, 0xc7, 0x40  …  0x69, 0x6e, 0x6b, 0x31, 0x2f, 0x6a, 0x6f, 0x69, 0x6e, 0x74], Dict{String,Array{UInt8,1}}(), nothing, Dict{String,MeshCat.SceneTrees.SceneNode}()),\"link2\" => MeshCat.SceneTrees.SceneNode(UInt8[0x83, 0xa6, 0x6f, 0x62, 0x6a, 0x65, 0x63, 0x74, 0x84, 0xaa  …  0x69, 0x6e, 0x6b, 0x31, 0x2f, 0x6c, 0x69, 0x6e, 0x6b, 0x32], UInt8[0x83, 0xa6, 0x6d, 0x61, 0x74, 0x72, 0x69, 0x78, 0xc7, 0x40  …  0x69, 0x6e, 0x6b, 0x31, 0x2f, 0x6c, 0x69, 0x6e, 0x6b, 0x32], Dict{String,Array{UInt8,1}}(), nothing, Dict{String,MeshCat.SceneTrees.SceneNode}()))))))))), Set{Any}(), ip\"127.0.0.1\", 8700))"
      ]
     },
     "execution_count": 4,
     "metadata": {},
     "output_type": "execute_result"
    }
   ],
   "source": [
    "vis = Visualizer()\n",
    "set_mesh!(vis, model)\n",
    "render(vis)"
   ]
  },
  {
   "cell_type": "code",
   "execution_count": 5,
   "metadata": {},
   "outputs": [],
   "source": [
    "visualize!(vis, model, Tf, states(altro))"
   ]
  },
  {
   "cell_type": "markdown",
   "metadata": {},
   "source": [
    "## Part (a): Design a TVLQR controller to track the trajectory"
   ]
  },
  {
   "cell_type": "code",
   "execution_count": 6,
   "metadata": {},
   "outputs": [],
   "source": [
    "function linearize(model, X, U, times)\n",
    "    n,m = size(model)\n",
    "    N = length(X)\n",
    "    A = [zeros(n,n) for k = 1:N-1]\n",
    "    B = [zeros(n,m) for k = 1:N-1]\n",
    "    ∇f = RobotDynamics.DynamicsJacobian(model)\n",
    "    for k = 1:N-1\n",
    "        dt = times[k+1] - times[k]\n",
    "        z = KnotPoint(X[k], U[k], dt, times[k])\n",
    "        discrete_jacobian!(RK4, ∇f, model, z)\n",
    "        A[k] .= ∇f.A\n",
    "        B[k] .= ∇f.B\n",
    "    end\n",
    "    A,B\n",
    "end\n",
    "function tvlqr(A,B, Q,R,Qf=Q)\n",
    "    n,m = size(B[1])\n",
    "    N = length(A)+1\n",
    "    K = [zeros(m,n) for k = 1:N-1]\n",
    "    P = [zeros(n,n) for k = 1:N]\n",
    "    P[end] .= Qf\n",
    "    for k = reverse(1:N-1)\n",
    "        K[k] .= (R + B[k]'P[k+1]*B[k])\\(B[k]'P[k+1]*A[k])\n",
    "        P[k] .= Q + A[k]'P[k+1]*A[k] - A[k]'P[k+1]*B[k]*K[k]\n",
    "    end\n",
    "    return K,P\n",
    "end\n",
    "A,B = linearize(model, states(altro), controls(altro), get_times(altro))\n",
    "K,P = tvlqr(A,B, Q,R,Qf);"
   ]
  },
  {
   "cell_type": "code",
   "execution_count": 7,
   "metadata": {},
   "outputs": [],
   "source": [
    "function sim(model::Acrobot, K, Xref, Uref, times; u_bnd=20.0, x0=Xref[1])\n",
    "    n,m = size(model)\n",
    "    N = length(K) + 1\n",
    "    X = [@SVector zeros(n) for k = 1:N]\n",
    "    U = [@SVector zeros(m) for k = 1:N-1]\n",
    "    X[1] = x0\n",
    "    for k = 1:N-1\n",
    "        dt = times[k+1] - times[k]\n",
    "        U[k] = Uref[k] - K[k]*(X[k] - Xref[k])\n",
    "        U[k] = clamp.(U[k], -u_bnd, u_bnd)\n",
    "        X[k+1] = true_dynamics_rk4(model, X[k], U[k], dt)\n",
    "    end\n",
    "    return X, U\n",
    "end\n",
    "Xsim,Usim = sim(model, K, states(altro), controls(altro), get_times(altro));"
   ]
  },
  {
   "cell_type": "code",
   "execution_count": 9,
   "metadata": {},
   "outputs": [
    {
     "data": {
      "text/html": [
       "    <div style=\"height: 500px; width: 100%; overflow-x: auto; overflow-y: hidden; resize: both\">\n",
       "    <iframe src=\"http://127.0.0.1:8700\" style=\"width: 100%; height: 100%; border: none\"></iframe>\n",
       "    </div>\n"
      ],
      "text/plain": [
       "MeshCat.DisplayedVisualizer(MeshCat.CoreVisualizer(MeshCat.SceneTrees.SceneNode(nothing, nothing, Dict{String,Array{UInt8,1}}(), UInt8[0x83, 0xa7, 0x6f, 0x70, 0x74, 0x69, 0x6f, 0x6e, 0x73, 0x82  …  0x5f, 0x61, 0x6e, 0x69, 0x6d, 0x61, 0x74, 0x69, 0x6f, 0x6e], Dict{String,MeshCat.SceneTrees.SceneNode}(\"meshcat\" => MeshCat.SceneTrees.SceneNode(nothing, nothing, Dict{String,Array{UInt8,1}}(), nothing, Dict{String,MeshCat.SceneTrees.SceneNode}(\"robot\" => MeshCat.SceneTrees.SceneNode(nothing, nothing, Dict{String,Array{UInt8,1}}(), nothing, Dict{String,MeshCat.SceneTrees.SceneNode}(\"base\" => MeshCat.SceneTrees.SceneNode(UInt8[0x83, 0xa6, 0x6f, 0x62, 0x6a, 0x65, 0x63, 0x74, 0x84, 0xaa  …  0x72, 0x6f, 0x62, 0x6f, 0x74, 0x2f, 0x62, 0x61, 0x73, 0x65], nothing, Dict{String,Array{UInt8,1}}(), nothing, Dict{String,MeshCat.SceneTrees.SceneNode}()),\"link1\" => MeshCat.SceneTrees.SceneNode(UInt8[0x83, 0xa6, 0x6f, 0x62, 0x6a, 0x65, 0x63, 0x74, 0x84, 0xaa  …  0x6f, 0x62, 0x6f, 0x74, 0x2f, 0x6c, 0x69, 0x6e, 0x6b, 0x31], nothing, Dict{String,Array{UInt8,1}}(), nothing, Dict{String,MeshCat.SceneTrees.SceneNode}(\"joint\" => MeshCat.SceneTrees.SceneNode(UInt8[0x83, 0xa6, 0x6f, 0x62, 0x6a, 0x65, 0x63, 0x74, 0x84, 0xaa  …  0x69, 0x6e, 0x6b, 0x31, 0x2f, 0x6a, 0x6f, 0x69, 0x6e, 0x74], UInt8[0x83, 0xa6, 0x6d, 0x61, 0x74, 0x72, 0x69, 0x78, 0xc7, 0x40  …  0x69, 0x6e, 0x6b, 0x31, 0x2f, 0x6a, 0x6f, 0x69, 0x6e, 0x74], Dict{String,Array{UInt8,1}}(), nothing, Dict{String,MeshCat.SceneTrees.SceneNode}()),\"link2\" => MeshCat.SceneTrees.SceneNode(UInt8[0x83, 0xa6, 0x6f, 0x62, 0x6a, 0x65, 0x63, 0x74, 0x84, 0xaa  …  0x69, 0x6e, 0x6b, 0x31, 0x2f, 0x6c, 0x69, 0x6e, 0x6b, 0x32], UInt8[0x83, 0xa6, 0x6d, 0x61, 0x74, 0x72, 0x69, 0x78, 0xc7, 0x40  …  0x69, 0x6e, 0x6b, 0x31, 0x2f, 0x6c, 0x69, 0x6e, 0x6b, 0x32], Dict{String,Array{UInt8,1}}(), nothing, Dict{String,MeshCat.SceneTrees.SceneNode}()))))))))), Set(Any[WebSocket(server, \u001b[32mCONNECTED\u001b[39m)]), ip\"127.0.0.1\", 8700))"
      ]
     },
     "execution_count": 9,
     "metadata": {},
     "output_type": "execute_result"
    }
   ],
   "source": [
    "render(vis)"
   ]
  },
  {
   "cell_type": "code",
   "execution_count": 10,
   "metadata": {},
   "outputs": [],
   "source": [
    "visualize!(vis, model, Tf, Xsim)"
   ]
  },
  {
   "cell_type": "code",
   "execution_count": 11,
   "metadata": {},
   "outputs": [
    {
     "data": {
      "image/svg+xml": [
       "<?xml version=\"1.0\" encoding=\"utf-8\"?>\n",
       "<svg xmlns=\"http://www.w3.org/2000/svg\" xmlns:xlink=\"http://www.w3.org/1999/xlink\" width=\"600\" height=\"400\" viewBox=\"0 0 2400 1600\">\n",
       "<defs>\n",
       "  <clipPath id=\"clip710\">\n",
       "    <rect x=\"0\" y=\"0\" width=\"2400\" height=\"1600\"/>\n",
       "  </clipPath>\n",
       "</defs>\n",
       "<path clip-path=\"url(#clip710)\" d=\"\n",
       "M0 1600 L2400 1600 L2400 0 L0 0  Z\n",
       "  \" fill=\"#ffffff\" fill-rule=\"evenodd\" fill-opacity=\"1\"/>\n",
       "<defs>\n",
       "  <clipPath id=\"clip711\">\n",
       "    <rect x=\"480\" y=\"0\" width=\"1681\" height=\"1600\"/>\n",
       "  </clipPath>\n",
       "</defs>\n",
       "<path clip-path=\"url(#clip710)\" d=\"\n",
       "M143.033 1486.45 L2352.76 1486.45 L2352.76 47.2441 L143.033 47.2441  Z\n",
       "  \" fill=\"#ffffff\" fill-rule=\"evenodd\" fill-opacity=\"1\"/>\n",
       "<defs>\n",
       "  <clipPath id=\"clip712\">\n",
       "    <rect x=\"143\" y=\"47\" width=\"2211\" height=\"1440\"/>\n",
       "  </clipPath>\n",
       "</defs>\n",
       "<polyline clip-path=\"url(#clip712)\" style=\"stroke:#000000; stroke-width:2; stroke-opacity:0.1; fill:none\" points=\"\n",
       "  184.726,1486.45 184.726,47.2441 \n",
       "  \"/>\n",
       "<polyline clip-path=\"url(#clip712)\" style=\"stroke:#000000; stroke-width:2; stroke-opacity:0.1; fill:none\" points=\"\n",
       "  705.887,1486.45 705.887,47.2441 \n",
       "  \"/>\n",
       "<polyline clip-path=\"url(#clip712)\" style=\"stroke:#000000; stroke-width:2; stroke-opacity:0.1; fill:none\" points=\"\n",
       "  1227.05,1486.45 1227.05,47.2441 \n",
       "  \"/>\n",
       "<polyline clip-path=\"url(#clip712)\" style=\"stroke:#000000; stroke-width:2; stroke-opacity:0.1; fill:none\" points=\"\n",
       "  1748.21,1486.45 1748.21,47.2441 \n",
       "  \"/>\n",
       "<polyline clip-path=\"url(#clip712)\" style=\"stroke:#000000; stroke-width:2; stroke-opacity:0.1; fill:none\" points=\"\n",
       "  2269.37,1486.45 2269.37,47.2441 \n",
       "  \"/>\n",
       "<polyline clip-path=\"url(#clip710)\" style=\"stroke:#000000; stroke-width:4; stroke-opacity:1; fill:none\" points=\"\n",
       "  143.033,1486.45 2352.76,1486.45 \n",
       "  \"/>\n",
       "<polyline clip-path=\"url(#clip710)\" style=\"stroke:#000000; stroke-width:4; stroke-opacity:1; fill:none\" points=\"\n",
       "  184.726,1486.45 184.726,1469.18 \n",
       "  \"/>\n",
       "<polyline clip-path=\"url(#clip710)\" style=\"stroke:#000000; stroke-width:4; stroke-opacity:1; fill:none\" points=\"\n",
       "  705.887,1486.45 705.887,1469.18 \n",
       "  \"/>\n",
       "<polyline clip-path=\"url(#clip710)\" style=\"stroke:#000000; stroke-width:4; stroke-opacity:1; fill:none\" points=\"\n",
       "  1227.05,1486.45 1227.05,1469.18 \n",
       "  \"/>\n",
       "<polyline clip-path=\"url(#clip710)\" style=\"stroke:#000000; stroke-width:4; stroke-opacity:1; fill:none\" points=\"\n",
       "  1748.21,1486.45 1748.21,1469.18 \n",
       "  \"/>\n",
       "<polyline clip-path=\"url(#clip710)\" style=\"stroke:#000000; stroke-width:4; stroke-opacity:1; fill:none\" points=\"\n",
       "  2269.37,1486.45 2269.37,1469.18 \n",
       "  \"/>\n",
       "<path clip-path=\"url(#clip710)\" d=\"M 0 0 M184.726 1515.64 Q181.115 1515.64 179.287 1519.2 Q177.481 1522.75 177.481 1529.87 Q177.481 1536.98 179.287 1540.55 Q181.115 1544.09 184.726 1544.09 Q188.361 1544.09 190.166 1540.55 Q191.995 1536.98 191.995 1529.87 Q191.995 1522.75 190.166 1519.2 Q188.361 1515.64 184.726 1515.64 M184.726 1511.93 Q190.537 1511.93 193.592 1516.54 Q196.671 1521.12 196.671 1529.87 Q196.671 1538.6 193.592 1543.21 Q190.537 1547.79 184.726 1547.79 Q178.916 1547.79 175.838 1543.21 Q172.782 1538.6 172.782 1529.87 Q172.782 1521.12 175.838 1516.54 Q178.916 1511.93 184.726 1511.93 Z\" fill=\"#000000\" fill-rule=\"evenodd\" fill-opacity=\"1\" /><path clip-path=\"url(#clip710)\" d=\"M 0 0 M687.531 1543.18 L703.85 1543.18 L703.85 1547.12 L681.906 1547.12 L681.906 1543.18 Q684.568 1540.43 689.151 1535.8 Q693.758 1531.15 694.938 1529.81 Q697.184 1527.28 698.063 1525.55 Q698.966 1523.79 698.966 1522.1 Q698.966 1519.34 697.022 1517.61 Q695.1 1515.87 691.999 1515.87 Q689.799 1515.87 687.346 1516.63 Q684.915 1517.4 682.137 1518.95 L682.137 1514.23 Q684.962 1513.09 687.415 1512.51 Q689.869 1511.93 691.906 1511.93 Q697.276 1511.93 700.471 1514.62 Q703.665 1517.31 703.665 1521.8 Q703.665 1523.93 702.855 1525.85 Q702.068 1527.74 699.961 1530.34 Q699.383 1531.01 696.281 1534.23 Q693.179 1537.42 687.531 1543.18 Z\" fill=\"#000000\" fill-rule=\"evenodd\" fill-opacity=\"1\" /><path clip-path=\"url(#clip710)\" d=\"M 0 0 M708.966 1512.56 L727.322 1512.56 L727.322 1516.5 L713.248 1516.5 L713.248 1524.97 Q714.267 1524.62 715.285 1524.46 Q716.304 1524.27 717.322 1524.27 Q723.109 1524.27 726.489 1527.44 Q729.869 1530.62 729.869 1536.03 Q729.869 1541.61 726.396 1544.71 Q722.924 1547.79 716.605 1547.79 Q714.429 1547.79 712.16 1547.42 Q709.915 1547.05 707.508 1546.31 L707.508 1541.61 Q709.591 1542.74 711.813 1543.3 Q714.035 1543.86 716.512 1543.86 Q720.517 1543.86 722.855 1541.75 Q725.193 1539.64 725.193 1536.03 Q725.193 1532.42 722.855 1530.31 Q720.517 1528.21 716.512 1528.21 Q714.637 1528.21 712.762 1528.62 Q710.91 1529.04 708.966 1529.92 L708.966 1512.56 Z\" fill=\"#000000\" fill-rule=\"evenodd\" fill-opacity=\"1\" /><path clip-path=\"url(#clip710)\" d=\"M 0 0 M1203.82 1512.56 L1222.18 1512.56 L1222.18 1516.5 L1208.1 1516.5 L1208.1 1524.97 Q1209.12 1524.62 1210.14 1524.46 Q1211.16 1524.27 1212.18 1524.27 Q1217.96 1524.27 1221.34 1527.44 Q1224.72 1530.62 1224.72 1536.03 Q1224.72 1541.61 1221.25 1544.71 Q1217.78 1547.79 1211.46 1547.79 Q1209.28 1547.79 1207.01 1547.42 Q1204.77 1547.05 1202.36 1546.31 L1202.36 1541.61 Q1204.44 1542.74 1206.67 1543.3 Q1208.89 1543.86 1211.37 1543.86 Q1215.37 1543.86 1217.71 1541.75 Q1220.05 1539.64 1220.05 1536.03 Q1220.05 1532.42 1217.71 1530.31 Q1215.37 1528.21 1211.37 1528.21 Q1209.49 1528.21 1207.62 1528.62 Q1205.76 1529.04 1203.82 1529.92 L1203.82 1512.56 Z\" fill=\"#000000\" fill-rule=\"evenodd\" fill-opacity=\"1\" /><path clip-path=\"url(#clip710)\" d=\"M 0 0 M1239.79 1515.64 Q1236.18 1515.64 1234.35 1519.2 Q1232.55 1522.75 1232.55 1529.87 Q1232.55 1536.98 1234.35 1540.55 Q1236.18 1544.09 1239.79 1544.09 Q1243.43 1544.09 1245.23 1540.55 Q1247.06 1536.98 1247.06 1529.87 Q1247.06 1522.75 1245.23 1519.2 Q1243.43 1515.64 1239.79 1515.64 M1239.79 1511.93 Q1245.6 1511.93 1248.66 1516.54 Q1251.74 1521.12 1251.74 1529.87 Q1251.74 1538.6 1248.66 1543.21 Q1245.6 1547.79 1239.79 1547.79 Q1233.98 1547.79 1230.9 1543.21 Q1227.85 1538.6 1227.85 1529.87 Q1227.85 1521.12 1230.9 1516.54 Q1233.98 1511.93 1239.79 1511.93 Z\" fill=\"#000000\" fill-rule=\"evenodd\" fill-opacity=\"1\" /><path clip-path=\"url(#clip710)\" d=\"M 0 0 M1724.09 1512.56 L1746.31 1512.56 L1746.31 1514.55 L1733.76 1547.12 L1728.88 1547.12 L1740.69 1516.5 L1724.09 1516.5 L1724.09 1512.56 Z\" fill=\"#000000\" fill-rule=\"evenodd\" fill-opacity=\"1\" /><path clip-path=\"url(#clip710)\" d=\"M 0 0 M1751.43 1512.56 L1769.78 1512.56 L1769.78 1516.5 L1755.71 1516.5 L1755.71 1524.97 Q1756.73 1524.62 1757.75 1524.46 Q1758.76 1524.27 1759.78 1524.27 Q1765.57 1524.27 1768.95 1527.44 Q1772.33 1530.62 1772.33 1536.03 Q1772.33 1541.61 1768.86 1544.71 Q1765.39 1547.79 1759.07 1547.79 Q1756.89 1547.79 1754.62 1547.42 Q1752.38 1547.05 1749.97 1546.31 L1749.97 1541.61 Q1752.05 1542.74 1754.27 1543.3 Q1756.5 1543.86 1758.97 1543.86 Q1762.98 1543.86 1765.32 1541.75 Q1767.65 1539.64 1767.65 1536.03 Q1767.65 1532.42 1765.32 1530.31 Q1762.98 1528.21 1758.97 1528.21 Q1757.1 1528.21 1755.22 1528.62 Q1753.37 1529.04 1751.43 1529.92 L1751.43 1512.56 Z\" fill=\"#000000\" fill-rule=\"evenodd\" fill-opacity=\"1\" /><path clip-path=\"url(#clip710)\" d=\"M 0 0 M2232.74 1543.18 L2240.38 1543.18 L2240.38 1516.82 L2232.07 1518.49 L2232.07 1514.23 L2240.33 1512.56 L2245.01 1512.56 L2245.01 1543.18 L2252.65 1543.18 L2252.65 1547.12 L2232.74 1547.12 L2232.74 1543.18 Z\" fill=\"#000000\" fill-rule=\"evenodd\" fill-opacity=\"1\" /><path clip-path=\"url(#clip710)\" d=\"M 0 0 M2267.72 1515.64 Q2264.1 1515.64 2262.28 1519.2 Q2260.47 1522.75 2260.47 1529.87 Q2260.47 1536.98 2262.28 1540.55 Q2264.1 1544.09 2267.72 1544.09 Q2271.35 1544.09 2273.15 1540.55 Q2274.98 1536.98 2274.98 1529.87 Q2274.98 1522.75 2273.15 1519.2 Q2271.35 1515.64 2267.72 1515.64 M2267.72 1511.93 Q2273.53 1511.93 2276.58 1516.54 Q2279.66 1521.12 2279.66 1529.87 Q2279.66 1538.6 2276.58 1543.21 Q2273.53 1547.79 2267.72 1547.79 Q2261.9 1547.79 2258.83 1543.21 Q2255.77 1538.6 2255.77 1529.87 Q2255.77 1521.12 2258.83 1516.54 Q2261.9 1511.93 2267.72 1511.93 Z\" fill=\"#000000\" fill-rule=\"evenodd\" fill-opacity=\"1\" /><path clip-path=\"url(#clip710)\" d=\"M 0 0 M2294.73 1515.64 Q2291.12 1515.64 2289.29 1519.2 Q2287.48 1522.75 2287.48 1529.87 Q2287.48 1536.98 2289.29 1540.55 Q2291.12 1544.09 2294.73 1544.09 Q2298.36 1544.09 2300.17 1540.55 Q2302 1536.98 2302 1529.87 Q2302 1522.75 2300.17 1519.2 Q2298.36 1515.64 2294.73 1515.64 M2294.73 1511.93 Q2300.54 1511.93 2303.59 1516.54 Q2306.67 1521.12 2306.67 1529.87 Q2306.67 1538.6 2303.59 1543.21 Q2300.54 1547.79 2294.73 1547.79 Q2288.92 1547.79 2285.84 1543.21 Q2282.78 1538.6 2282.78 1529.87 Q2282.78 1521.12 2285.84 1516.54 Q2288.92 1511.93 2294.73 1511.93 Z\" fill=\"#000000\" fill-rule=\"evenodd\" fill-opacity=\"1\" /><polyline clip-path=\"url(#clip712)\" style=\"stroke:#000000; stroke-width:2; stroke-opacity:0.1; fill:none\" points=\"\n",
       "  143.033,1285.24 2352.76,1285.24 \n",
       "  \"/>\n",
       "<polyline clip-path=\"url(#clip712)\" style=\"stroke:#000000; stroke-width:2; stroke-opacity:0.1; fill:none\" points=\"\n",
       "  143.033,1048.83 2352.76,1048.83 \n",
       "  \"/>\n",
       "<polyline clip-path=\"url(#clip712)\" style=\"stroke:#000000; stroke-width:2; stroke-opacity:0.1; fill:none\" points=\"\n",
       "  143.033,812.423 2352.76,812.423 \n",
       "  \"/>\n",
       "<polyline clip-path=\"url(#clip712)\" style=\"stroke:#000000; stroke-width:2; stroke-opacity:0.1; fill:none\" points=\"\n",
       "  143.033,576.013 2352.76,576.013 \n",
       "  \"/>\n",
       "<polyline clip-path=\"url(#clip712)\" style=\"stroke:#000000; stroke-width:2; stroke-opacity:0.1; fill:none\" points=\"\n",
       "  143.033,339.604 2352.76,339.604 \n",
       "  \"/>\n",
       "<polyline clip-path=\"url(#clip712)\" style=\"stroke:#000000; stroke-width:2; stroke-opacity:0.1; fill:none\" points=\"\n",
       "  143.033,103.195 2352.76,103.195 \n",
       "  \"/>\n",
       "<polyline clip-path=\"url(#clip710)\" style=\"stroke:#000000; stroke-width:4; stroke-opacity:1; fill:none\" points=\"\n",
       "  143.033,1486.45 143.033,47.2441 \n",
       "  \"/>\n",
       "<polyline clip-path=\"url(#clip710)\" style=\"stroke:#000000; stroke-width:4; stroke-opacity:1; fill:none\" points=\"\n",
       "  143.033,1285.24 169.55,1285.24 \n",
       "  \"/>\n",
       "<polyline clip-path=\"url(#clip710)\" style=\"stroke:#000000; stroke-width:4; stroke-opacity:1; fill:none\" points=\"\n",
       "  143.033,1048.83 169.55,1048.83 \n",
       "  \"/>\n",
       "<polyline clip-path=\"url(#clip710)\" style=\"stroke:#000000; stroke-width:4; stroke-opacity:1; fill:none\" points=\"\n",
       "  143.033,812.423 169.55,812.423 \n",
       "  \"/>\n",
       "<polyline clip-path=\"url(#clip710)\" style=\"stroke:#000000; stroke-width:4; stroke-opacity:1; fill:none\" points=\"\n",
       "  143.033,576.013 169.55,576.013 \n",
       "  \"/>\n",
       "<polyline clip-path=\"url(#clip710)\" style=\"stroke:#000000; stroke-width:4; stroke-opacity:1; fill:none\" points=\"\n",
       "  143.033,339.604 169.55,339.604 \n",
       "  \"/>\n",
       "<polyline clip-path=\"url(#clip710)\" style=\"stroke:#000000; stroke-width:4; stroke-opacity:1; fill:none\" points=\"\n",
       "  143.033,103.195 169.55,103.195 \n",
       "  \"/>\n",
       "<path clip-path=\"url(#clip710)\" d=\"M 0 0 M50.9921 1285.69 L80.6679 1285.69 L80.6679 1289.63 L50.9921 1289.63 L50.9921 1285.69 Z\" fill=\"#000000\" fill-rule=\"evenodd\" fill-opacity=\"1\" /><path clip-path=\"url(#clip710)\" d=\"M 0 0 M99.9039 1283.89 Q103.26 1284.6 105.135 1286.87 Q107.033 1289.14 107.033 1292.47 Q107.033 1297.59 103.515 1300.39 Q99.9965 1303.19 93.515 1303.19 Q91.3391 1303.19 89.0243 1302.75 Q86.7327 1302.34 84.279 1301.48 L84.279 1296.97 Q86.2234 1298.1 88.5382 1298.68 Q90.853 1299.26 93.3762 1299.26 Q97.7743 1299.26 100.066 1297.52 Q102.381 1295.79 102.381 1292.47 Q102.381 1289.42 100.228 1287.71 Q98.0984 1285.97 94.2789 1285.97 L90.2512 1285.97 L90.2512 1282.13 L94.4641 1282.13 Q97.9132 1282.13 99.7419 1280.76 Q101.571 1279.37 101.571 1276.78 Q101.571 1274.12 99.6724 1272.71 Q97.7974 1271.27 94.2789 1271.27 Q92.3576 1271.27 90.1586 1271.69 Q87.9595 1272.1 85.3206 1272.98 L85.3206 1268.82 Q87.9827 1268.08 90.2975 1267.71 Q92.6354 1267.34 94.6956 1267.34 Q100.02 1267.34 103.121 1269.77 Q106.223 1272.17 106.223 1276.29 Q106.223 1279.16 104.58 1281.16 Q102.936 1283.12 99.9039 1283.89 Z\" fill=\"#000000\" fill-rule=\"evenodd\" fill-opacity=\"1\" /><path clip-path=\"url(#clip710)\" d=\"M 0 0 M51.9412 1049.28 L81.617 1049.28 L81.617 1053.22 L51.9412 1053.22 L51.9412 1049.28 Z\" fill=\"#000000\" fill-rule=\"evenodd\" fill-opacity=\"1\" /><path clip-path=\"url(#clip710)\" d=\"M 0 0 M90.7141 1062.18 L107.033 1062.18 L107.033 1066.11 L85.0892 1066.11 L85.0892 1062.18 Q87.7512 1059.42 92.3345 1054.79 Q96.941 1050.14 98.1215 1048.8 Q100.367 1046.27 101.246 1044.54 Q102.149 1042.78 102.149 1041.09 Q102.149 1038.33 100.205 1036.6 Q98.2835 1034.86 95.1817 1034.86 Q92.9826 1034.86 90.529 1035.63 Q88.0984 1036.39 85.3206 1037.94 L85.3206 1033.22 Q88.1447 1032.08 90.5984 1031.51 Q93.0521 1030.93 95.0891 1030.93 Q100.459 1030.93 103.654 1033.61 Q106.848 1036.3 106.848 1040.79 Q106.848 1042.92 106.038 1044.84 Q105.251 1046.74 103.145 1049.33 Q102.566 1050 99.4641 1053.22 Q96.3623 1056.41 90.7141 1062.18 Z\" fill=\"#000000\" fill-rule=\"evenodd\" fill-opacity=\"1\" /><path clip-path=\"url(#clip710)\" d=\"M 0 0 M51.5708 812.874 L81.2466 812.874 L81.2466 816.809 L51.5708 816.809 L51.5708 812.874 Z\" fill=\"#000000\" fill-rule=\"evenodd\" fill-opacity=\"1\" /><path clip-path=\"url(#clip710)\" d=\"M 0 0 M87.1262 825.767 L94.765 825.767 L94.765 799.402 L86.4549 801.069 L86.4549 796.809 L94.7187 795.143 L99.3946 795.143 L99.3946 825.767 L107.033 825.767 L107.033 829.703 L87.1262 829.703 L87.1262 825.767 Z\" fill=\"#000000\" fill-rule=\"evenodd\" fill-opacity=\"1\" /><path clip-path=\"url(#clip710)\" d=\"M 0 0 M95.0891 561.812 Q91.478 561.812 89.6493 565.377 Q87.8438 568.918 87.8438 576.048 Q87.8438 583.155 89.6493 586.719 Q91.478 590.261 95.0891 590.261 Q98.7234 590.261 100.529 586.719 Q102.358 583.155 102.358 576.048 Q102.358 568.918 100.529 565.377 Q98.7234 561.812 95.0891 561.812 M95.0891 558.108 Q100.899 558.108 103.955 562.715 Q107.033 567.298 107.033 576.048 Q107.033 584.775 103.955 589.381 Q100.899 593.965 95.0891 593.965 Q89.279 593.965 86.2003 589.381 Q83.1447 584.775 83.1447 576.048 Q83.1447 567.298 86.2003 562.715 Q89.279 558.108 95.0891 558.108 Z\" fill=\"#000000\" fill-rule=\"evenodd\" fill-opacity=\"1\" /><path clip-path=\"url(#clip710)\" d=\"M 0 0 M87.1262 352.949 L94.765 352.949 L94.765 326.583 L86.4549 328.25 L86.4549 323.991 L94.7187 322.324 L99.3946 322.324 L99.3946 352.949 L107.033 352.949 L107.033 356.884 L87.1262 356.884 L87.1262 352.949 Z\" fill=\"#000000\" fill-rule=\"evenodd\" fill-opacity=\"1\" /><path clip-path=\"url(#clip710)\" d=\"M 0 0 M90.7141 116.54 L107.033 116.54 L107.033 120.475 L85.0892 120.475 L85.0892 116.54 Q87.7512 113.785 92.3345 109.155 Q96.941 104.503 98.1215 103.16 Q100.367 100.637 101.246 98.9009 Q102.149 97.1416 102.149 95.4518 Q102.149 92.6972 100.205 90.9611 Q98.2835 89.225 95.1817 89.225 Q92.9826 89.225 90.529 89.9889 Q88.0984 90.7528 85.3206 92.3037 L85.3206 87.5815 Q88.1447 86.4472 90.5984 85.8685 Q93.0521 85.2898 95.0891 85.2898 Q100.459 85.2898 103.654 87.975 Q106.848 90.6602 106.848 95.1509 Q106.848 97.2805 106.038 99.2018 Q105.251 101.1 103.145 103.693 Q102.566 104.364 99.4641 107.581 Q96.3623 110.776 90.7141 116.54 Z\" fill=\"#000000\" fill-rule=\"evenodd\" fill-opacity=\"1\" /><polyline clip-path=\"url(#clip712)\" style=\"stroke:#009af9; stroke-width:4; stroke-opacity:1; fill:none\" points=\"\n",
       "  205.573,947.364 226.419,939.476 247.266,923.197 268.112,905.842 288.959,888.574 309.805,871.663 330.651,855.292 351.498,839.702 372.344,825.244 393.191,812.392 \n",
       "  414.037,801.761 434.884,794.08 455.73,790.133 476.576,790.611 497.423,795.885 518.269,805.793 539.116,819.628 559.962,836.426 580.809,855.317 601.655,875.663 \n",
       "  622.502,896.942 643.348,918.561 664.194,939.769 685.041,959.778 705.887,978.071 726.734,994.691 747.58,1010.18 768.427,1025.18 789.273,1040.05 810.12,1054.72 \n",
       "  830.966,1068.73 851.812,1081.4 872.659,1092.01 893.505,1099.85 914.352,1103.38 935.198,1093.32 956.045,1064.25 976.891,1021.9 997.737,972.627 1018.58,920.68 \n",
       "  1039.43,867.8 1060.28,814.502 1081.12,761.039 1101.97,707.803 1122.82,655.408 1143.66,604.602 1164.51,556.103 1185.36,510.484 1206.2,468.141 1227.05,429.359 \n",
       "  1247.89,394.396 1268.74,363.472 1289.59,336.876 1310.43,314.331 1331.28,294.998 1352.13,278.093 1372.97,262.953 1393.82,248.977 1414.67,235.585 1435.51,222.201 \n",
       "  1456.36,208.295 1477.21,193.464 1498.05,177.562 1518.9,160.865 1539.74,144.163 1560.59,128.658 1581.44,115.617 1602.28,105.954 1623.13,100.011 1643.98,97.6153 \n",
       "  1664.82,98.2873 1685.67,101.44 1706.52,106.506 1727.36,112.988 1748.21,120.482 1769.06,128.665 1789.9,137.288 1810.75,146.157 1831.59,155.124 1852.44,164.069 \n",
       "  1873.29,172.901 1894.13,181.539 1914.98,189.915 1935.83,197.967 1956.67,205.634 1977.52,212.853 1998.37,219.559 2019.21,225.676 2040.06,231.124 2060.91,235.808 \n",
       "  2081.75,239.626 2102.6,242.461 2123.45,244.179 2144.29,244.63 2165.14,243.635 2185.98,240.992 2206.83,236.459 2227.68,229.773 2248.52,220.741 2269.37,210.031 \n",
       "  2290.22,204.671 \n",
       "  \"/>\n",
       "<polyline clip-path=\"url(#clip712)\" style=\"stroke:#e26f46; stroke-width:4; stroke-opacity:1; fill:none\" points=\"\n",
       "  205.573,576.013 226.419,595.647 247.266,636.518 268.112,680.832 288.959,726.03 309.805,771.822 330.651,818.224 351.498,865.234 372.344,912.752 393.191,960.553 \n",
       "  414.037,1008.28 434.884,1055.44 455.73,1101.38 476.576,1145.27 497.423,1186.06 518.269,1222.55 539.116,1253.43 559.962,1277.45 580.809,1293.59 601.655,1301.14 \n",
       "  622.502,1299.68 643.348,1289.05 664.194,1269.29 685.041,1240.65 705.887,1203.65 726.734,1159.18 747.58,1108.42 768.427,1052.72 789.273,993.518 810.12,932.309 \n",
       "  830.966,870.634 851.812,810.019 872.659,751.74 893.505,696.848 914.352,648.617 935.198,629.476 956.045,652.699 976.891,704.187 997.737,767.874 1018.58,832.367 \n",
       "  1039.43,892.384 1060.28,946.039 1081.12,992.862 1101.97,1033.09 1122.82,1067.52 1143.66,1097.41 1164.51,1124.42 1185.36,1150.41 1206.2,1177.21 1227.05,1206.5 \n",
       "  1247.89,1239.67 1268.74,1277.75 1289.59,1316.63 1310.43,1350.51 1331.28,1377.52 1352.13,1397.08 1372.97,1409.2 1393.82,1414.19 1414.67,1412.47 1435.51,1404.54 \n",
       "  1456.36,1390.9 1477.21,1372.04 1498.05,1348.5 1518.9,1320.82 1539.74,1289.59 1560.59,1255.45 1581.44,1219.08 1602.28,1181.16 1623.13,1142.32 1643.98,1103.1 \n",
       "  1664.82,1063.92 1685.67,1025.12 1706.52,986.962 1727.36,949.635 1748.21,913.272 1769.06,877.968 1789.9,843.78 1810.75,810.747 1831.59,778.891 1852.44,748.228 \n",
       "  1873.29,718.777 1894.13,690.561 1914.98,663.614 1935.83,637.985 1956.67,613.742 1977.52,590.976 1998.37,569.808 2019.21,550.389 2040.06,532.908 2060.91,517.591 \n",
       "  2081.75,504.702 2102.6,494.549 2123.45,487.484 2144.29,483.91 2165.14,484.285 2185.98,489.135 2206.83,499.055 2227.68,514.689 2248.52,536.49 2269.37,562.767 \n",
       "  2290.22,576.016 \n",
       "  \"/>\n",
       "<polyline clip-path=\"url(#clip712)\" style=\"stroke:#009af9; stroke-width:4; stroke-opacity:1; fill:none\" stroke-dasharray=\"16, 10\" points=\"\n",
       "  205.573,947.364 226.419,939.565 247.266,923.445 268.112,906.201 288.959,889.017 309.805,872.179 330.651,855.88 351.498,840.369 372.344,826.003 393.191,813.268 \n",
       "  414.037,802.785 434.884,795.289 455.73,791.569 476.576,792.299 497.423,797.806 518.269,807.917 539.116,821.934 559.962,838.896 580.809,857.929 601.655,878.376 \n",
       "  622.502,899.692 643.348,921.265 664.194,942.346 685.041,962.163 705.887,980.222 726.734,996.58 747.58,1011.78 768.427,1026.46 789.273,1040.96 810.12,1055.23 \n",
       "  830.966,1068.8 851.812,1081 872.659,1091.12 893.505,1098.49 914.352,1101.56 935.198,1091.16 956.045,1061.97 976.891,1019.63 997.737,970.356 1018.58,918.389 \n",
       "  1039.43,865.52 1060.28,812.324 1081.12,759.098 1101.97,706.257 1122.82,654.413 1143.66,604.292 1164.51,556.582 1185.36,511.834 1206.2,470.44 1227.05,432.703 \n",
       "  1247.89,398.915 1268.74,369.328 1289.59,344.125 1310.43,322.948 1331.28,304.95 1352.13,289.368 1372.97,275.649 1393.82,263.335 1414.67,251.949 1435.51,240.949 \n",
       "  1456.36,229.754 1477.21,217.779 1498.05,204.514 1518.9,189.648 1539.74,173.209 1560.59,155.631 1581.44,137.701 1602.28,120.486 1623.13,105.423 1643.98,94.1759 \n",
       "  1664.82,88.0873 1685.67,87.9763 1706.52,94.0643 1727.36,104.924 1748.21,117.598 1769.06,129.967 1789.9,141.216 1810.75,151.349 1831.59,160.6 1852.44,169.146 \n",
       "  1873.29,177.058 1894.13,184.347 1914.98,190.992 1935.83,196.957 1956.67,202.189 1977.52,206.619 1998.37,210.164 2019.21,212.725 2040.06,214.187 2060.91,214.423 \n",
       "  2081.75,213.287 2102.6,210.61 2123.45,206.193 2144.29,199.816 2165.14,191.257 2185.98,180.297 2206.83,166.628 2227.68,149.9 2248.52,129.863 2269.37,107.061 \n",
       "  2290.22,88.0227 \n",
       "  \"/>\n",
       "<polyline clip-path=\"url(#clip712)\" style=\"stroke:#e26f46; stroke-width:4; stroke-opacity:1; fill:none\" stroke-dasharray=\"16, 10\" points=\"\n",
       "  205.573,576.013 226.419,595.4 247.266,635.839 268.112,679.864 288.959,724.868 309.805,770.529 330.651,816.845 351.498,863.799 372.344,911.277 393.191,959.044 \n",
       "  414.037,1006.73 434.884,1053.83 455.73,1099.68 476.576,1143.45 497.423,1184.12 518.269,1220.49 539.116,1251.26 559.962,1275.2 580.809,1291.29 601.655,1298.79 \n",
       "  622.502,1297.3 643.348,1286.72 664.194,1267.05 685.041,1238.54 705.887,1201.72 726.734,1157.47 747.58,1106.95 768.427,1051.54 789.273,992.657 810.12,931.798 \n",
       "  830.966,870.505 851.812,810.285 872.659,752.393 893.505,697.853 914.352,649.898 935.198,630.725 956.045,653.325 976.891,703.874 997.737,766.687 1018.58,830.494 \n",
       "  1039.43,889.964 1060.28,943.169 1081.12,989.639 1101.97,1029.64 1122.82,1063.99 1143.66,1093.98 1164.51,1121.26 1185.36,1147.65 1206.2,1174.95 1227.05,1204.79 \n",
       "  1247.89,1238.49 1268.74,1277.03 1289.59,1317.99 1310.43,1356.38 1331.28,1388.99 1352.13,1414.46 1372.97,1432.32 1393.82,1442.62 1414.67,1445.72 1435.51,1442.2 \n",
       "  1456.36,1432.73 1477.21,1418 1498.05,1398.83 1518.9,1376.2 1539.74,1351.08 1560.59,1324.3 1581.44,1296.04 1602.28,1265.33 1623.13,1229.7 1643.98,1187.95 \n",
       "  1664.82,1140.58 1685.67,1087.63 1706.52,1028.91 1727.36,967.861 1748.21,910.322 1769.06,859.108 1789.9,814.229 1810.75,774.364 1831.59,738.135 1852.44,704.61 \n",
       "  1873.29,673.259 1894.13,643.794 1914.98,616.047 1935.83,589.922 1956.67,565.384 1977.52,542.441 1998.37,521.152 2019.21,501.616 2040.06,483.975 2060.91,468.41 \n",
       "  2081.75,455.149 2102.6,444.483 2123.45,436.766 2144.29,432.399 2165.14,431.788 2185.98,435.313 2206.83,443.561 2227.68,457.209 2248.52,476.633 2269.37,500.145 \n",
       "  2290.22,510.964 \n",
       "  \"/>\n",
       "<path clip-path=\"url(#clip710)\" d=\"\n",
       "M216.691 397.618 L514.947 397.618 L514.947 95.2176 L216.691 95.2176  Z\n",
       "  \" fill=\"#ffffff\" fill-rule=\"evenodd\" fill-opacity=\"1\"/>\n",
       "<polyline clip-path=\"url(#clip710)\" style=\"stroke:#000000; stroke-width:4; stroke-opacity:1; fill:none\" points=\"\n",
       "  216.691,397.618 514.947,397.618 514.947,95.2176 216.691,95.2176 216.691,397.618 \n",
       "  \"/>\n",
       "<polyline clip-path=\"url(#clip710)\" style=\"stroke:#009af9; stroke-width:4; stroke-opacity:1; fill:none\" points=\"\n",
       "  241.243,155.698 388.558,155.698 \n",
       "  \"/>\n",
       "<path clip-path=\"url(#clip710)\" d=\"M 0 0 M426.953 175.385 Q425.148 180.015 423.435 181.427 Q421.722 182.839 418.851 182.839 L415.449 182.839 L415.449 179.274 L417.949 179.274 Q419.708 179.274 420.68 178.44 Q421.652 177.607 422.833 174.505 L423.597 172.561 L413.111 147.052 L417.625 147.052 L425.726 167.329 L433.828 147.052 L438.342 147.052 L426.953 175.385 Z\" fill=\"#000000\" fill-rule=\"evenodd\" fill-opacity=\"1\" /><path clip-path=\"url(#clip710)\" d=\"M 0 0 M444.222 169.042 L451.86 169.042 L451.86 142.677 L443.55 144.343 L443.55 140.084 L451.814 138.418 L456.49 138.418 L456.49 169.042 L464.129 169.042 L464.129 172.978 L444.222 172.978 L444.222 169.042 Z\" fill=\"#000000\" fill-rule=\"evenodd\" fill-opacity=\"1\" /><polyline clip-path=\"url(#clip710)\" style=\"stroke:#e26f46; stroke-width:4; stroke-opacity:1; fill:none\" points=\"\n",
       "  241.243,216.178 388.558,216.178 \n",
       "  \"/>\n",
       "<path clip-path=\"url(#clip710)\" d=\"M 0 0 M426.953 235.865 Q425.148 240.495 423.435 241.907 Q421.722 243.319 418.851 243.319 L415.449 243.319 L415.449 239.754 L417.949 239.754 Q419.708 239.754 420.68 238.92 Q421.652 238.087 422.833 234.985 L423.597 233.041 L413.111 207.532 L417.625 207.532 L425.726 227.809 L433.828 207.532 L438.342 207.532 L426.953 235.865 Z\" fill=\"#000000\" fill-rule=\"evenodd\" fill-opacity=\"1\" /><path clip-path=\"url(#clip710)\" d=\"M 0 0 M447.439 229.522 L463.759 229.522 L463.759 233.458 L441.814 233.458 L441.814 229.522 Q444.476 226.768 449.06 222.138 Q453.666 217.485 454.847 216.143 Q457.092 213.62 457.972 211.884 Q458.874 210.124 458.874 208.435 Q458.874 205.68 456.93 203.944 Q455.009 202.208 451.907 202.208 Q449.708 202.208 447.254 202.972 Q444.823 203.735 442.046 205.286 L442.046 200.564 Q444.87 199.43 447.323 198.851 Q449.777 198.273 451.814 198.273 Q457.185 198.273 460.379 200.958 Q463.573 203.643 463.573 208.134 Q463.573 210.263 462.763 212.185 Q461.976 214.083 459.87 216.675 Q459.291 217.347 456.189 220.564 Q453.087 223.759 447.439 229.522 Z\" fill=\"#000000\" fill-rule=\"evenodd\" fill-opacity=\"1\" /><polyline clip-path=\"url(#clip710)\" style=\"stroke:#009af9; stroke-width:4; stroke-opacity:1; fill:none\" stroke-dasharray=\"16, 10\" points=\"\n",
       "  241.243,276.658 388.558,276.658 \n",
       "  \"/>\n",
       "<path clip-path=\"url(#clip710)\" d=\"M 0 0 M426.953 296.345 Q425.148 300.975 423.435 302.387 Q421.722 303.799 418.851 303.799 L415.449 303.799 L415.449 300.234 L417.949 300.234 Q419.708 300.234 420.68 299.4 Q421.652 298.567 422.833 295.465 L423.597 293.521 L413.111 268.012 L417.625 268.012 L425.726 288.289 L433.828 268.012 L438.342 268.012 L426.953 296.345 Z\" fill=\"#000000\" fill-rule=\"evenodd\" fill-opacity=\"1\" /><path clip-path=\"url(#clip710)\" d=\"M 0 0 M457.578 275.303 Q460.934 276.021 462.809 278.289 Q464.708 280.558 464.708 283.891 Q464.708 289.007 461.189 291.808 Q457.671 294.609 451.189 294.609 Q449.013 294.609 446.698 294.169 Q444.407 293.752 441.953 292.896 L441.953 288.382 Q443.898 289.516 446.212 290.095 Q448.527 290.674 451.05 290.674 Q455.448 290.674 457.74 288.938 Q460.055 287.201 460.055 283.891 Q460.055 280.836 457.902 279.123 Q455.772 277.387 451.953 277.387 L447.925 277.387 L447.925 273.544 L452.138 273.544 Q455.587 273.544 457.416 272.178 Q459.245 270.79 459.245 268.197 Q459.245 265.535 457.347 264.123 Q455.472 262.688 451.953 262.688 Q450.032 262.688 447.833 263.104 Q445.634 263.521 442.995 264.401 L442.995 260.234 Q445.657 259.493 447.972 259.123 Q450.31 258.753 452.37 258.753 Q457.694 258.753 460.796 261.183 Q463.897 263.59 463.897 267.711 Q463.897 270.581 462.254 272.572 Q460.61 274.54 457.578 275.303 Z\" fill=\"#000000\" fill-rule=\"evenodd\" fill-opacity=\"1\" /><polyline clip-path=\"url(#clip710)\" style=\"stroke:#e26f46; stroke-width:4; stroke-opacity:1; fill:none\" stroke-dasharray=\"16, 10\" points=\"\n",
       "  241.243,337.138 388.558,337.138 \n",
       "  \"/>\n",
       "<path clip-path=\"url(#clip710)\" d=\"M 0 0 M426.953 356.825 Q425.148 361.455 423.435 362.867 Q421.722 364.279 418.851 364.279 L415.449 364.279 L415.449 360.714 L417.949 360.714 Q419.708 360.714 420.68 359.88 Q421.652 359.047 422.833 355.945 L423.597 354.001 L413.111 328.492 L417.625 328.492 L425.726 348.769 L433.828 328.492 L438.342 328.492 L426.953 356.825 Z\" fill=\"#000000\" fill-rule=\"evenodd\" fill-opacity=\"1\" /><path clip-path=\"url(#clip710)\" d=\"M 0 0 M456.259 323.932 L444.453 342.381 L456.259 342.381 L456.259 323.932 M455.032 319.858 L460.911 319.858 L460.911 342.381 L465.842 342.381 L465.842 346.269 L460.911 346.269 L460.911 354.418 L456.259 354.418 L456.259 346.269 L440.657 346.269 L440.657 341.756 L455.032 319.858 Z\" fill=\"#000000\" fill-rule=\"evenodd\" fill-opacity=\"1\" /></svg>\n"
      ]
     },
     "execution_count": 11,
     "metadata": {},
     "output_type": "execute_result"
    }
   ],
   "source": [
    "Plots.plot(states(altro), inds=1:2)\n",
    "Plots.plot!(Xsim, inds=1:2, color=[1 2], ls=:dash, legend=:topleft)"
   ]
  },
  {
   "cell_type": "code",
   "execution_count": 12,
   "metadata": {},
   "outputs": [
    {
     "data": {
      "image/svg+xml": [
       "<?xml version=\"1.0\" encoding=\"utf-8\"?>\n",
       "<svg xmlns=\"http://www.w3.org/2000/svg\" xmlns:xlink=\"http://www.w3.org/1999/xlink\" width=\"600\" height=\"400\" viewBox=\"0 0 2400 1600\">\n",
       "<defs>\n",
       "  <clipPath id=\"clip750\">\n",
       "    <rect x=\"0\" y=\"0\" width=\"2400\" height=\"1600\"/>\n",
       "  </clipPath>\n",
       "</defs>\n",
       "<path clip-path=\"url(#clip750)\" d=\"\n",
       "M0 1600 L2400 1600 L2400 0 L0 0  Z\n",
       "  \" fill=\"#ffffff\" fill-rule=\"evenodd\" fill-opacity=\"1\"/>\n",
       "<defs>\n",
       "  <clipPath id=\"clip751\">\n",
       "    <rect x=\"480\" y=\"0\" width=\"1681\" height=\"1600\"/>\n",
       "  </clipPath>\n",
       "</defs>\n",
       "<path clip-path=\"url(#clip750)\" d=\"\n",
       "M169.469 1486.45 L2352.76 1486.45 L2352.76 47.2441 L169.469 47.2441  Z\n",
       "  \" fill=\"#ffffff\" fill-rule=\"evenodd\" fill-opacity=\"1\"/>\n",
       "<defs>\n",
       "  <clipPath id=\"clip752\">\n",
       "    <rect x=\"169\" y=\"47\" width=\"2184\" height=\"1440\"/>\n",
       "  </clipPath>\n",
       "</defs>\n",
       "<polyline clip-path=\"url(#clip752)\" style=\"stroke:#000000; stroke-width:2; stroke-opacity:0.1; fill:none\" points=\"\n",
       "  210.455,1486.45 210.455,47.2441 \n",
       "  \"/>\n",
       "<polyline clip-path=\"url(#clip752)\" style=\"stroke:#000000; stroke-width:2; stroke-opacity:0.1; fill:none\" points=\"\n",
       "  730.582,1486.45 730.582,47.2441 \n",
       "  \"/>\n",
       "<polyline clip-path=\"url(#clip752)\" style=\"stroke:#000000; stroke-width:2; stroke-opacity:0.1; fill:none\" points=\"\n",
       "  1250.71,1486.45 1250.71,47.2441 \n",
       "  \"/>\n",
       "<polyline clip-path=\"url(#clip752)\" style=\"stroke:#000000; stroke-width:2; stroke-opacity:0.1; fill:none\" points=\"\n",
       "  1770.84,1486.45 1770.84,47.2441 \n",
       "  \"/>\n",
       "<polyline clip-path=\"url(#clip752)\" style=\"stroke:#000000; stroke-width:2; stroke-opacity:0.1; fill:none\" points=\"\n",
       "  2290.96,1486.45 2290.96,47.2441 \n",
       "  \"/>\n",
       "<polyline clip-path=\"url(#clip750)\" style=\"stroke:#000000; stroke-width:4; stroke-opacity:1; fill:none\" points=\"\n",
       "  169.469,1486.45 2352.76,1486.45 \n",
       "  \"/>\n",
       "<polyline clip-path=\"url(#clip750)\" style=\"stroke:#000000; stroke-width:4; stroke-opacity:1; fill:none\" points=\"\n",
       "  210.455,1486.45 210.455,1469.18 \n",
       "  \"/>\n",
       "<polyline clip-path=\"url(#clip750)\" style=\"stroke:#000000; stroke-width:4; stroke-opacity:1; fill:none\" points=\"\n",
       "  730.582,1486.45 730.582,1469.18 \n",
       "  \"/>\n",
       "<polyline clip-path=\"url(#clip750)\" style=\"stroke:#000000; stroke-width:4; stroke-opacity:1; fill:none\" points=\"\n",
       "  1250.71,1486.45 1250.71,1469.18 \n",
       "  \"/>\n",
       "<polyline clip-path=\"url(#clip750)\" style=\"stroke:#000000; stroke-width:4; stroke-opacity:1; fill:none\" points=\"\n",
       "  1770.84,1486.45 1770.84,1469.18 \n",
       "  \"/>\n",
       "<polyline clip-path=\"url(#clip750)\" style=\"stroke:#000000; stroke-width:4; stroke-opacity:1; fill:none\" points=\"\n",
       "  2290.96,1486.45 2290.96,1469.18 \n",
       "  \"/>\n",
       "<path clip-path=\"url(#clip750)\" d=\"M 0 0 M210.455 1515.64 Q206.843 1515.64 205.015 1519.2 Q203.209 1522.75 203.209 1529.87 Q203.209 1536.98 205.015 1540.55 Q206.843 1544.09 210.455 1544.09 Q214.089 1544.09 215.894 1540.55 Q217.723 1536.98 217.723 1529.87 Q217.723 1522.75 215.894 1519.2 Q214.089 1515.64 210.455 1515.64 M210.455 1511.93 Q216.265 1511.93 219.32 1516.54 Q222.399 1521.12 222.399 1529.87 Q222.399 1538.6 219.32 1543.21 Q216.265 1547.79 210.455 1547.79 Q204.644 1547.79 201.566 1543.21 Q198.51 1538.6 198.51 1529.87 Q198.51 1521.12 201.566 1516.54 Q204.644 1511.93 210.455 1511.93 Z\" fill=\"#000000\" fill-rule=\"evenodd\" fill-opacity=\"1\" /><path clip-path=\"url(#clip750)\" d=\"M 0 0 M712.226 1543.18 L728.545 1543.18 L728.545 1547.12 L706.601 1547.12 L706.601 1543.18 Q709.263 1540.43 713.846 1535.8 Q718.453 1531.15 719.633 1529.81 Q721.878 1527.28 722.758 1525.55 Q723.661 1523.79 723.661 1522.1 Q723.661 1519.34 721.716 1517.61 Q719.795 1515.87 716.693 1515.87 Q714.494 1515.87 712.041 1516.63 Q709.61 1517.4 706.832 1518.95 L706.832 1514.23 Q709.656 1513.09 712.11 1512.51 Q714.564 1511.93 716.601 1511.93 Q721.971 1511.93 725.165 1514.62 Q728.36 1517.31 728.36 1521.8 Q728.36 1523.93 727.55 1525.85 Q726.763 1527.74 724.656 1530.34 Q724.078 1531.01 720.976 1534.23 Q717.874 1537.42 712.226 1543.18 Z\" fill=\"#000000\" fill-rule=\"evenodd\" fill-opacity=\"1\" /><path clip-path=\"url(#clip750)\" d=\"M 0 0 M733.661 1512.56 L752.017 1512.56 L752.017 1516.5 L737.943 1516.5 L737.943 1524.97 Q738.962 1524.62 739.98 1524.46 Q740.999 1524.27 742.017 1524.27 Q747.804 1524.27 751.184 1527.44 Q754.563 1530.62 754.563 1536.03 Q754.563 1541.61 751.091 1544.71 Q747.619 1547.79 741.3 1547.79 Q739.124 1547.79 736.855 1547.42 Q734.61 1547.05 732.202 1546.31 L732.202 1541.61 Q734.286 1542.74 736.508 1543.3 Q738.73 1543.86 741.207 1543.86 Q745.212 1543.86 747.55 1541.75 Q749.888 1539.64 749.888 1536.03 Q749.888 1532.42 747.55 1530.31 Q745.212 1528.21 741.207 1528.21 Q739.332 1528.21 737.457 1528.62 Q735.605 1529.04 733.661 1529.92 L733.661 1512.56 Z\" fill=\"#000000\" fill-rule=\"evenodd\" fill-opacity=\"1\" /><path clip-path=\"url(#clip750)\" d=\"M 0 0 M1227.48 1512.56 L1245.84 1512.56 L1245.84 1516.5 L1231.76 1516.5 L1231.76 1524.97 Q1232.78 1524.62 1233.8 1524.46 Q1234.82 1524.27 1235.84 1524.27 Q1241.62 1524.27 1245 1527.44 Q1248.38 1530.62 1248.38 1536.03 Q1248.38 1541.61 1244.91 1544.71 Q1241.44 1547.79 1235.12 1547.79 Q1232.94 1547.79 1230.68 1547.42 Q1228.43 1547.05 1226.02 1546.31 L1226.02 1541.61 Q1228.11 1542.74 1230.33 1543.3 Q1232.55 1543.86 1235.03 1543.86 Q1239.03 1543.86 1241.37 1541.75 Q1243.71 1539.64 1243.71 1536.03 Q1243.71 1532.42 1241.37 1530.31 Q1239.03 1528.21 1235.03 1528.21 Q1233.15 1528.21 1231.28 1528.62 Q1229.43 1529.04 1227.48 1529.92 L1227.48 1512.56 Z\" fill=\"#000000\" fill-rule=\"evenodd\" fill-opacity=\"1\" /><path clip-path=\"url(#clip750)\" d=\"M 0 0 M1263.45 1515.64 Q1259.84 1515.64 1258.01 1519.2 Q1256.21 1522.75 1256.21 1529.87 Q1256.21 1536.98 1258.01 1540.55 Q1259.84 1544.09 1263.45 1544.09 Q1267.09 1544.09 1268.89 1540.55 Q1270.72 1536.98 1270.72 1529.87 Q1270.72 1522.75 1268.89 1519.2 Q1267.09 1515.64 1263.45 1515.64 M1263.45 1511.93 Q1269.26 1511.93 1272.32 1516.54 Q1275.4 1521.12 1275.4 1529.87 Q1275.4 1538.6 1272.32 1543.21 Q1269.26 1547.79 1263.45 1547.79 Q1257.64 1547.79 1254.56 1543.21 Q1251.51 1538.6 1251.51 1529.87 Q1251.51 1521.12 1254.56 1516.54 Q1257.64 1511.93 1263.45 1511.93 Z\" fill=\"#000000\" fill-rule=\"evenodd\" fill-opacity=\"1\" /><path clip-path=\"url(#clip750)\" d=\"M 0 0 M1746.72 1512.56 L1768.94 1512.56 L1768.94 1514.55 L1756.39 1547.12 L1751.51 1547.12 L1763.31 1516.5 L1746.72 1516.5 L1746.72 1512.56 Z\" fill=\"#000000\" fill-rule=\"evenodd\" fill-opacity=\"1\" /><path clip-path=\"url(#clip750)\" d=\"M 0 0 M1774.05 1512.56 L1792.41 1512.56 L1792.41 1516.5 L1778.34 1516.5 L1778.34 1524.97 Q1779.36 1524.62 1780.37 1524.46 Q1781.39 1524.27 1782.41 1524.27 Q1788.2 1524.27 1791.58 1527.44 Q1794.96 1530.62 1794.96 1536.03 Q1794.96 1541.61 1791.49 1544.71 Q1788.01 1547.79 1781.69 1547.79 Q1779.52 1547.79 1777.25 1547.42 Q1775 1547.05 1772.6 1546.31 L1772.6 1541.61 Q1774.68 1542.74 1776.9 1543.3 Q1779.12 1543.86 1781.6 1543.86 Q1785.61 1543.86 1787.94 1541.75 Q1790.28 1539.64 1790.28 1536.03 Q1790.28 1532.42 1787.94 1530.31 Q1785.61 1528.21 1781.6 1528.21 Q1779.73 1528.21 1777.85 1528.62 Q1776 1529.04 1774.05 1529.92 L1774.05 1512.56 Z\" fill=\"#000000\" fill-rule=\"evenodd\" fill-opacity=\"1\" /><path clip-path=\"url(#clip750)\" d=\"M 0 0 M2254.33 1543.18 L2261.97 1543.18 L2261.97 1516.82 L2253.66 1518.49 L2253.66 1514.23 L2261.93 1512.56 L2266.6 1512.56 L2266.6 1543.18 L2274.24 1543.18 L2274.24 1547.12 L2254.33 1547.12 L2254.33 1543.18 Z\" fill=\"#000000\" fill-rule=\"evenodd\" fill-opacity=\"1\" /><path clip-path=\"url(#clip750)\" d=\"M 0 0 M2289.31 1515.64 Q2285.7 1515.64 2283.87 1519.2 Q2282.06 1522.75 2282.06 1529.87 Q2282.06 1536.98 2283.87 1540.55 Q2285.7 1544.09 2289.31 1544.09 Q2292.94 1544.09 2294.75 1540.55 Q2296.58 1536.98 2296.58 1529.87 Q2296.58 1522.75 2294.75 1519.2 Q2292.94 1515.64 2289.31 1515.64 M2289.31 1511.93 Q2295.12 1511.93 2298.18 1516.54 Q2301.25 1521.12 2301.25 1529.87 Q2301.25 1538.6 2298.18 1543.21 Q2295.12 1547.79 2289.31 1547.79 Q2283.5 1547.79 2280.42 1543.21 Q2277.37 1538.6 2277.37 1529.87 Q2277.37 1521.12 2280.42 1516.54 Q2283.5 1511.93 2289.31 1511.93 Z\" fill=\"#000000\" fill-rule=\"evenodd\" fill-opacity=\"1\" /><path clip-path=\"url(#clip750)\" d=\"M 0 0 M2316.32 1515.64 Q2312.71 1515.64 2310.88 1519.2 Q2309.08 1522.75 2309.08 1529.87 Q2309.08 1536.98 2310.88 1540.55 Q2312.71 1544.09 2316.32 1544.09 Q2319.96 1544.09 2321.76 1540.55 Q2323.59 1536.98 2323.59 1529.87 Q2323.59 1522.75 2321.76 1519.2 Q2319.96 1515.64 2316.32 1515.64 M2316.32 1511.93 Q2322.13 1511.93 2325.19 1516.54 Q2328.27 1521.12 2328.27 1529.87 Q2328.27 1538.6 2325.19 1543.21 Q2322.13 1547.79 2316.32 1547.79 Q2310.51 1547.79 2307.43 1543.21 Q2304.38 1538.6 2304.38 1529.87 Q2304.38 1521.12 2307.43 1516.54 Q2310.51 1511.93 2316.32 1511.93 Z\" fill=\"#000000\" fill-rule=\"evenodd\" fill-opacity=\"1\" /><polyline clip-path=\"url(#clip752)\" style=\"stroke:#000000; stroke-width:2; stroke-opacity:0.1; fill:none\" points=\"\n",
       "  169.469,1445.72 2352.76,1445.72 \n",
       "  \"/>\n",
       "<polyline clip-path=\"url(#clip752)\" style=\"stroke:#000000; stroke-width:2; stroke-opacity:0.1; fill:none\" points=\"\n",
       "  169.469,1106.28 2352.76,1106.28 \n",
       "  \"/>\n",
       "<polyline clip-path=\"url(#clip752)\" style=\"stroke:#000000; stroke-width:2; stroke-opacity:0.1; fill:none\" points=\"\n",
       "  169.469,766.846 2352.76,766.846 \n",
       "  \"/>\n",
       "<polyline clip-path=\"url(#clip752)\" style=\"stroke:#000000; stroke-width:2; stroke-opacity:0.1; fill:none\" points=\"\n",
       "  169.469,427.411 2352.76,427.411 \n",
       "  \"/>\n",
       "<polyline clip-path=\"url(#clip752)\" style=\"stroke:#000000; stroke-width:2; stroke-opacity:0.1; fill:none\" points=\"\n",
       "  169.469,87.9763 2352.76,87.9763 \n",
       "  \"/>\n",
       "<polyline clip-path=\"url(#clip750)\" style=\"stroke:#000000; stroke-width:4; stroke-opacity:1; fill:none\" points=\"\n",
       "  169.469,1486.45 169.469,47.2441 \n",
       "  \"/>\n",
       "<polyline clip-path=\"url(#clip750)\" style=\"stroke:#000000; stroke-width:4; stroke-opacity:1; fill:none\" points=\"\n",
       "  169.469,1445.72 195.668,1445.72 \n",
       "  \"/>\n",
       "<polyline clip-path=\"url(#clip750)\" style=\"stroke:#000000; stroke-width:4; stroke-opacity:1; fill:none\" points=\"\n",
       "  169.469,1106.28 195.668,1106.28 \n",
       "  \"/>\n",
       "<polyline clip-path=\"url(#clip750)\" style=\"stroke:#000000; stroke-width:4; stroke-opacity:1; fill:none\" points=\"\n",
       "  169.469,766.846 195.668,766.846 \n",
       "  \"/>\n",
       "<polyline clip-path=\"url(#clip750)\" style=\"stroke:#000000; stroke-width:4; stroke-opacity:1; fill:none\" points=\"\n",
       "  169.469,427.411 195.668,427.411 \n",
       "  \"/>\n",
       "<polyline clip-path=\"url(#clip750)\" style=\"stroke:#000000; stroke-width:4; stroke-opacity:1; fill:none\" points=\"\n",
       "  169.469,87.9763 195.668,87.9763 \n",
       "  \"/>\n",
       "<path clip-path=\"url(#clip750)\" d=\"M 0 0 M51.3625 1446.17 L81.0383 1446.17 L81.0383 1450.1 L51.3625 1450.1 L51.3625 1446.17 Z\" fill=\"#000000\" fill-rule=\"evenodd\" fill-opacity=\"1\" /><path clip-path=\"url(#clip750)\" d=\"M 0 0 M90.1354 1459.06 L106.455 1459.06 L106.455 1463 L84.5105 1463 L84.5105 1459.06 Q87.1725 1456.31 91.7558 1451.68 Q96.3623 1447.02 97.5428 1445.68 Q99.7882 1443.16 100.668 1441.42 Q101.571 1439.66 101.571 1437.97 Q101.571 1435.22 99.6261 1433.48 Q97.7048 1431.75 94.603 1431.75 Q92.4039 1431.75 89.9503 1432.51 Q87.5197 1433.27 84.7419 1434.82 L84.7419 1430.1 Q87.566 1428.97 90.0197 1428.39 Q92.4734 1427.81 94.5104 1427.81 Q99.8808 1427.81 103.075 1430.5 Q106.27 1433.18 106.27 1437.67 Q106.27 1439.8 105.459 1441.72 Q104.672 1443.62 102.566 1446.21 Q101.987 1446.88 98.8854 1450.1 Q95.7836 1453.3 90.1354 1459.06 Z\" fill=\"#000000\" fill-rule=\"evenodd\" fill-opacity=\"1\" /><path clip-path=\"url(#clip750)\" d=\"M 0 0 M121.524 1431.51 Q117.913 1431.51 116.084 1435.08 Q114.279 1438.62 114.279 1445.75 Q114.279 1452.86 116.084 1456.42 Q117.913 1459.96 121.524 1459.96 Q125.158 1459.96 126.964 1456.42 Q128.793 1452.86 128.793 1445.75 Q128.793 1438.62 126.964 1435.08 Q125.158 1431.51 121.524 1431.51 M121.524 1427.81 Q127.334 1427.81 130.39 1432.42 Q133.469 1437 133.469 1445.75 Q133.469 1454.48 130.39 1459.08 Q127.334 1463.67 121.524 1463.67 Q115.714 1463.67 112.635 1459.08 Q109.58 1454.48 109.58 1445.75 Q109.58 1437 112.635 1432.42 Q115.714 1427.81 121.524 1427.81 Z\" fill=\"#000000\" fill-rule=\"evenodd\" fill-opacity=\"1\" /><path clip-path=\"url(#clip750)\" d=\"M 0 0 M50.9921 1106.73 L80.6679 1106.73 L80.6679 1110.67 L50.9921 1110.67 L50.9921 1106.73 Z\" fill=\"#000000\" fill-rule=\"evenodd\" fill-opacity=\"1\" /><path clip-path=\"url(#clip750)\" d=\"M 0 0 M86.5475 1119.63 L94.1863 1119.63 L94.1863 1093.26 L85.8762 1094.93 L85.8762 1090.67 L94.14 1089 L98.8159 1089 L98.8159 1119.63 L106.455 1119.63 L106.455 1123.56 L86.5475 1123.56 L86.5475 1119.63 Z\" fill=\"#000000\" fill-rule=\"evenodd\" fill-opacity=\"1\" /><path clip-path=\"url(#clip750)\" d=\"M 0 0 M121.524 1092.08 Q117.913 1092.08 116.084 1095.64 Q114.279 1099.19 114.279 1106.32 Q114.279 1113.42 116.084 1116.99 Q117.913 1120.53 121.524 1120.53 Q125.158 1120.53 126.964 1116.99 Q128.793 1113.42 128.793 1106.32 Q128.793 1099.19 126.964 1095.64 Q125.158 1092.08 121.524 1092.08 M121.524 1088.38 Q127.334 1088.38 130.39 1092.98 Q133.469 1097.57 133.469 1106.32 Q133.469 1115.04 130.39 1119.65 Q127.334 1124.23 121.524 1124.23 Q115.714 1124.23 112.635 1119.65 Q109.58 1115.04 109.58 1106.32 Q109.58 1097.57 112.635 1092.98 Q115.714 1088.38 121.524 1088.38 Z\" fill=\"#000000\" fill-rule=\"evenodd\" fill-opacity=\"1\" /><path clip-path=\"url(#clip750)\" d=\"M 0 0 M121.524 752.645 Q117.913 752.645 116.084 756.209 Q114.279 759.751 114.279 766.881 Q114.279 773.987 116.084 777.552 Q117.913 781.094 121.524 781.094 Q125.158 781.094 126.964 777.552 Q128.793 773.987 128.793 766.881 Q128.793 759.751 126.964 756.209 Q125.158 752.645 121.524 752.645 M121.524 748.941 Q127.334 748.941 130.39 753.547 Q133.469 758.131 133.469 766.881 Q133.469 775.607 130.39 780.214 Q127.334 784.797 121.524 784.797 Q115.714 784.797 112.635 780.214 Q109.58 775.607 109.58 766.881 Q109.58 758.131 112.635 753.547 Q115.714 748.941 121.524 748.941 Z\" fill=\"#000000\" fill-rule=\"evenodd\" fill-opacity=\"1\" /><path clip-path=\"url(#clip750)\" d=\"M 0 0 M86.5475 440.756 L94.1863 440.756 L94.1863 414.39 L85.8762 416.057 L85.8762 411.798 L94.14 410.131 L98.8159 410.131 L98.8159 440.756 L106.455 440.756 L106.455 444.691 L86.5475 444.691 L86.5475 440.756 Z\" fill=\"#000000\" fill-rule=\"evenodd\" fill-opacity=\"1\" /><path clip-path=\"url(#clip750)\" d=\"M 0 0 M121.524 413.21 Q117.913 413.21 116.084 416.775 Q114.279 420.316 114.279 427.446 Q114.279 434.552 116.084 438.117 Q117.913 441.659 121.524 441.659 Q125.158 441.659 126.964 438.117 Q128.793 434.552 128.793 427.446 Q128.793 420.316 126.964 416.775 Q125.158 413.21 121.524 413.21 M121.524 409.506 Q127.334 409.506 130.39 414.113 Q133.469 418.696 133.469 427.446 Q133.469 436.173 130.39 440.779 Q127.334 445.362 121.524 445.362 Q115.714 445.362 112.635 440.779 Q109.58 436.173 109.58 427.446 Q109.58 418.696 112.635 414.113 Q115.714 409.506 121.524 409.506 Z\" fill=\"#000000\" fill-rule=\"evenodd\" fill-opacity=\"1\" /><path clip-path=\"url(#clip750)\" d=\"M 0 0 M90.1354 101.321 L106.455 101.321 L106.455 105.256 L84.5105 105.256 L84.5105 101.321 Q87.1725 98.5665 91.7558 93.9369 Q96.3623 89.2841 97.5428 87.9416 Q99.7882 85.4184 100.668 83.6823 Q101.571 81.9231 101.571 80.2333 Q101.571 77.4786 99.6261 75.7425 Q97.7048 74.0064 94.603 74.0064 Q92.4039 74.0064 89.9503 74.7703 Q87.5197 75.5342 84.7419 77.0851 L84.7419 72.3629 Q87.566 71.2287 90.0197 70.65 Q92.4734 70.0713 94.5104 70.0713 Q99.8808 70.0713 103.075 72.7565 Q106.27 75.4416 106.27 79.9323 Q106.27 82.062 105.459 83.9832 Q104.672 85.8814 102.566 88.474 Q101.987 89.1453 98.8854 92.3628 Q95.7836 95.5573 90.1354 101.321 Z\" fill=\"#000000\" fill-rule=\"evenodd\" fill-opacity=\"1\" /><path clip-path=\"url(#clip750)\" d=\"M 0 0 M121.524 73.775 Q117.913 73.775 116.084 77.3398 Q114.279 80.8814 114.279 88.011 Q114.279 95.1174 116.084 98.6822 Q117.913 102.224 121.524 102.224 Q125.158 102.224 126.964 98.6822 Q128.793 95.1174 128.793 88.011 Q128.793 80.8814 126.964 77.3398 Q125.158 73.775 121.524 73.775 M121.524 70.0713 Q127.334 70.0713 130.39 74.6777 Q133.469 79.261 133.469 88.011 Q133.469 96.7378 130.39 101.344 Q127.334 105.928 121.524 105.928 Q115.714 105.928 112.635 101.344 Q109.58 96.7378 109.58 88.011 Q109.58 79.261 112.635 74.6777 Q115.714 70.0713 121.524 70.0713 Z\" fill=\"#000000\" fill-rule=\"evenodd\" fill-opacity=\"1\" /><polyline clip-path=\"url(#clip752)\" style=\"stroke:#009af9; stroke-width:4; stroke-opacity:1; fill:none\" points=\"\n",
       "  231.26,1364.29 252.065,1041.72 272.87,1050.72 293.675,1108.3 314.48,1172 335.285,1233.45 356.09,1287.69 376.895,1329.27 397.701,1352.54 418.506,1352.43 \n",
       "  439.311,1324.86 460.116,1267.07 480.921,1178.28 501.726,1060.85 522.531,921.587 543.336,771.827 564.141,625.477 584.946,495.39 605.752,390.016 626.557,312.454 \n",
       "  647.362,262.092 668.167,237.825 688.972,241.456 709.777,278.639 730.582,354.569 751.387,466.338 772.192,599.319 792.997,731.427 813.803,840.029 834.608,906.77 \n",
       "  855.413,921.913 876.218,890.58 897.023,841.086 917.828,865.979 938.633,1445.72 959.438,1445.72 980.243,1445.72 1001.05,1445.72 1021.85,1445.72 1042.66,1445.72 \n",
       "  1063.46,1445.72 1084.27,1445.72 1105.07,1445.72 1125.88,1445.72 1146.68,1445.72 1167.49,1445.72 1188.29,1445.72 1209.1,1445.72 1229.9,1445.72 1250.71,1445.72 \n",
       "  1271.51,1445.72 1292.32,854.57 1313.12,659.745 1333.93,577.86 1354.74,547.436 1375.54,536.999 1396.35,531.294 1417.15,523.206 1437.96,509.814 1458.76,490.58 \n",
       "  1479.57,466.506 1500.37,439.722 1521.18,413.244 1541.98,390.681 1562.79,375.613 1583.59,370.437 1604.4,375.263 1625.2,387.95 1646.01,405.331 1666.81,424.521 \n",
       "  1687.62,443.563 1708.42,461.469 1729.23,478.005 1750.03,493.418 1770.84,508.21 1791.64,522.958 1812.45,538.183 1833.25,554.272 1854.06,571.449 1874.86,589.799 \n",
       "  1895.67,609.306 1916.47,629.91 1937.28,651.537 1958.08,674.121 1978.89,697.606 1999.69,721.937 2020.5,747.043 2041.3,772.811 2062.11,799.073 2082.91,825.577 \n",
       "  2103.72,851.971 2124.52,877.781 2145.33,902.414 2166.13,925.168 2186.94,945.288 2207.74,962.004 2228.55,974.085 2249.35,975.054 2270.16,914.86 2290.96,426.769 \n",
       "  \n",
       "  \"/>\n",
       "<polyline clip-path=\"url(#clip752)\" style=\"stroke:#e26f46; stroke-width:4; stroke-opacity:1; fill:none\" points=\"\n",
       "  231.26,1364.29 252.065,1046.84 272.87,1054.33 293.675,1111.05 314.48,1174.37 335.285,1235.62 356.09,1289.73 376.895,1331.22 397.701,1354.45 418.506,1354.35 \n",
       "  439.311,1326.89 460.116,1269.36 480.921,1181.03 501.726,1064.9 522.531,927.255 543.336,778.291 564.141,631.725 584.946,500.703 605.752,394.304 626.557,316.087 \n",
       "  647.362,263.29 668.167,237.017 688.972,239.752 709.777,276.423 730.582,351.751 751.387,462.574 772.192,594.283 792.997,725.004 813.803,832.398 834.608,898.445 \n",
       "  855.413,913.729 876.218,883.451 897.023,835.54 917.828,862.028 938.633,1443.84 959.438,1445.72 980.243,1445.72 1001.05,1445.72 1021.85,1445.72 1042.66,1445.72 \n",
       "  1063.46,1445.72 1084.27,1445.72 1105.07,1445.72 1125.88,1445.72 1146.68,1445.72 1167.49,1445.72 1188.29,1445.72 1209.1,1445.72 1229.9,1445.72 1250.71,1445.72 \n",
       "  1271.51,1445.72 1292.32,1077.19 1313.12,788.099 1333.93,656.244 1354.74,598.295 1375.54,575.054 1396.35,567.913 1417.15,567.062 1437.96,566.739 1458.76,562.156 \n",
       "  1479.57,560.255 1500.37,563.376 1521.18,571.249 1541.98,577.347 1562.79,563.027 1583.59,495.136 1604.4,335.554 1625.2,87.9763 1646.01,87.9763 1666.81,87.9763 \n",
       "  1687.62,87.9763 1708.42,132.038 1729.23,536.048 1750.03,723.898 1770.84,730.229 1791.64,674.115 1812.45,628.103 1833.25,609.41 1854.06,610.85 1874.86,622.95 \n",
       "  1895.67,640.277 1916.47,660.419 1937.28,682.287 1958.08,705.314 1978.89,729.18 1999.69,753.696 2020.5,778.738 2041.3,804.205 2062.11,829.999 2082.91,855.957 \n",
       "  2103.72,881.665 2124.52,906.406 2145.33,929.439 2166.13,950.141 2186.94,968.948 2207.74,984.564 2228.55,992.368 2249.35,985.369 2270.16,913.527 2290.96,411.038 \n",
       "  \n",
       "  \"/>\n",
       "<path clip-path=\"url(#clip750)\" d=\"\n",
       "M1986.37 276.658 L2279.98 276.658 L2279.98 95.2176 L1986.37 95.2176  Z\n",
       "  \" fill=\"#ffffff\" fill-rule=\"evenodd\" fill-opacity=\"1\"/>\n",
       "<polyline clip-path=\"url(#clip750)\" style=\"stroke:#000000; stroke-width:4; stroke-opacity:1; fill:none\" points=\"\n",
       "  1986.37,276.658 2279.98,276.658 2279.98,95.2176 1986.37,95.2176 1986.37,276.658 \n",
       "  \"/>\n",
       "<polyline clip-path=\"url(#clip750)\" style=\"stroke:#009af9; stroke-width:4; stroke-opacity:1; fill:none\" points=\"\n",
       "  2010.63,155.698 2156.19,155.698 \n",
       "  \"/>\n",
       "<path clip-path=\"url(#clip750)\" d=\"M 0 0 M2194.29 175.385 Q2192.48 180.015 2190.77 181.427 Q2189.05 182.839 2186.18 182.839 L2182.78 182.839 L2182.78 179.274 L2185.28 179.274 Q2187.04 179.274 2188.01 178.44 Q2188.99 177.607 2190.17 174.505 L2190.93 172.561 L2180.44 147.052 L2184.96 147.052 L2193.06 167.329 L2201.16 147.052 L2205.68 147.052 L2194.29 175.385 Z\" fill=\"#000000\" fill-rule=\"evenodd\" fill-opacity=\"1\" /><path clip-path=\"url(#clip750)\" d=\"M 0 0 M2211.55 169.042 L2219.19 169.042 L2219.19 142.677 L2210.88 144.343 L2210.88 140.084 L2219.15 138.418 L2223.82 138.418 L2223.82 169.042 L2231.46 169.042 L2231.46 172.978 L2211.55 172.978 L2211.55 169.042 Z\" fill=\"#000000\" fill-rule=\"evenodd\" fill-opacity=\"1\" /><polyline clip-path=\"url(#clip750)\" style=\"stroke:#e26f46; stroke-width:4; stroke-opacity:1; fill:none\" points=\"\n",
       "  2010.63,216.178 2156.19,216.178 \n",
       "  \"/>\n",
       "<path clip-path=\"url(#clip750)\" d=\"M 0 0 M2194.29 235.865 Q2192.48 240.495 2190.77 241.907 Q2189.05 243.319 2186.18 243.319 L2182.78 243.319 L2182.78 239.754 L2185.28 239.754 Q2187.04 239.754 2188.01 238.92 Q2188.99 238.087 2190.17 234.985 L2190.93 233.041 L2180.44 207.532 L2184.96 207.532 L2193.06 227.809 L2201.16 207.532 L2205.68 207.532 L2194.29 235.865 Z\" fill=\"#000000\" fill-rule=\"evenodd\" fill-opacity=\"1\" /><path clip-path=\"url(#clip750)\" d=\"M 0 0 M2214.77 229.522 L2231.09 229.522 L2231.09 233.458 L2209.15 233.458 L2209.15 229.522 Q2211.81 226.768 2216.39 222.138 Q2221 217.485 2222.18 216.143 Q2224.43 213.62 2225.3 211.884 Q2226.21 210.124 2226.21 208.435 Q2226.21 205.68 2224.26 203.944 Q2222.34 202.208 2219.24 202.208 Q2217.04 202.208 2214.59 202.972 Q2212.16 203.735 2209.38 205.286 L2209.38 200.564 Q2212.2 199.43 2214.66 198.851 Q2217.11 198.273 2219.15 198.273 Q2224.52 198.273 2227.71 200.958 Q2230.91 203.643 2230.91 208.134 Q2230.91 210.263 2230.1 212.185 Q2229.31 214.083 2227.2 216.675 Q2226.62 217.347 2223.52 220.564 Q2220.42 223.759 2214.77 229.522 Z\" fill=\"#000000\" fill-rule=\"evenodd\" fill-opacity=\"1\" /></svg>\n"
      ]
     },
     "execution_count": 12,
     "metadata": {},
     "output_type": "execute_result"
    }
   ],
   "source": [
    "Plots.plot(controls(altro))\n",
    "Plots.plot!(Usim)"
   ]
  },
  {
   "cell_type": "markdown",
   "metadata": {},
   "source": [
    "## Part (b)"
   ]
  },
  {
   "cell_type": "code",
   "execution_count": 13,
   "metadata": {},
   "outputs": [
    {
     "data": {
      "text/plain": [
       "update_qp! (generic function with 1 method)"
      ]
     },
     "execution_count": 13,
     "metadata": {},
     "output_type": "execute_result"
    }
   ],
   "source": [
    "struct ILCData2{n,m,T}\n",
    "    Q::Diagonal{T,SVector{n,T}}\n",
    "    R::Diagonal{T,SVector{m,T}}\n",
    "    Qf::Diagonal{T,SVector{n,T}}\n",
    "    Xref::Vector{SVector{n,T}}\n",
    "    Uref::Vector{SVector{m,T}}\n",
    "    times::Vector{T}\n",
    "    u_bnd::T\n",
    "end\n",
    "function build_qp(data::ILCData2, Xsim, Usim, A,B,K)\n",
    "    Nh = length(data.Xref)\n",
    "    n,m = size(B[1])\n",
    "    Xref,Uref = data.Xref, data.Uref\n",
    "    \n",
    "    # Cost\n",
    "    Qilc = sparse(data.Q)\n",
    "    Rilc = sparse(data.R)\n",
    "    H = blockdiag(kron(I(Nh-2), blockdiag(Rilc, Qilc)), Rilc, sparse(data.Qf))\n",
    "    q = zeros((n+m)*(Nh-1))\n",
    "    for k = 1:(Nh-2)\n",
    "        q[(k-1)*(m+n) .+ (1:(m+n))] .= [0.0; Qilc*(Xsim[k+1]-Xref[k+1])]\n",
    "    end\n",
    "    q[(Nh-2)*(m+n) .+ (1:(m+n))] .= [0.0; Qf*(Xsim[Nh]-Xref[Nh])]\n",
    "    \n",
    "    # Constraints\n",
    "    U = kron(I(Nh-1), [I zeros(m,n)]) #Matrix that picks out all u\n",
    "    X = kron(I(Nh-1), [zeros(n,m) I]) #Matrix that picks out all x\n",
    "    D = spzeros(n*(Nh-1), (n+m)*(Nh-1)) #dynamics constraints\n",
    "    D[1:n,1:m] .= B[1]\n",
    "    D[1:n,(m+1):(m+n)] .= -I(n)\n",
    "    for k = 1:(Nh-2)\n",
    "        D[(k*n).+(1:n), (m+(k-1)*(n+m)).+(1:(2*n+m))] .= [(A[k+1]-B[k+1]*K[k+1]) B[k+1] -I]\n",
    "    end\n",
    "    Ubar = hcat(Vector.(Uref)...)\n",
    "    lb = [zeros(n*(Nh-1)); -u_bnd .- vec(Ubar)]\n",
    "    ub = [zeros(n*(Nh-1)); +u_bnd .- vec(Ubar)]\n",
    "    \n",
    "    # Build QP\n",
    "    qp = OSQP.Model()\n",
    "    OSQP.setup!(\n",
    "        qp, P=H, q=q, A=[D; U], l=lb, u=ub, \n",
    "        eps_abs=1e-6, eps_rel=1e-6, eps_prim_inf = 1.0e-6, eps_dual_inf = 1.0e-6, polish=1, verbose=0\n",
    "    )\n",
    "    return qp\n",
    "end\n",
    "\n",
    "function update_qp!(qp::OSQP.Model, data, X, U)\n",
    "    Nh = length(data.Xref)\n",
    "    n,m = length(X[1]), length(U[1])\n",
    "    Qilc, Rilc, Qf = data.Q, data.R, data.Qf\n",
    "    q = zeros((n+m)*(Nh-1))\n",
    "    for k = 1:(Nh-2)\n",
    "        q[(k-1)*(m+n) .+ (1:(m+n))] .= [0.0; Qilc*(X[k+1]-data.Xref[k+1])]\n",
    "    end\n",
    "    q[(Nh-2)*(m+n) .+ (1:(m+n))] .= [0.0; Qf*(X[Nh]-data.Xref[Nh])]\n",
    "    OSQP.update_q!(qp, q)\n",
    "    return q\n",
    "end"
   ]
  },
  {
   "cell_type": "code",
   "execution_count": 40,
   "metadata": {},
   "outputs": [
    {
     "data": {
      "text/plain": [
       "run_ilc (generic function with 2 methods)"
      ]
     },
     "execution_count": 40,
     "metadata": {},
     "output_type": "execute_result"
    }
   ],
   "source": [
    "function run_ilc(altro)\n",
    "    # Get nominal trajectory\n",
    "    Xnom = states(altro)\n",
    "    Unom = controls(altro);\n",
    "    n,m,Nh = size(altro)\n",
    "    \n",
    "    # Get costs out of solver\n",
    "    Q = get_objective(altro).obj[1].Q\n",
    "    R = get_objective(altro).obj[1].R\n",
    "    Qf = get_objective(altro).obj[end].Q\n",
    "    \n",
    "    # Get bound out of solver\n",
    "    u_bnd = get_constraints(altro).convals[1].con.z_max[end]\n",
    "    \n",
    "    # ILC Cost functions    \n",
    "    Qilc = Diagonal(SA[1.0; 1.0; 1.0; 1.0])\n",
    "    Rilc = Diagonal(SA[0.1])\n",
    "    \n",
    "    # Generate ILC Data\n",
    "    data = ILCData2(Qilc,Rilc,Qf, Xnom, Unom, get_times(altro), u_bnd);\n",
    "    \n",
    "    # Generate Tracking Controller\n",
    "    A,B = linearize(model, states(altro), controls(altro), get_times(altro))\n",
    "    K,P = tvlqr(A,B, Q,R,Qf);\n",
    "    U = kron(I(Nh-1), [I zeros(m,n)]) #Matrix that picks out all u\n",
    "    \n",
    "    # Generate first problem\n",
    "    Xsim,Usim = sim(model, K, Xnom, Unom, get_times(altro));\n",
    "    @show norm(Xsim - Xnom)\n",
    "    qp0 = build_qp(data, Xsim, Usim, A,B,K);\n",
    "    \n",
    "    for iter = 1:10\n",
    "        # Solve QP and modify feedforward controls\n",
    "        res0 = OSQP.solve!(qp0)\n",
    "        Δu = reshape(U*res0.x, m, N-1)\n",
    "        for k = 1:N-1\n",
    "            Unom[k] += Δu[:,k]\n",
    "        end\n",
    "        \n",
    "        # Simulate the system with the new feedforward controls\n",
    "        Xsim,Usim = sim(model, K, Xnom, Unom, get_times(altro));\n",
    "        @show norm(Xsim - Xnom)\n",
    "        \n",
    "        # Update the QP\n",
    "        data.Uref .= Unom\n",
    "        q0 = update_qp!(qp0, data, Xsim, Usim)\n",
    "        \n",
    "    end\n",
    "    return Xsim\n",
    "end"
   ]
  },
  {
   "cell_type": "code",
   "execution_count": 42,
   "metadata": {},
   "outputs": [
    {
     "name": "stdout",
     "output_type": "stream",
     "text": [
      "norm(Xsim - Xnom) = 5.845134979693264\n",
      "norm(Xsim - Xnom) = 3.9493868656925684\n",
      "norm(Xsim - Xnom) = 3.0839283195111937\n",
      "norm(Xsim - Xnom) = 2.53294897742927\n",
      "norm(Xsim - Xnom) = 2.2261476126300357\n",
      "norm(Xsim - Xnom) = 2.1279110596302027\n",
      "norm(Xsim - Xnom) = 2.0998315134651024\n",
      "norm(Xsim - Xnom) = 2.08866283610263\n",
      "norm(Xsim - Xnom) = 2.08789025438654\n",
      "norm(Xsim - Xnom) = 2.0932890102768322\n",
      "norm(Xsim - Xnom) = 2.1017910204069263\n"
     ]
    }
   ],
   "source": [
    "Xilc = run_ilc(altro);"
   ]
  },
  {
   "cell_type": "code",
   "execution_count": 43,
   "metadata": {},
   "outputs": [
    {
     "data": {
      "text/html": [
       "    <div style=\"height: 500px; width: 100%; overflow-x: auto; overflow-y: hidden; resize: both\">\n",
       "    <iframe src=\"http://127.0.0.1:8700\" style=\"width: 100%; height: 100%; border: none\"></iframe>\n",
       "    </div>\n"
      ],
      "text/plain": [
       "MeshCat.DisplayedVisualizer(MeshCat.CoreVisualizer(MeshCat.SceneTrees.SceneNode(nothing, nothing, Dict{String,Array{UInt8,1}}(), UInt8[0x83, 0xa7, 0x6f, 0x70, 0x74, 0x69, 0x6f, 0x6e, 0x73, 0x82  …  0x5f, 0x61, 0x6e, 0x69, 0x6d, 0x61, 0x74, 0x69, 0x6f, 0x6e], Dict{String,MeshCat.SceneTrees.SceneNode}(\"meshcat\" => MeshCat.SceneTrees.SceneNode(nothing, nothing, Dict{String,Array{UInt8,1}}(), nothing, Dict{String,MeshCat.SceneTrees.SceneNode}(\"robot\" => MeshCat.SceneTrees.SceneNode(nothing, nothing, Dict{String,Array{UInt8,1}}(), nothing, Dict{String,MeshCat.SceneTrees.SceneNode}(\"base\" => MeshCat.SceneTrees.SceneNode(UInt8[0x83, 0xa6, 0x6f, 0x62, 0x6a, 0x65, 0x63, 0x74, 0x84, 0xaa  …  0x72, 0x6f, 0x62, 0x6f, 0x74, 0x2f, 0x62, 0x61, 0x73, 0x65], nothing, Dict{String,Array{UInt8,1}}(), nothing, Dict{String,MeshCat.SceneTrees.SceneNode}()),\"link1\" => MeshCat.SceneTrees.SceneNode(UInt8[0x83, 0xa6, 0x6f, 0x62, 0x6a, 0x65, 0x63, 0x74, 0x84, 0xaa  …  0x6f, 0x62, 0x6f, 0x74, 0x2f, 0x6c, 0x69, 0x6e, 0x6b, 0x31], nothing, Dict{String,Array{UInt8,1}}(), nothing, Dict{String,MeshCat.SceneTrees.SceneNode}(\"joint\" => MeshCat.SceneTrees.SceneNode(UInt8[0x83, 0xa6, 0x6f, 0x62, 0x6a, 0x65, 0x63, 0x74, 0x84, 0xaa  …  0x69, 0x6e, 0x6b, 0x31, 0x2f, 0x6a, 0x6f, 0x69, 0x6e, 0x74], UInt8[0x83, 0xa6, 0x6d, 0x61, 0x74, 0x72, 0x69, 0x78, 0xc7, 0x40  …  0x69, 0x6e, 0x6b, 0x31, 0x2f, 0x6a, 0x6f, 0x69, 0x6e, 0x74], Dict{String,Array{UInt8,1}}(), nothing, Dict{String,MeshCat.SceneTrees.SceneNode}()),\"link2\" => MeshCat.SceneTrees.SceneNode(UInt8[0x83, 0xa6, 0x6f, 0x62, 0x6a, 0x65, 0x63, 0x74, 0x84, 0xaa  …  0x69, 0x6e, 0x6b, 0x31, 0x2f, 0x6c, 0x69, 0x6e, 0x6b, 0x32], UInt8[0x83, 0xa6, 0x6d, 0x61, 0x74, 0x72, 0x69, 0x78, 0xc7, 0x40  …  0x69, 0x6e, 0x6b, 0x31, 0x2f, 0x6c, 0x69, 0x6e, 0x6b, 0x32], Dict{String,Array{UInt8,1}}(), nothing, Dict{String,MeshCat.SceneTrees.SceneNode}()))))))))), Set(Any[WebSocket(server, \u001b[32mCONNECTED\u001b[39m), WebSocket(server, \u001b[32mCONNECTED\u001b[39m)]), ip\"127.0.0.1\", 8700))"
      ]
     },
     "execution_count": 43,
     "metadata": {},
     "output_type": "execute_result"
    }
   ],
   "source": [
    "render(vis)"
   ]
  },
  {
   "cell_type": "code",
   "execution_count": 45,
   "metadata": {},
   "outputs": [],
   "source": [
    "visualize!(vis, model, Tf, Xilc)"
   ]
  },
  {
   "cell_type": "code",
   "execution_count": 668,
   "metadata": {},
   "outputs": [
    {
     "name": "stdout",
     "output_type": "stream",
     "text": [
      "norm(Xsim - Xnom) = 2.1112986944540393\n"
     ]
    },
    {
     "data": {
      "image/svg+xml": [
       "<?xml version=\"1.0\" encoding=\"utf-8\"?>\n",
       "<svg xmlns=\"http://www.w3.org/2000/svg\" xmlns:xlink=\"http://www.w3.org/1999/xlink\" width=\"600\" height=\"400\" viewBox=\"0 0 2400 1600\">\n",
       "<defs>\n",
       "  <clipPath id=\"clip340\">\n",
       "    <rect x=\"0\" y=\"0\" width=\"2400\" height=\"1600\"/>\n",
       "  </clipPath>\n",
       "</defs>\n",
       "<path clip-path=\"url(#clip340)\" d=\"\n",
       "M0 1600 L2400 1600 L2400 0 L0 0  Z\n",
       "  \" fill=\"#ffffff\" fill-rule=\"evenodd\" fill-opacity=\"1\"/>\n",
       "<defs>\n",
       "  <clipPath id=\"clip341\">\n",
       "    <rect x=\"480\" y=\"0\" width=\"1681\" height=\"1600\"/>\n",
       "  </clipPath>\n",
       "</defs>\n",
       "<path clip-path=\"url(#clip340)\" d=\"\n",
       "M142.455 1486.45 L2352.76 1486.45 L2352.76 47.2441 L142.455 47.2441  Z\n",
       "  \" fill=\"#ffffff\" fill-rule=\"evenodd\" fill-opacity=\"1\"/>\n",
       "<defs>\n",
       "  <clipPath id=\"clip342\">\n",
       "    <rect x=\"142\" y=\"47\" width=\"2211\" height=\"1440\"/>\n",
       "  </clipPath>\n",
       "</defs>\n",
       "<polyline clip-path=\"url(#clip342)\" style=\"stroke:#000000; stroke-width:2; stroke-opacity:0.1; fill:none\" points=\"\n",
       "  184.159,1486.45 184.159,47.2441 \n",
       "  \"/>\n",
       "<polyline clip-path=\"url(#clip342)\" style=\"stroke:#000000; stroke-width:2; stroke-opacity:0.1; fill:none\" points=\"\n",
       "  705.456,1486.45 705.456,47.2441 \n",
       "  \"/>\n",
       "<polyline clip-path=\"url(#clip342)\" style=\"stroke:#000000; stroke-width:2; stroke-opacity:0.1; fill:none\" points=\"\n",
       "  1226.75,1486.45 1226.75,47.2441 \n",
       "  \"/>\n",
       "<polyline clip-path=\"url(#clip342)\" style=\"stroke:#000000; stroke-width:2; stroke-opacity:0.1; fill:none\" points=\"\n",
       "  1748.05,1486.45 1748.05,47.2441 \n",
       "  \"/>\n",
       "<polyline clip-path=\"url(#clip342)\" style=\"stroke:#000000; stroke-width:2; stroke-opacity:0.1; fill:none\" points=\"\n",
       "  2269.35,1486.45 2269.35,47.2441 \n",
       "  \"/>\n",
       "<polyline clip-path=\"url(#clip340)\" style=\"stroke:#000000; stroke-width:4; stroke-opacity:1; fill:none\" points=\"\n",
       "  142.455,1486.45 2352.76,1486.45 \n",
       "  \"/>\n",
       "<polyline clip-path=\"url(#clip340)\" style=\"stroke:#000000; stroke-width:4; stroke-opacity:1; fill:none\" points=\"\n",
       "  184.159,1486.45 184.159,1469.18 \n",
       "  \"/>\n",
       "<polyline clip-path=\"url(#clip340)\" style=\"stroke:#000000; stroke-width:4; stroke-opacity:1; fill:none\" points=\"\n",
       "  705.456,1486.45 705.456,1469.18 \n",
       "  \"/>\n",
       "<polyline clip-path=\"url(#clip340)\" style=\"stroke:#000000; stroke-width:4; stroke-opacity:1; fill:none\" points=\"\n",
       "  1226.75,1486.45 1226.75,1469.18 \n",
       "  \"/>\n",
       "<polyline clip-path=\"url(#clip340)\" style=\"stroke:#000000; stroke-width:4; stroke-opacity:1; fill:none\" points=\"\n",
       "  1748.05,1486.45 1748.05,1469.18 \n",
       "  \"/>\n",
       "<polyline clip-path=\"url(#clip340)\" style=\"stroke:#000000; stroke-width:4; stroke-opacity:1; fill:none\" points=\"\n",
       "  2269.35,1486.45 2269.35,1469.18 \n",
       "  \"/>\n",
       "<path clip-path=\"url(#clip340)\" d=\"M 0 0 M184.159 1515.64 Q180.547 1515.64 178.719 1519.2 Q176.913 1522.75 176.913 1529.87 Q176.913 1536.98 178.719 1540.55 Q180.547 1544.09 184.159 1544.09 Q187.793 1544.09 189.598 1540.55 Q191.427 1536.98 191.427 1529.87 Q191.427 1522.75 189.598 1519.2 Q187.793 1515.64 184.159 1515.64 M184.159 1511.93 Q189.969 1511.93 193.024 1516.54 Q196.103 1521.12 196.103 1529.87 Q196.103 1538.6 193.024 1543.21 Q189.969 1547.79 184.159 1547.79 Q178.348 1547.79 175.27 1543.21 Q172.214 1538.6 172.214 1529.87 Q172.214 1521.12 175.27 1516.54 Q178.348 1511.93 184.159 1511.93 Z\" fill=\"#000000\" fill-rule=\"evenodd\" fill-opacity=\"1\" /><path clip-path=\"url(#clip340)\" d=\"M 0 0 M687.1 1543.18 L703.419 1543.18 L703.419 1547.12 L681.475 1547.12 L681.475 1543.18 Q684.137 1540.43 688.72 1535.8 Q693.326 1531.15 694.507 1529.81 Q696.752 1527.28 697.632 1525.55 Q698.535 1523.79 698.535 1522.1 Q698.535 1519.34 696.59 1517.61 Q694.669 1515.87 691.567 1515.87 Q689.368 1515.87 686.914 1516.63 Q684.484 1517.4 681.706 1518.95 L681.706 1514.23 Q684.53 1513.09 686.984 1512.51 Q689.438 1511.93 691.475 1511.93 Q696.845 1511.93 700.039 1514.62 Q703.234 1517.31 703.234 1521.8 Q703.234 1523.93 702.424 1525.85 Q701.637 1527.74 699.53 1530.34 Q698.951 1531.01 695.85 1534.23 Q692.748 1537.42 687.1 1543.18 Z\" fill=\"#000000\" fill-rule=\"evenodd\" fill-opacity=\"1\" /><path clip-path=\"url(#clip340)\" d=\"M 0 0 M708.535 1512.56 L726.891 1512.56 L726.891 1516.5 L712.817 1516.5 L712.817 1524.97 Q713.836 1524.62 714.854 1524.46 Q715.873 1524.27 716.891 1524.27 Q722.678 1524.27 726.058 1527.44 Q729.437 1530.62 729.437 1536.03 Q729.437 1541.61 725.965 1544.71 Q722.493 1547.79 716.174 1547.79 Q713.998 1547.79 711.729 1547.42 Q709.484 1547.05 707.076 1546.31 L707.076 1541.61 Q709.16 1542.74 711.382 1543.3 Q713.604 1543.86 716.081 1543.86 Q720.086 1543.86 722.424 1541.75 Q724.761 1539.64 724.761 1536.03 Q724.761 1532.42 722.424 1530.31 Q720.086 1528.21 716.081 1528.21 Q714.206 1528.21 712.331 1528.62 Q710.479 1529.04 708.535 1529.92 L708.535 1512.56 Z\" fill=\"#000000\" fill-rule=\"evenodd\" fill-opacity=\"1\" /><path clip-path=\"url(#clip340)\" d=\"M 0 0 M1203.52 1512.56 L1221.88 1512.56 L1221.88 1516.5 L1207.81 1516.5 L1207.81 1524.97 Q1208.83 1524.62 1209.84 1524.46 Q1210.86 1524.27 1211.88 1524.27 Q1217.67 1524.27 1221.05 1527.44 Q1224.43 1530.62 1224.43 1536.03 Q1224.43 1541.61 1220.95 1544.71 Q1217.48 1547.79 1211.16 1547.79 Q1208.99 1547.79 1206.72 1547.42 Q1204.47 1547.05 1202.07 1546.31 L1202.07 1541.61 Q1204.15 1542.74 1206.37 1543.3 Q1208.59 1543.86 1211.07 1543.86 Q1215.08 1543.86 1217.41 1541.75 Q1219.75 1539.64 1219.75 1536.03 Q1219.75 1532.42 1217.41 1530.31 Q1215.08 1528.21 1211.07 1528.21 Q1209.2 1528.21 1207.32 1528.62 Q1205.47 1529.04 1203.52 1529.92 L1203.52 1512.56 Z\" fill=\"#000000\" fill-rule=\"evenodd\" fill-opacity=\"1\" /><path clip-path=\"url(#clip340)\" d=\"M 0 0 M1239.5 1515.64 Q1235.89 1515.64 1234.06 1519.2 Q1232.25 1522.75 1232.25 1529.87 Q1232.25 1536.98 1234.06 1540.55 Q1235.89 1544.09 1239.5 1544.09 Q1243.13 1544.09 1244.94 1540.55 Q1246.76 1536.98 1246.76 1529.87 Q1246.76 1522.75 1244.94 1519.2 Q1243.13 1515.64 1239.5 1515.64 M1239.5 1511.93 Q1245.31 1511.93 1248.36 1516.54 Q1251.44 1521.12 1251.44 1529.87 Q1251.44 1538.6 1248.36 1543.21 Q1245.31 1547.79 1239.5 1547.79 Q1233.69 1547.79 1230.61 1543.21 Q1227.55 1538.6 1227.55 1529.87 Q1227.55 1521.12 1230.61 1516.54 Q1233.69 1511.93 1239.5 1511.93 Z\" fill=\"#000000\" fill-rule=\"evenodd\" fill-opacity=\"1\" /><path clip-path=\"url(#clip340)\" d=\"M 0 0 M1723.93 1512.56 L1746.15 1512.56 L1746.15 1514.55 L1733.61 1547.12 L1728.72 1547.12 L1740.53 1516.5 L1723.93 1516.5 L1723.93 1512.56 Z\" fill=\"#000000\" fill-rule=\"evenodd\" fill-opacity=\"1\" /><path clip-path=\"url(#clip340)\" d=\"M 0 0 M1751.27 1512.56 L1769.62 1512.56 L1769.62 1516.5 L1755.55 1516.5 L1755.55 1524.97 Q1756.57 1524.62 1757.59 1524.46 Q1758.61 1524.27 1759.62 1524.27 Q1765.41 1524.27 1768.79 1527.44 Q1772.17 1530.62 1772.17 1536.03 Q1772.17 1541.61 1768.7 1544.71 Q1765.23 1547.79 1758.91 1547.79 Q1756.73 1547.79 1754.46 1547.42 Q1752.22 1547.05 1749.81 1546.31 L1749.81 1541.61 Q1751.89 1542.74 1754.12 1543.3 Q1756.34 1543.86 1758.81 1543.86 Q1762.82 1543.86 1765.16 1541.75 Q1767.5 1539.64 1767.5 1536.03 Q1767.5 1532.42 1765.16 1530.31 Q1762.82 1528.21 1758.81 1528.21 Q1756.94 1528.21 1755.06 1528.62 Q1753.21 1529.04 1751.27 1529.92 L1751.27 1512.56 Z\" fill=\"#000000\" fill-rule=\"evenodd\" fill-opacity=\"1\" /><path clip-path=\"url(#clip340)\" d=\"M 0 0 M2232.72 1543.18 L2240.36 1543.18 L2240.36 1516.82 L2232.05 1518.49 L2232.05 1514.23 L2240.31 1512.56 L2244.99 1512.56 L2244.99 1543.18 L2252.62 1543.18 L2252.62 1547.12 L2232.72 1547.12 L2232.72 1543.18 Z\" fill=\"#000000\" fill-rule=\"evenodd\" fill-opacity=\"1\" /><path clip-path=\"url(#clip340)\" d=\"M 0 0 M2267.69 1515.64 Q2264.08 1515.64 2262.25 1519.2 Q2260.45 1522.75 2260.45 1529.87 Q2260.45 1536.98 2262.25 1540.55 Q2264.08 1544.09 2267.69 1544.09 Q2271.33 1544.09 2273.13 1540.55 Q2274.96 1536.98 2274.96 1529.87 Q2274.96 1522.75 2273.13 1519.2 Q2271.33 1515.64 2267.69 1515.64 M2267.69 1511.93 Q2273.5 1511.93 2276.56 1516.54 Q2279.64 1521.12 2279.64 1529.87 Q2279.64 1538.6 2276.56 1543.21 Q2273.5 1547.79 2267.69 1547.79 Q2261.88 1547.79 2258.8 1543.21 Q2255.75 1538.6 2255.75 1529.87 Q2255.75 1521.12 2258.8 1516.54 Q2261.88 1511.93 2267.69 1511.93 Z\" fill=\"#000000\" fill-rule=\"evenodd\" fill-opacity=\"1\" /><path clip-path=\"url(#clip340)\" d=\"M 0 0 M2294.71 1515.64 Q2291.1 1515.64 2289.27 1519.2 Q2287.46 1522.75 2287.46 1529.87 Q2287.46 1536.98 2289.27 1540.55 Q2291.1 1544.09 2294.71 1544.09 Q2298.34 1544.09 2300.15 1540.55 Q2301.98 1536.98 2301.98 1529.87 Q2301.98 1522.75 2300.15 1519.2 Q2298.34 1515.64 2294.71 1515.64 M2294.71 1511.93 Q2300.52 1511.93 2303.57 1516.54 Q2306.65 1521.12 2306.65 1529.87 Q2306.65 1538.6 2303.57 1543.21 Q2300.52 1547.79 2294.71 1547.79 Q2288.9 1547.79 2285.82 1543.21 Q2282.76 1538.6 2282.76 1529.87 Q2282.76 1521.12 2285.82 1516.54 Q2288.9 1511.93 2294.71 1511.93 Z\" fill=\"#000000\" fill-rule=\"evenodd\" fill-opacity=\"1\" /><polyline clip-path=\"url(#clip342)\" style=\"stroke:#000000; stroke-width:2; stroke-opacity:0.1; fill:none\" points=\"\n",
       "  142.455,1370.21 2352.76,1370.21 \n",
       "  \"/>\n",
       "<polyline clip-path=\"url(#clip342)\" style=\"stroke:#000000; stroke-width:2; stroke-opacity:0.1; fill:none\" points=\"\n",
       "  142.455,1051.53 2352.76,1051.53 \n",
       "  \"/>\n",
       "<polyline clip-path=\"url(#clip342)\" style=\"stroke:#000000; stroke-width:2; stroke-opacity:0.1; fill:none\" points=\"\n",
       "  142.455,732.855 2352.76,732.855 \n",
       "  \"/>\n",
       "<polyline clip-path=\"url(#clip342)\" style=\"stroke:#000000; stroke-width:2; stroke-opacity:0.1; fill:none\" points=\"\n",
       "  142.455,414.176 2352.76,414.176 \n",
       "  \"/>\n",
       "<polyline clip-path=\"url(#clip342)\" style=\"stroke:#000000; stroke-width:2; stroke-opacity:0.1; fill:none\" points=\"\n",
       "  142.455,95.4975 2352.76,95.4975 \n",
       "  \"/>\n",
       "<polyline clip-path=\"url(#clip340)\" style=\"stroke:#000000; stroke-width:4; stroke-opacity:1; fill:none\" points=\"\n",
       "  142.455,1486.45 142.455,47.2441 \n",
       "  \"/>\n",
       "<polyline clip-path=\"url(#clip340)\" style=\"stroke:#000000; stroke-width:4; stroke-opacity:1; fill:none\" points=\"\n",
       "  142.455,1370.21 168.978,1370.21 \n",
       "  \"/>\n",
       "<polyline clip-path=\"url(#clip340)\" style=\"stroke:#000000; stroke-width:4; stroke-opacity:1; fill:none\" points=\"\n",
       "  142.455,1051.53 168.978,1051.53 \n",
       "  \"/>\n",
       "<polyline clip-path=\"url(#clip340)\" style=\"stroke:#000000; stroke-width:4; stroke-opacity:1; fill:none\" points=\"\n",
       "  142.455,732.855 168.978,732.855 \n",
       "  \"/>\n",
       "<polyline clip-path=\"url(#clip340)\" style=\"stroke:#000000; stroke-width:4; stroke-opacity:1; fill:none\" points=\"\n",
       "  142.455,414.176 168.978,414.176 \n",
       "  \"/>\n",
       "<polyline clip-path=\"url(#clip340)\" style=\"stroke:#000000; stroke-width:4; stroke-opacity:1; fill:none\" points=\"\n",
       "  142.455,95.4975 168.978,95.4975 \n",
       "  \"/>\n",
       "<path clip-path=\"url(#clip340)\" d=\"M 0 0 M51.3625 1370.66 L81.0383 1370.66 L81.0383 1374.6 L51.3625 1374.6 L51.3625 1370.66 Z\" fill=\"#000000\" fill-rule=\"evenodd\" fill-opacity=\"1\" /><path clip-path=\"url(#clip340)\" d=\"M 0 0 M90.1354 1383.56 L106.455 1383.56 L106.455 1387.49 L84.5105 1387.49 L84.5105 1383.56 Q87.1725 1380.8 91.7558 1376.17 Q96.3623 1371.52 97.5428 1370.18 Q99.7882 1367.66 100.668 1365.92 Q101.571 1364.16 101.571 1362.47 Q101.571 1359.72 99.6261 1357.98 Q97.7048 1356.24 94.603 1356.24 Q92.4039 1356.24 89.9503 1357.01 Q87.5197 1357.77 84.7419 1359.32 L84.7419 1354.6 Q87.566 1353.47 90.0197 1352.89 Q92.4734 1352.31 94.5104 1352.31 Q99.8808 1352.31 103.075 1354.99 Q106.27 1357.68 106.27 1362.17 Q106.27 1364.3 105.459 1366.22 Q104.672 1368.12 102.566 1370.71 Q101.987 1371.38 98.8854 1374.6 Q95.7836 1377.79 90.1354 1383.56 Z\" fill=\"#000000\" fill-rule=\"evenodd\" fill-opacity=\"1\" /><path clip-path=\"url(#clip340)\" d=\"M 0 0 M50.9921 1051.99 L80.6679 1051.99 L80.6679 1055.92 L50.9921 1055.92 L50.9921 1051.99 Z\" fill=\"#000000\" fill-rule=\"evenodd\" fill-opacity=\"1\" /><path clip-path=\"url(#clip340)\" d=\"M 0 0 M86.5475 1064.88 L94.1863 1064.88 L94.1863 1038.51 L85.8762 1040.18 L85.8762 1035.92 L94.14 1034.25 L98.8159 1034.25 L98.8159 1064.88 L106.455 1064.88 L106.455 1068.81 L86.5475 1068.81 L86.5475 1064.88 Z\" fill=\"#000000\" fill-rule=\"evenodd\" fill-opacity=\"1\" /><path clip-path=\"url(#clip340)\" d=\"M 0 0 M94.5104 718.654 Q90.8993 718.654 89.0706 722.219 Q87.2651 725.76 87.2651 732.89 Q87.2651 739.997 89.0706 743.561 Q90.8993 747.103 94.5104 747.103 Q98.1447 747.103 99.9502 743.561 Q101.779 739.997 101.779 732.89 Q101.779 725.76 99.9502 722.219 Q98.1447 718.654 94.5104 718.654 M94.5104 714.95 Q100.321 714.95 103.376 719.557 Q106.455 724.14 106.455 732.89 Q106.455 741.617 103.376 746.223 Q100.321 750.807 94.5104 750.807 Q88.7003 750.807 85.6216 746.223 Q82.566 741.617 82.566 732.89 Q82.566 724.14 85.6216 719.557 Q88.7003 714.95 94.5104 714.95 Z\" fill=\"#000000\" fill-rule=\"evenodd\" fill-opacity=\"1\" /><path clip-path=\"url(#clip340)\" d=\"M 0 0 M86.5475 427.521 L94.1863 427.521 L94.1863 401.156 L85.8762 402.822 L85.8762 398.563 L94.14 396.896 L98.8159 396.896 L98.8159 427.521 L106.455 427.521 L106.455 431.456 L86.5475 431.456 L86.5475 427.521 Z\" fill=\"#000000\" fill-rule=\"evenodd\" fill-opacity=\"1\" /><path clip-path=\"url(#clip340)\" d=\"M 0 0 M90.1354 108.842 L106.455 108.842 L106.455 112.777 L84.5105 112.777 L84.5105 108.842 Q87.1725 106.088 91.7558 101.458 Q96.3623 96.8054 97.5428 95.4628 Q99.7882 92.9396 100.668 91.2035 Q101.571 89.4443 101.571 87.7545 Q101.571 84.9999 99.6261 83.2638 Q97.7048 81.5277 94.603 81.5277 Q92.4039 81.5277 89.9503 82.2915 Q87.5197 83.0554 84.7419 84.6063 L84.7419 79.8841 Q87.566 78.7499 90.0197 78.1712 Q92.4734 77.5925 94.5104 77.5925 Q99.8808 77.5925 103.075 80.2777 Q106.27 82.9628 106.27 87.4535 Q106.27 89.5832 105.459 91.5045 Q104.672 93.4026 102.566 95.9952 Q101.987 96.6665 98.8854 99.884 Q95.7836 103.078 90.1354 108.842 Z\" fill=\"#000000\" fill-rule=\"evenodd\" fill-opacity=\"1\" /><polyline clip-path=\"url(#clip342)\" style=\"stroke:#009af9; stroke-width:4; stroke-opacity:1; fill:none\" points=\"\n",
       "  205.01,1233.44 225.862,1222.81 246.714,1200.9 267.566,1177.56 288.418,1154.35 309.27,1131.64 330.122,1109.68 350.974,1088.8 371.826,1069.47 392.678,1052.35 \n",
       "  413.529,1038.27 434.381,1028.23 455.233,1023.29 476.085,1024.37 496.937,1031.94 517.789,1045.73 538.641,1064.81 559.493,1087.84 580.345,1113.67 601.197,1141.41 \n",
       "  622.048,1170.36 642.9,1199.71 663.752,1228.45 684.604,1255.5 705.456,1280.15 726.308,1302.44 747.16,1323.09 768.012,1342.99 788.864,1362.67 809.716,1382.05 \n",
       "  830.567,1400.55 851.419,1417.26 872.271,1431.18 893.123,1441.38 913.975,1445.72 934.827,1431.71 955.679,1392.18 976.531,1334.79 997.383,1268 1018.23,1197.57 \n",
       "  1039.09,1125.96 1059.94,1053.92 1080.79,981.822 1101.64,910.254 1122.49,840.067 1143.35,772.256 1164.2,707.752 1185.05,647.272 1205.9,591.301 1226.75,540.187 \n",
       "  1247.61,494.266 1268.46,453.873 1289.31,419.161 1310.16,389.791 1331.01,364.786 1351.86,343.124 1372.72,324.086 1393.57,307.049 1414.42,291.326 1435.27,276.116 \n",
       "  1456.12,260.562 1476.98,243.818 1497.83,225.174 1518.68,204.302 1539.53,181.54 1560.38,158.088 1581.24,135.875 1602.09,117.021 1622.94,103.157 1643.79,94.9497 \n",
       "  1664.64,92.072 1685.5,93.6306 1706.35,98.488 1727.2,105.604 1748.05,114.393 1768.9,124.489 1789.75,135.549 1810.61,147.233 1831.46,159.245 1852.31,171.358 \n",
       "  1873.16,183.409 1894.01,195.27 1914.87,206.835 1935.72,218.005 1956.57,228.686 1977.42,238.786 1998.27,248.205 2019.13,256.838 2039.98,264.57 2060.83,271.272 \n",
       "  2081.68,276.801 2102.53,281 2123.39,283.688 2144.24,284.661 2165.09,283.678 2185.94,280.502 2206.79,274.813 2227.64,266.245 2248.5,254.542 2269.35,240.603 \n",
       "  2290.2,233.697 \n",
       "  \"/>\n",
       "<polyline clip-path=\"url(#clip342)\" style=\"stroke:#e26f46; stroke-width:4; stroke-opacity:1; fill:none\" points=\"\n",
       "  205.01,1233.44 225.862,1222.8 246.714,1200.86 267.566,1177.46 288.418,1154.19 309.27,1131.39 330.122,1109.32 350.974,1088.31 371.826,1068.82 392.678,1051.49 \n",
       "  413.529,1037.16 434.381,1026.81 455.233,1021.49 476.085,1022.13 496.937,1029.24 517.789,1042.6 538.641,1061.25 559.493,1083.89 580.345,1109.36 601.197,1136.78 \n",
       "  622.048,1165.47 642.9,1194.61 663.752,1223.2 684.604,1250.17 705.456,1274.83 726.308,1297.23 747.16,1318.11 768.012,1338.33 788.864,1358.38 809.716,1378.15 \n",
       "  830.567,1397.04 851.419,1414.12 872.271,1428.41 893.123,1438.99 913.975,1443.74 934.827,1430.19 955.679,1391 976.531,1333.91 997.383,1267.49 1018.23,1197.47 \n",
       "  1039.09,1126.18 1059.94,1054.34 1080.79,982.269 1101.64,910.507 1122.49,839.879 1143.35,771.392 1164.2,706.016 1185.05,644.522 1205.9,587.444 1226.75,535.166 \n",
       "  1247.61,488.035 1268.46,446.35 1289.31,410.499 1310.16,380.108 1331.01,354.047 1351.86,331.26 1372.72,310.85 1393.57,292.012 1414.42,273.959 1435.27,255.917 \n",
       "  1456.12,237.172 1476.98,217.179 1497.83,195.744 1518.68,173.236 1539.53,150.722 1560.38,129.822 1581.24,112.243 1602.09,99.217 1622.94,91.2059 1643.79,87.9763 \n",
       "  1664.64,88.8821 1685.5,93.1326 1706.35,99.9604 1727.2,108.698 1748.05,118.8 1768.9,129.831 1789.75,141.455 1810.61,153.411 1831.46,165.497 1852.31,177.556 \n",
       "  1873.16,189.461 1894.01,201.105 1914.87,212.396 1935.72,223.25 1956.57,233.585 1977.42,243.317 1998.27,252.356 2019.13,260.602 2039.98,267.945 2060.83,274.26 \n",
       "  2081.68,279.407 2102.53,283.228 2123.39,285.544 2144.24,286.151 2165.09,284.811 2185.94,281.247 2206.79,275.138 2227.64,266.124 2248.5,253.949 2269.35,239.512 \n",
       "  2290.2,232.287 \n",
       "  \"/>\n",
       "<path clip-path=\"url(#clip340)\" d=\"\n",
       "M216.131 276.658 L583.41 276.658 L583.41 95.2176 L216.131 95.2176  Z\n",
       "  \" fill=\"#ffffff\" fill-rule=\"evenodd\" fill-opacity=\"1\"/>\n",
       "<polyline clip-path=\"url(#clip340)\" style=\"stroke:#000000; stroke-width:4; stroke-opacity:1; fill:none\" points=\"\n",
       "  216.131,276.658 583.41,276.658 583.41,95.2176 216.131,95.2176 216.131,276.658 \n",
       "  \"/>\n",
       "<polyline clip-path=\"url(#clip340)\" style=\"stroke:#009af9; stroke-width:4; stroke-opacity:1; fill:none\" points=\"\n",
       "  240.69,155.698 388.044,155.698 \n",
       "  \"/>\n",
       "<path clip-path=\"url(#clip340)\" d=\"M 0 0 M426.005 159.945 Q420.843 159.945 418.853 161.126 Q416.862 162.306 416.862 165.154 Q416.862 167.422 418.343 168.765 Q419.848 170.084 422.417 170.084 Q425.959 170.084 428.089 167.584 Q430.242 165.061 430.242 160.894 L430.242 159.945 L426.005 159.945 M434.501 158.186 L434.501 172.978 L430.242 172.978 L430.242 169.042 Q428.783 171.403 426.607 172.538 Q424.431 173.649 421.283 173.649 Q417.302 173.649 414.941 171.427 Q412.603 169.181 412.603 165.431 Q412.603 161.056 415.519 158.834 Q418.459 156.612 424.269 156.612 L430.242 156.612 L430.242 156.195 Q430.242 153.255 428.297 151.658 Q426.376 150.038 422.88 150.038 Q420.658 150.038 418.552 150.57 Q416.445 151.103 414.501 152.167 L414.501 148.232 Q416.839 147.33 419.038 146.89 Q421.237 146.427 423.32 146.427 Q428.945 146.427 431.723 149.343 Q434.501 152.26 434.501 158.186 Z\" fill=\"#000000\" fill-rule=\"evenodd\" fill-opacity=\"1\" /><path clip-path=\"url(#clip340)\" d=\"M 0 0 M457.626 148.047 L457.626 152.029 Q455.82 151.033 453.991 150.547 Q452.186 150.038 450.334 150.038 Q446.19 150.038 443.899 152.677 Q441.607 155.292 441.607 160.038 Q441.607 164.783 443.899 167.422 Q446.19 170.038 450.334 170.038 Q452.186 170.038 453.991 169.552 Q455.82 169.042 457.626 168.047 L457.626 171.982 Q455.843 172.816 453.922 173.232 Q452.024 173.649 449.871 173.649 Q444.015 173.649 440.566 169.968 Q437.116 166.288 437.116 160.038 Q437.116 153.695 440.589 150.061 Q444.084 146.427 450.149 146.427 Q452.116 146.427 453.991 146.843 Q455.866 147.237 457.626 148.047 Z\" fill=\"#000000\" fill-rule=\"evenodd\" fill-opacity=\"1\" /><path clip-path=\"url(#clip340)\" d=\"M 0 0 M466.306 139.691 L466.306 147.052 L475.079 147.052 L475.079 150.362 L466.306 150.362 L466.306 164.436 Q466.306 167.607 467.163 168.51 Q468.042 169.413 470.704 169.413 L475.079 169.413 L475.079 172.978 L470.704 172.978 Q465.774 172.978 463.899 171.149 Q462.024 169.297 462.024 164.436 L462.024 150.362 L458.899 150.362 L458.899 147.052 L462.024 147.052 L462.024 139.691 L466.306 139.691 Z\" fill=\"#000000\" fill-rule=\"evenodd\" fill-opacity=\"1\" /><path clip-path=\"url(#clip340)\" d=\"M 0 0 M479.107 162.746 L479.107 147.052 L483.366 147.052 L483.366 162.584 Q483.366 166.265 484.801 168.116 Q486.237 169.945 489.107 169.945 Q492.556 169.945 494.547 167.746 Q496.561 165.547 496.561 161.751 L496.561 147.052 L500.82 147.052 L500.82 172.978 L496.561 172.978 L496.561 168.996 Q495.01 171.357 492.949 172.515 Q490.912 173.649 488.204 173.649 Q483.737 173.649 481.422 170.871 Q479.107 168.093 479.107 162.746 M489.825 146.427 L489.825 146.427 Z\" fill=\"#000000\" fill-rule=\"evenodd\" fill-opacity=\"1\" /><path clip-path=\"url(#clip340)\" d=\"M 0 0 M517.07 159.945 Q511.908 159.945 509.917 161.126 Q507.926 162.306 507.926 165.154 Q507.926 167.422 509.408 168.765 Q510.912 170.084 513.482 170.084 Q517.023 170.084 519.153 167.584 Q521.306 165.061 521.306 160.894 L521.306 159.945 L517.07 159.945 M525.565 158.186 L525.565 172.978 L521.306 172.978 L521.306 169.042 Q519.848 171.403 517.672 172.538 Q515.496 173.649 512.348 173.649 Q508.366 173.649 506.005 171.427 Q503.667 169.181 503.667 165.431 Q503.667 161.056 506.584 158.834 Q509.523 156.612 515.334 156.612 L521.306 156.612 L521.306 156.195 Q521.306 153.255 519.361 151.658 Q517.44 150.038 513.945 150.038 Q511.723 150.038 509.616 150.57 Q507.51 151.103 505.565 152.167 L505.565 148.232 Q507.903 147.33 510.102 146.89 Q512.301 146.427 514.385 146.427 Q520.01 146.427 522.787 149.343 Q525.565 152.26 525.565 158.186 Z\" fill=\"#000000\" fill-rule=\"evenodd\" fill-opacity=\"1\" /><path clip-path=\"url(#clip340)\" d=\"M 0 0 M530.033 136.959 L534.292 136.959 L534.292 172.978 L530.033 172.978 L530.033 136.959 Z\" fill=\"#000000\" fill-rule=\"evenodd\" fill-opacity=\"1\" /><polyline clip-path=\"url(#clip340)\" style=\"stroke:#e26f46; stroke-width:4; stroke-opacity:1; fill:none\" points=\"\n",
       "  240.69,216.178 388.044,216.178 \n",
       "  \"/>\n",
       "<path clip-path=\"url(#clip340)\" d=\"M 0 0 M427.788 211.513 Q427.07 211.097 426.214 210.911 Q425.38 210.703 424.362 210.703 Q420.751 210.703 418.806 213.064 Q416.885 215.402 416.885 219.8 L416.885 233.458 L412.603 233.458 L412.603 207.532 L416.885 207.532 L416.885 211.56 Q418.228 209.198 420.38 208.064 Q422.533 206.907 425.612 206.907 Q426.052 206.907 426.584 206.976 Q427.117 207.023 427.765 207.138 L427.788 211.513 Z\" fill=\"#000000\" fill-rule=\"evenodd\" fill-opacity=\"1\" /><path clip-path=\"url(#clip340)\" d=\"M 0 0 M453.39 219.43 L453.39 221.513 L433.806 221.513 Q434.084 225.911 436.445 228.226 Q438.829 230.518 443.066 230.518 Q445.519 230.518 447.811 229.916 Q450.126 229.314 452.394 228.11 L452.394 232.138 Q450.103 233.11 447.695 233.62 Q445.288 234.129 442.811 234.129 Q436.607 234.129 432.973 230.518 Q429.362 226.907 429.362 220.749 Q429.362 214.384 432.788 210.657 Q436.237 206.907 442.07 206.907 Q447.302 206.907 450.334 210.286 Q453.39 213.643 453.39 219.43 M449.13 218.18 Q449.084 214.685 447.163 212.601 Q445.265 210.518 442.116 210.518 Q438.552 210.518 436.399 212.532 Q434.269 214.546 433.945 218.203 L449.13 218.18 Z\" fill=\"#000000\" fill-rule=\"evenodd\" fill-opacity=\"1\" /><path clip-path=\"url(#clip340)\" d=\"M 0 0 M470.982 197.439 L470.982 200.981 L466.908 200.981 Q464.616 200.981 463.714 201.907 Q462.834 202.833 462.834 205.24 L462.834 207.532 L469.848 207.532 L469.848 210.842 L462.834 210.842 L462.834 233.458 L458.552 233.458 L458.552 210.842 L454.477 210.842 L454.477 207.532 L458.552 207.532 L458.552 205.726 Q458.552 201.398 460.565 199.43 Q462.579 197.439 466.954 197.439 L470.982 197.439 Z\" fill=\"#000000\" fill-rule=\"evenodd\" fill-opacity=\"1\" /></svg>\n"
      ]
     },
     "execution_count": 668,
     "metadata": {},
     "output_type": "execute_result"
    }
   ],
   "source": [
    "Xsim,Usim = sim(model, K0, Xnom, Unom, get_times(altro));\n",
    "@show norm(Xsim - Xnom)\n",
    "Plots.plot(Xsim, inds=1:1, label=\"actual\", legend=:topleft)\n",
    "Plots.plot!(Xnom, inds=1:1, label=\"ref\")"
   ]
  },
  {
   "cell_type": "code",
   "execution_count": 669,
   "metadata": {},
   "outputs": [
    {
     "name": "stdout",
     "output_type": "stream",
     "text": [
      "iter   objective    pri res    dua res    rho        time\n",
      "   1  -4.8820e-02   2.05e-03   6.14e-01   5.39e-04   5.67e-05s\n",
      " 200  -5.2040e-02   3.40e-06   6.32e-06   5.39e-04   3.89e-03s\n",
      " 350  -5.2245e-02   1.28e-06   2.37e-06   5.39e-04   6.66e-03s\n",
      "plsh  -5.2367e-02   4.28e-16   3.73e-10   --------   7.00e-03s\n",
      "\n",
      "status:               solved\n",
      "solution polish:      successful\n",
      "number of iterations: 350\n",
      "optimal objective:    -0.0524\n",
      "run time:             7.00e-03s\n",
      "optimal rho estimate: 8.76e-04\n",
      "\n"
     ]
    },
    {
     "data": {
      "text/plain": [
       "100-element Array{SArray{Tuple{1},Float64,1,1},1}:\n",
       " [-17.795214321228595]\n",
       " [-8.210733672994055]\n",
       " [-8.448771976770566]\n",
       " [-10.13299439667559]\n",
       " [-12.001865137547844]\n",
       " [-13.810046144135017]\n",
       " [-15.414943400557764]\n",
       " [-16.65954891013627]\n",
       " [-17.380962927226616]\n",
       " [-17.431620717244904]\n",
       " [-16.691380270904045]\n",
       " [-15.075203473561352]\n",
       " [-12.5508894379228]\n",
       " ⋮\n",
       " [-0.6102580955510715]\n",
       " [-1.3720613900151708]\n",
       " [-2.1330501372093713]\n",
       " [-2.8827226443058636]\n",
       " [-3.6171637561329977]\n",
       " [-4.379999592262888]\n",
       " [-5.077654892285131]\n",
       " [-5.586235254103115]\n",
       " [-5.944788801030508]\n",
       " [-5.974823849451221]\n",
       " [-4.194139702441263]\n",
       " [9.985256363942955]"
      ]
     },
     "execution_count": 669,
     "metadata": {},
     "output_type": "execute_result"
    }
   ],
   "source": [
    "q0 = update_qp!(qp0, data, Xsim, Usim)\n",
    "# OSQP.update_q!(qp0, q0)\n",
    "res0 = OSQP.solve!(qp0)\n",
    "Δu = reshape(U*res0.x, m, N-1)\n",
    "for k = 1:N-1\n",
    "    Unom[k] += Δu[:,k]\n",
    "end\n",
    "data.Uref .= Unom"
   ]
  },
  {
   "cell_type": "code",
   "execution_count": 623,
   "metadata": {},
   "outputs": [],
   "source": [
    "# Extract the solution\n",
    "Xopt = states(altro);\n",
    "Uopt = controls(altro);\n",
    "\n",
    "xnom = zeros(n,N)\n",
    "for k = 1:N\n",
    "    xnom[:,k] .= Xopt[k]\n",
    "end\n",
    "\n",
    "unom = zeros(m,N-1)\n",
    "utraj = zeros(m,N-1)\n",
    "for k = 1:N-1\n",
    "    unom[:,k] .= Uopt[k]\n",
    "    utraj[:,k] .= Uopt[k]\n",
    "end"
   ]
  },
  {
   "cell_type": "code",
   "execution_count": 505,
   "metadata": {},
   "outputs": [
    {
     "data": {
      "text/plain": [
       "true_dynamics_rk4 (generic function with 3 methods)"
      ]
     },
     "execution_count": 505,
     "metadata": {},
     "output_type": "execute_result"
    }
   ],
   "source": [
    "function dynamics_rk4(x, u)\n",
    "    #RK4 integration with zero-order hold on u\n",
    "    f1 = dynamics(model, x, u)\n",
    "    f2 = dynamics(model, x + 0.5*h*f1, u)\n",
    "    f3 = dynamics(model, x + 0.5*h*f2, u)\n",
    "    f4 = dynamics(model, x + h*f3, u)\n",
    "    return x + (h/6.0)*(f1 + 2*f2 + 2*f3 + f4)\n",
    "end\n",
    "\n",
    "#True model with friction\n",
    "function true_dynamics(model::Acrobot, x, u)\n",
    "    g = 9.81\n",
    "    \n",
    "    #Perturb model parameters\n",
    "    m1 = model.m[1] + 0.01\n",
    "    m2 = model.m[2] - 0.01\n",
    "    l1 = model.l[2] - 0.005\n",
    "    l2 = model.l[2] + 0.004\n",
    "    J1 = (1.0/12)*m1*l1*l1\n",
    "    J2 = (1.0/12)*m2*l2*l2\n",
    "    \n",
    "    θ1,    θ2    = x[1], x[2]\n",
    "    θ1dot, θ2dot = x[3], x[4]\n",
    "    s1,c1 = sincos(θ1)\n",
    "    s2,c2 = sincos(θ2)\n",
    "    c12 = cos(θ1 + θ2)\n",
    "\n",
    "    # mass matrix\n",
    "    m11 = m1*l1^2 + J1 + m2*(l1^2 + l2^2 + 2*l1*l2*c2) + J2\n",
    "    m12 = m2*(l2^2 + l1*l2*c2 + J2)\n",
    "    m22 = l2^2*m2 + J2\n",
    "    M = @SMatrix [m11 m12; m12 m22]\n",
    "\n",
    "    # bias term\n",
    "    tmp = l1*l2*m2*s2\n",
    "    b1 = -(2 * θ1dot * θ2dot + θ2dot^2)*tmp\n",
    "    b2 = tmp * θ1dot^2\n",
    "    B = @SVector [b1, b2]\n",
    "\n",
    "    # friction\n",
    "    c = 1.0\n",
    "    C = @SVector [0.1*tanh(5*θ1dot) + c*θ1dot, 0.1*tanh(5*θ2dot) + c*θ2dot] #add nonlinear friction to model\n",
    "\n",
    "    # gravity term\n",
    "    g1 = ((m1 + m2)*l2*c1 + m2*l2*c12) * g\n",
    "    g2 = m2*l2*c12*g\n",
    "    G = @SVector [g1, g2]\n",
    "\n",
    "    # equations of motion\n",
    "    τ = @SVector [0, u[1]]\n",
    "    θddot = M\\(τ - B - G - C)\n",
    "    return @SVector [θ1dot, θ2dot, θddot[1], θddot[2]]\n",
    "end\n",
    "\n",
    "function true_dynamics_rk4(x,u)\n",
    "    #RK4 integration with zero-order hold on u\n",
    "    f1 = true_dynamics(model, x, u)\n",
    "    f2 = true_dynamics(model, x + 0.5*h*f1, u)\n",
    "    f3 = true_dynamics(model, x + 0.5*h*f2, u)\n",
    "    f4 = true_dynamics(model, x + h*f3, u)\n",
    "    return x + (h/6.0)*(f1 + 2*f2 + 2*f3 + f4)\n",
    "end"
   ]
  },
  {
   "cell_type": "code",
   "execution_count": 506,
   "metadata": {},
   "outputs": [],
   "source": [
    "#Compute A and B matrices using nominal dynamics + trajectory\n",
    "A = zeros(n,n,N-1)\n",
    "B = zeros(n,m,N-1)\n",
    "for k = 1:(N-1)\n",
    "    A[:,:,k] .= ForwardDiff.jacobian(x->dynamics_rk4(x,Uopt[k]),Xopt[k])\n",
    "    B[:,:,k] .= ForwardDiff.jacobian(u->dynamics_rk4(Xopt[k],u),Uopt[k])\n",
    "end"
   ]
  },
  {
   "cell_type": "code",
   "execution_count": 507,
   "metadata": {},
   "outputs": [],
   "source": [
    "#Compute LQR Tracking Controller\n",
    "P = zeros(n,n,N)\n",
    "K = zeros(m,n,N-1)\n",
    "P[:,:,N] = Qf\n",
    "for k = (N-1):-1:1\n",
    "    K[:,:,k] .= (R + B[:,:,k]'*P[:,:,k+1]*B[:,:,k])\\(B[:,:,k]'*P[:,:,k+1]*A[:,:,k])\n",
    "    P[:,:,k] .= Q + K[:,:,k]'*R*K[:,:,k] + (A[:,:,k]-B[:,:,k]*K[:,:,k])'*P[:,:,k+1]*(A[:,:,k]-B[:,:,k]*K[:,:,k])\n",
    "end"
   ]
  },
  {
   "cell_type": "code",
   "execution_count": 577,
   "metadata": {},
   "outputs": [
    {
     "data": {
      "text/plain": [
       "2.0932746084178464"
      ]
     },
     "execution_count": 577,
     "metadata": {},
     "output_type": "execute_result"
    }
   ],
   "source": [
    "#Rollout with true dynamics\n",
    "xtraj = zeros(n,N)\n",
    "xtraj[:,1] .= x0\n",
    "for k = 1:(N-1)\n",
    "    utraj[:,k] .= unom[:,k] - K[:,:,k]*(xtraj[:,k]-xnom[:,k]) #LQR tracking controller\n",
    "    utraj[:,k] .= min.(u_bnd, max.(-u_bnd, utraj[:,k])) #clip values within torque limits\n",
    "    xtraj[:,k+1] .= true_dynamics_rk4(xtraj[:,k], utraj[:,k])\n",
    "end\n",
    "norm(xtraj - xnom)"
   ]
  },
  {
   "cell_type": "code",
   "execution_count": 578,
   "metadata": {},
   "outputs": [
    {
     "data": {
      "image/png": "[encoded data removed]",
      "text/plain": [
       "Figure(PyObject <Figure size 640x480 with 1 Axes>)"
      ]
     },
     "metadata": {},
     "output_type": "display_data"
    },
    {
     "data": {
      "text/plain": [
       "1-element Array{PyCall.PyObject,1}:\n",
       " PyObject <matplotlib.lines.Line2D object at 0x7fb86f83fe80>"
      ]
     },
     "execution_count": 578,
     "metadata": {},
     "output_type": "execute_result"
    }
   ],
   "source": [
    "plot(xtraj[1,:])\n",
    "plot(xnom[1,:])"
   ]
  },
  {
   "cell_type": "code",
   "execution_count": 579,
   "metadata": {},
   "outputs": [
    {
     "data": {
      "image/png": "[encoded data removed]",
      "text/plain": [
       "Figure(PyObject <Figure size 640x480 with 1 Axes>)"
      ]
     },
     "metadata": {},
     "output_type": "display_data"
    },
    {
     "data": {
      "text/plain": [
       "1-element Array{PyCall.PyObject,1}:\n",
       " PyObject <matplotlib.lines.Line2D object at 0x7fb86f798ee0>"
      ]
     },
     "execution_count": 579,
     "metadata": {},
     "output_type": "execute_result"
    }
   ],
   "source": [
    "plot(xtraj[3,:])\n",
    "plot(xnom[3,:])"
   ]
  },
  {
   "cell_type": "code",
   "execution_count": 580,
   "metadata": {},
   "outputs": [
    {
     "data": {
      "image/png": "[encoded data removed]",
      "text/plain": [
       "Figure(PyObject <Figure size 640x480 with 1 Axes>)"
      ]
     },
     "metadata": {},
     "output_type": "display_data"
    },
    {
     "data": {
      "text/plain": [
       "1-element Array{PyCall.PyObject,1}:\n",
       " PyObject <matplotlib.lines.Line2D object at 0x7fb86f778a00>"
      ]
     },
     "execution_count": 580,
     "metadata": {},
     "output_type": "execute_result"
    }
   ],
   "source": [
    "plot(utraj[1,:])\n",
    "plot(Uopt[:])"
   ]
  },
  {
   "cell_type": "code",
   "execution_count": 582,
   "metadata": {},
   "outputs": [
    {
     "name": "stdout",
     "output_type": "stream",
     "text": [
      "-----------------------------------------------------------------\n",
      "           OSQP v0.6.2  -  Operator Splitting QP Solver\n",
      "              (c) Bartolomeo Stellato,  Goran Banjac\n",
      "        University of Oxford  -  Stanford University 2021\n",
      "-----------------------------------------------------------------\n",
      "problem:  variables n = 500, constraints m = 500\n",
      "          nnz(P) + nnz(A) = 2984\n",
      "settings: linear system solver = qdldl,\n",
      "          eps_abs = 1.0e-06, eps_rel = 1.0e-06,\n",
      "          eps_prim_inf = 1.0e-06, eps_dual_inf = 1.0e-06,\n",
      "          rho = 1.00e-01 (adaptive),\n",
      "          sigma = 1.00e-06, alpha = 1.60, max_iter = 4000\n",
      "          check_termination: on (interval 25),\n",
      "          scaling: on, scaled_termination: off\n",
      "          warm start: on, polish: on, time_limit: off\n",
      "\n",
      "iter   objective    pri res    dua res    rho        time\n",
      "   1  -1.6105e+00   1.34e-01   5.42e+00   1.00e-01   6.59e-04s\n",
      " 200  -9.0949e-02   4.99e-05   1.30e-04   1.49e+00   4.64e-03s\n",
      " 400  -8.7605e-02   7.28e-06   1.90e-05   1.49e+00   8.50e-03s\n",
      " 575  -8.7091e-02   1.35e-06   3.52e-06   1.49e+00   1.17e-02s\n",
      "plsh  -8.7012e-02   4.54e-07   1.20e-08   --------   1.21e-02s\n",
      "\n",
      "status:               solved\n",
      "solution polish:      successful\n",
      "number of iterations: 575\n",
      "optimal objective:    -0.0870\n",
      "run time:             1.21e-02s\n",
      "optimal rho estimate: 5.41e-01\n",
      "\n"
     ]
    }
   ],
   "source": [
    "#Build matrices for ILC QP\n",
    "Nh = N\n",
    "#Cost\n",
    "Qilc = sparse(Diagonal([1.0; 1.0; 1.0; 1.0]))\n",
    "Rilc = sparse(Diagonal([0.1]))\n",
    "H = blockdiag(kron(I(Nh-2), blockdiag(Rilc, Qilc)), Rilc, sparse(Qf))\n",
    "q = zeros((n+m)*(Nh-1))\n",
    "for k = 1:(Nh-2)\n",
    "    q[(k-1)*(m+n) .+ (1:(m+n))] .= [0.0; Qilc*(xtraj[:,k+1]-Xopt[k+1])]\n",
    "end\n",
    "q[(Nh-2)*(m+n) .+ (1:(m+n))] .= [0.0; Qf*(xtraj[:,Nh]-Xopt[Nh])]\n",
    "\n",
    "#Constraints\n",
    "U = kron(I(Nh-1), [I zeros(m,n)]) #Matrix that picks out all u\n",
    "X = kron(I(Nh-1), [zeros(n,m) I]) #Matrix that picks out all x\n",
    "D = spzeros(n*(Nh-1), (n+m)*(Nh-1)) #dynamics constraints\n",
    "\n",
    "D[1:n,1:m] .= B[:,:,1]\n",
    "D[1:n,(m+1):(m+n)] .= -I(n)\n",
    "for k = 1:(Nh-2)\n",
    "    D[(k*n).+(1:n), (m+(k-1)*(n+m)).+(1:(2*n+m))] .= [(A[:,:,k+1]-B[:,:,k+1]*K[:,:,k+1]) B[:,:,k+1] -I]\n",
    "end\n",
    "\n",
    "lb = [zeros(n*(Nh-1)); -u_bnd.-unom[1:(Nh-1)]]\n",
    "ub = [zeros(n*(Nh-1)); u_bnd.-unom[1:(Nh-1)]]\n",
    "\n",
    "qp = OSQP.Model()\n",
    "OSQP.setup!(qp, P=H, q=q, A=[D; U], l=lb, u=ub, eps_abs=1e-6, eps_rel=1e-6, eps_prim_inf = 1.0e-6, eps_dual_inf = 1.0e-6, polish=1)\n",
    "results = OSQP.solve!(qp)\n",
    "ztraj = results.x;"
   ]
  },
  {
   "cell_type": "code",
   "execution_count": 583,
   "metadata": {},
   "outputs": [
    {
     "data": {
      "text/plain": [
       "100-element view(::Array{Float64,1}, 1:100) with eltype Float64:\n",
       " -17.79001629101549\n",
       "  -8.20786774063944\n",
       "  -8.44502164579681\n",
       " -10.128162863960906\n",
       " -11.995917547759738\n",
       " -13.802997007025922\n",
       " -15.406615377340628\n",
       " -16.649274642975136\n",
       " -17.36745780526512\n",
       " -17.413082923023047\n",
       " -16.665820211028564\n",
       " -15.041116534985548\n",
       " -12.508198008033641\n",
       "   ⋮\n",
       "  -0.6136762010629453\n",
       "  -1.376177285903819\n",
       "  -2.1378260396977455\n",
       "  -2.8879780263188084\n",
       "  -3.6241572577904813\n",
       "  -4.387377269750682\n",
       "  -5.077551305808516\n",
       "  -5.584292036664501\n",
       "  -5.940939251045566\n",
       "  -5.969292175682401\n",
       "  -4.192853355135364\n",
       "   9.98535593230853"
      ]
     },
     "execution_count": 583,
     "metadata": {},
     "output_type": "execute_result"
    }
   ],
   "source": [
    "Δu = U*ztraj\n",
    "unom[1:(Nh-1)] .= unom[1:(Nh-1)]+Δu"
   ]
  },
  {
   "cell_type": "code",
   "execution_count": 576,
   "metadata": {},
   "outputs": [
    {
     "data": {
      "text/plain": [
       "101"
      ]
     },
     "execution_count": 576,
     "metadata": {},
     "output_type": "execute_result"
    }
   ],
   "source": [
    "Nh"
   ]
  },
  {
   "cell_type": "code",
   "execution_count": null,
   "metadata": {},
   "outputs": [],
   "source": []
  },
  {
   "cell_type": "code",
   "execution_count": null,
   "metadata": {},
   "outputs": [],
   "source": []
  }
 ],
 "metadata": {
  "kernelspec": {
   "display_name": "Julia 1.5.3",
   "language": "julia",
   "name": "julia-1.5"
  },
  "language_info": {
   "file_extension": ".jl",
   "mimetype": "application/julia",
   "name": "julia",
   "version": "1.5.3"
  }
 },
 "nbformat": 4,
 "nbformat_minor": 4
}
